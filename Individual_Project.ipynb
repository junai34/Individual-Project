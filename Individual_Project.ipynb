{
  "cells": [
    {
      "cell_type": "code",
      "execution_count": null,
      "metadata": {
        "colab": {
          "base_uri": "https://localhost:8080/"
        },
        "id": "spHhszAc73V2",
        "outputId": "aa9c0ae6-8e13-49a9-9f9c-d0b60d1436e6"
      },
      "outputs": [
        {
          "output_type": "stream",
          "name": "stdout",
          "text": [
            "\u001b[K     |████████████████████████████████| 4.9 MB 4.1 MB/s \n",
            "\u001b[?25h"
          ]
        }
      ],
      "source": [
        "!pip install -q tensorflow_text"
      ]
    },
    {
      "cell_type": "code",
      "execution_count": null,
      "metadata": {
        "id": "pS5f3gZW640L"
      },
      "outputs": [],
      "source": [
        "import itertools\n",
        "import re\n",
        "import nltk\n",
        "\n",
        "import numpy as np\n",
        "import pandas as pd\n",
        "import seaborn as sns\n",
        "\n",
        "import matplotlib.pyplot as plt\n",
        "import matplotlib.ticker as ticker\n",
        "from matplotlib import pyplot as plt\n",
        "from matplotlib.ticker import NullFormatter\n",
        "\n",
        "\n",
        "\n",
        "from sklearn import preprocessing\n",
        "from sklearn.feature_extraction.text import CountVectorizer\n",
        "from sklearn.feature_extraction.text import TfidfTransformer\n",
        "from sklearn.feature_extraction.text import TfidfVectorizer\n",
        "from sklearn.pipeline import Pipeline\n",
        "from sklearn.linear_model import  LogisticRegression\n",
        "from sklearn.preprocessing import OrdinalEncoder\n",
        "from sklearn.model_selection import train_test_split\n",
        "from sklearn.metrics import confusion_matrix, classification_report\n",
        "from sklearn.metrics import accuracy_score\n",
        "\n",
        "import nltk.corpus\n",
        "from nltk import tokenize\n",
        "from nltk.stem import PorterStemmer \n",
        "from nltk.tokenize import word_tokenize\n",
        "\n",
        "import tensorflow as tf\n",
        "import tensorflow_hub as hub\n",
        "import tensorflow_text as text"
      ]
    },
    {
      "cell_type": "code",
      "execution_count": null,
      "metadata": {
        "colab": {
          "base_uri": "https://localhost:8080/",
          "height": 669
        },
        "id": "5w7wgL1dqdTB",
        "outputId": "fac7528e-11d5-4f33-928b-31f5b52140ee"
      },
      "outputs": [
        {
          "output_type": "execute_result",
          "data": {
            "text/html": [
              "\n",
              "  <div id=\"df-d4a67e68-0779-42be-874c-96cc5012ff9c\">\n",
              "    <div class=\"colab-df-container\">\n",
              "      <div>\n",
              "<style scoped>\n",
              "    .dataframe tbody tr th:only-of-type {\n",
              "        vertical-align: middle;\n",
              "    }\n",
              "\n",
              "    .dataframe tbody tr th {\n",
              "        vertical-align: top;\n",
              "    }\n",
              "\n",
              "    .dataframe thead th {\n",
              "        text-align: right;\n",
              "    }\n",
              "</style>\n",
              "<table border=\"1\" class=\"dataframe\">\n",
              "  <thead>\n",
              "    <tr style=\"text-align: right;\">\n",
              "      <th></th>\n",
              "      <th>LABEL</th>\n",
              "      <th>STATEMENT</th>\n",
              "      <th>SUBJECT</th>\n",
              "      <th>SPEAKER</th>\n",
              "      <th>JOB_TITLE</th>\n",
              "      <th>STATE</th>\n",
              "      <th>PARTY_AFFILIATION</th>\n",
              "      <th>Context/Venue/Location</th>\n",
              "      <th>BARELY_TRUE</th>\n",
              "      <th>False</th>\n",
              "      <th>HALF_TRUE</th>\n",
              "      <th>MOSTLY_TRUE</th>\n",
              "      <th>PANTS_FIRE</th>\n",
              "    </tr>\n",
              "  </thead>\n",
              "  <tbody>\n",
              "    <tr>\n",
              "      <th>0</th>\n",
              "      <td>0</td>\n",
              "      <td>Says the Annies List political group supports ...</td>\n",
              "      <td>abortion</td>\n",
              "      <td>dwayne-bohac</td>\n",
              "      <td>State representative</td>\n",
              "      <td>Texas</td>\n",
              "      <td>republican</td>\n",
              "      <td>a mailer</td>\n",
              "      <td>0.0</td>\n",
              "      <td>1.0</td>\n",
              "      <td>0.0</td>\n",
              "      <td>0.0</td>\n",
              "      <td>0.0</td>\n",
              "    </tr>\n",
              "    <tr>\n",
              "      <th>1</th>\n",
              "      <td>0</td>\n",
              "      <td>When did the decline of coal start? It started...</td>\n",
              "      <td>energy,history,job-accomplishments</td>\n",
              "      <td>scott-surovell</td>\n",
              "      <td>State delegate</td>\n",
              "      <td>Virginia</td>\n",
              "      <td>democrat</td>\n",
              "      <td>a floor speech.</td>\n",
              "      <td>0.0</td>\n",
              "      <td>0.0</td>\n",
              "      <td>1.0</td>\n",
              "      <td>1.0</td>\n",
              "      <td>0.0</td>\n",
              "    </tr>\n",
              "    <tr>\n",
              "      <th>2</th>\n",
              "      <td>1</td>\n",
              "      <td>Hillary Clinton agrees with John McCain \"by vo...</td>\n",
              "      <td>foreign-policy</td>\n",
              "      <td>barack-obama</td>\n",
              "      <td>President</td>\n",
              "      <td>Illinois</td>\n",
              "      <td>democrat</td>\n",
              "      <td>Denver</td>\n",
              "      <td>70.0</td>\n",
              "      <td>71.0</td>\n",
              "      <td>160.0</td>\n",
              "      <td>163.0</td>\n",
              "      <td>9.0</td>\n",
              "    </tr>\n",
              "    <tr>\n",
              "      <th>3</th>\n",
              "      <td>0</td>\n",
              "      <td>Health care reform legislation is likely to ma...</td>\n",
              "      <td>health-care</td>\n",
              "      <td>blog-posting</td>\n",
              "      <td>NaN</td>\n",
              "      <td>NaN</td>\n",
              "      <td>none</td>\n",
              "      <td>a news release</td>\n",
              "      <td>7.0</td>\n",
              "      <td>19.0</td>\n",
              "      <td>3.0</td>\n",
              "      <td>5.0</td>\n",
              "      <td>44.0</td>\n",
              "    </tr>\n",
              "    <tr>\n",
              "      <th>4</th>\n",
              "      <td>0</td>\n",
              "      <td>The economic turnaround started at the end of ...</td>\n",
              "      <td>economy,jobs</td>\n",
              "      <td>charlie-crist</td>\n",
              "      <td>NaN</td>\n",
              "      <td>Florida</td>\n",
              "      <td>democrat</td>\n",
              "      <td>an interview on CNN</td>\n",
              "      <td>15.0</td>\n",
              "      <td>9.0</td>\n",
              "      <td>20.0</td>\n",
              "      <td>19.0</td>\n",
              "      <td>2.0</td>\n",
              "    </tr>\n",
              "  </tbody>\n",
              "</table>\n",
              "</div>\n",
              "      <button class=\"colab-df-convert\" onclick=\"convertToInteractive('df-d4a67e68-0779-42be-874c-96cc5012ff9c')\"\n",
              "              title=\"Convert this dataframe to an interactive table.\"\n",
              "              style=\"display:none;\">\n",
              "        \n",
              "  <svg xmlns=\"http://www.w3.org/2000/svg\" height=\"24px\"viewBox=\"0 0 24 24\"\n",
              "       width=\"24px\">\n",
              "    <path d=\"M0 0h24v24H0V0z\" fill=\"none\"/>\n",
              "    <path d=\"M18.56 5.44l.94 2.06.94-2.06 2.06-.94-2.06-.94-.94-2.06-.94 2.06-2.06.94zm-11 1L8.5 8.5l.94-2.06 2.06-.94-2.06-.94L8.5 2.5l-.94 2.06-2.06.94zm10 10l.94 2.06.94-2.06 2.06-.94-2.06-.94-.94-2.06-.94 2.06-2.06.94z\"/><path d=\"M17.41 7.96l-1.37-1.37c-.4-.4-.92-.59-1.43-.59-.52 0-1.04.2-1.43.59L10.3 9.45l-7.72 7.72c-.78.78-.78 2.05 0 2.83L4 21.41c.39.39.9.59 1.41.59.51 0 1.02-.2 1.41-.59l7.78-7.78 2.81-2.81c.8-.78.8-2.07 0-2.86zM5.41 20L4 18.59l7.72-7.72 1.47 1.35L5.41 20z\"/>\n",
              "  </svg>\n",
              "      </button>\n",
              "      \n",
              "  <style>\n",
              "    .colab-df-container {\n",
              "      display:flex;\n",
              "      flex-wrap:wrap;\n",
              "      gap: 12px;\n",
              "    }\n",
              "\n",
              "    .colab-df-convert {\n",
              "      background-color: #E8F0FE;\n",
              "      border: none;\n",
              "      border-radius: 50%;\n",
              "      cursor: pointer;\n",
              "      display: none;\n",
              "      fill: #1967D2;\n",
              "      height: 32px;\n",
              "      padding: 0 0 0 0;\n",
              "      width: 32px;\n",
              "    }\n",
              "\n",
              "    .colab-df-convert:hover {\n",
              "      background-color: #E2EBFA;\n",
              "      box-shadow: 0px 1px 2px rgba(60, 64, 67, 0.3), 0px 1px 3px 1px rgba(60, 64, 67, 0.15);\n",
              "      fill: #174EA6;\n",
              "    }\n",
              "\n",
              "    [theme=dark] .colab-df-convert {\n",
              "      background-color: #3B4455;\n",
              "      fill: #D2E3FC;\n",
              "    }\n",
              "\n",
              "    [theme=dark] .colab-df-convert:hover {\n",
              "      background-color: #434B5C;\n",
              "      box-shadow: 0px 1px 3px 1px rgba(0, 0, 0, 0.15);\n",
              "      filter: drop-shadow(0px 1px 2px rgba(0, 0, 0, 0.3));\n",
              "      fill: #FFFFFF;\n",
              "    }\n",
              "  </style>\n",
              "\n",
              "      <script>\n",
              "        const buttonEl =\n",
              "          document.querySelector('#df-d4a67e68-0779-42be-874c-96cc5012ff9c button.colab-df-convert');\n",
              "        buttonEl.style.display =\n",
              "          google.colab.kernel.accessAllowed ? 'block' : 'none';\n",
              "\n",
              "        async function convertToInteractive(key) {\n",
              "          const element = document.querySelector('#df-d4a67e68-0779-42be-874c-96cc5012ff9c');\n",
              "          const dataTable =\n",
              "            await google.colab.kernel.invokeFunction('convertToInteractive',\n",
              "                                                     [key], {});\n",
              "          if (!dataTable) return;\n",
              "\n",
              "          const docLinkHtml = 'Like what you see? Visit the ' +\n",
              "            '<a target=\"_blank\" href=https://colab.research.google.com/notebooks/data_table.ipynb>data table notebook</a>'\n",
              "            + ' to learn more about interactive tables.';\n",
              "          element.innerHTML = '';\n",
              "          dataTable['output_type'] = 'display_data';\n",
              "          await google.colab.output.renderOutput(dataTable, element);\n",
              "          const docLink = document.createElement('div');\n",
              "          docLink.innerHTML = docLinkHtml;\n",
              "          element.appendChild(docLink);\n",
              "        }\n",
              "      </script>\n",
              "    </div>\n",
              "  </div>\n",
              "  "
            ],
            "text/plain": [
              "   LABEL  ... PANTS_FIRE\n",
              "0      0  ...        0.0\n",
              "1      0  ...        0.0\n",
              "2      1  ...        9.0\n",
              "3      0  ...       44.0\n",
              "4      0  ...        2.0\n",
              "\n",
              "[5 rows x 13 columns]"
            ]
          },
          "metadata": {},
          "execution_count": 4
        }
      ],
      "source": [
        "data = pd.read_excel(\"Fake_News_Data.xlsx\")\n",
        "data.head()"
      ]
    },
    {
      "cell_type": "markdown",
      "metadata": {
        "id": "vL89uJQXtBkb"
      },
      "source": [
        "# **Data Preprocessing**"
      ]
    },
    {
      "cell_type": "code",
      "execution_count": null,
      "metadata": {
        "colab": {
          "base_uri": "https://localhost:8080/"
        },
        "id": "om-8-6Htq-G4",
        "outputId": "2ae94e31-0e72-4a74-95cf-8ef6e4cfcb81"
      },
      "outputs": [
        {
          "output_type": "execute_result",
          "data": {
            "text/plain": [
              "LABEL                       int64\n",
              "STATEMENT                  object\n",
              "SUBJECT                    object\n",
              "SPEAKER                    object\n",
              "JOB_TITLE                  object\n",
              "STATE                      object\n",
              "PARTY_AFFILIATION          object\n",
              "Context/Venue/Location     object\n",
              "BARELY_TRUE               float64\n",
              "False                     float64\n",
              "HALF_TRUE                 float64\n",
              "MOSTLY_TRUE               float64\n",
              "PANTS_FIRE                float64\n",
              "dtype: object"
            ]
          },
          "metadata": {},
          "execution_count": 5
        }
      ],
      "source": [
        "data.dtypes"
      ]
    },
    {
      "cell_type": "code",
      "execution_count": null,
      "metadata": {
        "colab": {
          "base_uri": "https://localhost:8080/"
        },
        "id": "4rlZrd2jrGVu",
        "outputId": "46c482c1-f338-44f7-dce4-595f4d5e645c"
      },
      "outputs": [
        {
          "output_type": "execute_result",
          "data": {
            "text/plain": [
              "LABEL                     10240\n",
              "STATEMENT                 10240\n",
              "SUBJECT                   10238\n",
              "SPEAKER                   10238\n",
              "JOB_TITLE                  7343\n",
              "STATE                      8032\n",
              "PARTY_AFFILIATION         10238\n",
              "Context/Venue/Location    10138\n",
              "BARELY_TRUE               10238\n",
              "False                     10238\n",
              "HALF_TRUE                 10238\n",
              "MOSTLY_TRUE               10238\n",
              "PANTS_FIRE                10238\n",
              "dtype: int64"
            ]
          },
          "metadata": {},
          "execution_count": 6
        }
      ],
      "source": [
        "data.count()"
      ]
    },
    {
      "cell_type": "markdown",
      "metadata": {
        "id": "iwiQ-fBlu_kB"
      },
      "source": [
        "## **Missing Values**"
      ]
    },
    {
      "cell_type": "code",
      "execution_count": null,
      "metadata": {
        "colab": {
          "base_uri": "https://localhost:8080/"
        },
        "id": "K6iYB60CrYhK",
        "outputId": "b5de49e0-8df9-4fa9-91ff-cc06deee4d0d"
      },
      "outputs": [
        {
          "output_type": "execute_result",
          "data": {
            "text/plain": [
              "LABEL                     False\n",
              "STATEMENT                 False\n",
              "SUBJECT                    True\n",
              "SPEAKER                    True\n",
              "JOB_TITLE                  True\n",
              "STATE                      True\n",
              "PARTY_AFFILIATION          True\n",
              "Context/Venue/Location     True\n",
              "BARELY_TRUE                True\n",
              "False                      True\n",
              "HALF_TRUE                  True\n",
              "MOSTLY_TRUE                True\n",
              "PANTS_FIRE                 True\n",
              "dtype: bool"
            ]
          },
          "metadata": {},
          "execution_count": 7
        }
      ],
      "source": [
        "data.isnull().any()"
      ]
    },
    {
      "cell_type": "code",
      "execution_count": null,
      "metadata": {
        "colab": {
          "base_uri": "https://localhost:8080/"
        },
        "id": "CcxL2AQ1rspI",
        "outputId": "bbb717d0-0a6d-4792-8897-a960cb2a237e"
      },
      "outputs": [
        {
          "output_type": "execute_result",
          "data": {
            "text/plain": [
              "LABEL                        0\n",
              "STATEMENT                    0\n",
              "SUBJECT                      2\n",
              "SPEAKER                      2\n",
              "JOB_TITLE                 2897\n",
              "STATE                     2208\n",
              "PARTY_AFFILIATION            2\n",
              "Context/Venue/Location     102\n",
              "BARELY_TRUE                  2\n",
              "False                        2\n",
              "HALF_TRUE                    2\n",
              "MOSTLY_TRUE                  2\n",
              "PANTS_FIRE                   2\n",
              "dtype: int64"
            ]
          },
          "metadata": {},
          "execution_count": 8
        }
      ],
      "source": [
        "data.isnull().sum()"
      ]
    },
    {
      "cell_type": "code",
      "execution_count": null,
      "metadata": {
        "id": "U_96ZN8br8Ls"
      },
      "outputs": [],
      "source": [
        "data = data.drop(data.loc[data['Context/Venue/Location'].isnull()].index)"
      ]
    },
    {
      "cell_type": "code",
      "execution_count": null,
      "metadata": {
        "id": "z4-vAXP_sY99"
      },
      "outputs": [],
      "source": [
        "data = data.drop(data.loc[data['JOB_TITLE'].isnull()].index)"
      ]
    },
    {
      "cell_type": "code",
      "execution_count": null,
      "metadata": {
        "id": "CQcpD-19sYxX"
      },
      "outputs": [],
      "source": [
        "data = data.drop(data.loc[data['STATE'].isnull()].index)"
      ]
    },
    {
      "cell_type": "code",
      "execution_count": null,
      "metadata": {
        "colab": {
          "base_uri": "https://localhost:8080/"
        },
        "id": "OcIqWBg6sCAH",
        "outputId": "cb73b0ed-c17d-4aaf-d586-674364ab78de"
      },
      "outputs": [
        {
          "output_type": "execute_result",
          "data": {
            "text/plain": [
              "LABEL                     False\n",
              "STATEMENT                 False\n",
              "SUBJECT                   False\n",
              "SPEAKER                   False\n",
              "JOB_TITLE                 False\n",
              "STATE                     False\n",
              "PARTY_AFFILIATION         False\n",
              "Context/Venue/Location    False\n",
              "BARELY_TRUE               False\n",
              "False                     False\n",
              "HALF_TRUE                 False\n",
              "MOSTLY_TRUE               False\n",
              "PANTS_FIRE                False\n",
              "dtype: bool"
            ]
          },
          "metadata": {},
          "execution_count": 12
        }
      ],
      "source": [
        "data.isnull().any()"
      ]
    },
    {
      "cell_type": "code",
      "execution_count": null,
      "metadata": {
        "colab": {
          "base_uri": "https://localhost:8080/"
        },
        "id": "-Nx5I2pysq3K",
        "outputId": "68b49217-22ea-4fa8-f20a-f629f33ef5f9"
      },
      "outputs": [
        {
          "output_type": "execute_result",
          "data": {
            "text/plain": [
              "LABEL                     6724\n",
              "STATEMENT                 6724\n",
              "SUBJECT                   6724\n",
              "SPEAKER                   6724\n",
              "JOB_TITLE                 6724\n",
              "STATE                     6724\n",
              "PARTY_AFFILIATION         6724\n",
              "Context/Venue/Location    6724\n",
              "BARELY_TRUE               6724\n",
              "False                     6724\n",
              "HALF_TRUE                 6724\n",
              "MOSTLY_TRUE               6724\n",
              "PANTS_FIRE                6724\n",
              "dtype: int64"
            ]
          },
          "metadata": {},
          "execution_count": 13
        }
      ],
      "source": [
        "data.count()"
      ]
    },
    {
      "cell_type": "markdown",
      "metadata": {
        "id": "scMHDOUbvIzu"
      },
      "source": [
        "## **Converting Categorical Variables to Numerical**"
      ]
    },
    {
      "cell_type": "markdown",
      "metadata": {
        "id": "Gwk7Frgit1yo"
      },
      "source": [
        "### **SUBJECT**\n",
        "\n"
      ]
    },
    {
      "cell_type": "code",
      "execution_count": null,
      "metadata": {
        "colab": {
          "base_uri": "https://localhost:8080/"
        },
        "id": "NZuKUiigtl0K",
        "outputId": "4e844317-f269-4048-c11b-6bfe553e8329"
      },
      "outputs": [
        {
          "output_type": "execute_result",
          "data": {
            "text/plain": [
              "health-care                                                                                       263\n",
              "taxes                                                                                             211\n",
              "immigration                                                                                       177\n",
              "elections                                                                                         171\n",
              "education                                                                                         147\n",
              "                                                                                                 ... \n",
              "bankruptcy,candidates-biography,history,income,campaign-advertising,taxes,wealth                    1\n",
              "bipartisanship,elections,redistricting                                                              1\n",
              "congress,corporations,deficit,economy,federal-budget,financial-regulation,foreign-policy,taxes      1\n",
              "congress,federal-budget,history                                                                     1\n",
              "economy,housing,market-regulation                                                                   1\n",
              "Name: SUBJECT, Length: 2673, dtype: int64"
            ]
          },
          "metadata": {},
          "execution_count": 14
        }
      ],
      "source": [
        "data[\"SUBJECT\"].value_counts()"
      ]
    },
    {
      "cell_type": "code",
      "execution_count": null,
      "metadata": {
        "colab": {
          "base_uri": "https://localhost:8080/"
        },
        "id": "NFOJfQoetuRf",
        "outputId": "e9ae0b4a-9a71-4035-c2dd-5d059fba3ba6"
      },
      "outputs": [
        {
          "output_type": "execute_result",
          "data": {
            "text/plain": [
              "array(['abortion', 'energy,history,job-accomplishments', 'foreign-policy',\n",
              "       ..., 'bipartisanship,immigration', 'food',\n",
              "       'gays-and-lesbians,polls,supreme-court'], dtype=object)"
            ]
          },
          "metadata": {},
          "execution_count": 15
        }
      ],
      "source": [
        "data[\"SUBJECT\"].unique()"
      ]
    },
    {
      "cell_type": "code",
      "execution_count": null,
      "metadata": {
        "colab": {
          "base_uri": "https://localhost:8080/"
        },
        "id": "sNBogvHBs8_e",
        "outputId": "fd6a8a98-77d0-4781-cd80-b6551ac1a524"
      },
      "outputs": [
        {
          "output_type": "execute_result",
          "data": {
            "text/html": [
              "\n",
              "  <div id=\"df-11ad86e7-94c2-442b-9b17-7ac315d53890\">\n",
              "    <div class=\"colab-df-container\">\n",
              "      <div>\n",
              "<style scoped>\n",
              "    .dataframe tbody tr th:only-of-type {\n",
              "        vertical-align: middle;\n",
              "    }\n",
              "\n",
              "    .dataframe tbody tr th {\n",
              "        vertical-align: top;\n",
              "    }\n",
              "\n",
              "    .dataframe thead th {\n",
              "        text-align: right;\n",
              "    }\n",
              "</style>\n",
              "<table border=\"1\" class=\"dataframe\">\n",
              "  <thead>\n",
              "    <tr style=\"text-align: right;\">\n",
              "      <th></th>\n",
              "      <th>SUBJECT</th>\n",
              "      <th>subject</th>\n",
              "    </tr>\n",
              "  </thead>\n",
              "  <tbody>\n",
              "    <tr>\n",
              "      <th>0</th>\n",
              "      <td>abortion</td>\n",
              "      <td>16.0</td>\n",
              "    </tr>\n",
              "    <tr>\n",
              "      <th>1</th>\n",
              "      <td>energy,history,job-accomplishments</td>\n",
              "      <td>1792.0</td>\n",
              "    </tr>\n",
              "    <tr>\n",
              "      <th>2</th>\n",
              "      <td>foreign-policy</td>\n",
              "      <td>2001.0</td>\n",
              "    </tr>\n",
              "    <tr>\n",
              "      <th>5</th>\n",
              "      <td>education</td>\n",
              "      <td>1620.0</td>\n",
              "    </tr>\n",
              "    <tr>\n",
              "      <th>7</th>\n",
              "      <td>ethics</td>\n",
              "      <td>1850.0</td>\n",
              "    </tr>\n",
              "    <tr>\n",
              "      <th>...</th>\n",
              "      <td>...</td>\n",
              "      <td>...</td>\n",
              "    </tr>\n",
              "    <tr>\n",
              "      <th>112</th>\n",
              "      <td>elections,taxes</td>\n",
              "      <td>1754.0</td>\n",
              "    </tr>\n",
              "    <tr>\n",
              "      <th>113</th>\n",
              "      <td>jobs</td>\n",
              "      <td>2411.0</td>\n",
              "    </tr>\n",
              "    <tr>\n",
              "      <th>114</th>\n",
              "      <td>economy,jobs</td>\n",
              "      <td>1525.0</td>\n",
              "    </tr>\n",
              "    <tr>\n",
              "      <th>116</th>\n",
              "      <td>civil-rights,gays-and-lesbians,states</td>\n",
              "      <td>746.0</td>\n",
              "    </tr>\n",
              "    <tr>\n",
              "      <th>118</th>\n",
              "      <td>job-accomplishments</td>\n",
              "      <td>2384.0</td>\n",
              "    </tr>\n",
              "  </tbody>\n",
              "</table>\n",
              "<p>84 rows × 2 columns</p>\n",
              "</div>\n",
              "      <button class=\"colab-df-convert\" onclick=\"convertToInteractive('df-11ad86e7-94c2-442b-9b17-7ac315d53890')\"\n",
              "              title=\"Convert this dataframe to an interactive table.\"\n",
              "              style=\"display:none;\">\n",
              "        \n",
              "  <svg xmlns=\"http://www.w3.org/2000/svg\" height=\"24px\"viewBox=\"0 0 24 24\"\n",
              "       width=\"24px\">\n",
              "    <path d=\"M0 0h24v24H0V0z\" fill=\"none\"/>\n",
              "    <path d=\"M18.56 5.44l.94 2.06.94-2.06 2.06-.94-2.06-.94-.94-2.06-.94 2.06-2.06.94zm-11 1L8.5 8.5l.94-2.06 2.06-.94-2.06-.94L8.5 2.5l-.94 2.06-2.06.94zm10 10l.94 2.06.94-2.06 2.06-.94-2.06-.94-.94-2.06-.94 2.06-2.06.94z\"/><path d=\"M17.41 7.96l-1.37-1.37c-.4-.4-.92-.59-1.43-.59-.52 0-1.04.2-1.43.59L10.3 9.45l-7.72 7.72c-.78.78-.78 2.05 0 2.83L4 21.41c.39.39.9.59 1.41.59.51 0 1.02-.2 1.41-.59l7.78-7.78 2.81-2.81c.8-.78.8-2.07 0-2.86zM5.41 20L4 18.59l7.72-7.72 1.47 1.35L5.41 20z\"/>\n",
              "  </svg>\n",
              "      </button>\n",
              "      \n",
              "  <style>\n",
              "    .colab-df-container {\n",
              "      display:flex;\n",
              "      flex-wrap:wrap;\n",
              "      gap: 12px;\n",
              "    }\n",
              "\n",
              "    .colab-df-convert {\n",
              "      background-color: #E8F0FE;\n",
              "      border: none;\n",
              "      border-radius: 50%;\n",
              "      cursor: pointer;\n",
              "      display: none;\n",
              "      fill: #1967D2;\n",
              "      height: 32px;\n",
              "      padding: 0 0 0 0;\n",
              "      width: 32px;\n",
              "    }\n",
              "\n",
              "    .colab-df-convert:hover {\n",
              "      background-color: #E2EBFA;\n",
              "      box-shadow: 0px 1px 2px rgba(60, 64, 67, 0.3), 0px 1px 3px 1px rgba(60, 64, 67, 0.15);\n",
              "      fill: #174EA6;\n",
              "    }\n",
              "\n",
              "    [theme=dark] .colab-df-convert {\n",
              "      background-color: #3B4455;\n",
              "      fill: #D2E3FC;\n",
              "    }\n",
              "\n",
              "    [theme=dark] .colab-df-convert:hover {\n",
              "      background-color: #434B5C;\n",
              "      box-shadow: 0px 1px 3px 1px rgba(0, 0, 0, 0.15);\n",
              "      filter: drop-shadow(0px 1px 2px rgba(0, 0, 0, 0.3));\n",
              "      fill: #FFFFFF;\n",
              "    }\n",
              "  </style>\n",
              "\n",
              "      <script>\n",
              "        const buttonEl =\n",
              "          document.querySelector('#df-11ad86e7-94c2-442b-9b17-7ac315d53890 button.colab-df-convert');\n",
              "        buttonEl.style.display =\n",
              "          google.colab.kernel.accessAllowed ? 'block' : 'none';\n",
              "\n",
              "        async function convertToInteractive(key) {\n",
              "          const element = document.querySelector('#df-11ad86e7-94c2-442b-9b17-7ac315d53890');\n",
              "          const dataTable =\n",
              "            await google.colab.kernel.invokeFunction('convertToInteractive',\n",
              "                                                     [key], {});\n",
              "          if (!dataTable) return;\n",
              "\n",
              "          const docLinkHtml = 'Like what you see? Visit the ' +\n",
              "            '<a target=\"_blank\" href=https://colab.research.google.com/notebooks/data_table.ipynb>data table notebook</a>'\n",
              "            + ' to learn more about interactive tables.';\n",
              "          element.innerHTML = '';\n",
              "          dataTable['output_type'] = 'display_data';\n",
              "          await google.colab.output.renderOutput(dataTable, element);\n",
              "          const docLink = document.createElement('div');\n",
              "          docLink.innerHTML = docLinkHtml;\n",
              "          element.appendChild(docLink);\n",
              "        }\n",
              "      </script>\n",
              "    </div>\n",
              "  </div>\n",
              "  "
            ],
            "text/plain": [
              "                                   SUBJECT  subject\n",
              "0                                 abortion     16.0\n",
              "1       energy,history,job-accomplishments   1792.0\n",
              "2                           foreign-policy   2001.0\n",
              "5                                education   1620.0\n",
              "7                                   ethics   1850.0\n",
              "..                                     ...      ...\n",
              "112                        elections,taxes   1754.0\n",
              "113                                   jobs   2411.0\n",
              "114                           economy,jobs   1525.0\n",
              "116  civil-rights,gays-and-lesbians,states    746.0\n",
              "118                    job-accomplishments   2384.0\n",
              "\n",
              "[84 rows x 2 columns]"
            ]
          },
          "metadata": {},
          "execution_count": 16
        }
      ],
      "source": [
        "ord_enc = OrdinalEncoder()\n",
        "data[\"subject\"] = ord_enc.fit_transform(data[[\"SUBJECT\"]])\n",
        "data[[\"SUBJECT\", \"subject\"]].head(84)"
      ]
    },
    {
      "cell_type": "markdown",
      "metadata": {
        "id": "cm93DtoAvlST"
      },
      "source": [
        "### **SPEAKER**"
      ]
    },
    {
      "cell_type": "code",
      "execution_count": null,
      "metadata": {
        "colab": {
          "base_uri": "https://localhost:8080/"
        },
        "id": "yB1Pnd1qvp9L",
        "outputId": "2fd8ed94-5f3d-44cb-f407-87fe33d3dbab"
      },
      "outputs": [
        {
          "output_type": "execute_result",
          "data": {
            "text/plain": [
              "barack-obama         481\n",
              "donald-trump         273\n",
              "hillary-clinton      235\n",
              "mitt-romney          174\n",
              "scott-walker         149\n",
              "                    ... \n",
              "deval-patrick          1\n",
              "joshua-marquis         1\n",
              "donna-garner           1\n",
              "kurt-browning          1\n",
              "kathleen-sullivan      1\n",
              "Name: SPEAKER, Length: 1635, dtype: int64"
            ]
          },
          "metadata": {},
          "execution_count": 17
        }
      ],
      "source": [
        "data[\"SPEAKER\"].value_counts()"
      ]
    },
    {
      "cell_type": "code",
      "execution_count": null,
      "metadata": {
        "colab": {
          "base_uri": "https://localhost:8080/"
        },
        "id": "7oR1xsnavx0N",
        "outputId": "5a3c4c2e-56ff-465f-eef3-28fc70bbca0a"
      },
      "outputs": [
        {
          "output_type": "execute_result",
          "data": {
            "text/plain": [
              "array(['dwayne-bohac', 'scott-surovell', 'barack-obama', ...,\n",
              "       'dennis-ross', 'christine-whitman', 'john-rafferty'], dtype=object)"
            ]
          },
          "metadata": {},
          "execution_count": 18
        }
      ],
      "source": [
        "data[\"SPEAKER\"].unique()"
      ]
    },
    {
      "cell_type": "code",
      "execution_count": null,
      "metadata": {
        "colab": {
          "base_uri": "https://localhost:8080/",
          "height": 423
        },
        "id": "qC8FW2FCv05G",
        "outputId": "dbd99f36-5cb8-4c29-880e-5a6f88c94242"
      },
      "outputs": [
        {
          "output_type": "execute_result",
          "data": {
            "text/html": [
              "\n",
              "  <div id=\"df-00fb7725-1176-44db-beac-a87fc4175a9f\">\n",
              "    <div class=\"colab-df-container\">\n",
              "      <div>\n",
              "<style scoped>\n",
              "    .dataframe tbody tr th:only-of-type {\n",
              "        vertical-align: middle;\n",
              "    }\n",
              "\n",
              "    .dataframe tbody tr th {\n",
              "        vertical-align: top;\n",
              "    }\n",
              "\n",
              "    .dataframe thead th {\n",
              "        text-align: right;\n",
              "    }\n",
              "</style>\n",
              "<table border=\"1\" class=\"dataframe\">\n",
              "  <thead>\n",
              "    <tr style=\"text-align: right;\">\n",
              "      <th></th>\n",
              "      <th>SPEAKER</th>\n",
              "      <th>speaker</th>\n",
              "    </tr>\n",
              "  </thead>\n",
              "  <tbody>\n",
              "    <tr>\n",
              "      <th>0</th>\n",
              "      <td>dwayne-bohac</td>\n",
              "      <td>438.0</td>\n",
              "    </tr>\n",
              "    <tr>\n",
              "      <th>1</th>\n",
              "      <td>scott-surovell</td>\n",
              "      <td>1404.0</td>\n",
              "    </tr>\n",
              "    <tr>\n",
              "      <th>2</th>\n",
              "      <td>barack-obama</td>\n",
              "      <td>80.0</td>\n",
              "    </tr>\n",
              "    <tr>\n",
              "      <th>5</th>\n",
              "      <td>robin-vos</td>\n",
              "      <td>1335.0</td>\n",
              "    </tr>\n",
              "    <tr>\n",
              "      <th>7</th>\n",
              "      <td>barack-obama</td>\n",
              "      <td>80.0</td>\n",
              "    </tr>\n",
              "    <tr>\n",
              "      <th>...</th>\n",
              "      <td>...</td>\n",
              "      <td>...</td>\n",
              "    </tr>\n",
              "    <tr>\n",
              "      <th>112</th>\n",
              "      <td>donna-brazile</td>\n",
              "      <td>413.0</td>\n",
              "    </tr>\n",
              "    <tr>\n",
              "      <th>113</th>\n",
              "      <td>paul-ryan</td>\n",
              "      <td>1205.0</td>\n",
              "    </tr>\n",
              "    <tr>\n",
              "      <th>114</th>\n",
              "      <td>barack-obama</td>\n",
              "      <td>80.0</td>\n",
              "    </tr>\n",
              "    <tr>\n",
              "      <th>116</th>\n",
              "      <td>mark-pocan</td>\n",
              "      <td>1014.0</td>\n",
              "    </tr>\n",
              "    <tr>\n",
              "      <th>118</th>\n",
              "      <td>joe-biden</td>\n",
              "      <td>742.0</td>\n",
              "    </tr>\n",
              "  </tbody>\n",
              "</table>\n",
              "<p>84 rows × 2 columns</p>\n",
              "</div>\n",
              "      <button class=\"colab-df-convert\" onclick=\"convertToInteractive('df-00fb7725-1176-44db-beac-a87fc4175a9f')\"\n",
              "              title=\"Convert this dataframe to an interactive table.\"\n",
              "              style=\"display:none;\">\n",
              "        \n",
              "  <svg xmlns=\"http://www.w3.org/2000/svg\" height=\"24px\"viewBox=\"0 0 24 24\"\n",
              "       width=\"24px\">\n",
              "    <path d=\"M0 0h24v24H0V0z\" fill=\"none\"/>\n",
              "    <path d=\"M18.56 5.44l.94 2.06.94-2.06 2.06-.94-2.06-.94-.94-2.06-.94 2.06-2.06.94zm-11 1L8.5 8.5l.94-2.06 2.06-.94-2.06-.94L8.5 2.5l-.94 2.06-2.06.94zm10 10l.94 2.06.94-2.06 2.06-.94-2.06-.94-.94-2.06-.94 2.06-2.06.94z\"/><path d=\"M17.41 7.96l-1.37-1.37c-.4-.4-.92-.59-1.43-.59-.52 0-1.04.2-1.43.59L10.3 9.45l-7.72 7.72c-.78.78-.78 2.05 0 2.83L4 21.41c.39.39.9.59 1.41.59.51 0 1.02-.2 1.41-.59l7.78-7.78 2.81-2.81c.8-.78.8-2.07 0-2.86zM5.41 20L4 18.59l7.72-7.72 1.47 1.35L5.41 20z\"/>\n",
              "  </svg>\n",
              "      </button>\n",
              "      \n",
              "  <style>\n",
              "    .colab-df-container {\n",
              "      display:flex;\n",
              "      flex-wrap:wrap;\n",
              "      gap: 12px;\n",
              "    }\n",
              "\n",
              "    .colab-df-convert {\n",
              "      background-color: #E8F0FE;\n",
              "      border: none;\n",
              "      border-radius: 50%;\n",
              "      cursor: pointer;\n",
              "      display: none;\n",
              "      fill: #1967D2;\n",
              "      height: 32px;\n",
              "      padding: 0 0 0 0;\n",
              "      width: 32px;\n",
              "    }\n",
              "\n",
              "    .colab-df-convert:hover {\n",
              "      background-color: #E2EBFA;\n",
              "      box-shadow: 0px 1px 2px rgba(60, 64, 67, 0.3), 0px 1px 3px 1px rgba(60, 64, 67, 0.15);\n",
              "      fill: #174EA6;\n",
              "    }\n",
              "\n",
              "    [theme=dark] .colab-df-convert {\n",
              "      background-color: #3B4455;\n",
              "      fill: #D2E3FC;\n",
              "    }\n",
              "\n",
              "    [theme=dark] .colab-df-convert:hover {\n",
              "      background-color: #434B5C;\n",
              "      box-shadow: 0px 1px 3px 1px rgba(0, 0, 0, 0.15);\n",
              "      filter: drop-shadow(0px 1px 2px rgba(0, 0, 0, 0.3));\n",
              "      fill: #FFFFFF;\n",
              "    }\n",
              "  </style>\n",
              "\n",
              "      <script>\n",
              "        const buttonEl =\n",
              "          document.querySelector('#df-00fb7725-1176-44db-beac-a87fc4175a9f button.colab-df-convert');\n",
              "        buttonEl.style.display =\n",
              "          google.colab.kernel.accessAllowed ? 'block' : 'none';\n",
              "\n",
              "        async function convertToInteractive(key) {\n",
              "          const element = document.querySelector('#df-00fb7725-1176-44db-beac-a87fc4175a9f');\n",
              "          const dataTable =\n",
              "            await google.colab.kernel.invokeFunction('convertToInteractive',\n",
              "                                                     [key], {});\n",
              "          if (!dataTable) return;\n",
              "\n",
              "          const docLinkHtml = 'Like what you see? Visit the ' +\n",
              "            '<a target=\"_blank\" href=https://colab.research.google.com/notebooks/data_table.ipynb>data table notebook</a>'\n",
              "            + ' to learn more about interactive tables.';\n",
              "          element.innerHTML = '';\n",
              "          dataTable['output_type'] = 'display_data';\n",
              "          await google.colab.output.renderOutput(dataTable, element);\n",
              "          const docLink = document.createElement('div');\n",
              "          docLink.innerHTML = docLinkHtml;\n",
              "          element.appendChild(docLink);\n",
              "        }\n",
              "      </script>\n",
              "    </div>\n",
              "  </div>\n",
              "  "
            ],
            "text/plain": [
              "            SPEAKER  speaker\n",
              "0      dwayne-bohac    438.0\n",
              "1    scott-surovell   1404.0\n",
              "2      barack-obama     80.0\n",
              "5         robin-vos   1335.0\n",
              "7      barack-obama     80.0\n",
              "..              ...      ...\n",
              "112   donna-brazile    413.0\n",
              "113       paul-ryan   1205.0\n",
              "114    barack-obama     80.0\n",
              "116      mark-pocan   1014.0\n",
              "118       joe-biden    742.0\n",
              "\n",
              "[84 rows x 2 columns]"
            ]
          },
          "metadata": {},
          "execution_count": 19
        }
      ],
      "source": [
        "ord_enc = OrdinalEncoder()\n",
        "data[\"speaker\"] = ord_enc.fit_transform(data[[\"SPEAKER\"]])\n",
        "data[[\"SPEAKER\", \"speaker\"]].head(84)"
      ]
    },
    {
      "cell_type": "markdown",
      "metadata": {
        "id": "s0j122vBxB7t"
      },
      "source": [
        "### **JOB_TITLE**"
      ]
    },
    {
      "cell_type": "code",
      "execution_count": null,
      "metadata": {
        "colab": {
          "base_uri": "https://localhost:8080/"
        },
        "id": "8UFDM0SGwqiN",
        "outputId": "69190a10-0b1e-4b4b-a8f4-f13072c3da72"
      },
      "outputs": [
        {
          "output_type": "execute_result",
          "data": {
            "text/plain": [
              "President                                                                          485\n",
              "U.S. Senator                                                                       472\n",
              "Governor                                                                           383\n",
              "President-Elect                                                                    273\n",
              "U.S. senator                                                                       252\n",
              "                                                                                  ... \n",
              "Policy analyst ACLU                                                                  1\n",
              "director, Grand Jury/Intake Division, Travis County  District Attorney's office      1\n",
              "Chief Justice of the United States                                                   1\n",
              "Wilson Center CEO                                                                    1\n",
              "Pundit and communications consultant                                                 1\n",
              "Name: JOB_TITLE, Length: 997, dtype: int64"
            ]
          },
          "metadata": {},
          "execution_count": 20
        }
      ],
      "source": [
        "data[\"JOB_TITLE\"].value_counts()"
      ]
    },
    {
      "cell_type": "code",
      "execution_count": null,
      "metadata": {
        "colab": {
          "base_uri": "https://localhost:8080/"
        },
        "id": "vcACZw9xw106",
        "outputId": "0d042f07-96fe-41e5-8ecf-a232a8a572ef"
      },
      "outputs": [
        {
          "output_type": "execute_result",
          "data": {
            "text/plain": [
              "array(['State representative', 'State delegate', 'President',\n",
              "       'Wisconsin Assembly speaker', 'U.S. Senator', 'Former governor',\n",
              "       'Columnist', 'U.S. House member -- 1th District',\n",
              "       'Treasury secretary ', 'state representative',\n",
              "       'Presidential candidate', 'Advocacy group',\n",
              "       'House Minority Leader', 'musician',\n",
              "       'President of American Freedom Defense Intitiative',\n",
              "       'Lieutenant governor', 'State senator',\n",
              "       'U.S. House of Representative', 'Governor',\n",
              "       'U.S. House of Representatives', 'Senator', 'Austin mayor',\n",
              "       'state land commissioner',\n",
              "       'Speaker of the House of Representatives', 'Attorney General',\n",
              "       'State agriculture commissioner', 'Senate Candidate',\n",
              "       'Senior Vice President, Government Affairs, Georgia Chamber of Commerce',\n",
              "       'President-Elect', 'U.S. senator', 'Attorney', 'Talk-show host',\n",
              "       'president, ceo of Apartments for America, Inc.',\n",
              "       'Former state Senator', 'U.S. solicitor general',\n",
              "       'Former mayor of Miami', 'Jefferson County District Attorney',\n",
              "       'Former mayor of Houston', 'U.S. Congressman',\n",
              "       'Treasurer, Citizens Against Rail Taxes', 'lawyer, businessman',\n",
              "       'State Representative', 'Columnist and commentator',\n",
              "       'Secretary of State', 'Senate minority leader',\n",
              "       'R.I. General Treasurer', 'Congressman ',\n",
              "       'Milwaukee County Executive', 'Political commentator',\n",
              "       'U.S. Representative', 'State Assembly member, 78th District',\n",
              "       'U.S. Health and Human Services Secretary',\n",
              "       'Constable, Travis County, Precinct 1', 'Ohio auditor',\n",
              "       'politican action committee', 'Financial adviser',\n",
              "       'College professor', 'U.S. senator from Ohio', 'U.S. House member',\n",
              "       'Minority leader in the Ohio House of Representatives',\n",
              "       'state senator', 'Florida Senate President',\n",
              "       'N.C. House Speaker pro tem', 'House Majority Leader',\n",
              "       'U.S. representative', 'Commentator', 'Lawyer',\n",
              "       'Governor of New Jersey',\n",
              "       'Trade group representing the health insurance industry',\n",
              "       'governor', 'mayor of Providence',\n",
              "       \"Representative from Ohio's Ninth Congressional District\",\n",
              "       'attorney and contributor to Fox News',\n",
              "       'Mayor, Point Pleasant Beach', 'Congressman',\n",
              "       'N.C. Secretary of Commerce', 'Farmer', 'liberal blog',\n",
              "       'Developer and homebuilder', 'President of the Ohio Senate',\n",
              "       'Governor of Ohio as of Jan. 00, 0000',\n",
              "       'Lieutenant, Milwaukee Police Department',\n",
              "       'Campaign manager for Hillary Clinton', 'Small business owner',\n",
              "       'Liberal advocacy group',\n",
              "       'Candidate for U.S. Senate and physician',\n",
              "       'director, Department of Economic Development, Providence, R.I.',\n",
              "       'Metro president', 'Assemblywoman', 'State Senator',\n",
              "       'U.S. representative from Fort Myers',\n",
              "       'U.S. representative, Florida District 00',\n",
              "       'President, Generation Opportunity',\n",
              "       'Rhode Island State Representative',\n",
              "       'President of the board of directors of the Lake Oswego Corporation',\n",
              "       \"Former U.S. representative from Ohio's 00th District\",\n",
              "       'Former Ohio governor', 'Mayor, San Antonio',\n",
              "       'State Representative 00th District', 'Congresswoman',\n",
              "       'Lieutenant governor-elect', 'Co-host on CNN\\'s \"Crossfire\"',\n",
              "       'Mayor of Milwaukee',\n",
              "       'Shelby County Board of Commission, District 1, Position 0',\n",
              "       'Atlanta Housing Authority chief external affairs officer',\n",
              "       'WFTL 810 AM talk show host',\n",
              "       'executive director, National Organization for Marriage - Rhode Island',\n",
              "       'Businessman', 'Ohio treasurer', 'former president',\n",
              "       'Founder of Black Lives Matter Worcester', 'author',\n",
              "       'Trade association', 'Author and film director',\n",
              "       'Mayor, St. Petersburg', 'State House representative',\n",
              "       'Writer, Grits for Breakfast blog', 'Mayor, City of Richmond',\n",
              "       'Texas congressman in the U.S. Houst of Representatives',\n",
              "       'U.S. Congress, NH-First District',\n",
              "       'State Assembly member, 60nd District',\n",
              "       'Represents Southwest Portland in Oregon House',\n",
              "       'State Assembly representative',\n",
              "       'Executive Director of the Georgia School Superintendents Association',\n",
              "       'governor and chair of Democratic Governors Association',\n",
              "       'Nonprofit organization', 'Texas House Representative',\n",
              "       'Williamson County district attorney',\n",
              "       'State Senator, 00th District', 'State Senator, District 07',\n",
              "       'State Assemblyman', 'Attorney, activist', 'Pharmacist',\n",
              "       'Candidate for Congress', 'Miami-Dade school board member',\n",
              "       'member of Congress', 'Chairman, Republican National Committee',\n",
              "       'radio talk show host', 'Mayor of Chicago', 'Union leader',\n",
              "       'chairman of the Republican National Committee', 'U.S. Rep.',\n",
              "       'Philanthropist', 'U.S. Representative, Florida District 00',\n",
              "       'CEO, California High-Speed Rail Authority',\n",
              "       'Editor-in-chief of CNSNews', 'Governor of Louisiana',\n",
              "       'Erie County Clerk',\n",
              "       'President of American Commitment and columnist',\n",
              "       'State Appeals Court judge', 'Marketing',\n",
              "       'Senior editor, Islamic Monthly magazine ',\n",
              "       'Member of the Worthington Board of Education',\n",
              "       'Governor of Oregon', 'Florida Commissioner of Agriculture',\n",
              "       'Candidate for Rhode Island governor',\n",
              "       'Chairman of the Ohio Republican Party', 'Student',\n",
              "       'State Senator, 8th District', 'Republican strategist',\n",
              "       'Maryland governor', 'Political Action Committee',\n",
              "       'Secretary of Teamsters Local 800',\n",
              "       'Chairman of the  Ohio Democratic Party', 'consultant',\n",
              "       'Conservative Activist', 'Member of the U.S. House',\n",
              "       'Mayor of Providence', 'national security commentator for CNN',\n",
              "       'Correctional officer',\n",
              "       'executive director of the Regional Business Coalition of Metropolitan Atlanta',\n",
              "       'NPR contributor, ABC commentator', 'Representative', 'attorney',\n",
              "       'Senator from West Virginia', 'Publisher of Daily Kos', 'none',\n",
              "       'Principal, Carbon Shrinks LLC', 'professor, Carthage College',\n",
              "       \"U.S. representative from Ohio's 00th District\",\n",
              "       'Transportation consultant',\n",
              "       'CEO, president, Texas Association of Business & Chambers of Commerce',\n",
              "       'health care reform advocacy group', 'Blog site',\n",
              "       'U.S. representative ', 'Political advocacy group',\n",
              "       'Hillsborough County Property Appraiser', 'Ohio attorney general',\n",
              "       'political group', 'Pediatric neurosurgeon',\n",
              "       'Cuyahoga County executive', 'Journalist',\n",
              "       'state agriculture commissioner', 'State Senator, District 00',\n",
              "       'State Senator, District 06', 'California Senate leader',\n",
              "       'Candidate for governor of New Mexico',\n",
              "       'Democratic candidate for U.S. Senate', 'Retired',\n",
              "       'advocacy group', 'Governor of North Carolina', 'Computer systems',\n",
              "       'Oregon School Boards Association executive director',\n",
              "       'Former Acting Mayor of Milwaukee', 'Small businessman',\n",
              "       'Republican nominee for Nevada U.S. Senate seat',\n",
              "       'White House aide', 'talk show host, WHJJ', 'Actor',\n",
              "       'Milwaukee County Sheriff', 'Real estate broker',\n",
              "       'Democratic National Committee chairman', 'Businesswoman',\n",
              "       'Minority leader, House of Delegates',\n",
              "       'Republican candidate for U.S. Senate',\n",
              "       'Nova Southeastern University law professor',\n",
              "       'Portland police chief', 'U.S. House Representative',\n",
              "       'advocacy group for senior citizens',\n",
              "       'Host of Real Time with Bill Maher',\n",
              "       'President, Heritage Foundation',\n",
              "       'venture capital company founder',\n",
              "       'President, Virginia Education Association',\n",
              "       'chairwoman, Ocean State Prevention Alliance', 'Super-PAC',\n",
              "       'Political action committee', 'Banker', 'U.S. Senate candidate',\n",
              "       'Mayor of Manchester',\n",
              "       \"Representative from Ohio's 0rd Congressional District\",\n",
              "       'Defense Secretary', 'Chief Justice, Georgia Supreme Court',\n",
              "       \"Representative from Ohio's 00th Congressional District\",\n",
              "       'Former U.S. senator from Ohio', 'PAC', 'state program',\n",
              "       'Certified Public Accountant', 'consulting firm president',\n",
              "       'Pastor and father of Sen. Ted Cruz, R-Texas.',\n",
              "       'Conservative advocacy group', 'State Senate Majority Leader',\n",
              "       'Conservative website', 'Member of Congress',\n",
              "       'Member, Austin City Council', 'writer', 'lawyer',\n",
              "       'State senator, 00st District', 'Columnist and author',\n",
              "       'Political consultant', 'State Senator, District 1', 'Developer',\n",
              "       'President of The Sentinel Group',\n",
              "       'Insurance commissioner and gubernatorial candidate',\n",
              "       'Philadelphia Republican City Committee Chairman',\n",
              "       'A liberal-oriented advocacy organization', 'Political Party',\n",
              "       'District 69 state representative', 'House majority leader',\n",
              "       'State Rep., 080nd District', 'Fulton County District Attorney',\n",
              "       'Mayor of Portland', 'Mayoral candidate', 'State Assemblywoman',\n",
              "       'owner, Loud Security', 'mayor, city of Cranston, R.I.',\n",
              "       'Candidate for governor', 'former senator',\n",
              "       'Owner, president, general manager, Dallas Cowboys',\n",
              "       'Senate Democratic Leader',\n",
              "       'Executive director, Unified Sportsmen of Florida',\n",
              "       'Co-chairman of the Bowles-Simpson commission',\n",
              "       'political action committee', 'Providence City Councilman ',\n",
              "       'County executive of New Castle County, Delaware',\n",
              "       'Candidate for governor of Missouri',\n",
              "       'President of Milwaukee Area Technical College',\n",
              "       'former governor and senator', 'U. S. Congressman',\n",
              "       'state legislator', 'vice president of Phantom Fireworks',\n",
              "       'Travis County commissioner', 'Republican presidential candidate',\n",
              "       'Candidate for state Attorney General',\n",
              "       'Chairwoman, Nevada Democrats',\n",
              "       'Representative (D-CA 07th District) ',\n",
              "       'Candidate for 8th District U.S. House seat',\n",
              "       'Retired social worker', 'Online publication', 'Attorney, blogger',\n",
              "       'venture capitalist', 'Chairman, Texas Democratic Party',\n",
              "       'Candidate for U.S. Senate', 'state Senator ', 'CEO, Apple Inc.',\n",
              "       'University of Rhode Island president', 'Atlanta City Councilman',\n",
              "       'vice president, Hilex Poly Co.', 'candidate for governor',\n",
              "       'Common Cause Georgia Executive Director', 'Physician',\n",
              "       'Allegheny County District Attorney',\n",
              "       'president, Texans for Life Coalition',\n",
              "       'Texas Democratic Party chair', 'Foreign minister of Russia',\n",
              "       'executive director, Texas Alliance for Life',\n",
              "       'Chief Executive Officer, Amica Insurance',\n",
              "       'Ohio tax commissioner', 'Deli owner', 'Restauranteur',\n",
              "       'Mayor of Memphis', 'member, Georgia House of Representatives',\n",
              "       'State Representative from Woonsocket',\n",
              "       'governor of Washington state', 'White House press secretary',\n",
              "       'co-anchor on \"Fox & Friends\"', 'Labor Commissioner',\n",
              "       'president and ceo, Empower Texans',\n",
              "       'Alaska Department of Public Resources commissioner',\n",
              "       'Chief of police, Austin, Texas', 'Oregon House member',\n",
              "       'Former State Senator, 1th District', 'U.S. Representativej',\n",
              "       'Member of Milwaukee Common Council',\n",
              "       'Clatsop County District Attorney',\n",
              "       'U.S. Representative, Florida District 07',\n",
              "       'co-founder, State of the State',\n",
              "       'President and CEO, Greater Cleveland Partnership',\n",
              "       'Leader of recall effort against Wisconsin state Sen. Jim Holperin',\n",
              "       'Memphis City Councilman', 'presidential candidate',\n",
              "       'Texas House member', 'Secretary of Labor',\n",
              "       'Member of Milwaukee Common Council, representing 6th District',\n",
              "       'Retired teacher', '8th District congressional candidate',\n",
              "       'president, Luntz Global', 'Speaker of the Tennessee Senate',\n",
              "       'Economics professor at the University of California (Berkeley)',\n",
              "       \"Representative from Ohio's 08th Congressional District\",\n",
              "       'Lewis & Clark Law School professor', 'California Lt. Governor',\n",
              "       'Member of State Assembly, 80nd District',\n",
              "       'Candidate for lieutenant governor of Delaware in 0000.',\n",
              "       'candidate for 00th congressional district', 'Floor installer.',\n",
              "       'Senator from 01th District', 'MSNBC contributor',\n",
              "       'business owner', 'Hillsborough County commission candidate',\n",
              "       'New Jersey Assemblyman',\n",
              "       'Campaign chair of Fair Districts Florida',\n",
              "       'State Senator, District 08',\n",
              "       'Spokesman for N.J. Governor Chris Christie',\n",
              "       'Attorney in private practice',\n",
              "       'Member, U.S. House of Representatives', 'Homemaker',\n",
              "       'Wisconsin Senate Minority Leader',\n",
              "       \"superintendent of Pasco County's public schools\",\n",
              "       'Philadelphia Mayor', 'Former legislator and U.S. House member',\n",
              "       'president of the American Medical Association',\n",
              "       'Gwinnett County District Attorney',\n",
              "       'Senior state director, Rhode Island AARP',\n",
              "       'Atlanta Chief of Police', 'Physician-journalist',\n",
              "       'community college',\n",
              "       'Representative from the 00st Congressional District',\n",
              "       'State Senate Minority Leader', 'Broadcaster',\n",
              "       'Former Lieutenant governor',\n",
              "       'Georgia Chamber of Commerce president',\n",
              "       'Chairman, Washington County Board of Commissioners ',\n",
              "       'Louisiana state representative', 'Mayor',\n",
              "       'Madison school board member', 'Theater owner, activist',\n",
              "       'columnist', \"Candidate in Ohio's 01th Congressional District\",\n",
              "       'founding partner, 070 Strategies', 'Texas House speaker',\n",
              "       'Superintendent, Austin Independent School District',\n",
              "       'senior adviser to President Barack Obama', 'Activist group',\n",
              "       'businessman', 'None', 'acting director, Independent Texans',\n",
              "       'Businessman ', 'U.S. Representative ',\n",
              "       'chair of the Council of Economic Advisers',\n",
              "       'Franklin County clerk of courts', 'congresswoman',\n",
              "       'community activist', 'Owner, Private Properties, Inc.',\n",
              "       'Marlins owner', 'congressman', 'Blogger and commentator',\n",
              "       \"Host of NBC's Meet the Press\", 'Consultant',\n",
              "       'president, Texas AFL-CIO', 'Author', 'Musician',\n",
              "       'Special assistant, University of Texas',\n",
              "       'Congressman from the 0nd district of Arkansas',\n",
              "       'Majority Leader for the Florida House of Representatives ',\n",
              "       'restaurateur', 'State Rep', 'Wisconsin Supreme Court justice',\n",
              "       'executive director, Rhode Island Right to Life',\n",
              "       'Labor union for school teachers',\n",
              "       'President of the National Urban League',\n",
              "       'Co-Speaker of the Oregon House of Representatives',\n",
              "       'Florida Department of Education Commissioner',\n",
              "       'Political Editor and White House Correspondent, Huffington Post',\n",
              "       'Member, Texas Railroad Commission', 'Retiree',\n",
              "       'President of the Rochester Business Alliance',\n",
              "       \"Affiliated professor of public policy at Georgetown University's Public Policy Institute\",\n",
              "       'General Manager, MARTA',\n",
              "       'Secretary, U.S. Department of Transportation', 'Candidate',\n",
              "       'Gubernatorial candidate',\n",
              "       'District 0 member, Austin City Council',\n",
              "       'State Assembly member, 91th District',\n",
              "       'Global Director at USC Schwarzenegger Institute',\n",
              "       'Director of the Office of National Drug Control Policy',\n",
              "       'CEO of Deepwater Wind', 'Austinite', 'Fox News legal analyst',\n",
              "       'Co-host on Fox News Channel\\'s \"The Five\"', 'political party',\n",
              "       'State Senators', 'Pundit', 'lieutenant governor',\n",
              "       'Policy director, the American Lung Association',\n",
              "       'Executive Councilor', 'Attorney, businessman',\n",
              "       'Missouri state senator', 'Speaker of the House',\n",
              "       'gubernatorial candidate',\n",
              "       'Broward County Mayor and District 8 Commissioner',\n",
              "       'President of Wisconsin Manufacturers & Commerce',\n",
              "       'cofounder of Generation Investment Management and Current TV, visiting professor and author',\n",
              "       'Chair, Tea Party Express',\n",
              "       'Co-Chairman of the Republican National Committee',\n",
              "       'Florida House of Representatives',\n",
              "       'mediator, crisis communications consultant',\n",
              "       'President-EBAA Iron Sales, Inc.', 'Presidential nominee',\n",
              "       'Member of the State Board of Higher Education',\n",
              "       'Bexar County judge', 'restaurant owner',\n",
              "       'News anchor for Univision', 'Organization', 'Mayor of Austin',\n",
              "       'New Hampshire state representative', 'professor of law',\n",
              "       'Professor, Texas State University',\n",
              "       'Radiologist and radio station owner', 'Mother',\n",
              "       'Chair, Republican Party of Texas', 'Financial planner',\n",
              "       'Historian and author', 'NC NAACP president',\n",
              "       'A ride-sharing service', 'Advertising executive',\n",
              "       'teacher, blogger', 'Justice, Place 0, Texas Supreme Court',\n",
              "       'Former Governor', 'Think tank', 'Metro councilor',\n",
              "       'President of China', 'president, Crossroads Rhode Island',\n",
              "       'Cleveland city councilman', 'Richmond mayoral candidate',\n",
              "       'Portland City Commissioner', 'Incoming speaker of state Assembly',\n",
              "       'Business owner and reality-TV star', 'Pastor',\n",
              "       'oil and gas producer', 'Member of state Assembly',\n",
              "       'retired police captain', 'Conservative talk show host',\n",
              "       'lobbying group', 'U.S. Representative, Florida District 0',\n",
              "       'a senior fellow at the Texas Public Policy Foundation and a contributor to National Review',\n",
              "       'Investor', 'Advocacy group for U.S. policy toward Israel',\n",
              "       'Republican Party of Florida Chairman',\n",
              "       'Texas Eagle Forum former president',\n",
              "       'District 8 member, Austin City Council', 'legislator',\n",
              "       'Editor, the Weekly Standard', 'owner, Media-Rite LLC',\n",
              "       'Legislator', 'Ohio secretary of state',\n",
              "       'Executive director and CEO of the Cleveland Foodbank',\n",
              "       'U.S. Senator for Arkansas', 'contractor',\n",
              "       'University of Miami president',\n",
              "       'egislative director of the Columbus, Ga.-based International Premium Cigar & Pipe Retailers Associat',\n",
              "       'conservative activist and member of the British nobility',\n",
              "       'House Speaker and U.S. Senate candidate',\n",
              "       'U.S. Representative, Florida District 01',\n",
              "       'Associate director of the Rhode Island Division of Planning',\n",
              "       'Super PAC', 'Chairman, Milwaukee County Boaerd of Supervisors',\n",
              "       'Communications Director, Georgia Democratic Party',\n",
              "       'Executive director of the National Alliance on Mental Illness in Ohio',\n",
              "       'Chief Justice, Supreme Court of Georgia',\n",
              "       'president of the Virginia Citizens Defense League ',\n",
              "       'head of school at Highlander Charter School in Providence.',\n",
              "       'State Senator, 01th District',\n",
              "       'Director emeritus of Columbus Zoo', 'Former U.S. Senator',\n",
              "       'president, Manna Services Inc.', 'Florida senator',\n",
              "       'Emory University Food Service Administration director',\n",
              "       'Chesterfield County administrator', 'education analyst',\n",
              "       'Travis County district attorney', 'Inmate',\n",
              "       'U.S. Representative and House Majority Whip',\n",
              "       'Chief Executive Officer, Points of Light Foundation',\n",
              "       'President and CEO, American Bus Association', 'Career counselor',\n",
              "       'President of the University of Wisconsin System',\n",
              "       'Owner Media Peel, former president and CEO of Gem Plumbing',\n",
              "       'Congressman for NY-07', 'political consultant',\n",
              "       'District 79 representative', 'President, Wallbuilders',\n",
              "       'City of Tallahassee, water resources manager',\n",
              "       'executive director, Climate Science Coalition of America',\n",
              "       'Conservative Political Group', 'Director, Georgia C.A.R.E.',\n",
              "       'U.S. Secretary of Commerce',\n",
              "       'Pundit and communications consultant',\n",
              "       'Harrisonburg city councilman', 'Theme park company',\n",
              "       'Executive director, NARAL Pro-Choice Virginia',\n",
              "       'State House speaker',\n",
              "       'Chief Executive Officer for Concerned Veterans for America ',\n",
              "       'State comptroller', 'Police union president',\n",
              "       'Group representing Senate Republicans',\n",
              "       'President of NextGen Climate',\n",
              "       'Georgia Transportation COmmissioner', 'retiree',\n",
              "       'executive director of the Florida Family Association',\n",
              "       'Assembly representative', 'Home-based child care',\n",
              "       'President, Service Employees International Union Local 180',\n",
              "       'President and CEO of Free Congress Foundation',\n",
              "       'Host, On the Money with Maria Bartiromo', 'Radio talk show host',\n",
              "       'economist at the New School', 'Oregon Lottery director',\n",
              "       'Vice President of Communications, Texas Public Policy Foundation',\n",
              "       'Chairwoman, Rhode Island Board of Education',\n",
              "       'Secretary, Libertarian Party of Wisconsin Midwest Regional Director, Our America Initiative Lead Coo',\n",
              "       'Chief of Staff, Gov. Nathan Deal',\n",
              "       'Chief Operating Officer, City of Atlanta',\n",
              "       'Multnomah County District Attorney', 'Cattle raiser',\n",
              "       'Columnist for the Washington Post', 'Candidate for U.S. Senate ',\n",
              "       'Talk show host for WTMJ-AM in Milwaukee',\n",
              "       'Ohio State University president', 'Radio personality',\n",
              "       'Vice president, Charter Holdings real estate investment partnership',\n",
              "       'Columnist for the New York Times',\n",
              "       'DeKalb County Chief Executive Officer',\n",
              "       'Human resources director',\n",
              "       'Runs a consulting firm, Liberty Strategies LLC',\n",
              "       'managing partner at Nexus Homes',\n",
              "       'CEO, Rhode Island Public Transit Autority',\n",
              "       'gun rights advocacy group', 'Police officer',\n",
              "       'Lobbyist and pundit', 'Assemblyman',\n",
              "       'Co-host of CNN\\'s \"Crossfire\"', 'Gwinnett County Sheriff',\n",
              "       'Director of the Georgia Bureau of Investigation',\n",
              "       'Chief Justice of the Alabama Supreme Court', 'Website',\n",
              "       'White House reporter, Associated Press', 'Blogger',\n",
              "       \"Mayor Jim Kenney's director of communications\",\n",
              "       'singer, songwriter, progressive activist',\n",
              "       'Commissioner of Agriculture', 'Tampa Bay Rays owner',\n",
              "       'Airport owner',\n",
              "       \"a group opposed to Proposition 0 on Austin's May 7, 0006 ballot\",\n",
              "       'Fast-food chain', 'School district',\n",
              "       'Colorado U.S. Representative ', 'education activist',\n",
              "       'Memphis police union', 'MALDEF attorney', 'ceo',\n",
              "       'Governor of Pennsylvania', 'Software engineer', 'Financier',\n",
              "       'Lee County sheriff', 'Pro-gambling group',\n",
              "       'Executive director, Texas IMPACT', 'Author and lecturer',\n",
              "       'Government agency', 'landscape designer',\n",
              "       'chancellor and president, Liberty University',\n",
              "       'Executive Director, Wisconsin Family Action',\n",
              "       'Spokeswoman for the Narragansett Bay commission',\n",
              "       'CEO of Greer Industries', 'Nelson, Ga. police chief',\n",
              "       'Senior editor for National Review', 'educator',\n",
              "       'Midland County sheriff', 'Lieutenant Governor',\n",
              "       'president, Providence NAACP', 'Homeless advocate',\n",
              "       \"1th Congressional District's congressman\", 'House member',\n",
              "       'letter writer', 'Sandy Springs City Councilman',\n",
              "       'Chancellor of the Texas A&M University System',\n",
              "       'board member, Direct Action for Rights and Equality (DARE)',\n",
              "       'President, Rhode Islanders for Immigration Law Enforcement',\n",
              "       'reporting', 'Chancellor of Ohio Board of Regents',\n",
              "       'Chairman, Prince William County board of supervisors',\n",
              "       'Republican candidate for Congress', 'commentator',\n",
              "       'Electioneering communications organization',\n",
              "       'Atlanta-North Georgia Labor Council President',\n",
              "       'Groundhog, weather prognosticator', 'Civil rights leader', 'XX',\n",
              "       'President and CEO of the Virginia Chamber of Commerce',\n",
              "       'chairman, Republican Party of Virginia ',\n",
              "       'NY Department of Environmental Conservation Commissioner',\n",
              "       'Chair of the Clackamas County Board of Commissioners',\n",
              "       'Former governor of Michigan', 'Santa Fe Mayor',\n",
              "       'State Assembly member, 00nd District', 'federal agency',\n",
              "       'Delegate to the U.S. Congress',\n",
              "       'president, Massachusetts Prevention Alliance',\n",
              "       'State Assembly member, 10nd District',\n",
              "       'Chesterfield County supervisor', 'Private attorney',\n",
              "       'Chief executive officer of Newport Grand',\n",
              "       'Portland City Commissioner ', 'Florida Democratic Party Chairman',\n",
              "       'Speaker of the House ',\n",
              "       'Executive Director, Rhode Island affiliate of the American Civil Liberties Union',\n",
              "       'transportation director, city of Roswell', 'Law professor',\n",
              "       'Former Ohio Attorney General', 'Management consultant',\n",
              "       'Professor at Harvard Law School',\n",
              "       'Chancellor of the State University System of Florida',\n",
              "       'Realtor; Texas House member, District 10', 'doctor',\n",
              "       'co-owner, Collins Industries', 'Wilson Center CEO',\n",
              "       'Sarasota state representative, District 70',\n",
              "       'state Superintendent',\n",
              "       'Executive director of Policy Matters Ohio',\n",
              "       'Religious broadcaster',\n",
              "       'Director of Environmental Planning, Atlanta Regional Commission',\n",
              "       'head of the appellate division of the Wisconsin state public defenderâ€™s office',\n",
              "       \"director, Grand Jury/Intake Division, Travis County  District Attorney's office\",\n",
              "       'auditor',\n",
              "       \"Director of real estate at Tibbetts Holdings LLC, his family's business\",\n",
              "       'Tennessee GOP chairman', 'University of Texas lecturer',\n",
              "       'Managing Editor, The Federalist',\n",
              "       'president of the Federation for American Immigration Reform',\n",
              "       'Communications director, Texans for Lawsuit Reform', 'website',\n",
              "       'Sawmill operator', 'Sacramento County Sheriff',\n",
              "       'The View co-host', 'Bexar County tax assessor-collector',\n",
              "       'Retired educator', 'video', 'Speaker of the Virginia House',\n",
              "       'Delegate', 'Candidate, Multnomah County commission',\n",
              "       'psychiatrist', 'former U.S. Senator',\n",
              "       'Illinois state representative',\n",
              "       'chairman of the Republican Party of Florida',\n",
              "       'State job creation organization',\n",
              "       'executive director, Combined Law Enforcement Associations of Texas (CLEAT)',\n",
              "       'CNN anchor', \"CEO, It's Time Texas\",\n",
              "       'executive director, Rhode Island Democratic Party',\n",
              "       'Anti-death-penalty activist', 'mayor of Kansas City Mo.',\n",
              "       'President, Tourism Leadership Council in Savannah',\n",
              "       'President, Austin Independent School District Board of Trustees',\n",
              "       'police union leader',\n",
              "       'Representative of 9th District of Illinois',\n",
              "       'Pembroke Pines mayor',\n",
              "       'Co-host of Fox New Channel\\'s \"Fox and Friends\"',\n",
              "       'Ohio Supreme Court justice', 'Miami-Dade County Democratic chair',\n",
              "       'Investigative reporter, WJAR-TV',\n",
              "       'Author, retired Marine officer',\n",
              "       'Georgia Power Vice President of Environmental Affairs',\n",
              "       'Virginia ', 'Environmental group', 'State Senator, 00nd District',\n",
              "       'Travis County judge-elect', 'Minority leader, Virginia Senate',\n",
              "       \"President, EMILY's List\", 'Hillsborough County Commissioner',\n",
              "       'Political party',\n",
              "       'Executive Diretor of the Truth in Sentencing Project',\n",
              "       'Oregon teachers union', \"Former Ruth's Chris Steak House CEO\",\n",
              "       'Richmond City Council president',\n",
              "       'Representative, S.C. 1th congressional district',\n",
              "       \"Congresswoman from California's 00th district\",\n",
              "       'Lake Oswego City Councilwoman',\n",
              "       'interim commissioner of education', 'Mayor of Dalton',\n",
              "       'Former ESPN analyst', 'Archbishop', 'Miss USA runner-up',\n",
              "       'President and CEO or Augusta Health',\n",
              "       'Speaker of the Tennessee House of Representatives',\n",
              "       'Executive director, National Alliance on Mental Illness Virginia',\n",
              "       'Journalist at the Washington Post', 'New York City Mayor',\n",
              "       'Director of Communications for Lamp Post Group, a venture capital incubator in Chatt',\n",
              "       \"Communications Director, Georgia Attorney General's Office\",\n",
              "       'Chief strategy officer, The Providence Center',\n",
              "       'Special Counsel to Donald Trump',\n",
              "       'President, Citizens Concerned About Casino Gambling',\n",
              "       'Author, professor', 'Assembly Speaker',\n",
              "       'Speaker of the Pennsylvania House of Representatives',\n",
              "       'Executive director of The Investigative Project on Terrorism',\n",
              "       'Attorney general-elect', 'State Representative ',\n",
              "       'political adviser', 'Ohio Republican Party chairman',\n",
              "       'Attorney general of Missouri',\n",
              "       'Commissioner for Cleveland MetroParks',\n",
              "       'conservative advocacy group',\n",
              "       'Chairman, New Hampshire Republican Party',\n",
              "       'Candidate for lieutenant governor',\n",
              "       'executive director of Equality Florida', 'United States Senator',\n",
              "       'Senior vice president, HDR Engineering', 'singer/activist',\n",
              "       \"Host of CBS' Face the Nation\",\n",
              "       'Member of Florida House of Representatives',\n",
              "       'musician and filmmaker', 'Chief Justice of the United States',\n",
              "       'State Senate Candidate', 'Professor',\n",
              "       'Virginia director of Americans for Prosperity',\n",
              "       'Director, The Center for the American Future',\n",
              "       'Chancellor to Tennessee Board of Regents',\n",
              "       'Florida Coalition Alliance board member', 'eye surgeon',\n",
              "       'Chairman of the Joint Chiefs of Staff',\n",
              "       'Law professor and blogger',\n",
              "       \"Columnist, retired director of The Plain Dealer's editorial page\",\n",
              "       'U.S. Representative for Ohio, District 0', 'Writer',\n",
              "       'president, Planned Parenthood Federation of America',\n",
              "       'American businessman', 'Professor, University of Texas',\n",
              "       \"Group in favor of Proposition 0 on Austin's May 7, 0006 ballot\",\n",
              "       'Candidate for vice president on the Libertarian Party ticket',\n",
              "       'Republican Party of Virginia chairman',\n",
              "       \"Congressional representative for California's 01th District\",\n",
              "       'chief executive officer, R.I. Center for Freedom and ProsperityState Policy Research Institute',\n",
              "       'El Paso County Judge',\n",
              "       'Chair of the political science department at the University of Wisconsin-Madison.',\n",
              "       'State Senate candidate', 'Oregon House members', 'food bank',\n",
              "       'Waukesha County Clerk', 'Public relations',\n",
              "       'U.S. Secretary of Education', \"Chairwoman, Georgia's WIN List\",\n",
              "       'talk show host', 'District attorney of Lincoln County',\n",
              "       'investment advisor',\n",
              "       'staff writer at the New Yorker, legal analyst for CNN and author',\n",
              "       'N.C. House of Representatives member',\n",
              "       'Hamilton County Commissioner',\n",
              "       'President, International Association of Firefighters Local 799',\n",
              "       'Businessman, motivational speaker', 'mayor',\n",
              "       'Chairman, Hillary Clinton for president campaign',\n",
              "       'Delta spokesman', 'Koch Industries',\n",
              "       'Wife of former presidential candidate Newt Ginrgich',\n",
              "       'Minority leader in the Ohio Senate',\n",
              "       'State Board of Education member',\n",
              "       'Westchester County (N.Y.) executive', 'geologist',\n",
              "       'State Assembly, District 81', 'First Lady of Texas',\n",
              "       'El Paso County Commissioner ', 'Polk County sheriff', 'Cardinal',\n",
              "       'Adviser', 'Editor of Reason.com', 'lobbying / trade group',\n",
              "       'Fulton County Board of Commissioners Chairman',\n",
              "       'information technology manager', 'CEO of CKE Restaurants',\n",
              "       'Restaurateur',\n",
              "       'lobbyist, Rhode Island State Association of Firefighters',\n",
              "       'Chair of the Klamath County Board of Commissioners',\n",
              "       'Ohio director of agriculture', 'Mayor of Cleburne, Texas',\n",
              "       'Trade organization', 'Fort Lauderdale mayor',\n",
              "       'Former governor of New Jersey', 'CEO, HOLTEC USA',\n",
              "       'Business owner',\n",
              "       'Chair of Multnomah County Board of Commissioners', 'research',\n",
              "       'Assistant Secretary of State for Public Affairs and Department Spokesperson',\n",
              "       'Mayor of Houston', 'Kentucky Attorney General', 'Political group',\n",
              "       'Portland city commissioner',\n",
              "       'Democratic Senatorial Campaign Committee press secretary',\n",
              "       'Group pushing a safe roads constitutional amendment',\n",
              "       'president, University of Texas at Austin',\n",
              "       'Eckerd College psychology professor', 'Membership-based group',\n",
              "       'Senate Majority Leader',\n",
              "       'President and CEO of Cascade Policy Institute',\n",
              "       'District 10 state representative', 'party chair',\n",
              "       'Executive director, Alliance for Safe Communities',\n",
              "       'Education advocate', 'television and radio host',\n",
              "       'State House Representative', 'Director of Personhood Ohio',\n",
              "       'Assistant to University of Texas president',\n",
              "       'Georgia Emergency Management Agency director',\n",
              "       'member, board of directors, Ocean State Tea Party in Action',\n",
              "       'Labor organizer', 'House minority leader ',\n",
              "       'Pinellas County Commissioner', 'Policy analyst ACLU',\n",
              "       'Outside Group ', 'freelance ', 'Psychiatrist',\n",
              "       'Attorney and author', 'transportation consultant',\n",
              "       'Professor at the Haas School of Business at the University of California (Berkeley)',\n",
              "       'Director of Tourism', 'State senator ', 'Massage therapist',\n",
              "       'Representative in the Oregon House', 'Milwaukee Alderman',\n",
              "       'Miami-Dade County Commissioner', 'Former member of Congress',\n",
              "       'Executive Director, Better Georgia', 'Olympic medalist',\n",
              "       'State agency', 'National Council of La Raza president',\n",
              "       'Mayor of Dallas, Texas', 'state House speaker',\n",
              "       'Investment manager', 'President, Rhode Island Tea Party',\n",
              "       'Community activist', 'Precinct 1 Commissioner',\n",
              "       'California Democratic Party Chairman',\n",
              "       'Oregon Republican Party chair', 'Lieutenant governor of Ohio',\n",
              "       'senator', 'campaign committee', 'Executive Director, NEARI',\n",
              "       \"Sen. Bob Singer represents New Jersey's 00th Legislative District\",\n",
              "       'director, Texas office, Public Citizen', 'blogger',\n",
              "       'Executive director of the 0810 Center for Constitutional Law',\n",
              "       'commercial real estate investor/facilitator',\n",
              "       'Florida Democratic House Leader', 'Wine writer and consultant',\n",
              "       'lobbyist', 'Miami-Dade schools superintendent',\n",
              "       'Immigration Attorney', 'Mayor of Braddock',\n",
              "       'Senior Pastor, Ebenezer Baptist Church', 'Fox News contributor',\n",
              "       'Florida Democratic Party chairwoman',\n",
              "       'Lobbyst for the Rhode Island Federation of Teachers and Health Professionals',\n",
              "       'Former U.S. House member', 'Business and policy consultant',\n",
              "       'Secretary of Housing and Urban Development',\n",
              "       'President and founder of the Eurasia Group',\n",
              "       'U.S. House member -- 7th District',\n",
              "       'U.S. House member -- 6th District', 'physician', 'Retired nurse',\n",
              "       'CEO, San Antonio Water System',\n",
              "       \"Chariman, Metropolitan Atlanta Rapid Transit Authority's Board of Directors\",\n",
              "       'Director of research, Catholic Family and Human Rights Institute',\n",
              "       'Librarian', 'Relief pitcher for the Milwaukee Brewers',\n",
              "       'U.S. House representative',\n",
              "       'Chair of Clackamas County Republicans', 'Business attorney',\n",
              "       'U.S. Representative, Florida District 8', 'Nonprofit group',\n",
              "       'Making laws',\n",
              "       \"Former U.S. representative from Ohio's 08th District\",\n",
              "       'minority whip, Rhode Island House of Representatives',\n",
              "       'Fulton County Commissioner', 'spokesperson ',\n",
              "       'Executive vice president, Talent Relations and Live Events',\n",
              "       'Retired Army veteran', 'U.S. House member -- 8th District',\n",
              "       'Education Adviser', 'University professor',\n",
              "       'president, Georgia Association of Educators',\n",
              "       'CEO, Tufts Health Plan', 'Cuyahoga County prosecutor',\n",
              "       'Rock singer, songwriter', 'Talks show host',\n",
              "       'protest organized by University of Texas students in August 0006',\n",
              "       'Advocacy', 'State Assembly, 08th District',\n",
              "       'Assembly Conference Leader', 'Campaign Manager for Roy Barnes',\n",
              "       'state representative ', 'Atlanta City Councilwoman', 'retired',\n",
              "       'Program manager, Sierra Club of Rhode Island',\n",
              "       'Constable, Travis County, Precinct 0',\n",
              "       'Chairman, Boies, Schiller & Flexner LLP',\n",
              "       'State Democratic chairman', 'Editorial cartoonist', 'Salesman',\n",
              "       'Campaign manager for Amber Small', 'Newspaper',\n",
              "       'vice president, Rhode Island State Association of Firefighters',\n",
              "       'President, Georgia Retailers Association',\n",
              "       'Atlanta Braves executive vice president Mike Plant',\n",
              "       'substance abuse coordinator in Warren, R.I.',\n",
              "       'Secretary, Department of Administration', 'Okaloosa Sheriff',\n",
              "       'spokesman, Democratic Party of Wisconsin',\n",
              "       'Superintendent, Plano Independent School District',\n",
              "       'Commissioner, PGA Tour',\n",
              "       'Director, Sustainable Water Infrastructure Program, Ceres',\n",
              "       'Justice of the Third Court of Appeals ', 'Retired tennis player',\n",
              "       'Atlanta Mayor ', 'CPA', 'state assemblyman',\n",
              "       'Williamson County attorney', 'Volunteer task force co-chair',\n",
              "       'Former U.S. Representative',\n",
              "       'Executive director of the Rhode Island Board of Elections.',\n",
              "       'New York City mayoral candidate', 'actor',\n",
              "       'Public Service Commissioner', '9-00 member in Tampa', 'Physicist',\n",
              "       'President of the Rhode Island AFL-CIO',\n",
              "       'Director of the Central Intelligence Agency',\n",
              "       'Chief executive officer, Christian Broadcast Network',\n",
              "       'professor of political science, Queens College',\n",
              "       'President, Rhode Society for the Prevention of Cruelty to Animals',\n",
              "       'director of governmental affairs for American Promotional Events',\n",
              "       'faculty member, University of Rhode Island',\n",
              "       'U.S. Rep. --- TN 0st Congressional District',\n",
              "       'state director of administration in Rhode Island', 'Lobbyist',\n",
              "       'Dougherty County District Attorney', 'Artist',\n",
              "       'Colorado State Senator ', 'U.S. Secretary of Energy',\n",
              "       'Texas state senator',\n",
              "       'Senior director, external relations, Texas Higher Education Coordinating Board',\n",
              "       'Third baseman for the Tampa Bay Rays',\n",
              "       'Founder, White Horse Vapor', 'Quarterback', 'Head swim coach',\n",
              "       'Environmental Defense Fund vice president of energy program, director of Texas regional office',\n",
              "       'Chairman of the Council of Economic Advisers',\n",
              "       'President, The Whitman Strategy Group'], dtype=object)"
            ]
          },
          "metadata": {},
          "execution_count": 21
        }
      ],
      "source": [
        "data[\"JOB_TITLE\"].unique()"
      ]
    },
    {
      "cell_type": "code",
      "execution_count": null,
      "metadata": {
        "colab": {
          "base_uri": "https://localhost:8080/"
        },
        "id": "lQxX82Whw7U9",
        "outputId": "77103ffd-0484-4f0d-bab3-d0701f1fa82d"
      },
      "outputs": [
        {
          "output_type": "execute_result",
          "data": {
            "text/html": [
              "\n",
              "  <div id=\"df-a364fbfc-2479-468a-a5e4-2952478f21e7\">\n",
              "    <div class=\"colab-df-container\">\n",
              "      <div>\n",
              "<style scoped>\n",
              "    .dataframe tbody tr th:only-of-type {\n",
              "        vertical-align: middle;\n",
              "    }\n",
              "\n",
              "    .dataframe tbody tr th {\n",
              "        vertical-align: top;\n",
              "    }\n",
              "\n",
              "    .dataframe thead th {\n",
              "        text-align: right;\n",
              "    }\n",
              "</style>\n",
              "<table border=\"1\" class=\"dataframe\">\n",
              "  <thead>\n",
              "    <tr style=\"text-align: right;\">\n",
              "      <th></th>\n",
              "      <th>JOB_TITLE</th>\n",
              "      <th>job-title</th>\n",
              "    </tr>\n",
              "  </thead>\n",
              "  <tbody>\n",
              "    <tr>\n",
              "      <th>0</th>\n",
              "      <td>State representative</td>\n",
              "      <td>711.0</td>\n",
              "    </tr>\n",
              "    <tr>\n",
              "      <th>1</th>\n",
              "      <td>State delegate</td>\n",
              "      <td>709.0</td>\n",
              "    </tr>\n",
              "    <tr>\n",
              "      <th>2</th>\n",
              "      <td>President</td>\n",
              "      <td>527.0</td>\n",
              "    </tr>\n",
              "    <tr>\n",
              "      <th>5</th>\n",
              "      <td>Wisconsin Assembly speaker</td>\n",
              "      <td>808.0</td>\n",
              "    </tr>\n",
              "    <tr>\n",
              "      <th>7</th>\n",
              "      <td>President</td>\n",
              "      <td>527.0</td>\n",
              "    </tr>\n",
              "    <tr>\n",
              "      <th>...</th>\n",
              "      <td>...</td>\n",
              "      <td>...</td>\n",
              "    </tr>\n",
              "    <tr>\n",
              "      <th>112</th>\n",
              "      <td>Political commentator</td>\n",
              "      <td>517.0</td>\n",
              "    </tr>\n",
              "    <tr>\n",
              "      <th>113</th>\n",
              "      <td>U.S. Representative</td>\n",
              "      <td>761.0</td>\n",
              "    </tr>\n",
              "    <tr>\n",
              "      <th>114</th>\n",
              "      <td>President</td>\n",
              "      <td>527.0</td>\n",
              "    </tr>\n",
              "    <tr>\n",
              "      <th>116</th>\n",
              "      <td>State Assembly member, 78th District</td>\n",
              "      <td>673.0</td>\n",
              "    </tr>\n",
              "    <tr>\n",
              "      <th>118</th>\n",
              "      <td>U.S. senator</td>\n",
              "      <td>782.0</td>\n",
              "    </tr>\n",
              "  </tbody>\n",
              "</table>\n",
              "<p>84 rows × 2 columns</p>\n",
              "</div>\n",
              "      <button class=\"colab-df-convert\" onclick=\"convertToInteractive('df-a364fbfc-2479-468a-a5e4-2952478f21e7')\"\n",
              "              title=\"Convert this dataframe to an interactive table.\"\n",
              "              style=\"display:none;\">\n",
              "        \n",
              "  <svg xmlns=\"http://www.w3.org/2000/svg\" height=\"24px\"viewBox=\"0 0 24 24\"\n",
              "       width=\"24px\">\n",
              "    <path d=\"M0 0h24v24H0V0z\" fill=\"none\"/>\n",
              "    <path d=\"M18.56 5.44l.94 2.06.94-2.06 2.06-.94-2.06-.94-.94-2.06-.94 2.06-2.06.94zm-11 1L8.5 8.5l.94-2.06 2.06-.94-2.06-.94L8.5 2.5l-.94 2.06-2.06.94zm10 10l.94 2.06.94-2.06 2.06-.94-2.06-.94-.94-2.06-.94 2.06-2.06.94z\"/><path d=\"M17.41 7.96l-1.37-1.37c-.4-.4-.92-.59-1.43-.59-.52 0-1.04.2-1.43.59L10.3 9.45l-7.72 7.72c-.78.78-.78 2.05 0 2.83L4 21.41c.39.39.9.59 1.41.59.51 0 1.02-.2 1.41-.59l7.78-7.78 2.81-2.81c.8-.78.8-2.07 0-2.86zM5.41 20L4 18.59l7.72-7.72 1.47 1.35L5.41 20z\"/>\n",
              "  </svg>\n",
              "      </button>\n",
              "      \n",
              "  <style>\n",
              "    .colab-df-container {\n",
              "      display:flex;\n",
              "      flex-wrap:wrap;\n",
              "      gap: 12px;\n",
              "    }\n",
              "\n",
              "    .colab-df-convert {\n",
              "      background-color: #E8F0FE;\n",
              "      border: none;\n",
              "      border-radius: 50%;\n",
              "      cursor: pointer;\n",
              "      display: none;\n",
              "      fill: #1967D2;\n",
              "      height: 32px;\n",
              "      padding: 0 0 0 0;\n",
              "      width: 32px;\n",
              "    }\n",
              "\n",
              "    .colab-df-convert:hover {\n",
              "      background-color: #E2EBFA;\n",
              "      box-shadow: 0px 1px 2px rgba(60, 64, 67, 0.3), 0px 1px 3px 1px rgba(60, 64, 67, 0.15);\n",
              "      fill: #174EA6;\n",
              "    }\n",
              "\n",
              "    [theme=dark] .colab-df-convert {\n",
              "      background-color: #3B4455;\n",
              "      fill: #D2E3FC;\n",
              "    }\n",
              "\n",
              "    [theme=dark] .colab-df-convert:hover {\n",
              "      background-color: #434B5C;\n",
              "      box-shadow: 0px 1px 3px 1px rgba(0, 0, 0, 0.15);\n",
              "      filter: drop-shadow(0px 1px 2px rgba(0, 0, 0, 0.3));\n",
              "      fill: #FFFFFF;\n",
              "    }\n",
              "  </style>\n",
              "\n",
              "      <script>\n",
              "        const buttonEl =\n",
              "          document.querySelector('#df-a364fbfc-2479-468a-a5e4-2952478f21e7 button.colab-df-convert');\n",
              "        buttonEl.style.display =\n",
              "          google.colab.kernel.accessAllowed ? 'block' : 'none';\n",
              "\n",
              "        async function convertToInteractive(key) {\n",
              "          const element = document.querySelector('#df-a364fbfc-2479-468a-a5e4-2952478f21e7');\n",
              "          const dataTable =\n",
              "            await google.colab.kernel.invokeFunction('convertToInteractive',\n",
              "                                                     [key], {});\n",
              "          if (!dataTable) return;\n",
              "\n",
              "          const docLinkHtml = 'Like what you see? Visit the ' +\n",
              "            '<a target=\"_blank\" href=https://colab.research.google.com/notebooks/data_table.ipynb>data table notebook</a>'\n",
              "            + ' to learn more about interactive tables.';\n",
              "          element.innerHTML = '';\n",
              "          dataTable['output_type'] = 'display_data';\n",
              "          await google.colab.output.renderOutput(dataTable, element);\n",
              "          const docLink = document.createElement('div');\n",
              "          docLink.innerHTML = docLinkHtml;\n",
              "          element.appendChild(docLink);\n",
              "        }\n",
              "      </script>\n",
              "    </div>\n",
              "  </div>\n",
              "  "
            ],
            "text/plain": [
              "                                JOB_TITLE  job-title\n",
              "0                    State representative      711.0\n",
              "1                          State delegate      709.0\n",
              "2                               President      527.0\n",
              "5              Wisconsin Assembly speaker      808.0\n",
              "7                               President      527.0\n",
              "..                                    ...        ...\n",
              "112                 Political commentator      517.0\n",
              "113                   U.S. Representative      761.0\n",
              "114                             President      527.0\n",
              "116  State Assembly member, 78th District      673.0\n",
              "118                          U.S. senator      782.0\n",
              "\n",
              "[84 rows x 2 columns]"
            ]
          },
          "metadata": {},
          "execution_count": 22
        }
      ],
      "source": [
        "ord_enc = OrdinalEncoder()\n",
        "data[\"job-title\"] = ord_enc.fit_transform(data[[\"JOB_TITLE\"]])\n",
        "data[[\"JOB_TITLE\", \"job-title\"]].head(84)"
      ]
    },
    {
      "cell_type": "markdown",
      "metadata": {
        "id": "V-pV8PcJxZS-"
      },
      "source": [
        "### **STATE**"
      ]
    },
    {
      "cell_type": "code",
      "execution_count": null,
      "metadata": {
        "colab": {
          "base_uri": "https://localhost:8080/"
        },
        "id": "lKfajJ6BwsvV",
        "outputId": "fdb30f7a-82e6-446c-ddf5-426ee368e293"
      },
      "outputs": [
        {
          "output_type": "execute_result",
          "data": {
            "text/plain": [
              "Texas              938\n",
              "New York           635\n",
              "Florida            601\n",
              "Wisconsin          557\n",
              "Illinois           537\n",
              "                  ... \n",
              "China                1\n",
              "Tex                  1\n",
              "Russia               1\n",
              "ohio                 1\n",
              "Washington D.C.      1\n",
              "Name: STATE, Length: 77, dtype: int64"
            ]
          },
          "metadata": {},
          "execution_count": 23
        }
      ],
      "source": [
        "data[\"STATE\"].value_counts()"
      ]
    },
    {
      "cell_type": "code",
      "execution_count": null,
      "metadata": {
        "colab": {
          "base_uri": "https://localhost:8080/"
        },
        "id": "VVGWBfm9w3BM",
        "outputId": "2befaf90-e6eb-46d0-f7ea-0dc8afaf526a"
      },
      "outputs": [
        {
          "output_type": "execute_result",
          "data": {
            "text/plain": [
              "array(['Texas', 'Virginia', 'Illinois', 'Wisconsin', 'New Jersey',\n",
              "       'Vermont', 'Massachusetts', 'Maryland', 'Washington, D.C. ',\n",
              "       'Oregon', 'New York', 'Washington, D.C.', 'California', 'Missouri',\n",
              "       'Rhode Island', 'West Virginia', 'Florida', 'Arkansas',\n",
              "       'New Hampshire', 'Ohio', 'Georgia', 'Arizona', 'Wyoming',\n",
              "       'Delaware', 'Kentucky', 'Kansas', 'ohio', 'North Carolina',\n",
              "       'New Mexico', 'Illinois ', 'South Carolina', 'Minnesota',\n",
              "       'Tennessee', 'Iowa', 'Connecticut', 'Louisiana', 'Indiana',\n",
              "       'Florida ', 'Colorado', 'Utah', 'Pennsylvania', 'Michigan',\n",
              "       'Oklahoma', 'Nevada', 'Virgina', 'Nebraska', 'Georgia ', 'None',\n",
              "       'Massachusetts ', 'Russia', 'Washington state', 'Washington',\n",
              "       'District of Columbia', 'Alaska', 'Unknown', 'Mississippi',\n",
              "       'Alabama', 'China', 'United Kingdom', 'Virginia ', 'Colorado ',\n",
              "       'South Dakota', 'Qatar', 'North Dakota', 'Idaho', 'Maine',\n",
              "       'New York ', 'Virginia director, Coalition to Stop Gun Violence',\n",
              "       'Virgiia', 'Hawaii', 'Atlanta', 'Tennesse', 'Washington DC',\n",
              "       'Washington D.C.', 'Wisconsin ', 'PA - Pennsylvania', 'Tex'],\n",
              "      dtype=object)"
            ]
          },
          "metadata": {},
          "execution_count": 24
        }
      ],
      "source": [
        "data[\"STATE\"].unique()"
      ]
    },
    {
      "cell_type": "code",
      "execution_count": null,
      "metadata": {
        "colab": {
          "base_uri": "https://localhost:8080/",
          "height": 423
        },
        "id": "MANQYJcaw8SD",
        "outputId": "67f2794e-d23f-426f-daef-0885d86a02d9"
      },
      "outputs": [
        {
          "output_type": "execute_result",
          "data": {
            "text/html": [
              "\n",
              "  <div id=\"df-a36de7fd-3b5a-4ac0-9e45-51a62c43a32a\">\n",
              "    <div class=\"colab-df-container\">\n",
              "      <div>\n",
              "<style scoped>\n",
              "    .dataframe tbody tr th:only-of-type {\n",
              "        vertical-align: middle;\n",
              "    }\n",
              "\n",
              "    .dataframe tbody tr th {\n",
              "        vertical-align: top;\n",
              "    }\n",
              "\n",
              "    .dataframe thead th {\n",
              "        text-align: right;\n",
              "    }\n",
              "</style>\n",
              "<table border=\"1\" class=\"dataframe\">\n",
              "  <thead>\n",
              "    <tr style=\"text-align: right;\">\n",
              "      <th></th>\n",
              "      <th>STATE</th>\n",
              "      <th>state</th>\n",
              "    </tr>\n",
              "  </thead>\n",
              "  <tbody>\n",
              "    <tr>\n",
              "      <th>0</th>\n",
              "      <td>Texas</td>\n",
              "      <td>56.0</td>\n",
              "    </tr>\n",
              "    <tr>\n",
              "      <th>1</th>\n",
              "      <td>Virginia</td>\n",
              "      <td>63.0</td>\n",
              "    </tr>\n",
              "    <tr>\n",
              "      <th>2</th>\n",
              "      <td>Illinois</td>\n",
              "      <td>18.0</td>\n",
              "    </tr>\n",
              "    <tr>\n",
              "      <th>5</th>\n",
              "      <td>Wisconsin</td>\n",
              "      <td>73.0</td>\n",
              "    </tr>\n",
              "    <tr>\n",
              "      <th>7</th>\n",
              "      <td>Illinois</td>\n",
              "      <td>18.0</td>\n",
              "    </tr>\n",
              "    <tr>\n",
              "      <th>...</th>\n",
              "      <td>...</td>\n",
              "      <td>...</td>\n",
              "    </tr>\n",
              "    <tr>\n",
              "      <th>112</th>\n",
              "      <td>Washington, D.C.</td>\n",
              "      <td>70.0</td>\n",
              "    </tr>\n",
              "    <tr>\n",
              "      <th>113</th>\n",
              "      <td>Wisconsin</td>\n",
              "      <td>73.0</td>\n",
              "    </tr>\n",
              "    <tr>\n",
              "      <th>114</th>\n",
              "      <td>Illinois</td>\n",
              "      <td>18.0</td>\n",
              "    </tr>\n",
              "    <tr>\n",
              "      <th>116</th>\n",
              "      <td>Wisconsin</td>\n",
              "      <td>73.0</td>\n",
              "    </tr>\n",
              "    <tr>\n",
              "      <th>118</th>\n",
              "      <td>Delaware</td>\n",
              "      <td>10.0</td>\n",
              "    </tr>\n",
              "  </tbody>\n",
              "</table>\n",
              "<p>84 rows × 2 columns</p>\n",
              "</div>\n",
              "      <button class=\"colab-df-convert\" onclick=\"convertToInteractive('df-a36de7fd-3b5a-4ac0-9e45-51a62c43a32a')\"\n",
              "              title=\"Convert this dataframe to an interactive table.\"\n",
              "              style=\"display:none;\">\n",
              "        \n",
              "  <svg xmlns=\"http://www.w3.org/2000/svg\" height=\"24px\"viewBox=\"0 0 24 24\"\n",
              "       width=\"24px\">\n",
              "    <path d=\"M0 0h24v24H0V0z\" fill=\"none\"/>\n",
              "    <path d=\"M18.56 5.44l.94 2.06.94-2.06 2.06-.94-2.06-.94-.94-2.06-.94 2.06-2.06.94zm-11 1L8.5 8.5l.94-2.06 2.06-.94-2.06-.94L8.5 2.5l-.94 2.06-2.06.94zm10 10l.94 2.06.94-2.06 2.06-.94-2.06-.94-.94-2.06-.94 2.06-2.06.94z\"/><path d=\"M17.41 7.96l-1.37-1.37c-.4-.4-.92-.59-1.43-.59-.52 0-1.04.2-1.43.59L10.3 9.45l-7.72 7.72c-.78.78-.78 2.05 0 2.83L4 21.41c.39.39.9.59 1.41.59.51 0 1.02-.2 1.41-.59l7.78-7.78 2.81-2.81c.8-.78.8-2.07 0-2.86zM5.41 20L4 18.59l7.72-7.72 1.47 1.35L5.41 20z\"/>\n",
              "  </svg>\n",
              "      </button>\n",
              "      \n",
              "  <style>\n",
              "    .colab-df-container {\n",
              "      display:flex;\n",
              "      flex-wrap:wrap;\n",
              "      gap: 12px;\n",
              "    }\n",
              "\n",
              "    .colab-df-convert {\n",
              "      background-color: #E8F0FE;\n",
              "      border: none;\n",
              "      border-radius: 50%;\n",
              "      cursor: pointer;\n",
              "      display: none;\n",
              "      fill: #1967D2;\n",
              "      height: 32px;\n",
              "      padding: 0 0 0 0;\n",
              "      width: 32px;\n",
              "    }\n",
              "\n",
              "    .colab-df-convert:hover {\n",
              "      background-color: #E2EBFA;\n",
              "      box-shadow: 0px 1px 2px rgba(60, 64, 67, 0.3), 0px 1px 3px 1px rgba(60, 64, 67, 0.15);\n",
              "      fill: #174EA6;\n",
              "    }\n",
              "\n",
              "    [theme=dark] .colab-df-convert {\n",
              "      background-color: #3B4455;\n",
              "      fill: #D2E3FC;\n",
              "    }\n",
              "\n",
              "    [theme=dark] .colab-df-convert:hover {\n",
              "      background-color: #434B5C;\n",
              "      box-shadow: 0px 1px 3px 1px rgba(0, 0, 0, 0.15);\n",
              "      filter: drop-shadow(0px 1px 2px rgba(0, 0, 0, 0.3));\n",
              "      fill: #FFFFFF;\n",
              "    }\n",
              "  </style>\n",
              "\n",
              "      <script>\n",
              "        const buttonEl =\n",
              "          document.querySelector('#df-a36de7fd-3b5a-4ac0-9e45-51a62c43a32a button.colab-df-convert');\n",
              "        buttonEl.style.display =\n",
              "          google.colab.kernel.accessAllowed ? 'block' : 'none';\n",
              "\n",
              "        async function convertToInteractive(key) {\n",
              "          const element = document.querySelector('#df-a36de7fd-3b5a-4ac0-9e45-51a62c43a32a');\n",
              "          const dataTable =\n",
              "            await google.colab.kernel.invokeFunction('convertToInteractive',\n",
              "                                                     [key], {});\n",
              "          if (!dataTable) return;\n",
              "\n",
              "          const docLinkHtml = 'Like what you see? Visit the ' +\n",
              "            '<a target=\"_blank\" href=https://colab.research.google.com/notebooks/data_table.ipynb>data table notebook</a>'\n",
              "            + ' to learn more about interactive tables.';\n",
              "          element.innerHTML = '';\n",
              "          dataTable['output_type'] = 'display_data';\n",
              "          await google.colab.output.renderOutput(dataTable, element);\n",
              "          const docLink = document.createElement('div');\n",
              "          docLink.innerHTML = docLinkHtml;\n",
              "          element.appendChild(docLink);\n",
              "        }\n",
              "      </script>\n",
              "    </div>\n",
              "  </div>\n",
              "  "
            ],
            "text/plain": [
              "                STATE  state\n",
              "0               Texas   56.0\n",
              "1            Virginia   63.0\n",
              "2            Illinois   18.0\n",
              "5           Wisconsin   73.0\n",
              "7            Illinois   18.0\n",
              "..                ...    ...\n",
              "112  Washington, D.C.   70.0\n",
              "113         Wisconsin   73.0\n",
              "114          Illinois   18.0\n",
              "116         Wisconsin   73.0\n",
              "118          Delaware   10.0\n",
              "\n",
              "[84 rows x 2 columns]"
            ]
          },
          "metadata": {},
          "execution_count": 25
        }
      ],
      "source": [
        "ord_enc = OrdinalEncoder()\n",
        "data[\"state\"] = ord_enc.fit_transform(data[[\"STATE\"]])\n",
        "data[[\"STATE\", \"state\"]].head(84)"
      ]
    },
    {
      "cell_type": "markdown",
      "metadata": {
        "id": "khVNl4rWxq12"
      },
      "source": [
        "### **PARTY_AFFILIATION**"
      ]
    },
    {
      "cell_type": "code",
      "execution_count": null,
      "metadata": {
        "colab": {
          "base_uri": "https://localhost:8080/"
        },
        "id": "wtjbpdOrwyqp",
        "outputId": "ab43b2cf-910a-44ff-e4af-1a4cdcb6ae5e"
      },
      "outputs": [
        {
          "output_type": "execute_result",
          "data": {
            "text/plain": [
              "republican                      3394\n",
              "democrat                        2614\n",
              "none                             369\n",
              "independent                      125\n",
              "newsmaker                         34\n",
              "libertarian                       31\n",
              "columnist                         29\n",
              "activist                          26\n",
              "journalist                        23\n",
              "organization                      23\n",
              "talk-show-host                    15\n",
              "state-official                    14\n",
              "labor-leader                      10\n",
              "business-leader                    6\n",
              "tea-party-member                   4\n",
              "green                              3\n",
              "constitution-party                 1\n",
              "ocean-state-tea-party-action       1\n",
              "education-official                 1\n",
              "democratic-farmer-labor            1\n",
              "Name: PARTY_AFFILIATION, dtype: int64"
            ]
          },
          "metadata": {},
          "execution_count": 26
        }
      ],
      "source": [
        "data[\"PARTY_AFFILIATION\"].value_counts()"
      ]
    },
    {
      "cell_type": "code",
      "execution_count": null,
      "metadata": {
        "colab": {
          "base_uri": "https://localhost:8080/"
        },
        "id": "Sq_xg7tew4Bx",
        "outputId": "185a6c64-4fe3-4c83-803f-6d37f3bdd308"
      },
      "outputs": [
        {
          "output_type": "execute_result",
          "data": {
            "text/plain": [
              "array(['republican', 'democrat', 'independent', 'columnist', 'none',\n",
              "       'activist', 'talk-show-host', 'libertarian', 'newsmaker',\n",
              "       'organization', 'labor-leader', 'state-official', 'journalist',\n",
              "       'education-official', 'business-leader', 'tea-party-member',\n",
              "       'green', 'democratic-farmer-labor', 'ocean-state-tea-party-action',\n",
              "       'constitution-party'], dtype=object)"
            ]
          },
          "metadata": {},
          "execution_count": 27
        }
      ],
      "source": [
        "data[\"PARTY_AFFILIATION\"].unique()"
      ]
    },
    {
      "cell_type": "code",
      "execution_count": null,
      "metadata": {
        "colab": {
          "base_uri": "https://localhost:8080/"
        },
        "id": "cg6N596yw990",
        "outputId": "dbe9d244-2c26-402f-b0fc-3c4ee4c6a54c"
      },
      "outputs": [
        {
          "output_type": "execute_result",
          "data": {
            "text/html": [
              "\n",
              "  <div id=\"df-b1343039-27f4-40bc-85ae-24efd158c941\">\n",
              "    <div class=\"colab-df-container\">\n",
              "      <div>\n",
              "<style scoped>\n",
              "    .dataframe tbody tr th:only-of-type {\n",
              "        vertical-align: middle;\n",
              "    }\n",
              "\n",
              "    .dataframe tbody tr th {\n",
              "        vertical-align: top;\n",
              "    }\n",
              "\n",
              "    .dataframe thead th {\n",
              "        text-align: right;\n",
              "    }\n",
              "</style>\n",
              "<table border=\"1\" class=\"dataframe\">\n",
              "  <thead>\n",
              "    <tr style=\"text-align: right;\">\n",
              "      <th></th>\n",
              "      <th>PARTY_AFFILIATION</th>\n",
              "      <th>party</th>\n",
              "    </tr>\n",
              "  </thead>\n",
              "  <tbody>\n",
              "    <tr>\n",
              "      <th>0</th>\n",
              "      <td>republican</td>\n",
              "      <td>16.0</td>\n",
              "    </tr>\n",
              "    <tr>\n",
              "      <th>1</th>\n",
              "      <td>democrat</td>\n",
              "      <td>4.0</td>\n",
              "    </tr>\n",
              "    <tr>\n",
              "      <th>2</th>\n",
              "      <td>democrat</td>\n",
              "      <td>4.0</td>\n",
              "    </tr>\n",
              "    <tr>\n",
              "      <th>5</th>\n",
              "      <td>republican</td>\n",
              "      <td>16.0</td>\n",
              "    </tr>\n",
              "    <tr>\n",
              "      <th>7</th>\n",
              "      <td>democrat</td>\n",
              "      <td>4.0</td>\n",
              "    </tr>\n",
              "    <tr>\n",
              "      <th>...</th>\n",
              "      <td>...</td>\n",
              "      <td>...</td>\n",
              "    </tr>\n",
              "    <tr>\n",
              "      <th>112</th>\n",
              "      <td>democrat</td>\n",
              "      <td>4.0</td>\n",
              "    </tr>\n",
              "    <tr>\n",
              "      <th>113</th>\n",
              "      <td>republican</td>\n",
              "      <td>16.0</td>\n",
              "    </tr>\n",
              "    <tr>\n",
              "      <th>114</th>\n",
              "      <td>democrat</td>\n",
              "      <td>4.0</td>\n",
              "    </tr>\n",
              "    <tr>\n",
              "      <th>116</th>\n",
              "      <td>democrat</td>\n",
              "      <td>4.0</td>\n",
              "    </tr>\n",
              "    <tr>\n",
              "      <th>118</th>\n",
              "      <td>democrat</td>\n",
              "      <td>4.0</td>\n",
              "    </tr>\n",
              "  </tbody>\n",
              "</table>\n",
              "<p>84 rows × 2 columns</p>\n",
              "</div>\n",
              "      <button class=\"colab-df-convert\" onclick=\"convertToInteractive('df-b1343039-27f4-40bc-85ae-24efd158c941')\"\n",
              "              title=\"Convert this dataframe to an interactive table.\"\n",
              "              style=\"display:none;\">\n",
              "        \n",
              "  <svg xmlns=\"http://www.w3.org/2000/svg\" height=\"24px\"viewBox=\"0 0 24 24\"\n",
              "       width=\"24px\">\n",
              "    <path d=\"M0 0h24v24H0V0z\" fill=\"none\"/>\n",
              "    <path d=\"M18.56 5.44l.94 2.06.94-2.06 2.06-.94-2.06-.94-.94-2.06-.94 2.06-2.06.94zm-11 1L8.5 8.5l.94-2.06 2.06-.94-2.06-.94L8.5 2.5l-.94 2.06-2.06.94zm10 10l.94 2.06.94-2.06 2.06-.94-2.06-.94-.94-2.06-.94 2.06-2.06.94z\"/><path d=\"M17.41 7.96l-1.37-1.37c-.4-.4-.92-.59-1.43-.59-.52 0-1.04.2-1.43.59L10.3 9.45l-7.72 7.72c-.78.78-.78 2.05 0 2.83L4 21.41c.39.39.9.59 1.41.59.51 0 1.02-.2 1.41-.59l7.78-7.78 2.81-2.81c.8-.78.8-2.07 0-2.86zM5.41 20L4 18.59l7.72-7.72 1.47 1.35L5.41 20z\"/>\n",
              "  </svg>\n",
              "      </button>\n",
              "      \n",
              "  <style>\n",
              "    .colab-df-container {\n",
              "      display:flex;\n",
              "      flex-wrap:wrap;\n",
              "      gap: 12px;\n",
              "    }\n",
              "\n",
              "    .colab-df-convert {\n",
              "      background-color: #E8F0FE;\n",
              "      border: none;\n",
              "      border-radius: 50%;\n",
              "      cursor: pointer;\n",
              "      display: none;\n",
              "      fill: #1967D2;\n",
              "      height: 32px;\n",
              "      padding: 0 0 0 0;\n",
              "      width: 32px;\n",
              "    }\n",
              "\n",
              "    .colab-df-convert:hover {\n",
              "      background-color: #E2EBFA;\n",
              "      box-shadow: 0px 1px 2px rgba(60, 64, 67, 0.3), 0px 1px 3px 1px rgba(60, 64, 67, 0.15);\n",
              "      fill: #174EA6;\n",
              "    }\n",
              "\n",
              "    [theme=dark] .colab-df-convert {\n",
              "      background-color: #3B4455;\n",
              "      fill: #D2E3FC;\n",
              "    }\n",
              "\n",
              "    [theme=dark] .colab-df-convert:hover {\n",
              "      background-color: #434B5C;\n",
              "      box-shadow: 0px 1px 3px 1px rgba(0, 0, 0, 0.15);\n",
              "      filter: drop-shadow(0px 1px 2px rgba(0, 0, 0, 0.3));\n",
              "      fill: #FFFFFF;\n",
              "    }\n",
              "  </style>\n",
              "\n",
              "      <script>\n",
              "        const buttonEl =\n",
              "          document.querySelector('#df-b1343039-27f4-40bc-85ae-24efd158c941 button.colab-df-convert');\n",
              "        buttonEl.style.display =\n",
              "          google.colab.kernel.accessAllowed ? 'block' : 'none';\n",
              "\n",
              "        async function convertToInteractive(key) {\n",
              "          const element = document.querySelector('#df-b1343039-27f4-40bc-85ae-24efd158c941');\n",
              "          const dataTable =\n",
              "            await google.colab.kernel.invokeFunction('convertToInteractive',\n",
              "                                                     [key], {});\n",
              "          if (!dataTable) return;\n",
              "\n",
              "          const docLinkHtml = 'Like what you see? Visit the ' +\n",
              "            '<a target=\"_blank\" href=https://colab.research.google.com/notebooks/data_table.ipynb>data table notebook</a>'\n",
              "            + ' to learn more about interactive tables.';\n",
              "          element.innerHTML = '';\n",
              "          dataTable['output_type'] = 'display_data';\n",
              "          await google.colab.output.renderOutput(dataTable, element);\n",
              "          const docLink = document.createElement('div');\n",
              "          docLink.innerHTML = docLinkHtml;\n",
              "          element.appendChild(docLink);\n",
              "        }\n",
              "      </script>\n",
              "    </div>\n",
              "  </div>\n",
              "  "
            ],
            "text/plain": [
              "    PARTY_AFFILIATION  party\n",
              "0          republican   16.0\n",
              "1            democrat    4.0\n",
              "2            democrat    4.0\n",
              "5          republican   16.0\n",
              "7            democrat    4.0\n",
              "..                ...    ...\n",
              "112          democrat    4.0\n",
              "113        republican   16.0\n",
              "114          democrat    4.0\n",
              "116          democrat    4.0\n",
              "118          democrat    4.0\n",
              "\n",
              "[84 rows x 2 columns]"
            ]
          },
          "metadata": {},
          "execution_count": 28
        }
      ],
      "source": [
        "ord_enc = OrdinalEncoder()\n",
        "data[\"party\"] = ord_enc.fit_transform(data[[\"PARTY_AFFILIATION\"]])\n",
        "data[[\"PARTY_AFFILIATION\", \"party\"]].head(84)"
      ]
    },
    {
      "cell_type": "markdown",
      "metadata": {
        "id": "je4ffg1WxtSH"
      },
      "source": [
        "### **Context/Venue/Location**"
      ]
    },
    {
      "cell_type": "code",
      "execution_count": null,
      "metadata": {
        "colab": {
          "base_uri": "https://localhost:8080/"
        },
        "id": "SFs5s3ZAwzKY",
        "outputId": "92009706-5d49-4ed2-9fcf-ad10a3233c1f"
      },
      "outputs": [
        {
          "output_type": "execute_result",
          "data": {
            "text/plain": [
              "a speech                                                168\n",
              "an interview                                            161\n",
              "a press release                                         136\n",
              "a news release                                          128\n",
              "a tweet                                                 115\n",
              "                                                       ... \n",
              "legal filings                                             1\n",
              "an interview on CBS's Face the Nation                     1\n",
              "an Austin City Council meeting about the city budget      1\n",
              "in an interview on \"This Week.\"                           1\n",
              "a speech to the American Legion                           1\n",
              "Name: Context/Venue/Location, Length: 3083, dtype: int64"
            ]
          },
          "metadata": {},
          "execution_count": 29
        }
      ],
      "source": [
        "data[\"Context/Venue/Location\"].value_counts()"
      ]
    },
    {
      "cell_type": "code",
      "execution_count": null,
      "metadata": {
        "colab": {
          "base_uri": "https://localhost:8080/"
        },
        "id": "___rNw0Lw402",
        "outputId": "b5045c19-0c7a-4a64-9b2d-10765d5ae878"
      },
      "outputs": [
        {
          "output_type": "execute_result",
          "data": {
            "text/plain": [
              "array(['a mailer', 'a floor speech.', 'Denver', ...,\n",
              "       'an op-ed in the Tampa Bay Times',\n",
              "       'a press gaggle aboard Air Force One.', 'an interview on NJTV'],\n",
              "      dtype=object)"
            ]
          },
          "metadata": {},
          "execution_count": 30
        }
      ],
      "source": [
        "data[\"Context/Venue/Location\"].unique()"
      ]
    },
    {
      "cell_type": "code",
      "execution_count": null,
      "metadata": {
        "colab": {
          "base_uri": "https://localhost:8080/"
        },
        "id": "5ueAMbusw-zC",
        "outputId": "95ab26e9-6d67-4523-b81a-2321072f742c"
      },
      "outputs": [
        {
          "output_type": "execute_result",
          "data": {
            "text/html": [
              "\n",
              "  <div id=\"df-83d7de1f-1883-4827-a100-f68c5b455179\">\n",
              "    <div class=\"colab-df-container\">\n",
              "      <div>\n",
              "<style scoped>\n",
              "    .dataframe tbody tr th:only-of-type {\n",
              "        vertical-align: middle;\n",
              "    }\n",
              "\n",
              "    .dataframe tbody tr th {\n",
              "        vertical-align: top;\n",
              "    }\n",
              "\n",
              "    .dataframe thead th {\n",
              "        text-align: right;\n",
              "    }\n",
              "</style>\n",
              "<table border=\"1\" class=\"dataframe\">\n",
              "  <thead>\n",
              "    <tr style=\"text-align: right;\">\n",
              "      <th></th>\n",
              "      <th>Context/Venue/Location</th>\n",
              "      <th>context</th>\n",
              "    </tr>\n",
              "  </thead>\n",
              "  <tbody>\n",
              "    <tr>\n",
              "      <th>0</th>\n",
              "      <td>a mailer</td>\n",
              "      <td>940.0</td>\n",
              "    </tr>\n",
              "    <tr>\n",
              "      <th>1</th>\n",
              "      <td>a floor speech.</td>\n",
              "      <td>818.0</td>\n",
              "    </tr>\n",
              "    <tr>\n",
              "      <th>2</th>\n",
              "      <td>Denver</td>\n",
              "      <td>56.0</td>\n",
              "    </tr>\n",
              "    <tr>\n",
              "      <th>5</th>\n",
              "      <td>a an online opinion-piece</td>\n",
              "      <td>518.0</td>\n",
              "    </tr>\n",
              "    <tr>\n",
              "      <th>7</th>\n",
              "      <td>a Democratic debate in Philadelphia, Pa.</td>\n",
              "      <td>252.0</td>\n",
              "    </tr>\n",
              "    <tr>\n",
              "      <th>...</th>\n",
              "      <td>...</td>\n",
              "      <td>...</td>\n",
              "    </tr>\n",
              "    <tr>\n",
              "      <th>112</th>\n",
              "      <td>comments on CNN's \"State of the Union\"</td>\n",
              "      <td>2535.0</td>\n",
              "    </tr>\n",
              "    <tr>\n",
              "      <th>113</th>\n",
              "      <td>a vice presidential debate</td>\n",
              "      <td>1711.0</td>\n",
              "    </tr>\n",
              "    <tr>\n",
              "      <th>114</th>\n",
              "      <td>the State of the Union address</td>\n",
              "      <td>3021.0</td>\n",
              "    </tr>\n",
              "    <tr>\n",
              "      <th>116</th>\n",
              "      <td>a statement</td>\n",
              "      <td>1563.0</td>\n",
              "    </tr>\n",
              "    <tr>\n",
              "      <th>118</th>\n",
              "      <td>Philadelphia</td>\n",
              "      <td>145.0</td>\n",
              "    </tr>\n",
              "  </tbody>\n",
              "</table>\n",
              "<p>84 rows × 2 columns</p>\n",
              "</div>\n",
              "      <button class=\"colab-df-convert\" onclick=\"convertToInteractive('df-83d7de1f-1883-4827-a100-f68c5b455179')\"\n",
              "              title=\"Convert this dataframe to an interactive table.\"\n",
              "              style=\"display:none;\">\n",
              "        \n",
              "  <svg xmlns=\"http://www.w3.org/2000/svg\" height=\"24px\"viewBox=\"0 0 24 24\"\n",
              "       width=\"24px\">\n",
              "    <path d=\"M0 0h24v24H0V0z\" fill=\"none\"/>\n",
              "    <path d=\"M18.56 5.44l.94 2.06.94-2.06 2.06-.94-2.06-.94-.94-2.06-.94 2.06-2.06.94zm-11 1L8.5 8.5l.94-2.06 2.06-.94-2.06-.94L8.5 2.5l-.94 2.06-2.06.94zm10 10l.94 2.06.94-2.06 2.06-.94-2.06-.94-.94-2.06-.94 2.06-2.06.94z\"/><path d=\"M17.41 7.96l-1.37-1.37c-.4-.4-.92-.59-1.43-.59-.52 0-1.04.2-1.43.59L10.3 9.45l-7.72 7.72c-.78.78-.78 2.05 0 2.83L4 21.41c.39.39.9.59 1.41.59.51 0 1.02-.2 1.41-.59l7.78-7.78 2.81-2.81c.8-.78.8-2.07 0-2.86zM5.41 20L4 18.59l7.72-7.72 1.47 1.35L5.41 20z\"/>\n",
              "  </svg>\n",
              "      </button>\n",
              "      \n",
              "  <style>\n",
              "    .colab-df-container {\n",
              "      display:flex;\n",
              "      flex-wrap:wrap;\n",
              "      gap: 12px;\n",
              "    }\n",
              "\n",
              "    .colab-df-convert {\n",
              "      background-color: #E8F0FE;\n",
              "      border: none;\n",
              "      border-radius: 50%;\n",
              "      cursor: pointer;\n",
              "      display: none;\n",
              "      fill: #1967D2;\n",
              "      height: 32px;\n",
              "      padding: 0 0 0 0;\n",
              "      width: 32px;\n",
              "    }\n",
              "\n",
              "    .colab-df-convert:hover {\n",
              "      background-color: #E2EBFA;\n",
              "      box-shadow: 0px 1px 2px rgba(60, 64, 67, 0.3), 0px 1px 3px 1px rgba(60, 64, 67, 0.15);\n",
              "      fill: #174EA6;\n",
              "    }\n",
              "\n",
              "    [theme=dark] .colab-df-convert {\n",
              "      background-color: #3B4455;\n",
              "      fill: #D2E3FC;\n",
              "    }\n",
              "\n",
              "    [theme=dark] .colab-df-convert:hover {\n",
              "      background-color: #434B5C;\n",
              "      box-shadow: 0px 1px 3px 1px rgba(0, 0, 0, 0.15);\n",
              "      filter: drop-shadow(0px 1px 2px rgba(0, 0, 0, 0.3));\n",
              "      fill: #FFFFFF;\n",
              "    }\n",
              "  </style>\n",
              "\n",
              "      <script>\n",
              "        const buttonEl =\n",
              "          document.querySelector('#df-83d7de1f-1883-4827-a100-f68c5b455179 button.colab-df-convert');\n",
              "        buttonEl.style.display =\n",
              "          google.colab.kernel.accessAllowed ? 'block' : 'none';\n",
              "\n",
              "        async function convertToInteractive(key) {\n",
              "          const element = document.querySelector('#df-83d7de1f-1883-4827-a100-f68c5b455179');\n",
              "          const dataTable =\n",
              "            await google.colab.kernel.invokeFunction('convertToInteractive',\n",
              "                                                     [key], {});\n",
              "          if (!dataTable) return;\n",
              "\n",
              "          const docLinkHtml = 'Like what you see? Visit the ' +\n",
              "            '<a target=\"_blank\" href=https://colab.research.google.com/notebooks/data_table.ipynb>data table notebook</a>'\n",
              "            + ' to learn more about interactive tables.';\n",
              "          element.innerHTML = '';\n",
              "          dataTable['output_type'] = 'display_data';\n",
              "          await google.colab.output.renderOutput(dataTable, element);\n",
              "          const docLink = document.createElement('div');\n",
              "          docLink.innerHTML = docLinkHtml;\n",
              "          element.appendChild(docLink);\n",
              "        }\n",
              "      </script>\n",
              "    </div>\n",
              "  </div>\n",
              "  "
            ],
            "text/plain": [
              "                       Context/Venue/Location  context\n",
              "0                                    a mailer    940.0\n",
              "1                             a floor speech.    818.0\n",
              "2                                      Denver     56.0\n",
              "5                   a an online opinion-piece    518.0\n",
              "7    a Democratic debate in Philadelphia, Pa.    252.0\n",
              "..                                        ...      ...\n",
              "112    comments on CNN's \"State of the Union\"   2535.0\n",
              "113                a vice presidential debate   1711.0\n",
              "114            the State of the Union address   3021.0\n",
              "116                               a statement   1563.0\n",
              "118                              Philadelphia    145.0\n",
              "\n",
              "[84 rows x 2 columns]"
            ]
          },
          "metadata": {},
          "execution_count": 31
        }
      ],
      "source": [
        "ord_enc = OrdinalEncoder()\n",
        "data[\"context\"] = ord_enc.fit_transform(data[[\"Context/Venue/Location\"]])\n",
        "data[[\"Context/Venue/Location\", \"context\"]].head(84)"
      ]
    },
    {
      "cell_type": "markdown",
      "metadata": {
        "id": "vFbjI4KozC2M"
      },
      "source": [
        "## **Removing Categorical Variables form data as we have their Numerical Form**"
      ]
    },
    {
      "cell_type": "code",
      "execution_count": null,
      "metadata": {
        "colab": {
          "base_uri": "https://localhost:8080/"
        },
        "id": "ep_rgEVBy9DX",
        "outputId": "5bdd15be-c6be-4ec6-8d99-3ba568ecb674"
      },
      "outputs": [
        {
          "output_type": "execute_result",
          "data": {
            "text/html": [
              "\n",
              "  <div id=\"df-2429858a-e17f-4e9f-8c22-d775ced7b830\">\n",
              "    <div class=\"colab-df-container\">\n",
              "      <div>\n",
              "<style scoped>\n",
              "    .dataframe tbody tr th:only-of-type {\n",
              "        vertical-align: middle;\n",
              "    }\n",
              "\n",
              "    .dataframe tbody tr th {\n",
              "        vertical-align: top;\n",
              "    }\n",
              "\n",
              "    .dataframe thead th {\n",
              "        text-align: right;\n",
              "    }\n",
              "</style>\n",
              "<table border=\"1\" class=\"dataframe\">\n",
              "  <thead>\n",
              "    <tr style=\"text-align: right;\">\n",
              "      <th></th>\n",
              "      <th>LABEL</th>\n",
              "      <th>STATEMENT</th>\n",
              "      <th>SUBJECT</th>\n",
              "      <th>SPEAKER</th>\n",
              "      <th>JOB_TITLE</th>\n",
              "      <th>STATE</th>\n",
              "      <th>PARTY_AFFILIATION</th>\n",
              "      <th>Context/Venue/Location</th>\n",
              "      <th>BARELY_TRUE</th>\n",
              "      <th>False</th>\n",
              "      <th>HALF_TRUE</th>\n",
              "      <th>MOSTLY_TRUE</th>\n",
              "      <th>PANTS_FIRE</th>\n",
              "      <th>subject</th>\n",
              "      <th>speaker</th>\n",
              "      <th>job-title</th>\n",
              "      <th>state</th>\n",
              "      <th>party</th>\n",
              "      <th>context</th>\n",
              "    </tr>\n",
              "  </thead>\n",
              "  <tbody>\n",
              "    <tr>\n",
              "      <th>0</th>\n",
              "      <td>0</td>\n",
              "      <td>Says the Annies List political group supports ...</td>\n",
              "      <td>abortion</td>\n",
              "      <td>dwayne-bohac</td>\n",
              "      <td>State representative</td>\n",
              "      <td>Texas</td>\n",
              "      <td>republican</td>\n",
              "      <td>a mailer</td>\n",
              "      <td>0.0</td>\n",
              "      <td>1.0</td>\n",
              "      <td>0.0</td>\n",
              "      <td>0.0</td>\n",
              "      <td>0.0</td>\n",
              "      <td>16.0</td>\n",
              "      <td>438.0</td>\n",
              "      <td>711.0</td>\n",
              "      <td>56.0</td>\n",
              "      <td>16.0</td>\n",
              "      <td>940.0</td>\n",
              "    </tr>\n",
              "    <tr>\n",
              "      <th>1</th>\n",
              "      <td>0</td>\n",
              "      <td>When did the decline of coal start? It started...</td>\n",
              "      <td>energy,history,job-accomplishments</td>\n",
              "      <td>scott-surovell</td>\n",
              "      <td>State delegate</td>\n",
              "      <td>Virginia</td>\n",
              "      <td>democrat</td>\n",
              "      <td>a floor speech.</td>\n",
              "      <td>0.0</td>\n",
              "      <td>0.0</td>\n",
              "      <td>1.0</td>\n",
              "      <td>1.0</td>\n",
              "      <td>0.0</td>\n",
              "      <td>1792.0</td>\n",
              "      <td>1404.0</td>\n",
              "      <td>709.0</td>\n",
              "      <td>63.0</td>\n",
              "      <td>4.0</td>\n",
              "      <td>818.0</td>\n",
              "    </tr>\n",
              "    <tr>\n",
              "      <th>2</th>\n",
              "      <td>1</td>\n",
              "      <td>Hillary Clinton agrees with John McCain \"by vo...</td>\n",
              "      <td>foreign-policy</td>\n",
              "      <td>barack-obama</td>\n",
              "      <td>President</td>\n",
              "      <td>Illinois</td>\n",
              "      <td>democrat</td>\n",
              "      <td>Denver</td>\n",
              "      <td>70.0</td>\n",
              "      <td>71.0</td>\n",
              "      <td>160.0</td>\n",
              "      <td>163.0</td>\n",
              "      <td>9.0</td>\n",
              "      <td>2001.0</td>\n",
              "      <td>80.0</td>\n",
              "      <td>527.0</td>\n",
              "      <td>18.0</td>\n",
              "      <td>4.0</td>\n",
              "      <td>56.0</td>\n",
              "    </tr>\n",
              "    <tr>\n",
              "      <th>5</th>\n",
              "      <td>1</td>\n",
              "      <td>The Chicago Bears have had more starting quart...</td>\n",
              "      <td>education</td>\n",
              "      <td>robin-vos</td>\n",
              "      <td>Wisconsin Assembly speaker</td>\n",
              "      <td>Wisconsin</td>\n",
              "      <td>republican</td>\n",
              "      <td>a an online opinion-piece</td>\n",
              "      <td>0.0</td>\n",
              "      <td>3.0</td>\n",
              "      <td>2.0</td>\n",
              "      <td>5.0</td>\n",
              "      <td>1.0</td>\n",
              "      <td>1620.0</td>\n",
              "      <td>1335.0</td>\n",
              "      <td>808.0</td>\n",
              "      <td>73.0</td>\n",
              "      <td>16.0</td>\n",
              "      <td>518.0</td>\n",
              "    </tr>\n",
              "    <tr>\n",
              "      <th>7</th>\n",
              "      <td>0</td>\n",
              "      <td>I'm the only person on this stage who has work...</td>\n",
              "      <td>ethics</td>\n",
              "      <td>barack-obama</td>\n",
              "      <td>President</td>\n",
              "      <td>Illinois</td>\n",
              "      <td>democrat</td>\n",
              "      <td>a Democratic debate in Philadelphia, Pa.</td>\n",
              "      <td>70.0</td>\n",
              "      <td>71.0</td>\n",
              "      <td>160.0</td>\n",
              "      <td>163.0</td>\n",
              "      <td>9.0</td>\n",
              "      <td>1850.0</td>\n",
              "      <td>80.0</td>\n",
              "      <td>527.0</td>\n",
              "      <td>18.0</td>\n",
              "      <td>4.0</td>\n",
              "      <td>252.0</td>\n",
              "    </tr>\n",
              "  </tbody>\n",
              "</table>\n",
              "</div>\n",
              "      <button class=\"colab-df-convert\" onclick=\"convertToInteractive('df-2429858a-e17f-4e9f-8c22-d775ced7b830')\"\n",
              "              title=\"Convert this dataframe to an interactive table.\"\n",
              "              style=\"display:none;\">\n",
              "        \n",
              "  <svg xmlns=\"http://www.w3.org/2000/svg\" height=\"24px\"viewBox=\"0 0 24 24\"\n",
              "       width=\"24px\">\n",
              "    <path d=\"M0 0h24v24H0V0z\" fill=\"none\"/>\n",
              "    <path d=\"M18.56 5.44l.94 2.06.94-2.06 2.06-.94-2.06-.94-.94-2.06-.94 2.06-2.06.94zm-11 1L8.5 8.5l.94-2.06 2.06-.94-2.06-.94L8.5 2.5l-.94 2.06-2.06.94zm10 10l.94 2.06.94-2.06 2.06-.94-2.06-.94-.94-2.06-.94 2.06-2.06.94z\"/><path d=\"M17.41 7.96l-1.37-1.37c-.4-.4-.92-.59-1.43-.59-.52 0-1.04.2-1.43.59L10.3 9.45l-7.72 7.72c-.78.78-.78 2.05 0 2.83L4 21.41c.39.39.9.59 1.41.59.51 0 1.02-.2 1.41-.59l7.78-7.78 2.81-2.81c.8-.78.8-2.07 0-2.86zM5.41 20L4 18.59l7.72-7.72 1.47 1.35L5.41 20z\"/>\n",
              "  </svg>\n",
              "      </button>\n",
              "      \n",
              "  <style>\n",
              "    .colab-df-container {\n",
              "      display:flex;\n",
              "      flex-wrap:wrap;\n",
              "      gap: 12px;\n",
              "    }\n",
              "\n",
              "    .colab-df-convert {\n",
              "      background-color: #E8F0FE;\n",
              "      border: none;\n",
              "      border-radius: 50%;\n",
              "      cursor: pointer;\n",
              "      display: none;\n",
              "      fill: #1967D2;\n",
              "      height: 32px;\n",
              "      padding: 0 0 0 0;\n",
              "      width: 32px;\n",
              "    }\n",
              "\n",
              "    .colab-df-convert:hover {\n",
              "      background-color: #E2EBFA;\n",
              "      box-shadow: 0px 1px 2px rgba(60, 64, 67, 0.3), 0px 1px 3px 1px rgba(60, 64, 67, 0.15);\n",
              "      fill: #174EA6;\n",
              "    }\n",
              "\n",
              "    [theme=dark] .colab-df-convert {\n",
              "      background-color: #3B4455;\n",
              "      fill: #D2E3FC;\n",
              "    }\n",
              "\n",
              "    [theme=dark] .colab-df-convert:hover {\n",
              "      background-color: #434B5C;\n",
              "      box-shadow: 0px 1px 3px 1px rgba(0, 0, 0, 0.15);\n",
              "      filter: drop-shadow(0px 1px 2px rgba(0, 0, 0, 0.3));\n",
              "      fill: #FFFFFF;\n",
              "    }\n",
              "  </style>\n",
              "\n",
              "      <script>\n",
              "        const buttonEl =\n",
              "          document.querySelector('#df-2429858a-e17f-4e9f-8c22-d775ced7b830 button.colab-df-convert');\n",
              "        buttonEl.style.display =\n",
              "          google.colab.kernel.accessAllowed ? 'block' : 'none';\n",
              "\n",
              "        async function convertToInteractive(key) {\n",
              "          const element = document.querySelector('#df-2429858a-e17f-4e9f-8c22-d775ced7b830');\n",
              "          const dataTable =\n",
              "            await google.colab.kernel.invokeFunction('convertToInteractive',\n",
              "                                                     [key], {});\n",
              "          if (!dataTable) return;\n",
              "\n",
              "          const docLinkHtml = 'Like what you see? Visit the ' +\n",
              "            '<a target=\"_blank\" href=https://colab.research.google.com/notebooks/data_table.ipynb>data table notebook</a>'\n",
              "            + ' to learn more about interactive tables.';\n",
              "          element.innerHTML = '';\n",
              "          dataTable['output_type'] = 'display_data';\n",
              "          await google.colab.output.renderOutput(dataTable, element);\n",
              "          const docLink = document.createElement('div');\n",
              "          docLink.innerHTML = docLinkHtml;\n",
              "          element.appendChild(docLink);\n",
              "        }\n",
              "      </script>\n",
              "    </div>\n",
              "  </div>\n",
              "  "
            ],
            "text/plain": [
              "   LABEL                                          STATEMENT  ... party context\n",
              "0      0  Says the Annies List political group supports ...  ...  16.0   940.0\n",
              "1      0  When did the decline of coal start? It started...  ...   4.0   818.0\n",
              "2      1  Hillary Clinton agrees with John McCain \"by vo...  ...   4.0    56.0\n",
              "5      1  The Chicago Bears have had more starting quart...  ...  16.0   518.0\n",
              "7      0  I'm the only person on this stage who has work...  ...   4.0   252.0\n",
              "\n",
              "[5 rows x 19 columns]"
            ]
          },
          "metadata": {},
          "execution_count": 32
        }
      ],
      "source": [
        "data.head()"
      ]
    },
    {
      "cell_type": "code",
      "execution_count": null,
      "metadata": {
        "id": "TkqTJXpSzlm7"
      },
      "outputs": [],
      "source": [
        "data=data.drop(columns=['SUBJECT','SPEAKER','JOB_TITLE','STATE','PARTY_AFFILIATION','Context/Venue/Location'])"
      ]
    },
    {
      "cell_type": "code",
      "execution_count": null,
      "metadata": {
        "colab": {
          "base_uri": "https://localhost:8080/"
        },
        "id": "39dYYIZaztDM",
        "outputId": "dc1d941d-e701-4228-fcd1-ba550b2553fc"
      },
      "outputs": [
        {
          "output_type": "execute_result",
          "data": {
            "text/html": [
              "\n",
              "  <div id=\"df-be123e51-5e09-4004-b643-e218cfec90c1\">\n",
              "    <div class=\"colab-df-container\">\n",
              "      <div>\n",
              "<style scoped>\n",
              "    .dataframe tbody tr th:only-of-type {\n",
              "        vertical-align: middle;\n",
              "    }\n",
              "\n",
              "    .dataframe tbody tr th {\n",
              "        vertical-align: top;\n",
              "    }\n",
              "\n",
              "    .dataframe thead th {\n",
              "        text-align: right;\n",
              "    }\n",
              "</style>\n",
              "<table border=\"1\" class=\"dataframe\">\n",
              "  <thead>\n",
              "    <tr style=\"text-align: right;\">\n",
              "      <th></th>\n",
              "      <th>LABEL</th>\n",
              "      <th>STATEMENT</th>\n",
              "      <th>BARELY_TRUE</th>\n",
              "      <th>False</th>\n",
              "      <th>HALF_TRUE</th>\n",
              "      <th>MOSTLY_TRUE</th>\n",
              "      <th>PANTS_FIRE</th>\n",
              "      <th>subject</th>\n",
              "      <th>speaker</th>\n",
              "      <th>job-title</th>\n",
              "      <th>state</th>\n",
              "      <th>party</th>\n",
              "      <th>context</th>\n",
              "    </tr>\n",
              "  </thead>\n",
              "  <tbody>\n",
              "    <tr>\n",
              "      <th>0</th>\n",
              "      <td>0</td>\n",
              "      <td>Says the Annies List political group supports ...</td>\n",
              "      <td>0.0</td>\n",
              "      <td>1.0</td>\n",
              "      <td>0.0</td>\n",
              "      <td>0.0</td>\n",
              "      <td>0.0</td>\n",
              "      <td>16.0</td>\n",
              "      <td>438.0</td>\n",
              "      <td>711.0</td>\n",
              "      <td>56.0</td>\n",
              "      <td>16.0</td>\n",
              "      <td>940.0</td>\n",
              "    </tr>\n",
              "    <tr>\n",
              "      <th>1</th>\n",
              "      <td>0</td>\n",
              "      <td>When did the decline of coal start? It started...</td>\n",
              "      <td>0.0</td>\n",
              "      <td>0.0</td>\n",
              "      <td>1.0</td>\n",
              "      <td>1.0</td>\n",
              "      <td>0.0</td>\n",
              "      <td>1792.0</td>\n",
              "      <td>1404.0</td>\n",
              "      <td>709.0</td>\n",
              "      <td>63.0</td>\n",
              "      <td>4.0</td>\n",
              "      <td>818.0</td>\n",
              "    </tr>\n",
              "    <tr>\n",
              "      <th>2</th>\n",
              "      <td>1</td>\n",
              "      <td>Hillary Clinton agrees with John McCain \"by vo...</td>\n",
              "      <td>70.0</td>\n",
              "      <td>71.0</td>\n",
              "      <td>160.0</td>\n",
              "      <td>163.0</td>\n",
              "      <td>9.0</td>\n",
              "      <td>2001.0</td>\n",
              "      <td>80.0</td>\n",
              "      <td>527.0</td>\n",
              "      <td>18.0</td>\n",
              "      <td>4.0</td>\n",
              "      <td>56.0</td>\n",
              "    </tr>\n",
              "    <tr>\n",
              "      <th>5</th>\n",
              "      <td>1</td>\n",
              "      <td>The Chicago Bears have had more starting quart...</td>\n",
              "      <td>0.0</td>\n",
              "      <td>3.0</td>\n",
              "      <td>2.0</td>\n",
              "      <td>5.0</td>\n",
              "      <td>1.0</td>\n",
              "      <td>1620.0</td>\n",
              "      <td>1335.0</td>\n",
              "      <td>808.0</td>\n",
              "      <td>73.0</td>\n",
              "      <td>16.0</td>\n",
              "      <td>518.0</td>\n",
              "    </tr>\n",
              "    <tr>\n",
              "      <th>7</th>\n",
              "      <td>0</td>\n",
              "      <td>I'm the only person on this stage who has work...</td>\n",
              "      <td>70.0</td>\n",
              "      <td>71.0</td>\n",
              "      <td>160.0</td>\n",
              "      <td>163.0</td>\n",
              "      <td>9.0</td>\n",
              "      <td>1850.0</td>\n",
              "      <td>80.0</td>\n",
              "      <td>527.0</td>\n",
              "      <td>18.0</td>\n",
              "      <td>4.0</td>\n",
              "      <td>252.0</td>\n",
              "    </tr>\n",
              "  </tbody>\n",
              "</table>\n",
              "</div>\n",
              "      <button class=\"colab-df-convert\" onclick=\"convertToInteractive('df-be123e51-5e09-4004-b643-e218cfec90c1')\"\n",
              "              title=\"Convert this dataframe to an interactive table.\"\n",
              "              style=\"display:none;\">\n",
              "        \n",
              "  <svg xmlns=\"http://www.w3.org/2000/svg\" height=\"24px\"viewBox=\"0 0 24 24\"\n",
              "       width=\"24px\">\n",
              "    <path d=\"M0 0h24v24H0V0z\" fill=\"none\"/>\n",
              "    <path d=\"M18.56 5.44l.94 2.06.94-2.06 2.06-.94-2.06-.94-.94-2.06-.94 2.06-2.06.94zm-11 1L8.5 8.5l.94-2.06 2.06-.94-2.06-.94L8.5 2.5l-.94 2.06-2.06.94zm10 10l.94 2.06.94-2.06 2.06-.94-2.06-.94-.94-2.06-.94 2.06-2.06.94z\"/><path d=\"M17.41 7.96l-1.37-1.37c-.4-.4-.92-.59-1.43-.59-.52 0-1.04.2-1.43.59L10.3 9.45l-7.72 7.72c-.78.78-.78 2.05 0 2.83L4 21.41c.39.39.9.59 1.41.59.51 0 1.02-.2 1.41-.59l7.78-7.78 2.81-2.81c.8-.78.8-2.07 0-2.86zM5.41 20L4 18.59l7.72-7.72 1.47 1.35L5.41 20z\"/>\n",
              "  </svg>\n",
              "      </button>\n",
              "      \n",
              "  <style>\n",
              "    .colab-df-container {\n",
              "      display:flex;\n",
              "      flex-wrap:wrap;\n",
              "      gap: 12px;\n",
              "    }\n",
              "\n",
              "    .colab-df-convert {\n",
              "      background-color: #E8F0FE;\n",
              "      border: none;\n",
              "      border-radius: 50%;\n",
              "      cursor: pointer;\n",
              "      display: none;\n",
              "      fill: #1967D2;\n",
              "      height: 32px;\n",
              "      padding: 0 0 0 0;\n",
              "      width: 32px;\n",
              "    }\n",
              "\n",
              "    .colab-df-convert:hover {\n",
              "      background-color: #E2EBFA;\n",
              "      box-shadow: 0px 1px 2px rgba(60, 64, 67, 0.3), 0px 1px 3px 1px rgba(60, 64, 67, 0.15);\n",
              "      fill: #174EA6;\n",
              "    }\n",
              "\n",
              "    [theme=dark] .colab-df-convert {\n",
              "      background-color: #3B4455;\n",
              "      fill: #D2E3FC;\n",
              "    }\n",
              "\n",
              "    [theme=dark] .colab-df-convert:hover {\n",
              "      background-color: #434B5C;\n",
              "      box-shadow: 0px 1px 3px 1px rgba(0, 0, 0, 0.15);\n",
              "      filter: drop-shadow(0px 1px 2px rgba(0, 0, 0, 0.3));\n",
              "      fill: #FFFFFF;\n",
              "    }\n",
              "  </style>\n",
              "\n",
              "      <script>\n",
              "        const buttonEl =\n",
              "          document.querySelector('#df-be123e51-5e09-4004-b643-e218cfec90c1 button.colab-df-convert');\n",
              "        buttonEl.style.display =\n",
              "          google.colab.kernel.accessAllowed ? 'block' : 'none';\n",
              "\n",
              "        async function convertToInteractive(key) {\n",
              "          const element = document.querySelector('#df-be123e51-5e09-4004-b643-e218cfec90c1');\n",
              "          const dataTable =\n",
              "            await google.colab.kernel.invokeFunction('convertToInteractive',\n",
              "                                                     [key], {});\n",
              "          if (!dataTable) return;\n",
              "\n",
              "          const docLinkHtml = 'Like what you see? Visit the ' +\n",
              "            '<a target=\"_blank\" href=https://colab.research.google.com/notebooks/data_table.ipynb>data table notebook</a>'\n",
              "            + ' to learn more about interactive tables.';\n",
              "          element.innerHTML = '';\n",
              "          dataTable['output_type'] = 'display_data';\n",
              "          await google.colab.output.renderOutput(dataTable, element);\n",
              "          const docLink = document.createElement('div');\n",
              "          docLink.innerHTML = docLinkHtml;\n",
              "          element.appendChild(docLink);\n",
              "        }\n",
              "      </script>\n",
              "    </div>\n",
              "  </div>\n",
              "  "
            ],
            "text/plain": [
              "   LABEL                                          STATEMENT  ...  party  context\n",
              "0      0  Says the Annies List political group supports ...  ...   16.0    940.0\n",
              "1      0  When did the decline of coal start? It started...  ...    4.0    818.0\n",
              "2      1  Hillary Clinton agrees with John McCain \"by vo...  ...    4.0     56.0\n",
              "5      1  The Chicago Bears have had more starting quart...  ...   16.0    518.0\n",
              "7      0  I'm the only person on this stage who has work...  ...    4.0    252.0\n",
              "\n",
              "[5 rows x 13 columns]"
            ]
          },
          "metadata": {},
          "execution_count": 34
        }
      ],
      "source": [
        "data.head()"
      ]
    },
    {
      "cell_type": "markdown",
      "metadata": {
        "id": "kA7cOwgP1o8s"
      },
      "source": [
        "# **Data Analysis**"
      ]
    },
    {
      "cell_type": "code",
      "execution_count": null,
      "metadata": {
        "colab": {
          "base_uri": "https://localhost:8080/"
        },
        "id": "qkeyQxTU7Oo2",
        "outputId": "aba3848b-af73-4ae3-f782-918c19e972a6"
      },
      "outputs": [
        {
          "output_type": "execute_result",
          "data": {
            "text/plain": [
              "LABEL\n",
              "0    4207\n",
              "1    2517\n",
              "dtype: int64"
            ]
          },
          "metadata": {},
          "execution_count": 35
        }
      ],
      "source": [
        "data.groupby(['LABEL']).size()"
      ]
    },
    {
      "cell_type": "code",
      "execution_count": null,
      "metadata": {
        "colab": {
          "base_uri": "https://localhost:8080/",
          "height": 530
        },
        "id": "GbTcmr7g1ndp",
        "outputId": "02f2bc3d-183c-4db3-a52c-c58c1578e0f3"
      },
      "outputs": [
        {
          "output_type": "stream",
          "name": "stderr",
          "text": [
            "/usr/local/lib/python3.7/dist-packages/seaborn/categorical.py:3717: UserWarning: The `factorplot` function has been renamed to `catplot`. The original name will be removed in a future release. Please update your code. Note that the default `kind` in `factorplot` (`'point'`) has changed `'strip'` in `catplot`.\n",
            "  warnings.warn(msg)\n",
            "/usr/local/lib/python3.7/dist-packages/seaborn/categorical.py:3723: UserWarning: The `size` parameter has been renamed to `height`; please update your code.\n",
            "  warnings.warn(msg, UserWarning)\n"
          ]
        },
        {
          "output_type": "display_data",
          "data": {
            "image/png": "[encoded data removed]",
            "text/plain": [
              "<Figure size 648x432 with 1 Axes>"
            ]
          },
          "metadata": {
            "needs_background": "light"
          }
        }
      ],
      "source": [
        "sns.factorplot(x=\"LABEL\", data=data, kind=\"count\", size=6, aspect=1.5, palette=\"PuBuGn_d\")\n",
        "plt.show();"
      ]
    },
    {
      "cell_type": "code",
      "execution_count": null,
      "metadata": {
        "colab": {
          "base_uri": "https://localhost:8080/",
          "height": 530
        },
        "id": "Wl135cMn6jSL",
        "outputId": "5790ebcd-8508-4606-b343-554de3743ac1"
      },
      "outputs": [
        {
          "output_type": "stream",
          "name": "stderr",
          "text": [
            "/usr/local/lib/python3.7/dist-packages/seaborn/categorical.py:3717: UserWarning: The `factorplot` function has been renamed to `catplot`. The original name will be removed in a future release. Please update your code. Note that the default `kind` in `factorplot` (`'point'`) has changed `'strip'` in `catplot`.\n",
            "  warnings.warn(msg)\n",
            "/usr/local/lib/python3.7/dist-packages/seaborn/categorical.py:3723: UserWarning: The `size` parameter has been renamed to `height`; please update your code.\n",
            "  warnings.warn(msg, UserWarning)\n"
          ]
        },
        {
          "output_type": "display_data",
          "data": {
            "image/png": "[encoded data removed]",
            "text/plain": [
              "<Figure size 648x432 with 1 Axes>"
            ]
          },
          "metadata": {
            "needs_background": "light"
          }
        }
      ],
      "source": [
        "sns.factorplot(x=\"state\", data=data, kind=\"count\", size=6, aspect=1.5)\n",
        "plt.show();"
      ]
    },
    {
      "cell_type": "code",
      "execution_count": null,
      "metadata": {
        "colab": {
          "base_uri": "https://localhost:8080/",
          "height": 530
        },
        "id": "ZkntziSn61Ir",
        "outputId": "486acc94-bb0c-45ec-9353-c24a39917055"
      },
      "outputs": [
        {
          "output_type": "stream",
          "name": "stderr",
          "text": [
            "/usr/local/lib/python3.7/dist-packages/seaborn/categorical.py:3717: UserWarning: The `factorplot` function has been renamed to `catplot`. The original name will be removed in a future release. Please update your code. Note that the default `kind` in `factorplot` (`'point'`) has changed `'strip'` in `catplot`.\n",
            "  warnings.warn(msg)\n",
            "/usr/local/lib/python3.7/dist-packages/seaborn/categorical.py:3723: UserWarning: The `size` parameter has been renamed to `height`; please update your code.\n",
            "  warnings.warn(msg, UserWarning)\n"
          ]
        },
        {
          "output_type": "display_data",
          "data": {
            "image/png": "[encoded data removed]",
            "text/plain": [
              "<Figure size 648x432 with 1 Axes>"
            ]
          },
          "metadata": {
            "needs_background": "light"
          }
        }
      ],
      "source": [
        "sns.factorplot(x=\"party\", data=data, kind=\"count\", size=6, aspect=1.5)\n",
        "plt.show();"
      ]
    },
    {
      "cell_type": "code",
      "execution_count": null,
      "metadata": {
        "colab": {
          "base_uri": "https://localhost:8080/"
        },
        "id": "pDGvoFoY7Xzj",
        "outputId": "938b2807-db20-421d-cef8-2901abd5f88c"
      },
      "outputs": [
        {
          "output_type": "stream",
          "name": "stdout",
          "text": [
            "Unique speakers in dataset: 1635\n",
            "Average statements made per speaker: 4.112538226299694\n"
          ]
        }
      ],
      "source": [
        "unique_speakers = data['speaker'].nunique()\n",
        "avg_statments = len(data) / unique_speakers\n",
        "\n",
        "print(f\"Unique speakers in dataset: {unique_speakers}\")\n",
        "print(f\"Average statements made per speaker: {avg_statments}\")"
      ]
    },
    {
      "cell_type": "code",
      "execution_count": null,
      "metadata": {
        "colab": {
          "base_uri": "https://localhost:8080/",
          "height": 426
        },
        "id": "dNbvRaUN8d11",
        "outputId": "ff511da3-cdd6-4578-f3cf-b3f9f86bd29f"
      },
      "outputs": [
        {
          "output_type": "execute_result",
          "data": {
            "text/html": [
              "\n",
              "  <div id=\"df-0b0dedd7-77b3-418b-8468-b6804ab8ffac\">\n",
              "    <div class=\"colab-df-container\">\n",
              "      <div>\n",
              "<style scoped>\n",
              "    .dataframe tbody tr th:only-of-type {\n",
              "        vertical-align: middle;\n",
              "    }\n",
              "\n",
              "    .dataframe tbody tr th {\n",
              "        vertical-align: top;\n",
              "    }\n",
              "\n",
              "    .dataframe thead th {\n",
              "        text-align: right;\n",
              "    }\n",
              "</style>\n",
              "<table border=\"1\" class=\"dataframe\">\n",
              "  <thead>\n",
              "    <tr style=\"text-align: right;\">\n",
              "      <th></th>\n",
              "      <th>LABEL</th>\n",
              "      <th>BARELY_TRUE</th>\n",
              "      <th>False</th>\n",
              "      <th>HALF_TRUE</th>\n",
              "      <th>MOSTLY_TRUE</th>\n",
              "      <th>PANTS_FIRE</th>\n",
              "      <th>subject</th>\n",
              "      <th>speaker</th>\n",
              "      <th>job-title</th>\n",
              "      <th>state</th>\n",
              "      <th>party</th>\n",
              "      <th>context</th>\n",
              "    </tr>\n",
              "  </thead>\n",
              "  <tbody>\n",
              "    <tr>\n",
              "      <th>LABEL</th>\n",
              "      <td>1.000000</td>\n",
              "      <td>-0.015849</td>\n",
              "      <td>-0.056095</td>\n",
              "      <td>0.040844</td>\n",
              "      <td>0.064671</td>\n",
              "      <td>-0.113994</td>\n",
              "      <td>-0.015474</td>\n",
              "      <td>-0.049644</td>\n",
              "      <td>0.044358</td>\n",
              "      <td>-0.022698</td>\n",
              "      <td>-0.137876</td>\n",
              "      <td>-0.001905</td>\n",
              "    </tr>\n",
              "    <tr>\n",
              "      <th>BARELY_TRUE</th>\n",
              "      <td>-0.015849</td>\n",
              "      <td>1.000000</td>\n",
              "      <td>0.930567</td>\n",
              "      <td>0.908245</td>\n",
              "      <td>0.875729</td>\n",
              "      <td>0.654306</td>\n",
              "      <td>0.054555</td>\n",
              "      <td>-0.290284</td>\n",
              "      <td>-0.029509</td>\n",
              "      <td>-0.258147</td>\n",
              "      <td>-0.047245</td>\n",
              "      <td>0.038871</td>\n",
              "    </tr>\n",
              "    <tr>\n",
              "      <th>False</th>\n",
              "      <td>-0.056095</td>\n",
              "      <td>0.930567</td>\n",
              "      <td>1.000000</td>\n",
              "      <td>0.752059</td>\n",
              "      <td>0.703182</td>\n",
              "      <td>0.851666</td>\n",
              "      <td>0.056621</td>\n",
              "      <td>-0.277370</td>\n",
              "      <td>-0.039798</td>\n",
              "      <td>-0.194111</td>\n",
              "      <td>0.057119</td>\n",
              "      <td>0.042937</td>\n",
              "    </tr>\n",
              "    <tr>\n",
              "      <th>HALF_TRUE</th>\n",
              "      <td>0.040844</td>\n",
              "      <td>0.908245</td>\n",
              "      <td>0.752059</td>\n",
              "      <td>1.000000</td>\n",
              "      <td>0.987056</td>\n",
              "      <td>0.350242</td>\n",
              "      <td>0.044999</td>\n",
              "      <td>-0.363753</td>\n",
              "      <td>-0.055340</td>\n",
              "      <td>-0.294847</td>\n",
              "      <td>-0.229074</td>\n",
              "      <td>0.020540</td>\n",
              "    </tr>\n",
              "    <tr>\n",
              "      <th>MOSTLY_TRUE</th>\n",
              "      <td>0.064671</td>\n",
              "      <td>0.875729</td>\n",
              "      <td>0.703182</td>\n",
              "      <td>0.987056</td>\n",
              "      <td>1.000000</td>\n",
              "      <td>0.261183</td>\n",
              "      <td>0.038697</td>\n",
              "      <td>-0.386564</td>\n",
              "      <td>-0.013530</td>\n",
              "      <td>-0.284318</td>\n",
              "      <td>-0.279570</td>\n",
              "      <td>0.017270</td>\n",
              "    </tr>\n",
              "    <tr>\n",
              "      <th>PANTS_FIRE</th>\n",
              "      <td>-0.113994</td>\n",
              "      <td>0.654306</td>\n",
              "      <td>0.851666</td>\n",
              "      <td>0.350242</td>\n",
              "      <td>0.261183</td>\n",
              "      <td>1.000000</td>\n",
              "      <td>0.043970</td>\n",
              "      <td>-0.125231</td>\n",
              "      <td>-0.076787</td>\n",
              "      <td>-0.065323</td>\n",
              "      <td>0.240876</td>\n",
              "      <td>0.050186</td>\n",
              "    </tr>\n",
              "    <tr>\n",
              "      <th>subject</th>\n",
              "      <td>-0.015474</td>\n",
              "      <td>0.054555</td>\n",
              "      <td>0.056621</td>\n",
              "      <td>0.044999</td>\n",
              "      <td>0.038697</td>\n",
              "      <td>0.043970</td>\n",
              "      <td>1.000000</td>\n",
              "      <td>-0.000168</td>\n",
              "      <td>-0.010920</td>\n",
              "      <td>-0.072063</td>\n",
              "      <td>0.071818</td>\n",
              "      <td>-0.019000</td>\n",
              "    </tr>\n",
              "    <tr>\n",
              "      <th>speaker</th>\n",
              "      <td>-0.049644</td>\n",
              "      <td>-0.290284</td>\n",
              "      <td>-0.277370</td>\n",
              "      <td>-0.363753</td>\n",
              "      <td>-0.386564</td>\n",
              "      <td>-0.125231</td>\n",
              "      <td>-0.000168</td>\n",
              "      <td>1.000000</td>\n",
              "      <td>-0.080047</td>\n",
              "      <td>0.185316</td>\n",
              "      <td>0.254636</td>\n",
              "      <td>-0.007406</td>\n",
              "    </tr>\n",
              "    <tr>\n",
              "      <th>job-title</th>\n",
              "      <td>0.044358</td>\n",
              "      <td>-0.029509</td>\n",
              "      <td>-0.039798</td>\n",
              "      <td>-0.055340</td>\n",
              "      <td>-0.013530</td>\n",
              "      <td>-0.076787</td>\n",
              "      <td>-0.010920</td>\n",
              "      <td>-0.080047</td>\n",
              "      <td>1.000000</td>\n",
              "      <td>-0.034740</td>\n",
              "      <td>-0.114517</td>\n",
              "      <td>0.000079</td>\n",
              "    </tr>\n",
              "    <tr>\n",
              "      <th>state</th>\n",
              "      <td>-0.022698</td>\n",
              "      <td>-0.258147</td>\n",
              "      <td>-0.194111</td>\n",
              "      <td>-0.294847</td>\n",
              "      <td>-0.284318</td>\n",
              "      <td>-0.065323</td>\n",
              "      <td>-0.072063</td>\n",
              "      <td>0.185316</td>\n",
              "      <td>-0.034740</td>\n",
              "      <td>1.000000</td>\n",
              "      <td>0.033166</td>\n",
              "      <td>-0.012694</td>\n",
              "    </tr>\n",
              "    <tr>\n",
              "      <th>party</th>\n",
              "      <td>-0.137876</td>\n",
              "      <td>-0.047245</td>\n",
              "      <td>0.057119</td>\n",
              "      <td>-0.229074</td>\n",
              "      <td>-0.279570</td>\n",
              "      <td>0.240876</td>\n",
              "      <td>0.071818</td>\n",
              "      <td>0.254636</td>\n",
              "      <td>-0.114517</td>\n",
              "      <td>0.033166</td>\n",
              "      <td>1.000000</td>\n",
              "      <td>0.014177</td>\n",
              "    </tr>\n",
              "    <tr>\n",
              "      <th>context</th>\n",
              "      <td>-0.001905</td>\n",
              "      <td>0.038871</td>\n",
              "      <td>0.042937</td>\n",
              "      <td>0.020540</td>\n",
              "      <td>0.017270</td>\n",
              "      <td>0.050186</td>\n",
              "      <td>-0.019000</td>\n",
              "      <td>-0.007406</td>\n",
              "      <td>0.000079</td>\n",
              "      <td>-0.012694</td>\n",
              "      <td>0.014177</td>\n",
              "      <td>1.000000</td>\n",
              "    </tr>\n",
              "  </tbody>\n",
              "</table>\n",
              "</div>\n",
              "      <button class=\"colab-df-convert\" onclick=\"convertToInteractive('df-0b0dedd7-77b3-418b-8468-b6804ab8ffac')\"\n",
              "              title=\"Convert this dataframe to an interactive table.\"\n",
              "              style=\"display:none;\">\n",
              "        \n",
              "  <svg xmlns=\"http://www.w3.org/2000/svg\" height=\"24px\"viewBox=\"0 0 24 24\"\n",
              "       width=\"24px\">\n",
              "    <path d=\"M0 0h24v24H0V0z\" fill=\"none\"/>\n",
              "    <path d=\"M18.56 5.44l.94 2.06.94-2.06 2.06-.94-2.06-.94-.94-2.06-.94 2.06-2.06.94zm-11 1L8.5 8.5l.94-2.06 2.06-.94-2.06-.94L8.5 2.5l-.94 2.06-2.06.94zm10 10l.94 2.06.94-2.06 2.06-.94-2.06-.94-.94-2.06-.94 2.06-2.06.94z\"/><path d=\"M17.41 7.96l-1.37-1.37c-.4-.4-.92-.59-1.43-.59-.52 0-1.04.2-1.43.59L10.3 9.45l-7.72 7.72c-.78.78-.78 2.05 0 2.83L4 21.41c.39.39.9.59 1.41.59.51 0 1.02-.2 1.41-.59l7.78-7.78 2.81-2.81c.8-.78.8-2.07 0-2.86zM5.41 20L4 18.59l7.72-7.72 1.47 1.35L5.41 20z\"/>\n",
              "  </svg>\n",
              "      </button>\n",
              "      \n",
              "  <style>\n",
              "    .colab-df-container {\n",
              "      display:flex;\n",
              "      flex-wrap:wrap;\n",
              "      gap: 12px;\n",
              "    }\n",
              "\n",
              "    .colab-df-convert {\n",
              "      background-color: #E8F0FE;\n",
              "      border: none;\n",
              "      border-radius: 50%;\n",
              "      cursor: pointer;\n",
              "      display: none;\n",
              "      fill: #1967D2;\n",
              "      height: 32px;\n",
              "      padding: 0 0 0 0;\n",
              "      width: 32px;\n",
              "    }\n",
              "\n",
              "    .colab-df-convert:hover {\n",
              "      background-color: #E2EBFA;\n",
              "      box-shadow: 0px 1px 2px rgba(60, 64, 67, 0.3), 0px 1px 3px 1px rgba(60, 64, 67, 0.15);\n",
              "      fill: #174EA6;\n",
              "    }\n",
              "\n",
              "    [theme=dark] .colab-df-convert {\n",
              "      background-color: #3B4455;\n",
              "      fill: #D2E3FC;\n",
              "    }\n",
              "\n",
              "    [theme=dark] .colab-df-convert:hover {\n",
              "      background-color: #434B5C;\n",
              "      box-shadow: 0px 1px 3px 1px rgba(0, 0, 0, 0.15);\n",
              "      filter: drop-shadow(0px 1px 2px rgba(0, 0, 0, 0.3));\n",
              "      fill: #FFFFFF;\n",
              "    }\n",
              "  </style>\n",
              "\n",
              "      <script>\n",
              "        const buttonEl =\n",
              "          document.querySelector('#df-0b0dedd7-77b3-418b-8468-b6804ab8ffac button.colab-df-convert');\n",
              "        buttonEl.style.display =\n",
              "          google.colab.kernel.accessAllowed ? 'block' : 'none';\n",
              "\n",
              "        async function convertToInteractive(key) {\n",
              "          const element = document.querySelector('#df-0b0dedd7-77b3-418b-8468-b6804ab8ffac');\n",
              "          const dataTable =\n",
              "            await google.colab.kernel.invokeFunction('convertToInteractive',\n",
              "                                                     [key], {});\n",
              "          if (!dataTable) return;\n",
              "\n",
              "          const docLinkHtml = 'Like what you see? Visit the ' +\n",
              "            '<a target=\"_blank\" href=https://colab.research.google.com/notebooks/data_table.ipynb>data table notebook</a>'\n",
              "            + ' to learn more about interactive tables.';\n",
              "          element.innerHTML = '';\n",
              "          dataTable['output_type'] = 'display_data';\n",
              "          await google.colab.output.renderOutput(dataTable, element);\n",
              "          const docLink = document.createElement('div');\n",
              "          docLink.innerHTML = docLinkHtml;\n",
              "          element.appendChild(docLink);\n",
              "        }\n",
              "      </script>\n",
              "    </div>\n",
              "  </div>\n",
              "  "
            ],
            "text/plain": [
              "                LABEL  BARELY_TRUE     False  ...     state     party   context\n",
              "LABEL        1.000000    -0.015849 -0.056095  ... -0.022698 -0.137876 -0.001905\n",
              "BARELY_TRUE -0.015849     1.000000  0.930567  ... -0.258147 -0.047245  0.038871\n",
              "False       -0.056095     0.930567  1.000000  ... -0.194111  0.057119  0.042937\n",
              "HALF_TRUE    0.040844     0.908245  0.752059  ... -0.294847 -0.229074  0.020540\n",
              "MOSTLY_TRUE  0.064671     0.875729  0.703182  ... -0.284318 -0.279570  0.017270\n",
              "PANTS_FIRE  -0.113994     0.654306  0.851666  ... -0.065323  0.240876  0.050186\n",
              "subject     -0.015474     0.054555  0.056621  ... -0.072063  0.071818 -0.019000\n",
              "speaker     -0.049644    -0.290284 -0.277370  ...  0.185316  0.254636 -0.007406\n",
              "job-title    0.044358    -0.029509 -0.039798  ... -0.034740 -0.114517  0.000079\n",
              "state       -0.022698    -0.258147 -0.194111  ...  1.000000  0.033166 -0.012694\n",
              "party       -0.137876    -0.047245  0.057119  ...  0.033166  1.000000  0.014177\n",
              "context     -0.001905     0.038871  0.042937  ... -0.012694  0.014177  1.000000\n",
              "\n",
              "[12 rows x 12 columns]"
            ]
          },
          "metadata": {},
          "execution_count": 40
        }
      ],
      "source": [
        "corr_matrix=data.corr()\n",
        "corr_matrix"
      ]
    },
    {
      "cell_type": "code",
      "execution_count": null,
      "metadata": {
        "colab": {
          "base_uri": "https://localhost:8080/",
          "height": 674
        },
        "id": "4IYGKYsU8ncP",
        "outputId": "7face679-4022-4f08-f024-0ff6fe863334"
      },
      "outputs": [
        {
          "output_type": "execute_result",
          "data": {
            "text/plain": [
              "<matplotlib.axes._subplots.AxesSubplot at 0x7f80302be450>"
            ]
          },
          "metadata": {},
          "execution_count": 41
        },
        {
          "output_type": "display_data",
          "data": {
            "image/png": "[encoded data removed]",
            "text/plain": [
              "<Figure size 720x720 with 2 Axes>"
            ]
          },
          "metadata": {
            "needs_background": "light"
          }
        }
      ],
      "source": [
        "plt.figure(figsize=(10,10))\n",
        "sns.heatmap(data = corr_matrix, cmap='BrBG', annot=True, linewidth=0.2)"
      ]
    },
    {
      "cell_type": "markdown",
      "metadata": {
        "id": "Wv6sGJTM81_L"
      },
      "source": [
        "## **Statement Analysis**"
      ]
    },
    {
      "cell_type": "code",
      "execution_count": null,
      "metadata": {
        "colab": {
          "base_uri": "https://localhost:8080/",
          "height": 354
        },
        "id": "NvBSJfZW87Wv",
        "outputId": "b78938a8-7dc9-4b47-df67-d568627588a0"
      },
      "outputs": [
        {
          "output_type": "execute_result",
          "data": {
            "text/html": [
              "\n",
              "  <div id=\"df-696e1db2-1912-44e2-a725-12cd1e722759\">\n",
              "    <div class=\"colab-df-container\">\n",
              "      <div>\n",
              "<style scoped>\n",
              "    .dataframe tbody tr th:only-of-type {\n",
              "        vertical-align: middle;\n",
              "    }\n",
              "\n",
              "    .dataframe tbody tr th {\n",
              "        vertical-align: top;\n",
              "    }\n",
              "\n",
              "    .dataframe thead th {\n",
              "        text-align: right;\n",
              "    }\n",
              "</style>\n",
              "<table border=\"1\" class=\"dataframe\">\n",
              "  <thead>\n",
              "    <tr style=\"text-align: right;\">\n",
              "      <th></th>\n",
              "      <th>LABEL</th>\n",
              "      <th>STATEMENT</th>\n",
              "      <th>BARELY_TRUE</th>\n",
              "      <th>False</th>\n",
              "      <th>HALF_TRUE</th>\n",
              "      <th>MOSTLY_TRUE</th>\n",
              "      <th>PANTS_FIRE</th>\n",
              "      <th>subject</th>\n",
              "      <th>speaker</th>\n",
              "      <th>job-title</th>\n",
              "      <th>state</th>\n",
              "      <th>party</th>\n",
              "      <th>context</th>\n",
              "      <th>number_of_words</th>\n",
              "    </tr>\n",
              "  </thead>\n",
              "  <tbody>\n",
              "    <tr>\n",
              "      <th>0</th>\n",
              "      <td>0</td>\n",
              "      <td>Says the Annies List political group supports ...</td>\n",
              "      <td>0.0</td>\n",
              "      <td>1.0</td>\n",
              "      <td>0.0</td>\n",
              "      <td>0.0</td>\n",
              "      <td>0.0</td>\n",
              "      <td>16.0</td>\n",
              "      <td>438.0</td>\n",
              "      <td>711.0</td>\n",
              "      <td>56.0</td>\n",
              "      <td>16.0</td>\n",
              "      <td>940.0</td>\n",
              "      <td>11</td>\n",
              "    </tr>\n",
              "    <tr>\n",
              "      <th>1</th>\n",
              "      <td>0</td>\n",
              "      <td>When did the decline of coal start? It started...</td>\n",
              "      <td>0.0</td>\n",
              "      <td>0.0</td>\n",
              "      <td>1.0</td>\n",
              "      <td>1.0</td>\n",
              "      <td>0.0</td>\n",
              "      <td>1792.0</td>\n",
              "      <td>1404.0</td>\n",
              "      <td>709.0</td>\n",
              "      <td>63.0</td>\n",
              "      <td>4.0</td>\n",
              "      <td>818.0</td>\n",
              "      <td>24</td>\n",
              "    </tr>\n",
              "    <tr>\n",
              "      <th>2</th>\n",
              "      <td>1</td>\n",
              "      <td>Hillary Clinton agrees with John McCain \"by vo...</td>\n",
              "      <td>70.0</td>\n",
              "      <td>71.0</td>\n",
              "      <td>160.0</td>\n",
              "      <td>163.0</td>\n",
              "      <td>9.0</td>\n",
              "      <td>2001.0</td>\n",
              "      <td>80.0</td>\n",
              "      <td>527.0</td>\n",
              "      <td>18.0</td>\n",
              "      <td>4.0</td>\n",
              "      <td>56.0</td>\n",
              "      <td>19</td>\n",
              "    </tr>\n",
              "    <tr>\n",
              "      <th>5</th>\n",
              "      <td>1</td>\n",
              "      <td>The Chicago Bears have had more starting quart...</td>\n",
              "      <td>0.0</td>\n",
              "      <td>3.0</td>\n",
              "      <td>2.0</td>\n",
              "      <td>5.0</td>\n",
              "      <td>1.0</td>\n",
              "      <td>1620.0</td>\n",
              "      <td>1335.0</td>\n",
              "      <td>808.0</td>\n",
              "      <td>73.0</td>\n",
              "      <td>16.0</td>\n",
              "      <td>518.0</td>\n",
              "      <td>27</td>\n",
              "    </tr>\n",
              "    <tr>\n",
              "      <th>7</th>\n",
              "      <td>0</td>\n",
              "      <td>I'm the only person on this stage who has work...</td>\n",
              "      <td>70.0</td>\n",
              "      <td>71.0</td>\n",
              "      <td>160.0</td>\n",
              "      <td>163.0</td>\n",
              "      <td>9.0</td>\n",
              "      <td>1850.0</td>\n",
              "      <td>80.0</td>\n",
              "      <td>527.0</td>\n",
              "      <td>18.0</td>\n",
              "      <td>4.0</td>\n",
              "      <td>252.0</td>\n",
              "      <td>27</td>\n",
              "    </tr>\n",
              "  </tbody>\n",
              "</table>\n",
              "</div>\n",
              "      <button class=\"colab-df-convert\" onclick=\"convertToInteractive('df-696e1db2-1912-44e2-a725-12cd1e722759')\"\n",
              "              title=\"Convert this dataframe to an interactive table.\"\n",
              "              style=\"display:none;\">\n",
              "        \n",
              "  <svg xmlns=\"http://www.w3.org/2000/svg\" height=\"24px\"viewBox=\"0 0 24 24\"\n",
              "       width=\"24px\">\n",
              "    <path d=\"M0 0h24v24H0V0z\" fill=\"none\"/>\n",
              "    <path d=\"M18.56 5.44l.94 2.06.94-2.06 2.06-.94-2.06-.94-.94-2.06-.94 2.06-2.06.94zm-11 1L8.5 8.5l.94-2.06 2.06-.94-2.06-.94L8.5 2.5l-.94 2.06-2.06.94zm10 10l.94 2.06.94-2.06 2.06-.94-2.06-.94-.94-2.06-.94 2.06-2.06.94z\"/><path d=\"M17.41 7.96l-1.37-1.37c-.4-.4-.92-.59-1.43-.59-.52 0-1.04.2-1.43.59L10.3 9.45l-7.72 7.72c-.78.78-.78 2.05 0 2.83L4 21.41c.39.39.9.59 1.41.59.51 0 1.02-.2 1.41-.59l7.78-7.78 2.81-2.81c.8-.78.8-2.07 0-2.86zM5.41 20L4 18.59l7.72-7.72 1.47 1.35L5.41 20z\"/>\n",
              "  </svg>\n",
              "      </button>\n",
              "      \n",
              "  <style>\n",
              "    .colab-df-container {\n",
              "      display:flex;\n",
              "      flex-wrap:wrap;\n",
              "      gap: 12px;\n",
              "    }\n",
              "\n",
              "    .colab-df-convert {\n",
              "      background-color: #E8F0FE;\n",
              "      border: none;\n",
              "      border-radius: 50%;\n",
              "      cursor: pointer;\n",
              "      display: none;\n",
              "      fill: #1967D2;\n",
              "      height: 32px;\n",
              "      padding: 0 0 0 0;\n",
              "      width: 32px;\n",
              "    }\n",
              "\n",
              "    .colab-df-convert:hover {\n",
              "      background-color: #E2EBFA;\n",
              "      box-shadow: 0px 1px 2px rgba(60, 64, 67, 0.3), 0px 1px 3px 1px rgba(60, 64, 67, 0.15);\n",
              "      fill: #174EA6;\n",
              "    }\n",
              "\n",
              "    [theme=dark] .colab-df-convert {\n",
              "      background-color: #3B4455;\n",
              "      fill: #D2E3FC;\n",
              "    }\n",
              "\n",
              "    [theme=dark] .colab-df-convert:hover {\n",
              "      background-color: #434B5C;\n",
              "      box-shadow: 0px 1px 3px 1px rgba(0, 0, 0, 0.15);\n",
              "      filter: drop-shadow(0px 1px 2px rgba(0, 0, 0, 0.3));\n",
              "      fill: #FFFFFF;\n",
              "    }\n",
              "  </style>\n",
              "\n",
              "      <script>\n",
              "        const buttonEl =\n",
              "          document.querySelector('#df-696e1db2-1912-44e2-a725-12cd1e722759 button.colab-df-convert');\n",
              "        buttonEl.style.display =\n",
              "          google.colab.kernel.accessAllowed ? 'block' : 'none';\n",
              "\n",
              "        async function convertToInteractive(key) {\n",
              "          const element = document.querySelector('#df-696e1db2-1912-44e2-a725-12cd1e722759');\n",
              "          const dataTable =\n",
              "            await google.colab.kernel.invokeFunction('convertToInteractive',\n",
              "                                                     [key], {});\n",
              "          if (!dataTable) return;\n",
              "\n",
              "          const docLinkHtml = 'Like what you see? Visit the ' +\n",
              "            '<a target=\"_blank\" href=https://colab.research.google.com/notebooks/data_table.ipynb>data table notebook</a>'\n",
              "            + ' to learn more about interactive tables.';\n",
              "          element.innerHTML = '';\n",
              "          dataTable['output_type'] = 'display_data';\n",
              "          await google.colab.output.renderOutput(dataTable, element);\n",
              "          const docLink = document.createElement('div');\n",
              "          docLink.innerHTML = docLinkHtml;\n",
              "          element.appendChild(docLink);\n",
              "        }\n",
              "      </script>\n",
              "    </div>\n",
              "  </div>\n",
              "  "
            ],
            "text/plain": [
              "   LABEL  ... number_of_words\n",
              "0      0  ...              11\n",
              "1      0  ...              24\n",
              "2      1  ...              19\n",
              "5      1  ...              27\n",
              "7      0  ...              27\n",
              "\n",
              "[5 rows x 14 columns]"
            ]
          },
          "metadata": {},
          "execution_count": 42
        }
      ],
      "source": [
        "data['number_of_words'] = data.STATEMENT.apply(lambda x: len(x.split()))\n",
        "data.head()"
      ]
    },
    {
      "cell_type": "code",
      "execution_count": null,
      "metadata": {
        "colab": {
          "base_uri": "https://localhost:8080/"
        },
        "id": "Q97rp2eO9INb",
        "outputId": "9855d33b-f06b-43e4-f48d-127b177c0b4a"
      },
      "outputs": [
        {
          "output_type": "stream",
          "name": "stdout",
          "text": [
            "Descriptive stats for number_of_words\n",
            "-------------------------------------\n",
            "        count       mean       std  min   25%   50%   75%    max\n",
            "LABEL                                                           \n",
            "0      4207.0  17.922272  9.044451  2.0  12.0  17.0  22.0  309.0\n",
            "1      2517.0  18.223679  7.667138  3.0  13.0  17.0  22.0   61.0\n"
          ]
        }
      ],
      "source": [
        "x=data.number_of_words\n",
        "\n",
        "print('Descriptive stats for {}'.format('number_of_words'))\n",
        "print('-'*(len('number_of_words')+22))\n",
        "print(data.groupby('LABEL')['number_of_words'].describe())\n"
      ]
    },
    {
      "cell_type": "code",
      "execution_count": null,
      "metadata": {
        "colab": {
          "base_uri": "https://localhost:8080/",
          "height": 296
        },
        "id": "8pgzWFHc8_yc",
        "outputId": "23c89c84-a18b-4b9a-c73d-383d77d79b1a"
      },
      "outputs": [
        {
          "output_type": "execute_result",
          "data": {
            "text/plain": [
              "<matplotlib.axes._subplots.AxesSubplot at 0x7f803951f950>"
            ]
          },
          "metadata": {},
          "execution_count": 44
        },
        {
          "output_type": "display_data",
          "data": {
            "image/png": "[encoded data removed]",
            "text/plain": [
              "<Figure size 432x288 with 1 Axes>"
            ]
          },
          "metadata": {
            "needs_background": "light"
          }
        }
      ],
      "source": [
        "sns.boxplot(y='number_of_words', x='LABEL', \n",
        "                 data=data)"
      ]
    },
    {
      "cell_type": "code",
      "execution_count": null,
      "metadata": {
        "colab": {
          "base_uri": "https://localhost:8080/",
          "height": 296
        },
        "id": "UwnUlSam9j29",
        "outputId": "712ac3f5-b6ad-4ed3-913a-3d777768f4c6"
      },
      "outputs": [
        {
          "output_type": "execute_result",
          "data": {
            "text/plain": [
              "<matplotlib.axes._subplots.AxesSubplot at 0x7f80393c6e10>"
            ]
          },
          "metadata": {},
          "execution_count": 45
        },
        {
          "output_type": "display_data",
          "data": {
            "image/png": "[encoded data removed]",
            "text/plain": [
              "<Figure size 432x288 with 1 Axes>"
            ]
          },
          "metadata": {
            "needs_background": "light"
          }
        }
      ],
      "source": [
        "sns.boxplot(y='number_of_words', x='state', \n",
        "                 data=data)"
      ]
    },
    {
      "cell_type": "code",
      "execution_count": null,
      "metadata": {
        "colab": {
          "base_uri": "https://localhost:8080/",
          "height": 296
        },
        "id": "F6F3vBdX9qxG",
        "outputId": "fe6b9bbc-503c-456f-ca31-915d61bf8d27"
      },
      "outputs": [
        {
          "output_type": "execute_result",
          "data": {
            "text/plain": [
              "<matplotlib.axes._subplots.AxesSubplot at 0x7f8039438410>"
            ]
          },
          "metadata": {},
          "execution_count": 46
        },
        {
          "output_type": "display_data",
          "data": {
            "image/png": "[encoded data removed]",
            "text/plain": [
              "<Figure size 432x288 with 1 Axes>"
            ]
          },
          "metadata": {
            "needs_background": "light"
          }
        }
      ],
      "source": [
        "sns.boxplot(y='number_of_words', x='party', \n",
        "                 data=data)"
      ]
    },
    {
      "cell_type": "code",
      "execution_count": null,
      "metadata": {
        "colab": {
          "base_uri": "https://localhost:8080/",
          "height": 458
        },
        "id": "fMRFxLxM9Jw1",
        "outputId": "2c66f78e-0e25-43be-c235-4d16b4289600"
      },
      "outputs": [
        {
          "output_type": "stream",
          "name": "stderr",
          "text": [
            "/usr/local/lib/python3.7/dist-packages/seaborn/axisgrid.py:337: UserWarning: The `size` parameter has been renamed to `height`; please update your code.\n",
            "  warnings.warn(msg, UserWarning)\n",
            "/usr/local/lib/python3.7/dist-packages/seaborn/distributions.py:2619: FutureWarning: `distplot` is a deprecated function and will be removed in a future version. Please adapt your code to use either `displot` (a figure-level function with similar flexibility) or `histplot` (an axes-level function for histograms).\n",
            "  warnings.warn(msg, FutureWarning)\n"
          ]
        },
        {
          "output_type": "display_data",
          "data": {
            "image/png": "[encoded data removed]",
            "text/plain": [
              "<Figure size 720x360 with 2 Axes>"
            ]
          },
          "metadata": {
            "needs_background": "light"
          }
        }
      ],
      "source": [
        "bins = np.arange(data['number_of_words'].min(), data['number_of_words'].max() + 1)\n",
        "g = sns.FacetGrid(data, col='LABEL', size=5, hue='LABEL', palette=\"PuBuGn_d\")\n",
        "g = g.map(sns.distplot, 'number_of_words', kde=False, norm_hist=True, bins=bins)\n",
        "plt.show()"
      ]
    },
    {
      "cell_type": "markdown",
      "metadata": {
        "id": "k_7jpCnV-K63"
      },
      "source": [
        "# **Text Preprocessing**"
      ]
    },
    {
      "cell_type": "markdown",
      "metadata": {
        "id": "MnGjKgoG-k39"
      },
      "source": [
        "## **Text Sizing**"
      ]
    },
    {
      "cell_type": "code",
      "execution_count": null,
      "metadata": {
        "id": "ZTpudqI0-UFJ"
      },
      "outputs": [],
      "source": [
        "data.drop(data[data['number_of_words'] < 5].index, inplace = True)"
      ]
    },
    {
      "cell_type": "code",
      "execution_count": null,
      "metadata": {
        "id": "EfXwFZ6K_Caf"
      },
      "outputs": [],
      "source": [
        "data.drop(data[data['number_of_words'] > 100].index, inplace = True)"
      ]
    },
    {
      "cell_type": "code",
      "execution_count": null,
      "metadata": {
        "colab": {
          "base_uri": "https://localhost:8080/",
          "height": 206
        },
        "id": "yiJUPdhe_SbL",
        "outputId": "dfe084e4-da42-45c2-f645-b38b9cb4efb1"
      },
      "outputs": [
        {
          "output_type": "execute_result",
          "data": {
            "text/html": [
              "\n",
              "  <div id=\"df-51a7f21a-e18e-474a-9ddc-6b2c9db7124d\">\n",
              "    <div class=\"colab-df-container\">\n",
              "      <div>\n",
              "<style scoped>\n",
              "    .dataframe tbody tr th:only-of-type {\n",
              "        vertical-align: middle;\n",
              "    }\n",
              "\n",
              "    .dataframe tbody tr th {\n",
              "        vertical-align: top;\n",
              "    }\n",
              "\n",
              "    .dataframe thead th {\n",
              "        text-align: right;\n",
              "    }\n",
              "</style>\n",
              "<table border=\"1\" class=\"dataframe\">\n",
              "  <thead>\n",
              "    <tr style=\"text-align: right;\">\n",
              "      <th></th>\n",
              "      <th>LABEL</th>\n",
              "      <th>STATEMENT</th>\n",
              "      <th>BARELY_TRUE</th>\n",
              "      <th>False</th>\n",
              "      <th>HALF_TRUE</th>\n",
              "      <th>MOSTLY_TRUE</th>\n",
              "      <th>PANTS_FIRE</th>\n",
              "      <th>subject</th>\n",
              "      <th>speaker</th>\n",
              "      <th>job-title</th>\n",
              "      <th>state</th>\n",
              "      <th>party</th>\n",
              "      <th>context</th>\n",
              "      <th>number_of_words</th>\n",
              "    </tr>\n",
              "  </thead>\n",
              "  <tbody>\n",
              "    <tr>\n",
              "      <th>0</th>\n",
              "      <td>0</td>\n",
              "      <td>Says the Annies List political group supports ...</td>\n",
              "      <td>0.0</td>\n",
              "      <td>1.0</td>\n",
              "      <td>0.0</td>\n",
              "      <td>0.0</td>\n",
              "      <td>0.0</td>\n",
              "      <td>16.0</td>\n",
              "      <td>438.0</td>\n",
              "      <td>711.0</td>\n",
              "      <td>56.0</td>\n",
              "      <td>16.0</td>\n",
              "      <td>940.0</td>\n",
              "      <td>11</td>\n",
              "    </tr>\n",
              "    <tr>\n",
              "      <th>1</th>\n",
              "      <td>0</td>\n",
              "      <td>When did the decline of coal start? It started...</td>\n",
              "      <td>0.0</td>\n",
              "      <td>0.0</td>\n",
              "      <td>1.0</td>\n",
              "      <td>1.0</td>\n",
              "      <td>0.0</td>\n",
              "      <td>1792.0</td>\n",
              "      <td>1404.0</td>\n",
              "      <td>709.0</td>\n",
              "      <td>63.0</td>\n",
              "      <td>4.0</td>\n",
              "      <td>818.0</td>\n",
              "      <td>24</td>\n",
              "    </tr>\n",
              "    <tr>\n",
              "      <th>2</th>\n",
              "      <td>1</td>\n",
              "      <td>Hillary Clinton agrees with John McCain \"by vo...</td>\n",
              "      <td>70.0</td>\n",
              "      <td>71.0</td>\n",
              "      <td>160.0</td>\n",
              "      <td>163.0</td>\n",
              "      <td>9.0</td>\n",
              "      <td>2001.0</td>\n",
              "      <td>80.0</td>\n",
              "      <td>527.0</td>\n",
              "      <td>18.0</td>\n",
              "      <td>4.0</td>\n",
              "      <td>56.0</td>\n",
              "      <td>19</td>\n",
              "    </tr>\n",
              "    <tr>\n",
              "      <th>5</th>\n",
              "      <td>1</td>\n",
              "      <td>The Chicago Bears have had more starting quart...</td>\n",
              "      <td>0.0</td>\n",
              "      <td>3.0</td>\n",
              "      <td>2.0</td>\n",
              "      <td>5.0</td>\n",
              "      <td>1.0</td>\n",
              "      <td>1620.0</td>\n",
              "      <td>1335.0</td>\n",
              "      <td>808.0</td>\n",
              "      <td>73.0</td>\n",
              "      <td>16.0</td>\n",
              "      <td>518.0</td>\n",
              "      <td>27</td>\n",
              "    </tr>\n",
              "    <tr>\n",
              "      <th>7</th>\n",
              "      <td>0</td>\n",
              "      <td>I'm the only person on this stage who has work...</td>\n",
              "      <td>70.0</td>\n",
              "      <td>71.0</td>\n",
              "      <td>160.0</td>\n",
              "      <td>163.0</td>\n",
              "      <td>9.0</td>\n",
              "      <td>1850.0</td>\n",
              "      <td>80.0</td>\n",
              "      <td>527.0</td>\n",
              "      <td>18.0</td>\n",
              "      <td>4.0</td>\n",
              "      <td>252.0</td>\n",
              "      <td>27</td>\n",
              "    </tr>\n",
              "  </tbody>\n",
              "</table>\n",
              "</div>\n",
              "      <button class=\"colab-df-convert\" onclick=\"convertToInteractive('df-51a7f21a-e18e-474a-9ddc-6b2c9db7124d')\"\n",
              "              title=\"Convert this dataframe to an interactive table.\"\n",
              "              style=\"display:none;\">\n",
              "        \n",
              "  <svg xmlns=\"http://www.w3.org/2000/svg\" height=\"24px\"viewBox=\"0 0 24 24\"\n",
              "       width=\"24px\">\n",
              "    <path d=\"M0 0h24v24H0V0z\" fill=\"none\"/>\n",
              "    <path d=\"M18.56 5.44l.94 2.06.94-2.06 2.06-.94-2.06-.94-.94-2.06-.94 2.06-2.06.94zm-11 1L8.5 8.5l.94-2.06 2.06-.94-2.06-.94L8.5 2.5l-.94 2.06-2.06.94zm10 10l.94 2.06.94-2.06 2.06-.94-2.06-.94-.94-2.06-.94 2.06-2.06.94z\"/><path d=\"M17.41 7.96l-1.37-1.37c-.4-.4-.92-.59-1.43-.59-.52 0-1.04.2-1.43.59L10.3 9.45l-7.72 7.72c-.78.78-.78 2.05 0 2.83L4 21.41c.39.39.9.59 1.41.59.51 0 1.02-.2 1.41-.59l7.78-7.78 2.81-2.81c.8-.78.8-2.07 0-2.86zM5.41 20L4 18.59l7.72-7.72 1.47 1.35L5.41 20z\"/>\n",
              "  </svg>\n",
              "      </button>\n",
              "      \n",
              "  <style>\n",
              "    .colab-df-container {\n",
              "      display:flex;\n",
              "      flex-wrap:wrap;\n",
              "      gap: 12px;\n",
              "    }\n",
              "\n",
              "    .colab-df-convert {\n",
              "      background-color: #E8F0FE;\n",
              "      border: none;\n",
              "      border-radius: 50%;\n",
              "      cursor: pointer;\n",
              "      display: none;\n",
              "      fill: #1967D2;\n",
              "      height: 32px;\n",
              "      padding: 0 0 0 0;\n",
              "      width: 32px;\n",
              "    }\n",
              "\n",
              "    .colab-df-convert:hover {\n",
              "      background-color: #E2EBFA;\n",
              "      box-shadow: 0px 1px 2px rgba(60, 64, 67, 0.3), 0px 1px 3px 1px rgba(60, 64, 67, 0.15);\n",
              "      fill: #174EA6;\n",
              "    }\n",
              "\n",
              "    [theme=dark] .colab-df-convert {\n",
              "      background-color: #3B4455;\n",
              "      fill: #D2E3FC;\n",
              "    }\n",
              "\n",
              "    [theme=dark] .colab-df-convert:hover {\n",
              "      background-color: #434B5C;\n",
              "      box-shadow: 0px 1px 3px 1px rgba(0, 0, 0, 0.15);\n",
              "      filter: drop-shadow(0px 1px 2px rgba(0, 0, 0, 0.3));\n",
              "      fill: #FFFFFF;\n",
              "    }\n",
              "  </style>\n",
              "\n",
              "      <script>\n",
              "        const buttonEl =\n",
              "          document.querySelector('#df-51a7f21a-e18e-474a-9ddc-6b2c9db7124d button.colab-df-convert');\n",
              "        buttonEl.style.display =\n",
              "          google.colab.kernel.accessAllowed ? 'block' : 'none';\n",
              "\n",
              "        async function convertToInteractive(key) {\n",
              "          const element = document.querySelector('#df-51a7f21a-e18e-474a-9ddc-6b2c9db7124d');\n",
              "          const dataTable =\n",
              "            await google.colab.kernel.invokeFunction('convertToInteractive',\n",
              "                                                     [key], {});\n",
              "          if (!dataTable) return;\n",
              "\n",
              "          const docLinkHtml = 'Like what you see? Visit the ' +\n",
              "            '<a target=\"_blank\" href=https://colab.research.google.com/notebooks/data_table.ipynb>data table notebook</a>'\n",
              "            + ' to learn more about interactive tables.';\n",
              "          element.innerHTML = '';\n",
              "          dataTable['output_type'] = 'display_data';\n",
              "          await google.colab.output.renderOutput(dataTable, element);\n",
              "          const docLink = document.createElement('div');\n",
              "          docLink.innerHTML = docLinkHtml;\n",
              "          element.appendChild(docLink);\n",
              "        }\n",
              "      </script>\n",
              "    </div>\n",
              "  </div>\n",
              "  "
            ],
            "text/plain": [
              "   LABEL  ... number_of_words\n",
              "0      0  ...              11\n",
              "1      0  ...              24\n",
              "2      1  ...              19\n",
              "5      1  ...              27\n",
              "7      0  ...              27\n",
              "\n",
              "[5 rows x 14 columns]"
            ]
          },
          "metadata": {},
          "execution_count": 50
        }
      ],
      "source": [
        "data.head()"
      ]
    },
    {
      "cell_type": "code",
      "execution_count": null,
      "metadata": {
        "colab": {
          "base_uri": "https://localhost:8080/"
        },
        "id": "rD_YG6W8AalE",
        "outputId": "c1a6c06d-0ef2-49de-c876-b3cd6aa307f2"
      },
      "outputs": [
        {
          "output_type": "execute_result",
          "data": {
            "text/plain": [
              "LABEL              6677\n",
              "STATEMENT          6677\n",
              "BARELY_TRUE        6677\n",
              "False              6677\n",
              "HALF_TRUE          6677\n",
              "MOSTLY_TRUE        6677\n",
              "PANTS_FIRE         6677\n",
              "subject            6677\n",
              "speaker            6677\n",
              "job-title          6677\n",
              "state              6677\n",
              "party              6677\n",
              "context            6677\n",
              "number_of_words    6677\n",
              "dtype: int64"
            ]
          },
          "metadata": {},
          "execution_count": 51
        }
      ],
      "source": [
        "data.count()"
      ]
    },
    {
      "cell_type": "markdown",
      "metadata": {
        "id": "hZZpbiBc_e2f"
      },
      "source": [
        "## **Text Cleaning**"
      ]
    },
    {
      "cell_type": "code",
      "execution_count": null,
      "metadata": {
        "id": "C1C0SKkZ_ipv"
      },
      "outputs": [],
      "source": [
        "def utils_preprocess_text(text, flg_stemm=False, flg_lemm=True, lst_stopwords=None):\n",
        "    ## clean (convert to lowercase and remove punctuations and   \n",
        "    #characters and then strip\n",
        "    text = re.sub(r'[^\\w\\s]', '', str(text).lower().strip())\n",
        "            \n",
        "    ## Tokenize (convert from string to list)\n",
        "    lst_text = text.split()\n",
        "    ## remove Stopwords\n",
        "    if lst_stopwords is not None:\n",
        "        lst_text = [word for word in lst_text if word not in \n",
        "                    lst_stopwords]\n",
        "                \n",
        "    ## Stemming (remove -ing, -ly, ...)\n",
        "    if flg_stemm == True:\n",
        "        ps = nltk.stem.porter.PorterStemmer()\n",
        "        lst_text = [ps.stem(word) for word in lst_text]\n",
        "                \n",
        "    ## Lemmatisation (convert the word into root word)\n",
        "    if flg_lemm == True:\n",
        "      lem = nltk.stem.wordnet.WordNetLemmatizer()\n",
        "      lst_text = [lem.lemmatize(word) for word in lst_text]\n",
        "            \n",
        "    ## back to string from list\n",
        "    text = \" \".join(lst_text)\n",
        "    return text"
      ]
    },
    {
      "cell_type": "code",
      "execution_count": null,
      "metadata": {
        "colab": {
          "base_uri": "https://localhost:8080/"
        },
        "id": "VILrhruy_pCD",
        "outputId": "b5126839-8594-4fd5-ed94-e0ec17ef9ab4"
      },
      "outputs": [
        {
          "output_type": "stream",
          "name": "stdout",
          "text": [
            "[nltk_data] Downloading package stopwords to /root/nltk_data...\n",
            "[nltk_data]   Unzipping corpora/stopwords.zip.\n",
            "[nltk_data] Downloading package wordnet to /root/nltk_data...\n",
            "[nltk_data]   Unzipping corpora/wordnet.zip.\n"
          ]
        },
        {
          "output_type": "execute_result",
          "data": {
            "text/plain": [
              "['i',\n",
              " 'me',\n",
              " 'my',\n",
              " 'myself',\n",
              " 'we',\n",
              " 'our',\n",
              " 'ours',\n",
              " 'ourselves',\n",
              " 'you',\n",
              " \"you're\",\n",
              " \"you've\",\n",
              " \"you'll\",\n",
              " \"you'd\",\n",
              " 'your',\n",
              " 'yours',\n",
              " 'yourself',\n",
              " 'yourselves',\n",
              " 'he',\n",
              " 'him',\n",
              " 'his',\n",
              " 'himself',\n",
              " 'she',\n",
              " \"she's\",\n",
              " 'her',\n",
              " 'hers',\n",
              " 'herself',\n",
              " 'it',\n",
              " \"it's\",\n",
              " 'its',\n",
              " 'itself',\n",
              " 'they',\n",
              " 'them',\n",
              " 'their',\n",
              " 'theirs',\n",
              " 'themselves',\n",
              " 'what',\n",
              " 'which',\n",
              " 'who',\n",
              " 'whom',\n",
              " 'this',\n",
              " 'that',\n",
              " \"that'll\",\n",
              " 'these',\n",
              " 'those',\n",
              " 'am',\n",
              " 'is',\n",
              " 'are',\n",
              " 'was',\n",
              " 'were',\n",
              " 'be',\n",
              " 'been',\n",
              " 'being',\n",
              " 'have',\n",
              " 'has',\n",
              " 'had',\n",
              " 'having',\n",
              " 'do',\n",
              " 'does',\n",
              " 'did',\n",
              " 'doing',\n",
              " 'a',\n",
              " 'an',\n",
              " 'the',\n",
              " 'and',\n",
              " 'but',\n",
              " 'if',\n",
              " 'or',\n",
              " 'because',\n",
              " 'as',\n",
              " 'until',\n",
              " 'while',\n",
              " 'of',\n",
              " 'at',\n",
              " 'by',\n",
              " 'for',\n",
              " 'with',\n",
              " 'about',\n",
              " 'against',\n",
              " 'between',\n",
              " 'into',\n",
              " 'through',\n",
              " 'during',\n",
              " 'before',\n",
              " 'after',\n",
              " 'above',\n",
              " 'below',\n",
              " 'to',\n",
              " 'from',\n",
              " 'up',\n",
              " 'down',\n",
              " 'in',\n",
              " 'out',\n",
              " 'on',\n",
              " 'off',\n",
              " 'over',\n",
              " 'under',\n",
              " 'again',\n",
              " 'further',\n",
              " 'then',\n",
              " 'once',\n",
              " 'here',\n",
              " 'there',\n",
              " 'when',\n",
              " 'where',\n",
              " 'why',\n",
              " 'how',\n",
              " 'all',\n",
              " 'any',\n",
              " 'both',\n",
              " 'each',\n",
              " 'few',\n",
              " 'more',\n",
              " 'most',\n",
              " 'other',\n",
              " 'some',\n",
              " 'such',\n",
              " 'no',\n",
              " 'nor',\n",
              " 'not',\n",
              " 'only',\n",
              " 'own',\n",
              " 'same',\n",
              " 'so',\n",
              " 'than',\n",
              " 'too',\n",
              " 'very',\n",
              " 's',\n",
              " 't',\n",
              " 'can',\n",
              " 'will',\n",
              " 'just',\n",
              " 'don',\n",
              " \"don't\",\n",
              " 'should',\n",
              " \"should've\",\n",
              " 'now',\n",
              " 'd',\n",
              " 'll',\n",
              " 'm',\n",
              " 'o',\n",
              " 're',\n",
              " 've',\n",
              " 'y',\n",
              " 'ain',\n",
              " 'aren',\n",
              " \"aren't\",\n",
              " 'couldn',\n",
              " \"couldn't\",\n",
              " 'didn',\n",
              " \"didn't\",\n",
              " 'doesn',\n",
              " \"doesn't\",\n",
              " 'hadn',\n",
              " \"hadn't\",\n",
              " 'hasn',\n",
              " \"hasn't\",\n",
              " 'haven',\n",
              " \"haven't\",\n",
              " 'isn',\n",
              " \"isn't\",\n",
              " 'ma',\n",
              " 'mightn',\n",
              " \"mightn't\",\n",
              " 'mustn',\n",
              " \"mustn't\",\n",
              " 'needn',\n",
              " \"needn't\",\n",
              " 'shan',\n",
              " \"shan't\",\n",
              " 'shouldn',\n",
              " \"shouldn't\",\n",
              " 'wasn',\n",
              " \"wasn't\",\n",
              " 'weren',\n",
              " \"weren't\",\n",
              " 'won',\n",
              " \"won't\",\n",
              " 'wouldn',\n",
              " \"wouldn't\"]"
            ]
          },
          "metadata": {},
          "execution_count": 53
        }
      ],
      "source": [
        "nltk.download('stopwords')\n",
        "nltk.download('wordnet')\n",
        "\n",
        "lst_stopwords = nltk.corpus.stopwords.words(\"english\")\n",
        "lst_stopwords"
      ]
    },
    {
      "cell_type": "code",
      "execution_count": null,
      "metadata": {
        "colab": {
          "base_uri": "https://localhost:8080/",
          "height": 354
        },
        "id": "hBqfP9ZR_uCU",
        "outputId": "51169a7d-9acb-436c-db49-b84e824f22e0"
      },
      "outputs": [
        {
          "output_type": "execute_result",
          "data": {
            "text/html": [
              "\n",
              "  <div id=\"df-c7313647-7f14-49bb-8800-ce1f52d4e676\">\n",
              "    <div class=\"colab-df-container\">\n",
              "      <div>\n",
              "<style scoped>\n",
              "    .dataframe tbody tr th:only-of-type {\n",
              "        vertical-align: middle;\n",
              "    }\n",
              "\n",
              "    .dataframe tbody tr th {\n",
              "        vertical-align: top;\n",
              "    }\n",
              "\n",
              "    .dataframe thead th {\n",
              "        text-align: right;\n",
              "    }\n",
              "</style>\n",
              "<table border=\"1\" class=\"dataframe\">\n",
              "  <thead>\n",
              "    <tr style=\"text-align: right;\">\n",
              "      <th></th>\n",
              "      <th>LABEL</th>\n",
              "      <th>STATEMENT</th>\n",
              "      <th>BARELY_TRUE</th>\n",
              "      <th>False</th>\n",
              "      <th>HALF_TRUE</th>\n",
              "      <th>MOSTLY_TRUE</th>\n",
              "      <th>PANTS_FIRE</th>\n",
              "      <th>subject</th>\n",
              "      <th>speaker</th>\n",
              "      <th>job-title</th>\n",
              "      <th>state</th>\n",
              "      <th>party</th>\n",
              "      <th>context</th>\n",
              "      <th>number_of_words</th>\n",
              "      <th>text_clean</th>\n",
              "    </tr>\n",
              "  </thead>\n",
              "  <tbody>\n",
              "    <tr>\n",
              "      <th>0</th>\n",
              "      <td>0</td>\n",
              "      <td>Says the Annies List political group supports ...</td>\n",
              "      <td>0.0</td>\n",
              "      <td>1.0</td>\n",
              "      <td>0.0</td>\n",
              "      <td>0.0</td>\n",
              "      <td>0.0</td>\n",
              "      <td>16.0</td>\n",
              "      <td>438.0</td>\n",
              "      <td>711.0</td>\n",
              "      <td>56.0</td>\n",
              "      <td>16.0</td>\n",
              "      <td>940.0</td>\n",
              "      <td>11</td>\n",
              "      <td>say annies list political group support thirdt...</td>\n",
              "    </tr>\n",
              "    <tr>\n",
              "      <th>1</th>\n",
              "      <td>0</td>\n",
              "      <td>When did the decline of coal start? It started...</td>\n",
              "      <td>0.0</td>\n",
              "      <td>0.0</td>\n",
              "      <td>1.0</td>\n",
              "      <td>1.0</td>\n",
              "      <td>0.0</td>\n",
              "      <td>1792.0</td>\n",
              "      <td>1404.0</td>\n",
              "      <td>709.0</td>\n",
              "      <td>63.0</td>\n",
              "      <td>4.0</td>\n",
              "      <td>818.0</td>\n",
              "      <td>24</td>\n",
              "      <td>decline coal start started natural gas took st...</td>\n",
              "    </tr>\n",
              "    <tr>\n",
              "      <th>2</th>\n",
              "      <td>1</td>\n",
              "      <td>Hillary Clinton agrees with John McCain \"by vo...</td>\n",
              "      <td>70.0</td>\n",
              "      <td>71.0</td>\n",
              "      <td>160.0</td>\n",
              "      <td>163.0</td>\n",
              "      <td>9.0</td>\n",
              "      <td>2001.0</td>\n",
              "      <td>80.0</td>\n",
              "      <td>527.0</td>\n",
              "      <td>18.0</td>\n",
              "      <td>4.0</td>\n",
              "      <td>56.0</td>\n",
              "      <td>19</td>\n",
              "      <td>hillary clinton agrees john mccain voting give...</td>\n",
              "    </tr>\n",
              "    <tr>\n",
              "      <th>5</th>\n",
              "      <td>1</td>\n",
              "      <td>The Chicago Bears have had more starting quart...</td>\n",
              "      <td>0.0</td>\n",
              "      <td>3.0</td>\n",
              "      <td>2.0</td>\n",
              "      <td>5.0</td>\n",
              "      <td>1.0</td>\n",
              "      <td>1620.0</td>\n",
              "      <td>1335.0</td>\n",
              "      <td>808.0</td>\n",
              "      <td>73.0</td>\n",
              "      <td>16.0</td>\n",
              "      <td>518.0</td>\n",
              "      <td>27</td>\n",
              "      <td>chicago bear starting quarterback last 00 year...</td>\n",
              "    </tr>\n",
              "    <tr>\n",
              "      <th>7</th>\n",
              "      <td>0</td>\n",
              "      <td>I'm the only person on this stage who has work...</td>\n",
              "      <td>70.0</td>\n",
              "      <td>71.0</td>\n",
              "      <td>160.0</td>\n",
              "      <td>163.0</td>\n",
              "      <td>9.0</td>\n",
              "      <td>1850.0</td>\n",
              "      <td>80.0</td>\n",
              "      <td>527.0</td>\n",
              "      <td>18.0</td>\n",
              "      <td>4.0</td>\n",
              "      <td>252.0</td>\n",
              "      <td>27</td>\n",
              "      <td>im person stage worked actively last year pass...</td>\n",
              "    </tr>\n",
              "  </tbody>\n",
              "</table>\n",
              "</div>\n",
              "      <button class=\"colab-df-convert\" onclick=\"convertToInteractive('df-c7313647-7f14-49bb-8800-ce1f52d4e676')\"\n",
              "              title=\"Convert this dataframe to an interactive table.\"\n",
              "              style=\"display:none;\">\n",
              "        \n",
              "  <svg xmlns=\"http://www.w3.org/2000/svg\" height=\"24px\"viewBox=\"0 0 24 24\"\n",
              "       width=\"24px\">\n",
              "    <path d=\"M0 0h24v24H0V0z\" fill=\"none\"/>\n",
              "    <path d=\"M18.56 5.44l.94 2.06.94-2.06 2.06-.94-2.06-.94-.94-2.06-.94 2.06-2.06.94zm-11 1L8.5 8.5l.94-2.06 2.06-.94-2.06-.94L8.5 2.5l-.94 2.06-2.06.94zm10 10l.94 2.06.94-2.06 2.06-.94-2.06-.94-.94-2.06-.94 2.06-2.06.94z\"/><path d=\"M17.41 7.96l-1.37-1.37c-.4-.4-.92-.59-1.43-.59-.52 0-1.04.2-1.43.59L10.3 9.45l-7.72 7.72c-.78.78-.78 2.05 0 2.83L4 21.41c.39.39.9.59 1.41.59.51 0 1.02-.2 1.41-.59l7.78-7.78 2.81-2.81c.8-.78.8-2.07 0-2.86zM5.41 20L4 18.59l7.72-7.72 1.47 1.35L5.41 20z\"/>\n",
              "  </svg>\n",
              "      </button>\n",
              "      \n",
              "  <style>\n",
              "    .colab-df-container {\n",
              "      display:flex;\n",
              "      flex-wrap:wrap;\n",
              "      gap: 12px;\n",
              "    }\n",
              "\n",
              "    .colab-df-convert {\n",
              "      background-color: #E8F0FE;\n",
              "      border: none;\n",
              "      border-radius: 50%;\n",
              "      cursor: pointer;\n",
              "      display: none;\n",
              "      fill: #1967D2;\n",
              "      height: 32px;\n",
              "      padding: 0 0 0 0;\n",
              "      width: 32px;\n",
              "    }\n",
              "\n",
              "    .colab-df-convert:hover {\n",
              "      background-color: #E2EBFA;\n",
              "      box-shadow: 0px 1px 2px rgba(60, 64, 67, 0.3), 0px 1px 3px 1px rgba(60, 64, 67, 0.15);\n",
              "      fill: #174EA6;\n",
              "    }\n",
              "\n",
              "    [theme=dark] .colab-df-convert {\n",
              "      background-color: #3B4455;\n",
              "      fill: #D2E3FC;\n",
              "    }\n",
              "\n",
              "    [theme=dark] .colab-df-convert:hover {\n",
              "      background-color: #434B5C;\n",
              "      box-shadow: 0px 1px 3px 1px rgba(0, 0, 0, 0.15);\n",
              "      filter: drop-shadow(0px 1px 2px rgba(0, 0, 0, 0.3));\n",
              "      fill: #FFFFFF;\n",
              "    }\n",
              "  </style>\n",
              "\n",
              "      <script>\n",
              "        const buttonEl =\n",
              "          document.querySelector('#df-c7313647-7f14-49bb-8800-ce1f52d4e676 button.colab-df-convert');\n",
              "        buttonEl.style.display =\n",
              "          google.colab.kernel.accessAllowed ? 'block' : 'none';\n",
              "\n",
              "        async function convertToInteractive(key) {\n",
              "          const element = document.querySelector('#df-c7313647-7f14-49bb-8800-ce1f52d4e676');\n",
              "          const dataTable =\n",
              "            await google.colab.kernel.invokeFunction('convertToInteractive',\n",
              "                                                     [key], {});\n",
              "          if (!dataTable) return;\n",
              "\n",
              "          const docLinkHtml = 'Like what you see? Visit the ' +\n",
              "            '<a target=\"_blank\" href=https://colab.research.google.com/notebooks/data_table.ipynb>data table notebook</a>'\n",
              "            + ' to learn more about interactive tables.';\n",
              "          element.innerHTML = '';\n",
              "          dataTable['output_type'] = 'display_data';\n",
              "          await google.colab.output.renderOutput(dataTable, element);\n",
              "          const docLink = document.createElement('div');\n",
              "          docLink.innerHTML = docLinkHtml;\n",
              "          element.appendChild(docLink);\n",
              "        }\n",
              "      </script>\n",
              "    </div>\n",
              "  </div>\n",
              "  "
            ],
            "text/plain": [
              "   LABEL  ...                                         text_clean\n",
              "0      0  ...  say annies list political group support thirdt...\n",
              "1      0  ...  decline coal start started natural gas took st...\n",
              "2      1  ...  hillary clinton agrees john mccain voting give...\n",
              "5      1  ...  chicago bear starting quarterback last 00 year...\n",
              "7      0  ...  im person stage worked actively last year pass...\n",
              "\n",
              "[5 rows x 15 columns]"
            ]
          },
          "metadata": {},
          "execution_count": 54
        }
      ],
      "source": [
        "data[\"text_clean\"] = data[\"STATEMENT\"].apply(lambda x: \n",
        "          utils_preprocess_text(x, flg_stemm=False, flg_lemm=True, \n",
        "          lst_stopwords=lst_stopwords))\n",
        "\n",
        "data.head()"
      ]
    },
    {
      "cell_type": "code",
      "execution_count": null,
      "metadata": {
        "id": "Fh-M2GejMn5G"
      },
      "outputs": [],
      "source": [
        "token_space = tokenize.WhitespaceTokenizer()\n",
        "\n",
        "def counter(text, column_text, quantity):\n",
        "    all_words = ' '.join([text for text in text[column_text]])\n",
        "    token_phrase = token_space.tokenize(all_words)\n",
        "    frequency = nltk.FreqDist(token_phrase)\n",
        "    df_frequency = pd.DataFrame({\"Word\": list(frequency.keys()),\n",
        "                                   \"Frequency\": list(frequency.values())})\n",
        "    df_frequency = df_frequency.nlargest(columns = \"Frequency\", n = quantity)\n",
        "    plt.figure(figsize=(12,8))\n",
        "    ax = sns.barplot(data = df_frequency, x = \"Word\", y = \"Frequency\", color = 'blue')\n",
        "    ax.set(ylabel = \"Count\")\n",
        "    plt.xticks(rotation='vertical')\n",
        "    plt.show()"
      ]
    },
    {
      "cell_type": "code",
      "execution_count": null,
      "metadata": {
        "colab": {
          "base_uri": "https://localhost:8080/",
          "height": 534
        },
        "id": "UvkDQaw1MsMu",
        "outputId": "afc0b505-42fd-4ea0-cc3c-156b088839a2"
      },
      "outputs": [
        {
          "output_type": "display_data",
          "data": {
            "image/png": "[encoded data removed]",
            "text/plain": [
              "<Figure size 864x576 with 1 Axes>"
            ]
          },
          "metadata": {
            "needs_background": "light"
          }
        }
      ],
      "source": [
        "counter(data[data[\"LABEL\"] == 0], \"text_clean\", 20)"
      ]
    },
    {
      "cell_type": "code",
      "execution_count": null,
      "metadata": {
        "colab": {
          "base_uri": "https://localhost:8080/",
          "height": 534
        },
        "id": "vHvz4eCLM687",
        "outputId": "1ca80874-baea-40bb-e8dd-da57ae33950e"
      },
      "outputs": [
        {
          "output_type": "display_data",
          "data": {
            "image/png": "[encoded data removed]",
            "text/plain": [
              "<Figure size 864x576 with 1 Axes>"
            ]
          },
          "metadata": {
            "needs_background": "light"
          }
        }
      ],
      "source": [
        "counter(data[data[\"LABEL\"] == 1], \"text_clean\", 20)"
      ]
    },
    {
      "cell_type": "code",
      "execution_count": null,
      "metadata": {
        "id": "r_oYEEh2BuQ0"
      },
      "outputs": [],
      "source": [
        "data=data.drop(columns=['STATEMENT','number_of_words'])"
      ]
    },
    {
      "cell_type": "code",
      "execution_count": null,
      "metadata": {
        "id": "EJojAYlxCJtY"
      },
      "outputs": [],
      "source": [
        "from sklearn.model_selection import train_test_split\n",
        "\n",
        "X_train, X_test, y_train, y_test = train_test_split(data['text_clean'],data['LABEL'], stratify=data['LABEL'])"
      ]
    },
    {
      "cell_type": "markdown",
      "metadata": {
        "id": "cnu_OTBuA0f-"
      },
      "source": [
        "# **Implementation**"
      ]
    },
    {
      "cell_type": "markdown",
      "metadata": {
        "id": "AqFQgr2-BBZd"
      },
      "source": [
        "## **Logistic Regression with CountVectorizer**"
      ]
    },
    {
      "cell_type": "code",
      "execution_count": null,
      "metadata": {
        "colab": {
          "base_uri": "https://localhost:8080/"
        },
        "id": "vL6QTeelFI9q",
        "outputId": "4d665425-8a8b-464c-e70b-aec10f9c8e43"
      },
      "outputs": [
        {
          "output_type": "stream",
          "name": "stdout",
          "text": [
            "{'say': 5975, 'bipartisan': 980, 'support': 6643, 'including': 3485, '10': 177, 'sheriff': 6166, 'throughout': 6878, 'state': 6473, 'democrat': 1966, 'republican': 5718, 'chile': 1358, '70': 263, 'percent': 4998, 'gdp': 2980, 'saving': 5972, 'city': 1394, 'houston': 3367, 'debt': 1877, 'per': 4997, 'caput': 1222, 'california': 1184, 'cant': 1211, 'pas': 4927, 'budget': 1127, 'senate': 6085, 'united': 7157, 'without': 7484, '60': 235, 'vote': 7302, '00': 0, 'oregon': 4768, 'inmate': 3551, 'prison': 5281, 'violent': 7282, 'crime': 1757, 'serious': 6108, 'sex': 6138, 'offense': 4693, 'quadrupled': 5427, 'agent': 497, 'secure': 6056, 'border': 1046, 'last': 3896, 'time': 6895, 'held': 3254, 'hostage': 3357, 'resolution': 5750, 'ensure': 2432, 'country': 1717, 'bill': 973, 'paid': 4874, 'cost': 1697, 'billion': 975, 'added': 431, 'interest': 3604, 'slowed': 6284, 'economic': 2283, 'recovery': 5574, '06': 81, 'trillion': 7018, 'national': 4513, 'would': 7519, 'cover': 1728, 'entire': 2441, 'ohio': 4708, 'nearly': 4529, '01': 62, 'governor': 3069, 'tim': 6893, 'kaine': 3781, 'oversaw': 4839, 'huge': 3374, 'increase': 3495, 'illegal': 3419, 'immigration': 3438, 'tremendous': 7009, 'today': 6904, 'men': 4287, 'woman': 7490, 'work': 7501, 'america': 585, 'people': 4996, 'working': 7505, 'canada': 1200, 'redskin': 5588, 'training': 6972, 'camp': 1193, 'deal': 1863, 'generated': 2989, 'million': 4353, 'new': 4567, 'private': 5284, 'investment': 3640, 'fundraising': 2937, 'super': 6632, 'pac': 4864, 'clinton': 1431, 'presided': 5243, 'biggest': 970, 'expansion': 2557, 'american': 586, 'economy': 2285, 'since': 6231, 'world': 7509, 'war': 7336, 'ii': 3416, 'hillary': 3293, 'want': 7332, 'raise': 5477, 'tax': 6740, 'middle': 4334, 'class': 1406, 'many': 4176, '00000': 3, 'die': 2054, 'year': 7548, 'dont': 2177, 'health': 3234, 'insurance': 3588, 'young': 7559, 'voter': 7305, '08': 115, 'november': 4639, '0001': 9, 'largely': 3890, 'unheard': 7143, 'rick': 5815, 'scott': 6020, 'charlie': 1326, 'crists': 1763, 'went': 7404, 'goal': 3036, 'affordable': 484, 'care': 1227, 'act': 414, 'get': 3006, 'insured': 3590, 'got': 3057, 'republicansponsored': 5725, 'wisconsin': 7471, 'mining': 4365, 'take': 6712, 'least': 3939, 'seven': 6126, 'create': 1748, 'job': 3728, 'obamas': 4666, 'plan': 5093, 'cut': 1809, '91': 328, 'family': 2644, 'sayspatrick': 5987, 'murphy': 4481, 'pay': 4960, 'energy': 2405, 'agenda': 496, 'mean': 4252, 'could': 1705, 'another': 628, '100': 178, 'utility': 7222, 'katy': 3792, 'freeway': 2906, 'interstate': 3615, 'west': 7407, 'widest': 7442, 'lane': 3884, 'frontage': 2919, 'road': 5849, 'recent': 5551, 'associated': 749, 'press': 5250, 'poll': 5139, 'nadergonzalez': 4498, 'coverage': 1729, 'mccain': 4236, 'obama': 4655, 'obamacare': 4656, 'slush': 6288, 'fund': 2932, 'spay': 6386, 'neuter': 4560, 'dog': 2154, 'cat': 1261, 'counted': 1712, 'antiobesity': 638, 'campaign': 1194, 'gasoline': 2975, 'hit': 3307, 'gallon': 2951, 'florida': 2811, 'voted': 7304, 'disaster': 2088, 'relief': 5658, 'full': 2925, 'funding': 2935, 'fema': 2708, '19': 225, 'different': 2060, 'federal': 2687, 'program': 5318, 'report': 5707, 'eight': 2302, 'agency': 495, 'majority': 4143, 'candidate': 1206, 'texas': 6810, '01th': 79, 'congressional': 1588, 'district': 2136, 'live': 4041, 'outside': 4809, 'gov': 3059, 'walker': 7325, 'move': 4458, 'limit': 4019, 'collective': 1476, 'bargaining': 864, 'right': 5828, 'led': 3943, 'riot': 5835, 'capitol': 1218, 'like': 4015, 'cairo': 1178, 'moved': 4459, 'madison': 4125, 'day': 1851, 'path': 4944, 'becoming': 905, 'law': 3911, 'started': 6467, 'crist': 1762, 'supporting': 6646, 'president': 5245, '787': 286, 'stimulus': 6513, 'first': 2774, 'history': 3306, 'government': 3062, 'manufacturing': 4175, 'teaching': 6756, 'common': 1508, 'core': 1680, 'standard': 6458, 'school': 6008, '0000': 2, 'according': 392, 'office': 4696, 'repealing': 5698, 'deficit': 1931, 'cocacola': 1456, 'study': 6570, 'showed': 6194, 'texan': 6809, 'love': 4097, 'resident': 5745, 'wisconsinite': 7472, 'ranked': 5494, 'second': 6043, 'required': 5730, 'septic': 6103, 'inspection': 3567, 'tank': 6727, 'owner': 4856, '000': 1, '010': 63, 'every': 2506, 'five': 2785, 'idea': 3404, 'contained': 1630, 'electronic': 2325, 'cigarette': 1383, 'vapor': 7243, 'rob': 5854, 'portmans': 5171, 'stop': 6523, 'china': 1359, 'dumping': 2245, 'steel': 6499, 'failed': 2627, 'looked': 4075, 'way': 7368, 'nothing': 4634, 'fulltime': 2928, 'employee': 2369, 'illinois': 3424, 'perry': 5022, 'advocated': 472, 'liquidate': 4033, 'rainy': 5476, '0007': 18, 'agriculture': 509, '98': 335, 'efficiency': 2297, 'water': 7359, 'use': 7211, 'maxed': 4229, 'conservation': 1601, 'end': 2389, 'un': 7097, 'arm': 712, 'treaty': 7005, 'mandate': 4161, 'international': 3610, 'gun': 3147, 'registry': 5627, 'two': 7074, 'supported': 6644, 'proposed': 5352, '011': 68, 'worth': 7518, 'targeting': 6733, 'dr': 2200, 'gingrey': 3014, 'presented': 5240, 'zero': 7574, 'michael': 4327, 'bennet': 941, 'hardly': 3200, 'independent': 3507, 'premium': 5230, 'medicare': 4271, 'prescription': 5237, 'drug': 2232, 'fallen': 2640, 'almost': 566, 'began': 910, 'attack': 761, 'rail': 5473, 'target': 6731, 'four': 2871, 'thousand': 6863, 'died': 2055, 'injury': 3550, 'outstripped': 4815, 'poverty': 5193, 'rate': 5501, '0919': 141, 'spent': 6406, 'money': 4420, 'exact': 2516, 'iowa': 3653, 'hampshire': 3174, 'nevada': 4563, 'south': 6367, 'carolina': 1236, 'politician': 5136, 'barack': 857, 'never': 4565, 'even': 2499, 'worked': 7502, 'business': 1160, 'defense': 1927, 'department': 1980, 'shrinkwrapped': 6202, '008': 43, 'loaded': 4046, '071': 103, 'pallet': 4883, 'put': 5420, 'transport': 6984, 'plane': 5094, 'iraq': 3662, 'passed': 4932, 'one': 4726, 'receipt': 5546, 'exchange': 2528, 'society': 6320, 'actuary': 425, 'point': 5123, 'therell': 6838, '80': 293, 'individual': 3515, 'next': 4577, 'couple': 1721, 'unlike': 7168, 'marijuana': 4184, 'medical': 4270, 'cannabis': 1207, 'oil': 4710, 'cannot': 1210, 'high': 3278, 'image': 3427, 'chrisabele': 1368, 'tv': 7062, 'ad': 428, 'depicts': 1986, 'wealthy': 7376, 'citizen': 1392, 'benefit': 937, 'lake': 3873, 'created': 1749, 'controversial': 1655, 'estabrook': 2481, 'dam': 1827, 'better': 954, 'average': 802, 'number': 4643, 'peter': 5042, 'defazio': 1917, 'nancy': 4506, 'pelosi': 4985, '86': 309, '000101': 12, 'security': 6058, 'fight': 2731, 'criminal': 1758, 'gang': 2959, 'senator': 6086, 'john': 3736, 'stood': 6522, 'previous': 5264, 'fuel': 2922, 'situation': 6246, 'place': 5090, 'increased': 3496, 'elected': 2315, 'fewest': 2719, 'adult': 459, 'jimmy': 3727, 'carter': 1246, 'presidency': 5244, 'medicaid': 4269, 'spending': 6404, 'declined': 1896, '09': 128, 'decline': 1895, '17': 213, 'took': 6920, 'losing': 4085, '700000': 267, 'month': 4430, 'weve': 7411, 'growth': 3130, 'think': 6845, 'consecutive': 1597, 'largest': 3894, 'user': 7214, 'isi': 3672, 'predominantislamist': 5221, 'group': 3124, 'benghazi': 939, 'also': 572, 'balanced': 837, 'using': 7215, 'revenue': 5793, 'total': 6933, 'pers': 5023, 'reform': 5607, 'sends': 6089, 'back': 817, 'changed': 1316, 'definition': 1936, 'alqaeda': 569, 'taliban': 6718, 'making': 4147, 'anybody': 645, 'loosely': 4079, 'gulf': 3146, 'mexico': 4322, 'fully': 2929, 'inflating': 3531, 'tire': 6901, 'step': 6503, 'expert': 2569, 'absolutely': 371, 'reduce': 5589, 'consumption': 1627, 'administration': 448, 'detained': 2022, 'nation': 4512, 'designated': 2009, 'sponsor': 6422, 'terrorism': 6799, 'southwestern': 6371, 'doubled': 2184, 'size': 6260, 'fifteen': 2724, 'ago': 501, 'couldnt': 1706, 'pizza': 5089, 'delivered': 1954, 'neighborhood': 4549, 'saudi': 5969, 'arabia': 692, 'thirdlargest': 6850, 'military': 4347, 'gas': 2973, '110': 198, 'tradedependent': 6960, 'deportation': 1989, 'immigrant': 3434, 'convicted': 1664, 'single': 6235, 'shred': 6198, 'evidence': 2513, 'anyone': 648, 'thatthe': 6821, 'libya': 3996, 'spontaneous': 6425, 'fact': 2619, 'cia': 1380, 'understood': 7127, 'early': 2258, 'difference': 2059, 'experience': 2566, 'austin': 782, 'lowest': 4102, 'property': 5346, 'far': 2650, 'major': 4142, 'healthcare': 3235, 'half': 3164, 'qualify': 5430, 'buy': 1169, 'lot': 4088, 'student': 6567, 'loan': 4047, 'already': 571, 'refinanced': 5605, 'yet': 7554, 'give': 3020, 'away': 812, 'friend': 2914, 'house': 3364, 'opponent': 4751, 'williams': 7450, 'he': 3226, 'seeking': 6062, 'represent': 5711, 'there': 6835, 'direct': 2070, 'supreme': 6650, 'court': 1724, 'case': 1248, 'illegally': 3421, 'whether': 7422, 'kid': 3817, 'atf': 756, 'data': 1842, 'firearm': 2766, 'recovered': 5572, 'traced': 6956, 'cartel': 1245, 'originated': 4780, 'katie': 3790, 'mcgintyactually': 4248, 'agrees': 507, 'liberal': 3991, 'wing': 7464, 'everything': 2510, 'attacked': 762, 'advantage': 464, 'claim': 1402, 'found': 2867, 'rev': 5789, 'wright': 7528, 'said': 5934, 'alqaida': 570, 'flag': 2792, 'eliminating': 2338, 'earmark': 2259, 'getting': 3007, 'nominee': 4602, 'confirmed': 1577, 'faster': 2657, 'george': 3001, 'bush': 1156, 'term': 6793, 'increasing': 3497, 'min': 4357, 'wage': 7315, 'hour': 3363, 'food': 2827, 'stamp': 6454, 'public': 5393, 'housing': 3366, '76': 277, 'deprive': 1996, 'underprivileged': 7125, 'child': 1353, 'meatbased': 4264, 'protein': 5372, 'lunch': 4109, 'likely': 4016, 'depriving': 1998, 'source': 6366, 'offshore': 4704, 'wind': 7456, 'power': 5194, 'significantly': 6220, 'le': 3926, 'expensive': 2565, 'solar': 6327, 'illegals': 3422, 'come': 1487, 'arizona': 706, 'change': 1315, 'handout': 3182, 'bp': 1069, 'workrelated': 7508, 'email': 2348, 'sent': 6095, 'fbi': 2676, 'director': 2075, 'thats': 6820, 'africanamericans': 492, 'percentage': 5000, 'population': 5157, '0008': 20, 'mississippi': 4387, 'suddenly': 6610, 'democratic': 1967, 'sen': 6084, 'richard': 5811, 'burr': 1153, 'violence': 7281, 'cuba': 1785, 'let': 3980, 'chinese': 1360, 'drill': 2216, 'part': 4909, 'producer': 5306, 'currently': 1803, 'forbidden': 2834, 'touch': 6937, 'close': 1435, '11': 197, 'mile': 4345, 'coast': 1454, 'involve': 3648, 'developing': 2036, 'prevent': 5257, 'community': 1512, 'rhodemap': 5805, 'ri': 5806, 'local': 4053, 'control': 1651, 'zoning': 7578, 'tennessee': 6787, '67': 255, 'education': 2291, 'university': 7160, 'college': 1477, 'oddest': 4689, 'thing': 6844, 'doesnt': 2153, 'massachusetts': 4207, 'hillarycare': 3294, '069': 93, 'conference': 1570, 'unemployment': 7136, 'remained': 5668, 'longest': 4067, 'stretch': 6549, 'great': 3101, 'depression': 1995, 'lobbied': 4049, 'latestage': 3901, 'cancer': 1204, 'vaccinating': 7230, 'girl': 3017, 'virus': 7287, 'cause': 1275, 'cervical': 1299, 'suggested': 6619, 'connection': 1594, 'iraqi': 3663, 'keystone': 3812, 'xl': 7545, 'pipeline': 5084, 'kelly': 3800, 'ayotte': 813, 'paycheck': 4963, 'fairness': 2635, 'dekalb': 1943, 'county': 1720, 'general': 2987, 'atlanta': 758, 'metro': 4317, 'region': 5621, 'obesity': 4671, 'existed': 2547, '0980s': 156, 'system': 6702, 'several': 6131, 'save': 5970, 'much': 4467, 'dollar': 2159, 'teacher': 6755, 'able': 356, 'return': 5785, 'raising': 5479, 'seen': 6065, 'patrol': 4952, 'sign': 6216, 'near': 4527, 'english': 2419, 'spanish': 6380, 'kay': 3793, 'bailey': 830, 'hutchisons': 3393, 'concession': 1554, 'speech': 6399, 'came': 1190, 'precinct': 5209, 'lowwage': 4106, 'employer': 2371, 'mcdonalds': 4244, 'walmart': 7329, '0971': 150, 'redistricting': 5587, 'lawmaker': 3915, 'always': 577, 'violation': 7280, 'section': 6054, 'voting': 7307, 'allowing': 562, 'income': 3486, 'expire': 2570, 'dec': 1880, 'amount': 596, 'among': 594, '16': 208, 'cent': 1290, 'saw': 5973, 'rise': 5837, '7100': 273, 'donald': 2167, 'trump': 7040, 'encourage': 2385, 'japan': 3700, 'nuclear': 4642, 'weapon': 7377, 'deepwater': 1912, 'everybody': 2507, 'paying': 4965, 'project': 5325, 'electric': 2321, 'invested': 3635, 'record': 5567, 'protecting': 5370, 'environment': 2451, 'virtually': 7286, 'dropped': 2228, '000000': 4, 'macys': 4121, 'letter': 3982, 'urging': 7204, 'veto': 7259, 'equal': 2456, 'taken': 6713, 'hundred': 3378, 'stoned': 6521, 'killed': 3821, 'adulteryand': 460, 'drive': 2220, 'speaker': 6387, 'joe': 3735, 'straus': 6540, 'wallace': 7328, 'hall': 3166, 'swing': 6691, 'tree': 7007, '0790': 111, 'congress': 1586, 'packed': 4870, 'framer': 2886, 'ship': 6172, 'provide': 5380, 'seaman': 6034, '0798': 112, 'hospital': 3353, 'enacted': 2380, 'mandating': 4162, 'ablebodied': 357, 'obtain': 4679, 'lagged': 3871, 'timeline': 6896, 'draw': 2209, 'troop': 7030, 'terry': 6802, 'mcauliffe': 4235, 'threatened': 6866, 'shut': 6204, 'virginia': 7284, 'isnt': 3682, 'help': 3258, 'decade': 1881, 'level': 3986, 'dwight': 2253, 'eisenhower': 2308, 'bring': 1103, 'need': 4535, 'separate': 6100, 'commercial': 1500, 'banking': 850, 'speculative': 6398, 'namely': 4504, 'reinstating': 5643, 'glasssteagall': 3025, 'election': 2317, 'chairman': 1307, '0908': 135, 'black': 991, 'male': 4149, 'shot': 6190, 'enforcement': 2409, 'officer': 4697, 'white': 7426, 'lie': 4003, 'mitt': 4394, 'romney': 5874, 'wrote': 7538, 'social': 6315, 'done': 2172, 'sector': 6055, 'called': 1186, 'made': 4123, 'unilateral': 7145, 'turnpike': 7060, 'worker': 7503, '66000': 253, 'collect': 1471, 'toll': 6914, 'machine': 4119, 'might': 4342, 'russia': 5917, 'hold': 3315, 'precious': 5210, 'satellite': 5964, 'risk': 5841, 'ever': 2503, 'ground': 3120, 'reached': 5517, 'across': 412, 'party': 4925, 'line': 4026, 'anything': 649, 'significant': 6219, '07': 95, 'longer': 4066, 'denied': 1973, 'preexisting': 5222, 'condition': 1563, 'legislative': 3960, 'debate': 1871, 'airport': 523, 'patdown': 4940, 'procedure': 5298, 'initiated': 3547, 'opposed': 4754, 'legislation': 3958, 'levee': 3985, 'flood': 2807, 'considers': 1607, 'pork': 5159, 'epa': 2454, 'tried': 7016, 'define': 1934, 'puddle': 5399, 'drainage': 2204, 'ditch': 2137, 'farm': 2652, 'navigable': 4522, 'thus': 6884, 'subject': 6579, 'massive': 4212, 'environmental': 2452, 'regulation': 5634, 'mayor': 4232, 'commissioner': 1502, 'crisis': 1761, 'salem': 5942, 'week': 7388, 'negotiating': 4546, 'free': 2902, 'advanced': 462, 'democracy': 1965, 'make': 4144, 'harder': 3199, 'drop': 2226, 'good': 3051, 'going': 3041, 'financing': 2753, 'really': 5533, 'disadvantage': 2080, 'youre': 7562, 'win': 7455, 'primary': 5270, 'officially': 4700, 'nominated': 4600, 'mercedes': 4299, 'jersey': 3715, 'georgia': 3002, 'landing': 3880, 'company': 1519, 'usa': 7207, 'corporate': 1686, 'headquarters': 3232, '010000': 66, 'home': 3326, '001000': 35, '78': 285, 'paul': 4954, 'ryans': 5923, 'try': 7045, 'permanently': 5014, 'derail': 2000, 'brad': 1072, 'schneiders': 6005, 'progressive': 5320, 'energized': 2404, 'roy': 5895, 'cooper': 1671, 'wont': 7494, 'tuition': 7050, 'erie': 2466, 'contains': 1632, 'native': 4517, 'fish': 2780, 'combined': 1486, 'raffled': 5470, 'ar01': 690, 'assault': 739, 'rifle': 5824, 'fair': 2631, 'tom': 6916, 'barrett': 870, 'takeover': 6714, 'topfive': 6927, 'staged': 6448, 'automobile': 798, 'accident': 387, 'three': 6869, 'rank': 5493, 'auto': 792, 'age': 494, '61': 245, 'lost': 4087, '100000': 181, 'career': 1228, 'result': 5773, 'gap': 2963, 'fiscal': 2778, 'served': 6113, 'received': 5548, 'service': 6115, 'provider': 5383, 'planned': 5096, 'parenthood': 4899, 'clinic': 1430, 'approach': 678, 'reduction': 5593, 'north': 4623, 'korea': 3848, 'substantial': 6596, 'standing': 6460, 'army': 715, 'certainly': 1297, 'minimum': 4363, 'destroy': 2017, 'muslim': 4489, 'agreed': 504, 'justified': 3776, 'global': 3029, 'jihad': 3724, 'man': 4153, 'prolife': 5329, 'material': 4219, 'marked': 4188, 'classified': 1407, 'server': 6114, 'whilesecretary': 7423, '78700': 287, 'secondmost': 6050, 'gentrified': 2999, 'zip': 7576, 'code': 1461, 'rep': 5690, 'ryan': 5922, 'promised': 5334, 'senior': 6091, 'hewas': 3272, 'chief': 1352, 'architect': 695, 'balancing': 839, 'federalbudget': 2688, 'alone': 567, 'facing': 2618, 'tenandahalf': 6780, 'shortfall': 6188, 'hurt': 3387, 'released': 5656, 'alien': 546, '096': 142, 'murderer': 4479, 'homicide': 3334, 'conviction': 1665, 'hate': 3215, 'mosque': 4442, 'tripled': 7024, 'paris': 4900, 'san': 5951, 'bernardino': 948, 'wealthiest': 7375, 'raised': 5478, 'floridian': 2812, 'veteran': 7258, 'actually': 424, 'lower': 4099, 'higher': 3280, 'wonder': 7492, 'see': 6059, 'rand': 5489, 'still': 6510, 'shopping': 6183, 'billionaire': 976, 'hasnt': 3211, 'convention': 1658, 'center': 1291, 'sold': 6329, 'building': 1133, 'taxpayer': 6748, 'dime': 2063, 'mccains': 4239, '1000': 179, 'credit': 1755, 'policy': 5131, 'loss': 4086, 'prosecution': 5360, 'balfour': 842, 'excluding': 2532, 'prosecutor': 5361, 'salary': 5940, 'subsidy': 6594, 'giveways': 3022, 'pursuing': 5415, 'clean': 1412, 'orleans': 4782, 'nearly000': 4530, 'charter': 1329, 'top': 6925, 'afford': 482, 'highest': 3281, 'lesbian': 3977, 'gay': 2979, 'bisexual': 986, 'transgender': 6977, 'ranking': 5495, 'third': 6846, 'louisiana': 4095, 'grown': 3129, 'recession': 5554, 'scientist': 6015, 'tell': 6773, 'warming': 7339, 'happening': 3189, 'faulti': 2670, 'stack': 6444, 'opposite': 4757, 'coal': 1451, 'start': 6466, 'natural': 4519, 'begin': 914, 'shes': 6168, 'wipe': 7467, 'amendment': 584, 'believe': 922, 'belief': 921, 'big': 968, 'fly': 2818, 'face': 2613, '00th': 60, 'david': 1849, 'simpson': 6227, 'driver': 2223, 'license': 3999, 'replace': 5702, 'sequester': 6104, 'richmond': 5814, 'veganfriendly': 7249, 'contraception': 1640, 'cheaper': 1336, 'easier': 2271, 'mark': 4187, 'udalls': 7087, 'sued': 6612, 'rent': 5687, 'uhaul': 7089, 'twice': 7071, 'go': 3035, 'francisco': 2891, 'around': 718, 'find': 2754, 'enough': 2425, 'truck': 7036, 'flee': 2799, 'golden': 3043, 'reality': 5529, 'roughly': 5888, '01000': 65, 'undocumented': 7132, 'living': 4043, 'recently': 5552, 'enforced': 2408, 'id': 3402, 'rule': 5903, 'considerably': 1604, 'stringent': 6555, 'denounce': 1975, 'antonio': 642, 'dallas': 1825, '8000': 295, 'samesex': 5950, 'saying': 5976, 'consumer': 1625, 'product': 5308, 'safety': 5933, 'commission': 1501, 'acting': 416, 'consultation': 1623, 'input': 3556, 'sale': 5941, 'buckyball': 1124, 'havent': 3219, 'past': 4937, 'countrynot': 1719, 'york': 7555, 'israeli': 3686, 'prime': 5271, 'minister': 4366, 'benjamin': 940, 'netanyahu': 4555, 'show': 6193, 'instead': 3577, 'meeting': 4278, 'sarah': 5961, 'palin': 4881, 'ration': 5510, 'covered': 1730, 'certain': 1296, 'circumstance': 1388, 'daniel': 1838, 'webster': 7385, 'taking': 6716, 'commonwealth': 1510, 'marcy': 4179, 'kaptur': 3784, 'air': 518, 'force': 2835, 'showing': 6196, 'disrespect': 2122, 'referendum': 5600, 'marriage': 4194, 'constitutional': 1617, 'camden': 1189, 'graduated': 3082, 'ready': 5524, 'murdered': 4478, 'battlefield': 889, 'afghanistan': 486, 'keep': 3796, 'low': 4098, 'small': 6290, 'kind': 3826, 'graduate': 3081, 'industry': 3519, 'car': 1223, 'johnson': 3738, 'begged': 911, 'bailout': 831, 'approved': 685, 'transfer': 6975, 'uranium': 7200, 'holding': 3317, 'nine': 4586, 'investor': 3641, 'funneled': 2939, 'foundation': 2868, 'fatal': 2662, 'crash': 1744, '0009': 21, 'attributed': 775, 'distracted': 2131, 'driving': 2224, 'proposal': 5349, 'middleclass': 4335, 'discussing': 2103, 'consulate': 1620, 'libyams': 3997, 'rice': 5809, 'terrorist': 6800, 'whole': 7432, 'video': 7271, 'reserve': 5740, 'identification': 3407, 'poor': 5151, 'minority': 4369, 'elderly': 2313, 'used': 7212, 'rescue': 5735, 'bank': 849, 'spend': 6403, 'refugee': 5611, 'rebuild': 5544, 'inner': 3553, 'watch': 7356, 'trade': 6959, 'czar': 1816, 'exploded': 2574, 'portman': 5170, 'spree': 6431, 'ha': 3155, 'life': 4006, 'carol': 1235, 'sheaporter': 6156, 'creator': 1753, 'tenure': 6791, 'arkansas': 709, 'dental': 1976, 'toward': 6950, 'worse': 7514, 'poorer': 5152, 'issued': 3688, 'decree': 1901, 'demanding': 1963, 'allow': 560, 'boy': 1066, 'little': 4040, 'bathroom': 887, 'balance': 836, 'congressman': 1589, 'nye': 4651, 'defunded': 1939, 'irs': 3668, 'needed': 4537, 'toimplement': 6911, 'expenditure': 2563, 'greater': 3102, 'account': 393, 'struggling': 6566, 'stopped': 6525, 'looking': 4076, 'real': 5527, 'pension': 4994, 'nationally': 4514, 'oswego': 4789, 'welcome': 7396, 'announced': 621, '99': 338, 'folk': 2822, 'taxation': 6741, 'mostly': 4444, 'entrylevel': 2450, 'us': 7206, 'outlawed': 4800, 'casualty': 1260, 'death': 1870, 'literally': 4039, 'beginning': 915, 'iran': 3660, 'violates': 7279, 'promise': 5333, 'anytime': 650, 'anywhere': 652, 'process': 5300, 'incontrovertible': 3491, 'proof': 5342, 'speed': 6400, 'contributing': 1648, 'factor': 2622, 'vehicular': 7251, 'fatality': 2663, 'published': 5398, 'cycle': 1815, 'harry': 3208, 'reid': 5638, 'trailing': 6970, 'privatize': 5288, 'firework': 2770, 'safer': 5931, 'continues': 1638, 'chemical': 1345, 'market': 4189, 'regulated': 5631, 'drone': 2225, '0700': 97, 'nearlyone': 4531, '0997': 164, 'following': 2825, 'enactment': 2382, 'disastrous': 2089, 'recruiting': 5577, 'harvard': 3209, 'kagan': 3780, 'romneyryan': 5876, 'allowed': 561, 'double': 2183, 'secured': 6057, 'grand': 3088, '006808760': 40, 'date': 1844, 'mahoning': 4135, 'valley': 7237, 'additional': 437, '07091000': 102, 'pending': 4989, 'fy0000': 2944, 'skyrocket': 6266, 'wake': 7322, 'pakistan': 4878, 'warhead': 7338, 'theyre': 6842, 'rushing': 5915, 'build': 1132, 'theyll': 6841, 'britain': 1107, 'sometime': 6348, 'relatively': 5654, 'future': 2943, 'addictive': 434, 'alcohol': 536, 'tobacco': 6903, 'rejected': 5647, 'payment': 4967, 'deductible': 1906, 'capital': 1217, 'fare': 2651, 'disabled': 2079, 'estimated': 2485, 'fluoridation': 2816, 'financial': 2751, 'protection': 5371, 'bureau': 1145, 'generate': 2988, 'late': 3898, 'fee': 2692, 'overdraft': 4827, 'repeatedly': 5701, 'predatory': 5215, 'mortgage': 4441, 'africanamerican': 491, 'latino': 3904, 'ron': 5878, 'klein': 3838, 'favor': 2672, 'amnesty': 593, 'suburb': 6599, 'inundated': 3625, 'former': 2848, 'rhode': 5804, 'island': 3678, 'dropout': 2227, 'england': 2418, 'twentythree': 7069, 'kasich': 3785, '0980': 155, '109': 191, 'crossing': 1773, '00year': 61, 'sixty': 6254, 'theft': 6826, 'st': 6440, 'petersburg': 5043, 'caused': 1276, 'leaving': 3941, 'key': 3811, 'cincinnati': 1384, 'run': 5906, 'perhaps': 5010, 'statewide': 6484, 'review': 5795, 'land': 3878, 'decision': 1891, 'legal': 3950, 'defending': 1925, 'lawsuit': 3918, 'birth': 983, 'certificate': 1298, 'council': 1707, 'adviser': 467, 'lose': 4083, 'pass': 4931, 'apprehended': 677, 'usmexico': 7218, 'born': 1047, 'lemieux': 3969, 'gained': 2948, 'row': 5893, 'obligation': 4676, 'update': 7191, 'registration': 5626, 'address': 438, 'bmv': 1019, 'spends': 6405, 'uk': 7090, 'france': 2888, 'refusal': 5614, 'costing': 1699, 'fourth': 2874, 'instate': 3576, 'unleashes': 7166, 'overall': 4821, 'talking': 6721, 'va': 7226, '81': 303, 'endorsing': 2400, 'producing': 5307, '80000': 296, 'talk': 6719, 'net': 4554, 'unequivocally': 7138, 'stand': 6456, 'groundlaw': 3121, 'earn': 2261, 'earned': 2262, 'miamidade': 4324, 'educating': 2290, 'publicschool': 5396, 'entering': 2437, 'kindergarten': 3827, 'enjoy': 2420, 'graduating': 3083, 'forced': 2836, 'six': 6247, 'casino': 1253, 'gone': 3048, 'bankrupt': 851, 'gross': 3118, 'debbie': 1873, 'wasserman': 7351, 'schultz': 6011, 'missed': 4383, 'worst': 7517, 'member': 4281, 'solitary': 6335, 'example': 2520, 'signing': 6221, '068': 91, 'presidential': 5248, 'filibustered': 2739, 'blocked': 1006, 'newt': 4575, 'gingrich': 3015, 'foreign': 2839, 'aid': 512, 'israel': 3685, 'copenhagen': 1677, 'climate': 1424, 'freedom': 2903, 'prosperity': 5363, 'forever': 2843, 'neither': 4551, 'subsequent': 6590, 'may': 4230, 'elect': 2314, 'whatsoever': 7417, 'ive': 3690, 'saved': 5971, 'storm': 6529, 'helped': 3259, 'requiring': 5733, 'ultrasound': 7094, 'abortion': 362, 'person': 5026, 'patient': 4948, 'bureaucrat': 1147, 'panel': 4886, '90': 319, 'transporting': 6986, 'price': 5266, 'admission': 451, 'declining': 1897, 'twentyone': 7068, 'phoenix': 5059, 'ariz': 705, 'kidnapping': 3819, 'preparation': 5232, 'advocating': 473, 'strike': 6554, 'updated': 7192, 'dealing': 1866, 'quite': 5452, 'frankly': 2894, 'shown': 6197, 'reluctance': 5663, 'enforce': 2407, 'dewhursts': 2045, 'leadership': 3929, 'perstudent': 5034, 'k00': 3779, 'portland': 5168, 'dipped': 2069, '6006': 243, '00070008': 19, '1611': 211, '00000000': 5, 'projected': 5326, 'basic': 879, 'remain': 5666, 'probably': 5295, 'oregonian': 4769, 'oppose': 4753, 'penalty': 4987, 'reduces': 5591, 'uninsured': 7149, 'ironic': 3665, 'corp': 1685, 'name': 4502, 'football': 2830, 'stadium': 6445, 'cleveland': 1420, 'supply': 6641, 'electricity': 2323, 'julie': 3762, 'parrish': 4908, 'add': 430, 'clothing': 1442, 'medicine': 4273, 'esd': 2473, 'superintendent': 6633, 'position': 5175, 'pathologist': 4946, 'special': 6391, 'instructor': 3585, 'classroom': 1409, 'permit': 5016, 'expand': 2554, 'long': 4065, 'expanded': 2555, 'didnt': 2053, 'concealed': 1544, 'handgun': 3177, 'wife': 7444, 'employment': 2376, 'mail': 4137, 'piece': 5073, 'analyst': 603, 'looming': 4077, 'hike': 3290, 'kill': 3820, 'head': 3227, 'ordered': 4766, 'erased': 2464, 'sure': 6652, 'know': 3843, 'truth': 7044, 'ukraine': 7091, 'voluntarily': 7299, 'gave': 2978, 'territorial': 6797, 'integrity': 3595, 'pace': 4865, 'creation': 1752, 'police': 5127, 'paramilitary': 4895, 'equipment': 2459, 'singing': 6234, 'protester': 5374, 'constitution': 1616, 'emolument': 2364, 'clause': 1410, 'spouse': 6427, 'foreigner': 2841, 'guilty': 3143, 'count': 1711, 'charge': 1320, 'neutrality': 4562, 'proposalputs': 5350, 'determining': 2026, 'internet': 3612, 'pricing': 5267, 'type': 7081, 'investigated': 3637, 'basically': 880, 'increasingly': 3498, 'repealed': 5697, 'lbj': 3925, 'startedwaronpoverty': 6469, 'lived': 4042, 'yr': 7567, 'later': 3899, 'betterway': 955, 'abill': 355, 'vetoed': 7260, 'known': 3845, 'dreamer': 2215, 'havechanged': 3217, 'warner': 7341, 'qatar': 5426, 'airway': 524, 'fleet': 2801, 'delta': 1959, 'old': 4715, 'moving': 4461, 'ninth': 4592, 'tenth': 6790, 'ability': 354, 'climb': 1427, 'ladder': 3868, 'happens': 3190, 'warren': 7345, 'buffett': 1131, 'himselfpay': 3297, 'wealth': 7374, 'secretary': 6052, 'keeping': 3797, 'exactly': 2517, 'none': 4610, 'dea': 1858, 'includes': 3484, '009000': 48, 'female': 2709, 'freshman': 2911, '07million': 113, 'fellow': 2704, '00million': 53, 'open': 4740, '900': 320, 'terroristsfriends': 6801, 'girlfriend': 3018, 'stateswere': 6483, 'knew': 3839, 'wanted': 7333, 'boyfriend': 1068, 'television': 6772, 'census': 1289, 'conservative': 1602, 'measurably': 4259, 'form': 2844, 'personally': 5029, 'fictional': 2720, 'notorious': 4636, 'son': 6351, 'bos': 1053, 'scandal': 5998, 'avoidance': 807, 'scheme': 6003, 'bogged': 1028, 'suggests': 6621, 'fire': 2765, 'evict': 2512, 'tenant': 6781, 'romneys': 5877, '0187': 76, 'eat': 2277, 'serving': 6117, 'freshwater': 2912, 'caught': 1273, 'governmentrun': 3066, 'creates': 1750, 'entitlement': 2444, 'though': 6861, 'recall': 5545, 'attempted': 766, 'filibuster': 2738, 'justice': 3774, 'alito': 548, 'sits': 6243, 'surge': 6654, 'rare': 5499, 'book': 1037, 'red': 5580, 'riding': 5823, 'hood': 3340, 'something': 6347, 'banned': 854, 'rebounding': 5543, 'reagan': 5526, 'equivalent': 2461, '800': 294, 'barry': 874, 'smitherman': 6299, 'apply': 672, 'attorney': 771, 'sharron': 6154, 'angle': 613, 'eliminate': 2335, 'normalization': 4621, 'require': 5729, 'liberation': 3993, 'political': 5134, 'prisoner': 5282, 'labor': 3865, 'union': 7152, 'burden': 1142, 'chris': 1367, 'christie': 1372, 'tampa': 6725, 'bay': 892, 'ray': 5515, 'judged': 3758, 'professional': 5312, 'sport': 6426, 'bail': 828, 'bond': 1034, 'noshow': 4630, 'defendant': 1922, 'skipping': 6264, 'appearance': 665, 'picture': 5072, 'posted': 5183, 'facebook': 2614, 'posing': 5174, 'front': 2918, 'decapitated': 1883, 'human': 3376, 'subhuman': 6578, 'mongrel': 4421, 'set': 6120, 'regarding': 5618, 'practice': 5199, 'predecessor': 5216, 'language': 3885, 'spoken': 6420, 'miami': 4323, 'dade': 1821, 'transit': 6978, 'raking': 5481, 'dealt': 1867, 'affected': 477, 'aba': 347, 'criterion': 1764, 'judicial': 3760, 'call': 1185, 'actual': 423, 'polling': 5141, 'battleground': 890, 'untrustworthy': 7187, 'ken': 3802, 'legler': 3965, 'installing': 3572, 'sprinkler': 6434, 'emergency': 2361, 'generator': 2992, 'nursing': 4649, 'demand': 1961, '0070': 42, 'twothirds': 7077, '00s': 56, 'laundry': 3910, 'closed': 1436, 'due': 2240, 'partial': 4910, 'shutdown': 6205, 'milwaukee': 4356, 'executive': 2536, 'abele': 352, 'homeless': 3328, 'shelter': 6164, 'bridge': 1100, 'authority': 787, 'supposed': 6647, 'exist': 2546, 'newport': 4571, 'transferred': 6976, 'become': 903, 'tollfree': 6915, 'problem': 5297, 'foreclosure': 2838, 'bottom': 1059, 'bernie': 949, 'sander': 5955, 'putting': 5423, 'iranian': 3661, 'syria': 6700, 'resolve': 5751, 'conflict': 1581, 'doorstep': 2180, 'forstate': 2853, 'diane': 2049, 'allen': 554, 'columbia': 1481, '19th': 229, '060': 82, 'rose': 5885, 'occur': 4684, 'background': 819, 'check': 1339, 'mcdonnell': 4245, '18th': 224, '10th': 195, 'statement': 6479, 'residual': 5747, 'left': 3947, 'animal': 617, 'abuse': 374, 'often': 4706, 'indicative': 3514, 'trait': 6973, 'kyrillos': 3860, 'raid': 5472, 'tune': 7052, 'repay': 5694, 'bushera': 1158, 'schedule': 6001, 'provision': 5388, 'meet': 4277, 'together': 6909, 'dorm': 2182, 'repaired': 5693, 'prayer': 5205, 'bible': 960, 'page': 4872, 'specifically': 6395, 'purchase': 5407, 'protect': 5368, 'minuteman': 4371, 'tactic': 6708, 'turn': 7056, 'hell': 3256, 'oneterm': 4733, 'bigger': 969, 'politifact': 5138, 'concluded': 1556, 'prosser': 5364, 'prejudges': 5226, 'matter': 4225, 'gop': 3054, 'measure': 4260, 'renewal': 5686, 'delay': 1947, 'visited': 7291, 'twenty': 7066, 'dc': 1854, 'lobbyist': 4052, 'specialinterest': 6392, 'grade': 3078, 'given': 3021, 'affordability': 483, 'jeb': 3708, '71000': 274, 'january': 3699, 'missile': 4384, 'shield': 6169, 'poland': 5126, 'fraudulent': 2897, 'refund': 5612, 'dead': 1859, 'midwest': 4341, 'violentunder': 7283, 'sequestration': 6105, 'smallest': 6294, '0910': 138, 'navy': 4524, '0901': 133, 'penn': 4991, '10000': 180, 'nonpartisan': 4614, 'accountability': 394, 'owe': 4853, 'proposing': 5355, 'binding': 979, 'arbitration': 693, 'sense': 6093, 'somebody': 6343, 'los': 4082, 'angeles': 611, 'zanesville': 7572, 'impose': 3457, 'settlement': 6125, 'share': 6150, '06000': 84, 'secondgeorge': 6046, 'theus': 6839, 'patrick': 4949, 'backed': 818, 'obamastyle': 4669, 'washington': 7349, 'hide': 3277, 'hiked': 3291, 'ceiling': 1282, 'forward': 2863, 'domestic': 2163, 'discretionary': 2098, 'giuliani': 3019, 'whats': 7416, 'sanctuary': 5953, 'instructed': 3582, 'leader': 3928, 'latest': 3900, 'simply': 6226, 'hope': 3345, 'finding': 2755, 'opened': 4741, 'relationship': 5652, 'receives': 5549, 'approximately': 687, 'remittance': 5674, 'mexican': 4321, 'whitman': 7429, 'interior': 3608, 'exploration': 2577, 'submitted': 6583, 'leaf': 3931, 'appropriate': 680, 'continually': 1636, 'waived': 7320, 'ran': 5487, 'either': 2309, 'funded': 2934, 'austinites': 784, '0976': 151, 'pell': 4984, 'grant': 3094, 'attendance': 769, 'typical': 7082, 'fouryear': 2879, 'cosponsored': 1696, 'duncan': 2246, 'jr': 3754, 'alison': 547, 'alter': 573, 'exploited': 2576, 'finance': 2749, 'loophole': 4078, '61000': 248, 'mike': 4344, 'penny': 4993, 'ought': 4793, 'burn': 1152, 'limitedly': 4022, 'existing': 2549, 'plant': 5098, 'murder': 4477, 'lax': 3920, 'glenn': 3028, 'grothman': 3119, 'leibham': 3967, 'cast': 1255, 'compromise': 1541, '788': 288, 'ethical': 2490, 'cloud': 1443, 'fix': 2788, 'body': 1025, 'identified': 3408, 'legitimate': 3964, 'widespread': 7441, 'anomaly': 627, 'question': 5439, 'conduct': 1567, 'visibly': 7289, 'waukesha': 7366, 'slashing': 6272, 'continuing': 1639, 'kathleen': 3789, 'sebelius': 6040, 'told': 6912, 'inform': 3537, 'policyholder': 5132, 'thought': 6862, 'impact': 3443, 'borrowing': 1051, '000107': 14, 'fifty': 2728, 'smoked': 6300, 'privatesector': 5286, 'tore': 6930, 'abandoned': 348, 'haven': 3218, 'reduced': 5590, 'value': 7239, 'monica': 4422, 'wehby': 7391, 'jason': 3703, 'conger': 1584, 'causing': 1277, 'devastating': 2032, 'consequence': 1599, 'seventy': 6128, 'missourian': 4390, 'photo': 5062, '79': 290, 'nra': 4641, 'household': 3365, 'reserving': 5741, 'judgment': 3759, 'transpacific': 6983, 'partnership': 4923, 'hoped': 3346, 'gold': 3042, 'regard': 5617, 'incarceration': 3476, 'ann': 619, 'mclane': 4250, 'kuster': 3855, 'radical': 5465, '700': 264, 'current': 1802, 'retiree': 5779, 'recognized': 5562, 'outperforming': 4807, 'counterpart': 1714, '0990': 161, 'approval': 683, 'rating': 5508, 'tourism': 6944, 'brought': 1114, 'analysis': 602, 'acorn': 409, 'felon': 2705, 'pawlenty': 4958, '0006': 16, 'era': 2463, 'proactive': 5292, 'aggressive': 499, 'ted': 6764, 'cruz': 1781, 'supporter': 6645, 'legalizing': 3954, 'giving': 3023, 'advice': 466, 'quarter': 5432, '001': 32, 'doubledigit': 2185, 'branch': 1079, 'chapter': 1318, 'league': 3932, 'committee': 1506, 'eliminates': 2337, 'structural': 6564, 'campaigned': 1195, 'repair': 5692, 'shocked': 6176, 'asleep': 733, 'negotiated': 4545, 'agreement': 506, 'india': 3510, 'committed': 1505, 'emission': 2363, 'ally': 565, 'lined': 4027, 'pulled': 5402, 'rug': 5902, 'chi': 1349, 'arent': 699, 'cutting': 1813, 'affiliated': 480, 'issue': 3687, 'kathie': 3788, 'tovo': 6949, 'invests': 3642, 'cop': 1675, 'firefighter': 2768, 'paramedic': 4894, 'shale': 6147, 'begich': 913, 'ineffective': 3520, 'naming': 4505, 'affair': 475, 'dying': 2255, 'hiv': 3309, 'sixtytwo': 6258, 'personal': 5027, 'bankruptcy': 852, 'generous': 2994, 'legally': 3955, 'immigrate': 3436, 'popular': 5156, 'invented': 3631, 'gerald': 3004, 'daugherty': 1846, 'endorsed': 2396, 'americanstatesman': 589, 'failure': 2630, 'default': 1915, 'burdensome': 1144, 'healthinsurance': 3237, 'fill': 2742, 'citizenship': 1393, '600': 236, 'wasgovernor': 7347, 'guantanamo': 3133, 'lamar': 3875, 'smith': 6298, 'wall': 7327, 'street': 6544, 'assure': 752, 'bailouts': 832, 'happen': 3187, 'extending': 2594, 'millionaire': 4354, 'considered': 1605, 'maverick': 4228, 'written': 7533, 'floor': 2809, 'appalachian': 660, 'profit': 5317, 'previously': 5265, 'believed': 923, 'safe': 5929, 'sixtyone': 6256, 'trouble': 7032, 'gambling': 2955, 'loses': 4084, 'dccitycouncilpasseda': 1856, 'lawbanninglethalrat': 3913, 'trapping': 6990, 'jobkiller': 3730, 'parttime': 4924, 'unintended': 7150, 'pregnancy': 5224, 'western': 7409, 'industrialized': 3517, 'guard': 3137, 'engine': 2415, 'loughlin': 4092, 'accused': 400, 'ninetyfour': 4590, 'sixthfastest': 6252, 'growing': 3128, 'physically': 5067, 'crossed': 1772, 'southern': 6369, 'northern': 4627, 'visa': 7288, 'overstayers': 4846, 'secret': 6051, 'production': 5309, 'peaked': 4977, '0970s': 149, 'serf': 6106, 'wu': 7539, '007': 41, 'defined': 1935, 'status': 6490, 'someone': 6345, 'lawn': 3917, 'overgrown': 4829, 'barking': 865, 'loudly': 4091, 'olympics': 4719, 'wishing': 7476, 'leading': 3930, 'african': 490, 'outstripping': 4816, 'sayscongressman': 5981, 'jack': 3691, 'kingston': 3829, 'rutgers': 5920, 'kean': 3794, 'montclair': 4429, 'stockton': 6517, 'rowan': 5894, 'william': 7449, 'paterson': 4943, 'within': 7483, 'truman': 7039, 'choice': 1361, 'access': 384, 'lifesaving': 4009, 'screening': 6026, 'amanda': 578, 'fritz': 2917, 'manages': 4157, 'operation': 4746, 'maddox': 4122, 'available': 801, 'cabinet': 1176, 'baby': 814, 'syndrome': 6699, 'aborted': 361, 'inaction': 3472, 'marsh': 4196, 'kasim': 3787, 'reed': 5594, 'bull': 1137, 'connor': 1595, 'unwinding': 7189, 'welfaretowork': 7398, 'requirement': 5731, 'revealed': 5791, 'unsustainable': 7183, 'figure': 2734, 'translates': 6980, 'drilling': 2217, 'regular': 5628, 'tuneups': 7053, 'obamareid': 4665, 'decorated': 1898, 'marine': 4186, 'twotour': 7078, 'vet': 7257, 'clear': 1416, 'package': 4869, 'include': 3482, 'reformer': 5609, 'barber': 861, 'missouri': 4389, 'word': 7499, 'longthe': 4073, 'revelation': 5792, 'option': 4762, 'enroll': 2427, 'played': 5104, 'round': 5889, 'golf': 3046, 'borrowed': 1049, 'eightyseven': 2307, 'grader': 3079, 'newark': 4568, 'diploma': 2067, 'powerful': 5196, 'sylvia': 6697, 'garcia': 2967, 'harris': 3207, 'elyse': 2346, 'lanier': 3887, 'bob': 1023, 'sponsored': 6423, 'fundraiser': 2936, 'numerous': 4645, 'official': 4699, 'highranking': 3284, 'antiwomens': 641, 'introduced': 3622, 'session': 6118, 'assembly': 741, 'helping': 3261, 'rebecca': 5540, 'bradley': 1073, 'skipped': 6263, 'attend': 768, 'event': 2500, 'father': 2666, 'contribution': 1649, 'pursue': 5413, 'extortion': 2602, 'ruled': 5904, 'prohibition': 5323, 'outlawing': 4801, 'usually': 7220, 'styrofoam': 6577, 'cup': 1794, 'cafeteria': 1177, 'koch': 3846, 'reclaiming': 5560, 'allows': 563, 'borrow': 1048, 'unlimited': 7169, 'became': 902, 'oldest': 4717, 'generosity': 2993, 'welfare': 7397, 'recipient': 5556, 'taxcut': 6742, 'tarp': 6736, 'avoid': 806, 'wait': 7316, 'needbased': 4536, 'untagged': 7184, 'alligator': 557, 'host': 3356, 'break': 1088, 'corporation': 1687, 'lay': 3921, 'workforce': 7504, 'signed': 6218, 'doctor': 2147, 'nurse': 4648, 'researcher': 5737, 'injected': 3549, 'disease': 2105, 'immunization': 3442, 'nafta': 4499, 'acceleration': 380, 'search': 6036, 'aclu': 408, 'investigation': 3638, 'immediate': 3432, 'monitor': 4424, '0917': 140, '0979': 154, 'rich': 5810, 'middleincome': 4336, 'grew': 3112, 'inflationadjusted': 3533, 'discount': 2095, 'drawdowns': 2210, 'dangerous': 1837, 'ask': 729, '0968': 146, 'gunfire': 3148, 'transexual': 6974, 'sic': 6208, 'homosexual': 3335, 'grabbing': 3077, 'strangerdanger': 6536, 'zone': 7577, 'relies': 5659, 'handful': 3176, 'dirty': 2077, 'spew': 6407, 'distortion': 2130, 'guy': 3154, 'privatization': 5287, 'roll': 5871, 'sixyear': 6259, 'approving': 686, '811': 308, 'pupil': 5406, 'spaceshuttle': 6377, 'terminated': 6794, 'capability': 1214, 'launch': 3908, 'space': 6376, 'pentagon': 4995, 'audit': 777, 'exempt': 2538, 'requires': 5732, 'complete': 1530, 'annual': 624, 'retiring': 5783, 'lifetime': 4010, 'receive': 5547, '017000': 74, 'buck': 1123, 'effort': 2299, 'decrease': 1899, 'generation': 2991, 'childhood': 1355, 'earth': 2268, 'along': 568, 'streetcar': 6545, 'commit': 1503, 'thecbo': 6823, 'saysthe': 5990, 'originallyprojected': 4779, 'chicago': 1350, 'detroit': 2028, 'ottumwa': 4792, 'heartland': 3244, 'newspaper': 4574, 'bilingual': 972, 'belong': 926, 'aflcio': 487, 'pew': 5048, 'research': 5736, 'oppressive': 4759, 'sharia': 6152, 'deny': 1978, 'adopt': 456, 'writing': 7532, 'pointed': 5124, 'prior': 5278, 'knowledge': 3844, 'involvement': 3650, 'closure': 1441, 'gainrevenue': 2949, 'ending': 2394, 'invite': 3644, 'wellpaid': 7402, 'wellfed': 7400, 'administrator': 450, 'staff': 6446, 'nonneedy': 4613, 'affluent': 481, 'parent': 4897, 'extreme': 2606, 'fanatical': 2647, 'addicted': 432, 'cheap': 1335, 'breakfast': 1089, 'taxpayerpaid': 6750, 'facility': 2617, 'amidst': 591, 'narrowed': 4508, 'highspeed': 3285, '60000plus': 241, 'enlist': 2423, 'brennan': 1095, 'asked': 730, 'directly': 2074, 'geographic': 3000, 'limitation': 4020, 'responded': 5758, 'fall': 2639, 'legislature': 3962, 'outlaw': 4799, 'stem': 6502, 'cell': 1285, 'microchip': 4331, 'brain': 1076, 'seceding': 6042, 'invades': 3628, 'puerto': 5400, 'rico': 5816, 'restored': 5767, 'pledge': 5110, 'hidden': 3276, 'subsidize': 6592, 'perpetrated': 5017, 'travesty': 6995, 'east': 2274, 'owns': 4859, 'marco': 4178, 'rubio': 5898, 'authorizing': 791, 'assad': 736, 'waiver': 7321, 'inspector': 3568, '1100': 199, 'well': 7399, 'identify': 3409, 'custody': 1806, 'feeding': 2695, 'adoption': 458, 'film': 2746, 'incentive': 3477, 'upcoming': 7190, 'initially': 3546, 'titled': 6902, 'mess': 4307, 'precipitation': 5211, 'inch': 3479, 'century': 1293, 'ten': 6779, 'treat': 7001, 'horribly': 3350, 'newly': 4570, 'legalized': 3953, 'possible': 5179, 'opportunity': 4752, 'limited': 4021, 'twoandahalf': 7075, 'sherrod': 6167, 'brown': 1116, 'chosen': 1366, 'side': 6210, 'fringe': 2915, 'extremist': 2608, 'resource': 5753, 'magazine': 4128, 'beat': 899, 'necessary': 4533, 'register': 5623, 'bidding': 964, 'weakened': 7371, 'read': 5520, 'changing': 1317, '1billion': 231, '000million': 26, '0009s': 23, 'transportation': 6985, 'onethird': 4734, 'footprint': 2832, 'africa': 489, 'nonexistent': 4611, 'accepting': 383, 'irregular': 3666, 'donovan': 2176, 'touted': 6947, 'hardcover': 3197, 'deleted': 1952, 'paperback': 4890, 'edition': 2288, 'smart': 6295, 'fifthgrader': 2726, 'sun': 6627, 'carbon': 1224, 'dioxide': 2066, 'warms': 7340, 'lead': 3927, 'curbside': 1798, 'recycling': 5579, 'established': 2478, 'morell': 4436, 'testified': 6805, 'reason': 5535, 'bombed': 1030, 'isisoil': 3673, 'field': 2723, 'concerned': 1552, 'oak': 4653, 'grove': 3125, 'clackamas': 1401, '1that': 234, 'present': 5239, 'ciudad': 1397, 'juarez': 3755, 'fifth': 2725, 'execution': 2535, 'behind': 920, 'prohibits': 5324, 'industrial': 3516, 'hemp': 3263, 'approaching': 679, 'surveillance': 6668, 'room': 5882, 'cubicle': 1787, 'federally': 2689, 'licensed': 4000, 'dealer': 1864, 'revoked': 5798, 'youve': 7566, 'engaged': 2412, 'misconduct': 4375, 'inventory': 3633, 'prevailing': 5256, 'deemed': 1908, 'collection': 1475, 'sell': 6078, 'abramoff': 365, 'ended': 2392, 'jail': 3694, 'leonard': 3975, 'lance': 3877, 'look': 4074, 'website': 7384, 'carry': 1242, 'park': 4902, 'genital': 2997, 'mutilation': 4491, 'central': 1292, 'islamic': 3675, 'maher': 4132, 'fasttrack': 2661, 'easily': 2273, 'override': 4836, 'overrule': 4837, 'branchesof': 1080, 'inequality': 3521, 'multnomah': 4475, '90000': 322, 'unemployed': 7135, 'underemployed': 7117, 'june': 3768, 'feel': 2696, 'comfortable': 1492, 'weakening': 7372, 'laid': 3872, 'groundwork': 3123, 'mr': 4464, 'foster': 2865, 'sb': 5993, 'model': 4407, 'platform': 5102, 'pull': 5401, 'rid': 5817, 'mccainfeingold': 4237, 'snowstorm': 6310, 'ham': 3170, 'cheese': 1343, 'sandwich': 5956, 'slice': 6278, 'bread': 1087, 'responsibility': 5761, 'usda': 7210, 'pryor': 5390, 'stronger': 6560, 'respected': 5755, 'unsealed': 7180, 'marquette': 4193, 'pope': 5155, 'francis': 2890, 'saint': 5937, 'inspected': 3566, 'noncompliant': 4608, 'pledged': 5111, 'breaking': 1090, 'mental': 4293, 'mahmoud': 4134, 'ahmadinejad': 511, 'rio': 5834, 'grande': 3090, '18': 220, 'intervened': 3616, 'behalf': 917, 'charles': 1324, 'keating': 3795, 'regulator': 5636, 'continue': 1637, 'fraud': 2896, 'incredible': 3499, 'effect': 2293, 'eligible': 2334, 'running': 5908, 'upstate': 7197, 'taxing': 6747, 'jon': 3745, 'corzine': 1694, 'subpoenaed': 6585, 'testify': 6806, 'colleague': 1470, 'information': 3539, 'experiencing': 2568, 'steadily': 6496, 'remains': 5670, 'connecticut': 1592, 'town': 6953, 'dedicated': 1904, 'sauced': 5968, 'payasyougo': 4961, 'etc': 2487, 'theyve': 6843, 'employersupported': 2375, 'romneycare': 5875, 'implemented': 3449, 'competitive': 1527, 'whale': 7413, 'seaworld': 6039, 'wild': 7446, 'outofstate': 4805, 'residential': 5746, 'representative': 5713, 'fails': 2629, 'extend': 2591, 'march': 4177, 'overwhelming': 4851, 'everify': 2504, 'underfunded': 7118, 'meanwhile': 4257, 'judge': 3757, 'richest': 5813, 'proposes': 5354, 'congested': 1585, 'roadway': 5852, 'broke': 1110, 'decadesold': 1882, 'segment': 6066, 'beer': 909, 'craft': 1738, 'headed': 3228, 'towards': 6951, 'surplus': 6659, 'overseas': 4840, 'light': 4014, 'happened': 3188, 'ratio': 5509, 'turnout': 7059, 'best': 951, 'exceeds': 2524, 'hungry': 3380, 'honduran': 3337, 'send': 6087, 'version': 7255, 'enrollee': 2429, 'personnel': 5031, 'management': 4155, 'enrolled': 2428, 'reproductive': 5717, 'bad': 823, 'reward': 5802, 'withdrawal': 7479, 'scientology': 6016, 'massage': 4208, 'bain': 833, 'learning': 3937, 'bright': 1102, 'horizon': 3348, 'lady': 3870, 'michelle': 4328, 'rightly': 5829, 'praised': 5201, 'test': 6803, 'score': 6018, 'flat': 2794, 'opt': 4760, 'campus': 1199, 'contributed': 1646, 'emerged': 2360, 'large': 3888, 'slashed': 6271, 'invest': 3634, 'eye': 2612, 'perfect': 5007, 'surrounding': 6665, 'circle': 1385, 'area': 697, 'infant': 3523, 'mortality': 4440, 'collapse': 1468, 'unchecked': 7108, 'trenton': 7011, 'responsible': 5762, 'diversion': 2139, 'trust': 7042, 'unilaterally': 7146, 'delaying': 1949, 'blog': 1008, 'post': 5181, 'midlevel': 4337, 'treasury': 7000, 'tie': 6888, 'soon': 6355, 'gina': 3013, 'raimondo': 5474, 'portfolio': 5166, 'annually': 625, 'asking': 731, 'luxury': 4111, 'filer': 2737, 'sonogram': 6354, 'eighth': 2303, 'transvaginal': 6988, 'kilmartin': 3824, 'witness': 7486, 'uptick': 7198, 'period': 5011, 'calm': 1188, 'winter': 7466, 'eckhardt': 2281, 'refused': 5616, 'wear': 7378, 'uniform': 7144, 'vicious': 7267, 'track': 6957, 'walton': 7330, 'dianne': 2050, 'feinstein': 2699, 'im': 3426, 'rounding': 5890, 'em': 2347, 'crucifying': 1778, 'christian': 1370, 'nailing': 4500, 'success': 6603, 'hardworking': 3201, 'else': 2344, 'instance': 3574, 'groundwater': 3122, 'damaged': 1829, 'hydraulic': 3395, 'fracking': 2883, 'hurd': 3385, 'militarize': 4346, 'built': 1134, 'bend': 933, 'beloved': 928, 'banning': 855, 'chore': 1364, 'soda': 6323, 'juice': 3761, 'drink': 2218, 'disproportionately': 2120, 'lowincome': 4103, 'philadelphia': 5054, '0991': 163, 'mass': 4206, 'shooting': 6181, 'absentee': 369, 'ballot': 845, 'flatout': 2795, 'unpopular': 7176, 'chose': 1365, 'reject': 5646, 'friday': 2913, 'throw': 6879, 'longterm': 4072, 'function': 2931, 'franklin': 2893, 'delano': 1945, 'roosevelt': 5883, 'felt': 2707, 'wasnt': 7350, 'plain': 5092, 'simple': 6225, 'text': 6813, 'repeal': 5696, 'ban': 848, 'surface': 6653, 'temperature': 6776, 'stabilized': 6442, 'junk': 3769, 'extent': 2598, 'organic': 4770, 'acted': 415, 'helicopter': 3255, 'hog': 3314, 'hunt': 3381, 'alaska': 532, 'lisa': 4035, 'murkowski': 4480, 'doubt': 2186, 'cdc': 1280, 'sexually': 6141, 'transmitted': 6982, 'illness': 3425, '0800': 117, 'birmingham': 982, 'totally': 6936, 'nonmuslims': 4612, 'perdue': 5006, 'isakson': 3670, 'chambliss': 1311, 'roadside': 5851, 'tout': 6946, 'southeast': 6368, 'toy': 6955, 'accepted': 382, 'essentially': 2476, '671000': 256, 'sick': 6209, 'feed': 2693, 'systematically': 6703, 'important': 3454, 'barred': 868, 'recruiter': 5576, 'james': 3695, 'comeys': 1491, 'development': 2037, 'galveston': 2953, 'institute': 3578, 'technology': 6763, 'dartmouth': 1841, 'beneficiary': 936, 'appointee': 675, 'ipab': 3654, 'hansen': 3186, 'maybe': 4231, 'foot': 2829, 'sealevel': 6032, 'mary': 4204, 'burke': 1150, 'ignore': 3414, '000106': 13, 'gotten': 3058, 'scholar': 6006, 'anchor': 605, 'kesha': 3810, 'rogers': 5869, 'deadliest': 1860, 'nolan': 4599, 'partyline': 4926, 'harmony': 3206, 'civil': 1398, 'liberty': 3994, 'thanks': 6817, 'showered': 6195, 'mineral': 4360, 'gift': 3010, 'write': 7530, 'legislator': 3961, 'quietly': 5447, 'shifted': 6171, 'jones': 3747, 'deport': 1988, 'beaver': 901, 'leave': 3940, '88': 313, 'european': 2495, 'fiduciary': 2722, 'overwhelmingly': 4852, 'halfway': 3165, 'inserted': 3560, 'exempts': 2541, 'scientific': 6014, 'cruelty': 1780, 'vacant': 7228, 'hivaids': 3310, 'skyrocketing': 6268, 'active': 418, 'duty': 2252, 'perversity': 5036, 'begun': 916, 'austinincluding': 783, 'anderson': 606, 'mill': 4349, 'enter': 2435, 'eventually': 2502, 'pursuit': 5416, 'robs': 5860, 'counterfeiting': 1713, 'piracy': 5085, 'coming': 1493, 'improving': 3468, 'turned': 7057, 'rape': 5496, 'incest': 3478, 'who': 7430, 'rolled': 5872, 'choosing': 1363, 'superpower': 6637, 'threat': 6864, 'pose': 5173, 'tiny': 6899, '68': 257, 'wedlock': 7387, 'regime': 5620, '00some': 58, 'rus': 5911, 'feingolds': 2698, 'powered': 5195, 'smalldollar': 6292, 'gingrichs': 3016, 'killing': 3823, 'sandy': 5957, 'hook': 3341, 'elementary': 2327, 'costsaving': 1702, 'columbiahca': 1482, 'drove': 2230, 'inflation': 3532, 'deregulation': 2003, 'telecommunication': 6771, 'kirkpatrick': 3831, 'walked': 7324, 'constituent': 1614, 'questioned': 5440, 'formulated': 2850, 'chair': 1306, 'lynn': 4117, 'peterson': 5044, 'split': 6416, 'sometimes': 6349, 'board': 1020, 'mccollum': 4240, 'embryonic': 2359, 'provided': 5381, 'portion': 5167, 'margin': 4181, 'victory': 7270, 'lehman': 3966, 'van': 7241, 'wanggaard': 7331, 'flipflopped': 2806, 'warrantless': 7344, 'wiretapping': 7470, 'saxby': 5974, 'sugar': 6617, 'cleanup': 1415, 'rejection': 5649, 'cheat': 1337, 'defies': 1933, 'logic': 4060, 'ibm': 3399, 'trying': 7046, 'cross': 1770, 'pedestrian': 4981, 'crosswalk': 1774, 'islander': 3679, 'pharmaceutical': 5049, 'aarp': 346, 'cornyn': 1684, 'cicilline': 1382, 'tougher': 6941, 'abuser': 376, 'withdrawn': 7481, 'specific': 6394, 'brady': 1074, '108': 190, 'robert': 5857, 'husband': 3389, 'withheld': 7482, 'document': 2149, '1anight': 230, 'hotelmotel': 3360, 'adding': 435, 'extra': 2603, 'supplysider': 6642, 'saysgov': 5983, 'incorrectly': 3494, 'claimed': 1403, '08th': 127, 'sixth': 6251, 'earning': 2264, 'effective': 2294, '070000': 99, 'settle': 6123, 'clarke': 1404, 'untrained': 7186, 'correction': 1689, 'rather': 5504, 'deputy': 1999, 'lakefront': 3874, 'remove': 5676, 'opposes': 4755, 'dream': 2213, 'solyndrahad': 6341, 'robot': 5859, 'whistled': 7425, 'disney': 2116, 'song': 6352, 'kidding': 3818, 'youth': 7563, 'highway': 3287, 'lord': 4081, 'amtrak': 600, '10year': 196, 'traffic': 6964, 'sellwood': 6081, 'tofrom': 6908, 'thoroughly': 6860, 'debunked': 1879, 'cornilles': 1683, 'pant': 4887, 'genetically': 2995, 'modified': 4412, 'thc': 6822, 'surpass': 6657, 'insufficient': 3586, 'delayed': 1948, 'installation': 3570, 'positive': 5176, 'train': 6971, 'derailment': 2002, 'underfunding': 7119, 'dan': 1833, 'danny': 1839, 'goeb': 3039, 'usborn': 7209, 'hispanic': 3302, 'goodlattes': 3052, 'budgetamendment': 1128, 'vitro': 7294, 'fertilization': 2714, 'pat': 4939, 'mccrory': 4243, 'course': 1723, 'travel': 6992, 'nunn': 4647, 'handpicked': 3183, 'barrel': 869, 'beneath': 934, 'ocean': 4687, 'ample': 599, 'rocky': 5865, 'mountain': 4455, 'responding': 5759, 'snow': 6308, 'kansa': 3783, 'mo': 4398, 'earthquake': 2269, 'uninterrupted': 7151, 'alltime': 564, 'invitation': 3643, 'el': 2311, 'paso': 4930, 'catastrophic': 1262, 'committing': 1507, 'suicide': 6622, 'trip': 7022, 'biden': 965, 'rightwing': 5833, 'seat': 6037, 'push': 5417, 'antichoice': 633, 'antiequality': 636, 'bass': 883, 'rnh': 5848, 'fought': 2866, 'studio': 6569, '89': 316, 'voucher': 7311, 'udall': 7086, 'decided': 1889, 'encourages': 2387, 'innovation': 3555, 'playing': 5107, 'compete': 1526, 'globally': 3030, 'dewhurst': 2044, 'offer': 4694, 'enrollment': 2430, 'completely': 1532, 'graduation': 3084, '06th': 94, 'travis': 6996, '71': 271, 'carried': 1239, 'viagra': 7265, 'molester': 4415, 'offender': 4692, 'barely': 863, 'budged': 1126, 'blue': 1014, 'granite': 3093, 'table': 6706, 'vast': 7246, 'receiving': 5550, 'peer': 4983, 'accounted': 395, 'despite': 2013, 'recordbreaking': 5568, 'lone': 4064, 'star': 6463, 'brother': 1113, 'republicanauthored': 5719, 'forcing': 2837, 'installment': 3573, 'nature': 4520, 'useless': 7213, 'fighter': 2732, 'totaling': 6935, 'wikipedia': 7445, 'planet': 5095, 'unequal': 7137, 'distribution': 2134, 'anybodys': 646, 'february': 2684, 'pregnant': 5225, 'walk': 7323, 'finished': 2761, 'reporting': 5710, 'cash': 1249, 'hand': 3175, 'indiana': 3511, 'deadly': 1862, 'sin': 6230, 'mandatory': 4163, 'sentence': 6096, 'institutionalization': 3581, 'developmental': 2038, 'disability': 2078, 'confines': 1575, 'institution': 3580, 'hair': 3160, 'stylist': 6576, 'undergo': 7120, 'scrutiny': 6027, 'consultant': 1622, 'duration': 2251, 'identifiable': 3406, 'somali': 6342, 'delaware': 1946, 'match': 4215, 'lit': 4038, 'fannie': 2649, 'mae': 4126, 'freddie': 2899, 'mac': 4118, 'finland': 2763, 'payback': 4962, 'leisure': 3968, 'hospitality': 3354, 'restaurant': 5764, 'bar': 856, 'highpaying': 3283, 'estimate': 2484, 'proportion': 5347, 'subminimum': 6581, '80nd': 302, 'filled': 2743, 'skill': 6261, 'defends': 1926, 'retirement': 5781, 'providence': 5382, 'evaluation': 2498, 'infrastructure': 3541, 'wouldve': 7522, 'multimilliondollar': 4472, 'bonus': 1036, 'ceo': 1294, 'grab': 3075, 'tripling': 7025, 'soup': 6365, 'kitchen': 3833, 'tool': 6921, 'july': 3764, 'antiisis': 637, 'coalition': 1453, 'providing': 5385, 'employ': 2367, 'lawyer': 3919, 'wasteful': 7354, 'duplication': 2250, 'busiest': 1159, 'relative': 5653, 'manufacturer': 4174, 'seller': 6079, 'bizarrely': 990, '97': 333, 'argued': 702, 'request': 5726, 'merit': 4303, 'respiratory': 5756, 'weight': 7395, 'straightforward': 6532, 'fastestgrowing': 2659, 'expense': 2564, 'menendez': 4288, 'wisely': 7474, 'climbed': 1428, 'limiting': 4023, 'negotiation': 4547, 'mcdonnells': 4246, 'prekindergarten': 5228, 'trafficked': 6965, 'soviet': 6372, 'treating': 7003, 'ronald': 5879, 'seriously': 6109, 'fired': 2767, 'controller': 1653, 'dare': 1840, 'robbery': 5856, 'assertion': 742, 'heterosexual': 3271, 'shattered': 6155, 'science': 6013, 'regulate': 5630, 'toilet': 6910, 'ripta': 5836, 'fullest': 2926, 'bus': 1155, 'schwarzenegger': 6012, 'preserved': 5241, 'gubernatorial': 3139, 'proliferation': 5330, 'ok': 4712, 'hillaryclintons': 3295, 'ipad': 3655, 'paper': 4889, 'pencil': 4988, 'gallery': 2950, 'note': 4632, 'pressed': 5251, 'reset': 5742, 'button': 1168, 'invaded': 3626, 'cruzs': 1782, 'defund': 1938, 'dean': 1868, 'cannon': 1209, '000member': 24, 'chamber': 1310, '06100': 88, 'policing': 5130, 'matching': 4216, 'particular': 4916, 'onand': 4725, 'decreased': 1900, 'bruce': 1117, 'braley': 1078, 'deduct': 1905, 'rising': 5840, 'manchester': 4160, 'gatsas': 2976, 'sunset': 6629, '6100': 247, 'kurt': 3854, 'schrader': 6010, 'deciding': 1890, 'cap': 1213, 'tied': 6889, 'expanding': 2556, 'childrens': 1357, 'sailed': 5936, 'pennsylvania': 4992, 'smiley': 6297, 'cookie': 1666, 'pick': 5069, 'cooky': 1668, 'rudy': 5900, 'ups': 7196, 'fewer': 2718, 'classify': 1408, 'lee': 3945, 'leffingwell': 3946, 'mopac': 4434, '168100': 212, 'facilitate': 2616, 'accelerate': 379, 'acquiring': 410, 'exxon': 2610, 'pocketed': 5121, 'gary': 2972, 'farmer': 2653, 'absolute': 370, 'uri': 7205, 'faculty': 2625, '16000': 210, 'dropping': 2229, 'offset': 4703, 'shift': 6170, 'outsourced': 4810, 'latourette': 3905, '1106': 202, 'chance': 1314, 'arrested': 720, 'prosecuted': 5358, 'ninety': 4588, 'quiones': 5449, 'representation': 5712, 'scale': 5996, 'soaring': 6312, 'trick': 7014, 'everyone': 2509, 'airconditioned': 519, 'lens': 3973, 'geithners': 2983, 'selfemployment': 6074, 'imf': 3430, 'mistake': 4391, 'commonly': 1509, 'internationally': 3611, 'billed': 974, 'revolving': 5801, 'door': 2179, 'calling': 1187, 'sonia': 6353, 'sotomayor': 6360, 'racist': 5462, 'google': 3053, 'countrymost': 1718, 'engineered': 2417, 'testing': 6808, 'planthose': 5100, 'younger': 7560, 'enjoyed': 2421, 'rebidding': 5542, 'metrorail': 4320, 'construction': 1619, 'exclude': 2531, 'guaranteed': 3135, 'contract': 1642, 'cuyahoga': 1814, 'weekend': 7389, 'comprise': 1539, 'fixing': 2790, 'blank': 1000, 'ratifies': 5506, 'pain': 4875, 'coon': 1669, 'marxist': 4203, 'congressdecision': 1587, 'heck': 3249, 'criminalize': 1759, 'victim': 7269, 'syrian': 6701, 'shoot': 6178, 'ammunition': 592, 'labeled': 3864, 'bashar': 878, 'alassad': 533, 'drained': 2205, '060000': 85, 'rental': 5688, 'mansion': 4172, 'historic': 3303, 'destination': 2016, 'broward': 1115, 'bloc': 1004, 'condemn': 1561, 'sentencing': 6098, 'pastor': 4938, 'lois': 4063, 'capps': 1220, 'eliminated': 2336, 'offered': 4695, 'alternative': 575, '6th': 262, 'index': 3508, '0rd': 173, 'omnibus': 4724, '9107': 331, 'item': 3689, 'view': 7273, 'radically': 5467, 'opinion': 4749, 'legalize': 3952, 'nationwide': 4516, 'reconciliation': 5566, 'jet': 3721, 'felony': 2706, 'deferred': 1930, 'nonviolent': 4618, 'firstoffenders': 2777, 'neglect': 4543, 'delivers': 1956, 'mobil': 4401, 'medium': 4275, 'response': 5760, 'strategy': 6538, 'removal': 5675, 'volunteer': 7300, 'station': 6486, 'entirely': 2442, 'gridlock': 3113, 'base': 875, '076000': 106, 'socialist': 6317, 'cruzsaid': 1783, 'discussed': 2102, 'implementing': 3450, 'import': 3453, 'triple': 7023, 'jared': 3702, 'loughner': 4093, 'mentally': 4294, 'ill': 3418, 'bike': 971, 'ped': 4980, 'alex': 541, 'sink': 6238, 'latina': 3903, 'conducted': 1568, 'deeply': 1911, 'flawed': 2798, 'purge': 5410, 'in0001': 3470, 'listed': 4037, 'overweight': 4850, 'device': 2039, 'except': 2525, 'postal': 5182, 'must': 4490, 'advance': 461, 'qualifies': 5429, 'subsidized': 6593, 'pump': 5403, 'everywhere': 2511, 'inspect': 3565, 'fertilizer': 2715, 'texashad': 6811, 'cuccinelli': 1788, 'launcher': 3909, 'bowl': 1065, 'championship': 1313, 'series': 6107, 'payout': 4968, 'junket': 3771, 'politically': 5135, 'connected': 1591, 'fairly': 2633, 'midsize': 4339, 'wiped': 7468, 'doddfrank': 2152, 'americanstheyre': 590, 'constant': 1612, 'king': 3828, 'pillowtex': 5078, 'deposition': 1993, 'righttowork': 5832, '11th': 207, 'experienced': 2567, 'seek': 6061, 'promotional': 5339, 'stress': 6548, 'ball': 843, 'palins': 4882, 'mama': 4151, 'grizzly': 3114, 'deepwaters': 1913, 'testimony': 6807, 'pack': 4868, 'sixthhighest': 6253, 'outdrawn': 4797, 'arena': 698, 'followed': 2824, 'nfl': 4578, 'surpassed': 6658, 'ticket': 6886, 'buffalo': 1130, 'obamaexempted': 4662, 'fortyfive': 2858, 'related': 5650, 'unique': 7155, 'protocol': 5375, 'downloaded': 2193, 'pornography': 5162, 'smoking': 6302, 'tweeted': 7064, '0011': 37, 'chattanooga': 1331, 'tenn': 6786, 'staying': 6495, 'attribute': 774, '100mile': 185, 'fence': 2710, '7000': 265, 'outcomesbased': 4796, 'seeing': 6060, 'postsecondary': 5185, 'twoyear': 7079, 'freeze': 2907, 'uw': 7224, 'eighty': 2304, 'discovering': 2097, 'deep': 1909, 'hutchison': 3392, 'somehow': 6344, 'nearby': 4528, 'selling': 6080, 'libyan': 3998, 'tend': 6782, 'runoff': 5909, 'grady': 3085, 'yarbrough': 7546, '18700': 222, '008000': 44, 'dramatic': 2206, 'affect': 476, 'prevention': 5262, 'motor': 4450, 'chevrolet': 1347, '0900s': 132, 'style': 6575, 'trolley': 7029, 'performed': 5008, 'mind': 4358, '080': 116, 'sidestep': 6212, 'studentathletes': 6568, 'waiting': 7318, 'speedy': 6401, 'fidel': 2721, 'castro': 1259, 'preference': 5223, 'unkind': 7164, 'reauthorization': 5538, 'exportimport': 2584, 'based': 877, 'pasadena': 4928, 'collected': 1472, 'trafficking': 6966, 'activity': 420, 'publicly': 5395, 'quality': 5431, 'michigan': 4329, 'bottle': 1058, 'deposit': 1992, 'redemption': 5581, 'metric': 4316, 'quickly': 5445, '08000': 118, 'dozen': 2199, 'splitting': 6417, 'splintering': 6415, 'connecting': 1593, 'robbed': 5855, '079': 110, 'gutted': 3152, 'temporary': 6778, 'stage': 6447, 'actively': 419, 'passing': 4934, 'feingold': 2697, 'toughest': 6942, 'ethic': 2489, 'watergate': 7363, 'installed': 3571, '79100': 291, 'purchasing': 5409, 'fox': 2881, 'news': 4572, 'story': 6530, 'drunk': 2235, 'arrest': 719, 'expressly': 2590, 'prohibited': 5322, 'wholly': 7433, 'surveil': 6667, 'carrying': 1243, 'baggage': 827, 'malaysia': 4148, 'crack': 1734, 'holiday': 3319, 'team': 6757, 'respect': 5754, 'tested': 6804, 'shore': 6184, 'airplane': 522, 'list': 4036, 'vacancy': 7227, 'tradition': 6962, 'reelection': 5597, 'earlier': 2256, 'soldier': 6330, 'combat': 1484, 'salmon': 5945, 'fresh': 2910, 'commerce': 1499, 'handle': 3180, 'saltwater': 5948, 'usual': 7219, 'dems': 1972, 'rig': 5825, 'game': 2956, 'lyndon': 4116, 'meaningful': 4254, 'caliber': 1183, 'largecapacity': 3889, 'selection': 6071, 'bulb': 1135, 'hoping': 3347, 'estate': 2483, 'whod': 7431, 'miller': 4352, 'brewing': 1096, 'anheuserbusch': 616, 'armed': 713, 'grow': 3126, 'dhs': 2047, 'equip': 2458, 'rebel': 5541, 'mitch': 4392, 'mcconnell': 4241, 'pushed': 5418, 'finest': 2758, 'cosponsor': 1695, 'incident': 3481, 'feces': 2685, 'depicting': 1985, 'swastika': 6685, 'texting': 6815, 'teen': 6766, 'daylight': 1852, 'criticizing': 1767, 'oneyear': 4736, 'apparently': 662, '69': 258, 'obligated': 4675, 'defend': 1921, 'authorized': 789, 'player': 5105, 'suspended': 6678, 'shrink': 6200, 'thanthe': 6819, 'korean': 3849, 'is0': 3669, 'taller': 6722, 'gulag': 3145, 'potential': 5188, 'jim': 3726, 'doyle': 2197, 'vice': 7266, 'gore': 3056, 'cutby': 1811, 'formula': 2849, 'eric': 2465, 'hovde': 3368, 'miss': 4382, 'universe': 7159, 'pageant': 4873, 'pretty': 5255, 'stay': 6493, 'color': 1479, 'intelligent': 3598, 'calamity': 1179, 'saidthe': 5935, 'concedes': 1547, 'reported': 5708, 'wheretheres': 7420, 'vacation': 7229, 'approve': 684, 'cbo': 1279, '60000001': 240, '90000007': 324, 'ethanol': 2488, 'thirdbiggest': 6847, 'enterprise': 2438, 'coach': 1450, 'rex': 5803, 'yorkthe': 7556, 'afc': 474, 'soy': 6374, 'nico': 4580, 'estatal': 2482, 'quin': 5448, 'hombre': 3325, 'de': 1857, 'negocios': 4544, 'immigrantspay': 3435, 'hiring': 3301, 'manager': 4156, 'hazardous': 3223, 'unsuccessful': 7182, 'soar': 6311, 'cassidy': 1254, 'joined': 3741, 'short': 6185, 'founded': 2869, 'cofounder': 1463, 'crooked': 1768, 'surprised': 6660, 'flow': 2813, '860': 310, 'phil': 5053, 'multiple': 4474, 'applicant': 669, 'credential': 1754, 'consists': 1610, 'la': 3861, 'crosse': 1771, 'exit': 2551, 'surrounded': 6664, 'beating': 900, 'window': 7460, 'rocking': 5864, 'vehicle': 7250, 'extricated': 2609, 'crowd': 1776, 'larger': 3891, 'understand': 7126, 'fiftyone': 2729, 'nada': 4497, 'washing': 7348, 'covering': 1731, 'mouth': 4457, 'cough': 1704, 'reducing': 5592, 'transmission': 6981, 'flu': 2814, 'application': 670, 'phone': 5060, 'dishonorably': 2110, 'discharged': 2092, 'controlled': 1652, 'substance': 6595, 'stalking': 6453, 'overdosed': 4825, 'purpose': 5412, 'porkfilled': 5161, '0100': 64, 'stuffed': 6573, '00billion': 50, 'endemic': 2393, 'weakness': 7373, 'thomas': 6857, 'jefferson': 3710, 'declaration': 1892, 'independence': 3506, 'spoke': 6419, 'steady': 6497, 'progress': 5319, 'creating': 1751, 'drunken': 2236, 'deduction': 1907, 'costeffectively': 1698, 'serve': 6112, 'threw': 6875, 'barbecue': 860, 'yesterday': 7553, 'memorial': 4284, 'grocery': 3115, 'hedge': 3251, 'others': 4790, 'equity': 2460, 'winning': 7465, 'delegate': 1950, 'impossible': 3459, 'abolishing': 360, 'northeast': 4625, 'quick': 5443, 'desirable': 2011, 'consume': 1624, 'historically': 3305, 'legislationto': 3959, 'formammograms': 2845, 'witch': 7477, 'trial': 7013, 'healthcaregov': 3236, 'sullivan': 6625, 'contest': 1633, 'sadly': 5927, 'heroin': 3270, 'overdoses': 4826, 'exceeded': 2522, 'donothing': 2175, 'sitting': 6244, 'desk': 2012, 'awaiting': 809, 'action': 417, 'method': 4314, 'evaluating': 2497, 'rated': 5502, 'questionnaire': 5442, 'survey': 6670, 'jeanne': 3707, 'shaheen': 6146, 'eleven': 2332, 'paytoplay': 4971, 'reading': 5523, 'ireland': 3664, 'greece': 3104, 'portugal': 5172, 'spain': 6378, 'deer': 1914, 'baiting': 834, 'block': 1005, 'dem': 1960, 'mayoral': 4233, 'martinez': 4201, 'notax': 4631, 'jerseycomeback': 3717, 'rolling': 5873, 'govchristie': 3060, 'nj': 4595, 'corruption': 1693, 'weidner': 7392, 'earner': 2263, 'plug': 5114, 'hole': 3318, 'josh': 3752, 'mandel': 4164, 'lying': 4112, 'watching': 7358, 'hottest': 3362, 'spring': 6432, '60000': 238, 'boomer': 1038, 'singlepayer': 6237, 'repeated': 5700, 'routinely': 5892, 'recommendation': 5563, '078000': 108, 'detainee': 2023, 'swapped': 6684, 'bowe': 1064, 'bergdahl': 943, 'russian': 5918, 'faux': 2671, 'charity': 1323, 'ambassador': 581, 'minor': 4368, 'tattoo': 6738, 'parental': 4898, 'consent': 1598, 'scheduled': 6002, 'persisting': 5024, 'succeeding': 6602, 'ronda': 5880, 'taj': 6711, 'mahal': 4130, 'courthouse': 1725, 'sexual': 6140, 'orientation': 4775, 'woodstock': 7497, 'concert': 1553, 'museum': 4485, 'critical': 1765, 'race': 5458, 'cornell': 1682, 'concludes': 1557, 'generates': 2990, 'meaning': 4253, 'produce': 5304, 'strengthened': 6547, 'referral': 5601, 'personhood': 5030, 'conforming': 1582, 'ruling': 5905, 'attempt': 765, 'compare': 1522, 'intellectually': 3596, 'dishonest': 2109, 'blueprint': 1016, 'wildlife': 7448, 'coyote': 1733, 'canned': 1208, 'blueberry': 1015, 'strong': 6559, 'satisfaction': 5965, 'ben': 930, 'bernanke': 947, 'inflationary': 3534, 'greatest': 3103, 'hodges': 3313, 'badly': 825, 'botched': 1057, 'aig': 513, 'retention': 5777, 'alan': 530, 'greenspan': 3108, 'homeowner': 3332, 'academy': 378, 'shipbuilder': 6173, 'battle': 888, 'elusive': 2345, 'staunch': 6492, 'defender': 1924, 'monopoly': 4427, 'horrendous': 3349, 'green': 3105, 'submit': 6582, 'learn': 3935, 'disclosure': 2094, 'lottery': 4089, 'recidivism': 5555, 'fingerprint': 2759, 'matt': 4224, 'bevin': 958, 'happy': 3192, 'ed': 2286, 'grayson': 3100, 'category': 1265, 'comprehensive': 1538, 'nondefense': 4609, 'jfk': 3723, 'achieved': 404, 'camera': 1191, '00100': 34, 'ton': 6918, 'narcotic': 4507, 'confiscated': 1579, 'renewable': 5685, 'importing': 3456, 'milk': 4348, 'dairyland': 1824, 'cheesemakers': 1344, 'principal': 5273, '997': 340, 'nickel': 4579, 'nato': 4518, 'obsolete': 4678, 'adequately': 441, 'comment': 1498, 'division': 2141, 'focused': 2820, 'terror': 6798, 'deutsche': 2029, 'realize': 5530, 'geneva': 2996, 'whose': 7435, 'isisrelated': 3674, 'statistic': 6488, 'produced': 5305, 'ribbon': 5807, 'sam': 5949, 'slavery': 6276, 'negative': 4542, 'candidacy': 1205, 'footed': 2831, 'bachelor': 815, 'vega': 7248, '17that': 219, 'alabama': 528, 'wyoming': 7543, 'falling': 2641, 'lease': 3938, 'sixdistrict': 6248, 'jumped': 3766, 'rampant': 5486, 'entry': 2449, 'janitor': 3698, 'reversed': 5794, 'commitment': 1504, 'withdrawing': 7480, 'immediately': 3433, 'declared': 1894, 'manipulated': 4168, 'incumbent': 3503, 'guarantee': 3134, 'contrary': 1643, 'employeeswe': 2370, 'surrogate': 6662, 'maryland': 4205, 'martin': 4200, 'omalley': 4720, 'acknowledged': 407, 'organizer': 4774, 'advocate': 471, 'kennedy': 3804, 'registered': 5624, 'seems': 6064, 'campaigning': 1197, 'opposing': 4756, 'fort': 2854, 'killeen': 3822, 'saysthere': 5991, 'adjust': 442, 'kitzhaber': 3835, 'stopping': 6526, 'imminent': 3439, 'solution': 6336, 'expansive': 2558, 'adopted': 457, 'perpupil': 5019, 'wound': 7523, 'seattle': 6038, 'cart': 1244, 'awarded': 811, 'musical': 4488, 'projecting': 5327, 'lock': 4057, '061': 87, 'ramp': 5485, 'practically': 5198, '9999': 342, 'secede': 6041, 'debtceiling': 1878, 'sayshillary': 5984, 'abolish': 358, 'considering': 1606, 'earmarked': 2260, 'print': 5276, 'instant': 3575, 'everybodys': 2508, 'encountered': 2384, 'custom': 1807, 'processed': 5301, 'wouldnt': 7521, 'correct': 1688, 'appropriation': 682, 'deprived': 1997, 'meal': 4251, 'excess': 2527, 'comparable': 1520, 'appointed': 674, 'sept': 6101, 'arkansasamendment': 710, 'conception': 1550, 'conclusion': 1558, 'oneinthree': 4731, '600000': 239, 'stock': 6514, 'sworn': 6696, 'backwards': 822, '110000': 201, 'strongest': 6561, 'lebanon': 3942, 'partisan': 4918, 'megyn': 4280, 'removed': 5677, 'moderator': 4409, 'ignored': 3415, 'japanese': 3701, 'forty': 2857, 'entered': 2436, 'overstayed': 4845, 'onehalf': 4728, 'card': 1226, 'onto': 4739, 'grandchild': 3089, 'consistently': 1609, 'leaner': 3934, 'carcieri': 1225, 'stake': 6451, 'barnett': 866, '0709000000': 101, 'isner': 3681, 'mahut': 4136, '10inch': 193, 'redfish': 5583, 'fishing': 2782, 'flying': 2819, 'performing': 5009, 'globe': 3031, 'preparing': 5234, '000th': 28, 'discussion': 2104, 'wrong': 7534, 'mocked': 4405, 'reporter': 5709, 'exceeding': 2523, 'projection': 5328, 'mahatma': 4131, 'gandhi': 2958, 'laugh': 3907, 'apology': 659, 'tour': 6943, 'strickland': 6550, '810': 304, 'salestax': 5944, 'boosting': 1042, 'nobody': 4598, 'lessening': 3979, 'lobbying': 4051, 'technical': 6761, 'degree': 1942, 'ofa': 4691, 'fillup': 2745, 'risen00': 5839, 'sincebarack': 6232, 'stole': 6519, 'switch': 6693, 'denver': 1977, 'afraid': 488, 'unconstitutional': 7111, 'endowment': 2401, 'jasper': 3704, 'order': 4765, 'hypocrite': 3397, 'aggressively': 500, 'illegalimmigration': 3420, 'follows': 2826, 'pipe': 5083, 'wood': 7496, 'joking': 3744, 'pearl': 4979, 'canadian': 1201, 'visit': 7290, 'jv': 3778, 'referring': 5603, 'catholic': 1268, 'jewish': 3722, 'protestant': 5373, 'policeman': 5128, 'bid': 962, 'worry': 7513, 'filipino': 2741, 'philippine': 5056, 'bunch': 1140, 'sewage': 6135, 'huckabee': 3372, 'preventing': 5261, 'hagel': 3159, 'viable': 7264, 'feasible': 2682, 'establishment': 2480, 'compared': 1523, '17th': 218, 'grandmother': 3091, 'kenya': 3807, 'witnessed': 7487, 'dane': 1836, 'counting': 1715, 'recount': 5570, 'manner': 4171, 'suggest': 6618, 'wendy': 7403, 'davis': 1850, 'threatening': 6867, 'doorway': 2181, 'mobils': 4403, 'hire': 3299, 'bomb': 1029, 'mineresistant': 4361, 'twelve': 7065, 'thrown': 6881, 'challenge': 1308, 'notion': 4635, 'wrongly': 7536, 'conveyed': 1663, 'rubios': 5899, 'stance': 6455, 'infected': 3525, 'zika': 7575, 'outsourcing': 4811, 'viewisis': 7275, 'favorably': 2673, 'unfortunately': 7141, 'legalization': 3951, 'rally': 5482, 'screaming': 6024, 'disgrace': 2107, 'shutting': 6207, 'exxonmobil': 2611, 'guess': 3140, '016': 72, 'rapist': 5498, 'estimated01': 2486, 'designed': 2010, 'cheerleader': 1341, 'cowboy': 1732, 'entertained': 2440, 'closest': 1438, 'competitor': 1528, 'administer': 447, 'implication': 3451, 'familiar': 2643, 'historical': 3304, 'dad': 1819, 'gasguzzling': 2974, 'dinosaur': 2065, 'dependence': 1982, 'accumulated': 398, 'tragic': 6967, 'september': 6102, '0001s': 15, 'seneca': 6090, 'timber': 6894, 'co': 1448, 'aiming': 517, 'logging': 4059, 'allay': 551, 'fear': 2681, 'secondgeneration': 6045, 'asks': 732, 'retooled': 5784, 'unknown': 7165, 'repaid': 5691, 'terrible': 6795, 'pm': 5119, 'tuesday': 7048, 'polled': 5140, 'impression': 3460, 'screen': 6025, 'automaker': 794, 'sidewalk': 6213, 'proven': 5379, 'dole': 2157, 'bringing': 1104, 'grower': 3127, 'dairy': 1823, 'morocco': 4438, 'oman': 4721, 'yemen': 7551, 'economist': 2284, 'harvey': 3210, 'rosen': 5886, 'feldstein': 2701, 'ensures': 2433, 'revoke': 5797, 'stroke': 6558, 'pen': 4986, 'modify': 4413, 'insurer': 3591, 'treatment': 7004, 'angry': 615, 'lyme': 4113, 'fastest': 2658, 'infectious': 3526, 'secondhighest': 6047, 'incidence': 3480, 'hitler': 3308, 'stalin': 6452, 'mubarak': 4466, 'autocrat': 793, 'hired': 3300, 'amazing': 580, 'rauner': 5513, 'documented': 2150, 'restrictive': 5771, 'anticompetitive': 634, 'unopposed': 7174, 'minnesota': 4367, 'challenger': 1309, 'august': 779, 'destroyed': 2018, 'cashier': 1251, 'abortionist': 363, '0970': 148, 'paine': 4876, 'patriot': 4950, 'hezbollah': 3274, 'latin': 3902, 'venezuela': 7252, 'granted': 3095, 'homestead': 3333, 'exemption': 2540, 'applied': 671, 'equally': 2457, 'aprovision': 689, 'dominant': 2164, 'wasted': 7353, 'spiral': 6412, 'staircase': 6450, 'thirty': 6852, 'baseball': 876, 'owned': 4855, 'ballpark': 846, 'cotton': 1703, 'proposition': 5356, 'conclude': 1555, 'shouldnt': 6191, 'randi': 5490, 'shade': 6142, 'contributor': 1650, 'racetrack': 5459, 'closing': 1440, 'accumulate': 397, 'lassa': 3895, 'willingly': 7453, 'hefty': 3252, 'spillover': 6409, 'escalating': 2470, 'lifted': 4012, 'residency': 5744, 'resemble': 5738, 'onefourth': 4727, 'play': 5103, 'warcraft': 7337, 'nascar': 4509, 'isd': 3671, 'jihadist': 3725, 'shortage': 6186, 'meatpacking': 4265, '696': 259, 'schip': 6004, 'socialized': 6318, 'endorses': 2399, 'subpar': 6584, 'instruction': 3583, 'failing': 2628, 'plus': 5118, 'homelessness': 3329, 'steve': 6505, 'santarsiero': 5959, 'pa': 4863, 'mother': 4447, 'assistance': 746, 'nutrition': 4650, 'outcome': 4795, 'remaining': 5669, 'night': 4583, 'normandy': 4622, 'invasionwrote': 3629, 'resignation': 5748, 'jd': 3706, 'hayworth': 3222, 'lobby': 4050, 'gut': 3151, 'recognize': 5561, 'languished': 3886, 'file': 2735, 'mob': 4400, 'bombing': 1032, 'straight': 6531, '101': 188, 'grandparent': 3092, 'immigrated': 3437, 'butt': 1166, 'poison': 5125, 'nicotine': 4581, 'speakerdesignate': 6388, 'presidentdesignate': 5246, 'haridopolos': 3202, 'greer': 3109, 'mismanagement': 4380, 'punished': 5404, 'exercising': 2544, 'choose': 1362, 'virginian': 7285, 'timetable': 6897, 'withdraw': 7478, 'aside': 728, 'urban': 7201, 'calculated': 1180, 'citywide': 1396, 'enacting': 2381, 'righttocarry': 5830, 'predator': 5214, 'tuitionfree': 7051, 'exists': 2550, 'blunt': 1018, 'online': 4738, '0700page': 100, 'massively': 4213, '11000': 200, 'rwis': 5921, 'brush': 1119, 'calendar': 1182, 'statemandated': 6478, 'makeup': 4146, 'carly': 1234, 'fiorina': 2764, 'limousine': 4024, 'abraham': 364, 'lincoln': 4025, 'danced': 1834, 'determine': 2025, 'governorwe': 3071, 'participation': 4915, 'driven': 2222, 'length': 3972, 'admits': 453, 'computer': 1542, 'stuff': 6572, 'incoming': 3489, 'ordinary': 4767, 'elective': 2318, 'preside': 5242, 'inherited': 3544, 'ogden': 4707, 'hurting': 3388, 'crafted': 1739, 'robin': 5858, 'entanglement': 2434, 'complication': 1535, 'er': 2462, 'heritage': 3269, 'che': 1334, 'guevara': 3142, 'constable': 1611, 'hawaii': 3220, 'throwing': 6880, 'moment': 4418, 'aaa': 345, 'marketplace': 4190, 'broker': 1112, 'parking': 4904, 'somewhere': 6350, 'commander': 1494, 'follow': 2823, 'mutual': 4492, 'cuban': 1786, 'exile': 2545, 'organization': 4772, 'undocumentedimmigrants': 7133, 'overstay': 4844, 'absurd': 373, 'establish': 2477, 'link': 4028, 'chronic': 1375, 'traumatic': 6991, 'encephalopathy': 2383, 'yost': 7557, 'privatizing': 5289, 'suggesting': 6620, 'costofliving': 1701, 'adjustment': 444, 'uncompensated': 7110, 'webb': 7382, 'persists': 5025, 'negating': 4541, 'mainly': 4140, 'relocate': 5662, 'remember': 5671, 'cityrun': 1395, 'processing': 5302, 'bureaucracy': 1146, 'treasurer': 6999, '87': 311, 'annuity': 626, 'chart': 1328, 'error': 2468, 'votetabulation': 7306, 'frontline': 2920, 'trimets': 7020, 'youthpass': 7564, 'dissuade': 2125, 'participating': 4914, 'helpful': 3260, 'alderman': 539, 'defeated': 1919, 'multifamily': 4469, 'exelon': 2537, 'yucca': 7568, 'waste': 7352, 'depository': 1994, '70000': 266, 'threeyearolds': 6873, 'fouryearolds': 2880, 'preschool': 5235, 'top01': 6926, 'offseason': 4702, 'drawing': 2211, 'wouldbe': 7520, 'sexting': 6139, 'teenager': 6768, '800000': 297, 'collapsed': 1469, 'asset': 744, 'totaled': 6934, 'fisher': 2781, 'met': 4309, 'workman': 7506, 'authored': 786, 'jessica': 3719, 'neighbor': 4548, 'tide': 6887, 'gauge': 2977, 'measuring': 4262, 'sea': 6029, '0900': 130, 'risen': 5838, 'survivor': 6673, 'ridesharing': 5822, 'disagreed': 2082, 'strongly': 6562, 'factory': 2623, 'graveyard': 3099, 'ankledeep': 618, 'murray': 4482, 'bicycle': 961, 'loud': 4090, 'hear': 3239, 'yell': 7550, 'mentioned': 4296, 'ownership': 4857, 'express': 2588, 'renacci': 5679, 'fatcat': 2665, 'surveyed': 6671, 'daily': 1822, 'harm': 3203, 'bestknown': 952, 'hb0': 3225, 'needle': 4538, 'iota': 3652, 'nomination': 4601, 'probe': 5296, 'longestrunning': 4068, 'leg': 3948, '1800': 221, 'hotel': 3359, 'honoring': 3339, 'overbuilt': 4822, 'requested': 5727, 'henceforth': 3264, 'automatically': 797, 'forum': 2862, 'announcing': 623, 'nashville': 4510, 'initial': 3545, 'carved': 1247, 'heartless': 3245, 'crow': 1775, 'restriction': 5770, '07000': 98, 'reelect': 5595, 'faced': 2615, 'bernies': 950, 'voice': 7295, 'fine': 2756, 'assessment': 743, 'deported': 1990, 'accomplished': 390, 'smaller': 6293, 'bullet': 1138, 'insulted': 3587, 'incometax': 3488, 'freeing': 2904, 'santorum': 5960, 'teapot': 6759, 'cohen': 1464, 'shelby': 6159, 'recovering': 5573, 'slower': 6285, 'europe': 2494, 'ghetto': 3008, 'mafia': 4127, 'redirect': 5584, 'mode': 4406, 'improve': 3465, 'existence': 2548, 'rushed': 5913, 'involved': 3649, 'prosecuting': 5359, 'adler': 445, 'admitted': 454, 'firm': 2773, '17percent': 217, 'fireworksrelated': 2771, 'sparkler': 6383, 'baucus': 891, 'selfdefense': 6073, '081': 123, 'juror': 3772, 'stark': 6464, 'contrast': 1644, '710000': 275, 'republicanled': 5723, 'softening': 6325, 'strictest': 6551, 'skyrocketed': 6267, 'payroll': 4970, 'rebate': 5539, 'overturning': 4849, 'roe': 5867, 'wade': 7314, 'scoring': 6019, 'mathematics': 4223, 'navigator': 4523, 'identity': 3410, 'moderate': 4408, 'da': 1817, 'southwest': 6370, 'handsomely': 3184, 'although': 576, 'complying': 1537, 'trusted': 7043, 'ahead': 510, 'capandtrade': 1216, 'co0': 1449, 'mittromneys': 4395, 'sacrificed': 5925, 'kept': 3808, 'till': 6891, 'technically': 6762, 'uncontested': 7113, '900million': 326, 'porkbarrel': 5160, 'citation': 1389, 'dildo': 2062, 'elimination': 2339, 'volcano': 7296, 'exploding': 2575, 'principally': 5274, 'plot': 5112, 'lerner': 3976, 'harassment': 3193, 'nonprofit': 4616, 'clarkston': 1405, 'decriminalize': 1902, 'foreignborn': 2840, 'gamed': 2957, 'pip': 5082, 'difficult': 2061, 'ga': 2945, 'prescribed': 5236, 'pasco': 4929, 'organized': 4773, 'syndicate': 6698, 'extorting': 2601, 'ganleys': 2961, 'civilian': 1399, 'award': 810, 'severely': 6134, 'wounded': 7524, 'suffering': 6615, 'ebola': 2280, 'sneeze': 6304, 'vetting': 7262, 'perpetuity': 5018, 'ponzi': 5149, 'averagein': 805, 'yearthey': 7549, 'agree': 503, 'hale': 3162, 'sweeping': 6687, 'developer': 2035, 'infill': 3528, 'treated': 7002, 'thirtyfive': 6853, 'intercity': 3603, 'climatic': 1426, 'unit': 7156, '0099': 49, 'eightyfive': 2306, 'sayspresident': 5988, 'hijacked': 3288, 'mid': 4332, 'lowrange': 4104, '1th': 233, 'profile': 5316, 'ethnicity': 2492, 'successfully': 6605, 'pong': 5148, 'invader': 3627, 'iphone': 3657, 'harmful': 3205, 'pollutant': 5143, 'nitrogen': 4593, 'oxide': 4860, '601': 244, 'ozone': 4862, 'percenta': 4999, 'stream': 6543, 'dramatically': 2207, 'recess': 5553, 'appointment': 676, 'cordray': 1679, 'precisely': 5212, 'thensen': 6831, 'elevator': 2331, 'demographic': 1969, 'isolated': 3684, 'april': 688, 'clintonsposition': 1432, '771': 284, 'johnny': 3737, 'cayman': 1278, 'supposedly': 6648, 'scam': 5997, 'polite': 5133, 'perk': 5012, 'âªbernieâ': 7579, 'broken': 1111, 'memphis': 4286, 'opening': 4742, 'aggie': 498, 'noncitizen': 4607, 'sit': 6241, 'masshealth': 4211, 'advisory': 470, 'ralph': 5483, 'northam': 4624, 'label': 3863, 'blatantly': 1001, 'attempting': 767, 'disrupt': 2123, 'averageand': 803, '01year': 80, 'trend': 7010, 'escalation': 2471, 'reaffirmed': 5525, 'intention': 3600, 'precondition': 5213, 'parkinson': 4905, 'glaucoma': 3026, 'associate': 748, 'establishing': 2479, 'promotes': 5337, 'koster': 3852, 'boss': 1055, 'embroiled': 2358, 'fleeing': 2800, 'budgetrepair': 1129, 'visitor': 7293, 'minute': 4370, 'practicing': 5200, 'nationbuilding': 4515, 'curry': 1804, 'commanderinchiefs': 1496, 'commanderinchief': 1495, 'uninsurable': 7148, 'roadmap': 5850, '0060s': 39, 'unthinkable': 7185, '0977': 152, 'outrageous': 4808, 'lied': 4004, 'named': 4503, 'gunfree': 3149, 'telling': 6775, 'simulation': 6229, 'conceive': 1548, 'federallyowned': 2690, 'fatherabsent': 2667, 'cochair': 1459, 'joint': 3743, 'portlandmilwaukie': 5169, 'jeff': 3709, 'merkley': 4304, 'unmitigated': 7173, 'writes': 7531, 'wrongdoing': 7535, 'paragraph': 4892, '0981': 157, 'answer': 629, 'donor': 2174, 'advisor': 469, 'endorser': 2398, 'academic': 377, 'disappear': 2084, 'imprisoning': 3463, 'selfinduce': 6077, 'barehanded': 862, 'catch': 1263, 'youtube': 7565, 'brendan': 1094, 'doherty': 2156, 'eligibility': 2333, '0960': 143, 'occupation': 4683, 'tape': 6728, 'header': 3229, 'topsecret': 6928, 'confidential': 1571, 'repeat': 5699, 'verified': 7253, 'neenah': 4540, 'bow': 1063, 'arrow': 722, 'mate': 4217, 'homeopathy': 3331, 'acupuncture': 426, 'aromatherapy': 716, 'elevated': 2330, 'legitimacy': 3963, 'talked': 6720, 'chevron': 1348, 'conocophillips': 1596, 'shell': 6162, 'zeldin': 7573, '00rds': 55, 'hearing': 3241, '11090089': 203, 'watt': 7365, 'quarterbillion': 5434, 'doma': 2160, 'stratosphere': 6539, 'pediatrics': 4982, 'primarily': 5269, 'divorce': 2142, 'brazil': 1085, 'crackdown': 1735, 'phasing': 5051, 'megabanks': 4279, 'taxpayerfunded': 6749, 'kicker': 3816, 'stabilize': 6441, 'disagrees': 2083, 'ricci': 5808, 'destefano': 2015, 'legion': 3957, 'quarterofamillion': 5438, 'innocent': 3554, 'slaughtered': 6274, 'surgery': 6655, 'cnbc': 1446, 'renegotiated': 5683, 'thensecretary': 6830, 'condoleezza': 1565, 'youngstown': 7561, 'slash': 6270, 'devastate': 2030, 'ohioan': 4709, 'easiest': 2272, 'birthright': 985, 'gallup': 2952, 'characteristic': 1319, 'atheist': 757, 'colorado': 1480, 'oklahoma': 4714, 'maine': 4139, 'utah': 7221, 'christopher': 1374, 'stevens': 6507, 'restore': 5766, 'plotted': 5113, 'promote': 5336, 'belly': 925, 'strip': 6556, 'club': 1444, 'whereas': 7418, 'exporter': 2583, 'agricultural': 508, 'abolished': 359, 'holperin': 3323, 'exterior': 2599, 'differed': 2058, 'weak': 7369, 'whove': 7436, 'betty': 956, 'sutton': 6682, 'kasichs': 3786, 'duo': 2249, 'uber': 7085, 'operating': 4745, 'constantly': 1613, 'interviewed': 3618, 'asia': 726, 'slowdown': 6283, 'flight': 2804, 'capped': 1219, 'audience': 776, 'deporting': 1991, 'quote': 5454, 'roof': 5881, 'strictly': 6552, 'berlin': 945, 'especially': 2474, 'bonding': 1035, 'posse': 5177, 'rush': 5912, 'limbaugh': 4018, 'hed': 3250, 'fail': 2626, 'succeed': 6600, 'distinction': 2128, 'availability': 800, 'versus': 7256, 'rest': 5763, 'consistent': 1608, 'wentworth': 7405, 'unless': 7167, 'derrick': 2005, '0plus': 172, 'openly': 4743, 'celebrate': 1283, 'christmas': 1373, 'pray': 5203, 'embrace': 2357, 'kentuckian': 3805, 'arkansan': 708, 'doyles': 2198, 'headtohead': 3233, 'employerbased': 2372, 'implied': 3452, 'compensation': 1525, 'directed': 2071, '00st': 59, 'drawn': 2212, 'spill': 6408, 'adam': 429, 'putnam': 5421, 'obamacarecaused': 4657, 'paperwork': 4891, 'absorb': 372, '090': 129, 'moreand': 4435, 'mount': 4454, 'rushmore': 5916, '0117': 71, 'ratify': 5507, 'mixed': 4397, 'proud': 5377, 'donation': 2171, 'begging': 912, 'governorship': 3070, 'landed': 3879, 'greet': 3110, 'precedent': 5207, 'prestigious': 5253, 'waited': 7317, 'dcarea': 1855, 'taxed': 6743, 'surtax': 6666, 'businesspeople': 1162, 'inexpensive': 3522, 'childonly': 1356, 'clerk': 1419, 'solid': 6334, '0010': 33, 'sittons': 6245, '610000': 249, 'enormous': 2424, 'reach': 5516, 'blamed': 998, 'hamas': 3171, 'beyond': 959, 'indeed': 3505, 'charitable': 1322, 'sanction': 5952, 'kander': 3782, '77': 282, 'inflammatory': 3530, 'newsletter': 4573, 'omar': 4722, 'mateen': 4218, 'employed': 2368, 'statesupported': 6482, 'unarmed': 7104, 'draft': 2201, 'statistically': 6489, 'lawenforcement': 3914, 'modernizing': 4411, 'requesting': 5728, 'bracket': 1071, '9000': 321, 'crippling': 1760, 'kerry': 3809, 'rely': 5664, 'announcement': 622, 'fortune': 2856, 'teach': 6754, 'ornamental': 4783, 'holder': 3316, 'twitter': 7073, 'sand': 5954, 'barrier': 872, 'properly': 5345, 'compact': 1518, 'container': 1631, 'demcontrolled': 1964, 'objective': 4674, 'politics': 5137, 'boundary': 1062, 'thenpresident': 6829, 'discrimination': 2100, 'nowhere': 4640, 'goliad': 3047, 'memory': 4285, 'horrific': 3351, 'revolution': 5799, 'cutoff': 1812, '990': 339, 'dissenter': 2124, 'engagement': 2413, 'kosovo': 3851, 'fighting': 2733, 'anyway': 651, 'ultimately': 7093, '9100': 330, 'germany': 3005, 'quicker': 5444, 'spread': 6430, 'mosquito': 4443, 'mature': 4226, 'bite': 989, 'metabolism': 4310, 'inside': 3561, 'incubate': 3502, 'perriello': 5021, 'wherever': 7421, 'insist': 3563, 'intelligence': 3597, 'telecast': 6769, 'proceeding': 5299, 'main': 4138, 'verify': 7254, 'math': 4221, 'comedian': 1488, 'chai': 1305, 'landuse': 3883, 'reformed': 5608, 'dubai': 2238, 'imported': 3455, 'blame': 997, 'sat': 5963, '9trillion': 344, 'hospitalized': 3355, 'harmed': 3204, 'formation': 2846, 'assisted': 747, '11110': 206, 'filing': 2740, 'purim': 5411, 'halloween': 3167, 'range': 5491, 'saysbarack': 5979, 'ofindianas': 4705, 'religious': 5661, 'restoration': 5765, 'martini': 4202, 'brazilian': 1086, 'steakhouse': 6498, 'drowned': 2231, 'developed': 2034, 'appoint': 673, 'interim': 3607, 'pathological': 4945, 'wed': 7386, 'categorize': 1264, 'gambler': 2954, 'exacerbated': 2515, 'lack': 3867, 'respond': 5757, 'bbq': 895, 'curbing': 1797, 'painful': 4877, 'participate': 4913, 'cumulatively': 1792, 'sufficient': 6616, 'scholarship': 6007, 'relation': 5651, 'prototype': 5376, 'garage': 2964, 'sucked': 6606, 'commute': 1515, 'port': 5164, 'granting': 3096, 'bear': 897, 'apex': 655, 'singapore': 6233, 'warning': 7342, 'planning': 5097, 'mall': 4150, 'lieutenant': 4005, 'invited': 3645, 'vaccine': 7232, 'fastestrising': 2660, 'spray': 6429, 'bordentown': 1045, 'regional': 5622, 'greenhouse': 3106, 'initiative': 3548, 'sierra': 6215, 'turtle': 7061, 'owes': 4854, 'tab': 6705, 'marginal': 4182, 'nonanglo': 4606, 'carl': 1232, 'windfall': 7457, 'councilor': 1709, 'network': 4558, 'privacy': 5283, 'confidentiality': 1572, 'stiff': 6509, 'motorist': 4452, 'fatally': 2664, 'struck': 6563, '0yearold': 176, 'obamacareyou': 4660, 'database': 1843, 'pharmacy': 5050, '000600': 17, 'jobsforlife': 3734, 'professor': 5313, 'addressing': 439, 'derivative': 2004, 'cracking': 1737, 'subprime': 6586, 'oversight': 4843, 'crct': 1747, 'expectation': 2561, 'proficiency': 5314, 'conceal': 1543, 'bird': 981, 'shared': 6151, 'ideologue': 3411, 'rooted': 5884, 'waive': 7319, 'reasonable': 5536, '66': 251, 'hotline': 3361, '1011': 189, 'simpsonbowles': 6228, 'partialbirth': 4911, 'slot': 6281, 'rasmussen': 5500, 'sotomayors': 6361, 'confirmation': 1576, 'reinvested': 5644, 'prep': 5231, 'rufus': 5901, 'mp': 4462, 'taveras': 6739, 'manila': 4167, 'subsidiary': 6591, 'convert': 1660, 'breast': 1091, 'premise': 5229, 'amongst': 595, 'constrained': 1618, 'pollution': 5147, 'role': 5870, 'contain': 1629, 'releasing': 5657, 'photograph': 5063, 'scenario': 6000, 'opposition': 4758, 'occurred': 4685, 'philando': 5055, 'castile': 1256, 'discriminating': 2099, 'bailed': 829, 'insider': 3562, 'trading': 6961, 'brave': 1084, 'fdr': 2680, 'communist': 1511, 'says76': 5977, 'johnsonweld': 3739, 'justin': 3777, 'amash': 579, 'shuts': 6206, 'accrue': 396, 'unfairly': 7140, 'universal': 7158, '6million': 261, 'sending': 6088, 'gm': 3033, 'whatever': 7414, 'contraceptive': 1641, 'mammogram': 4152, 'plummet': 5116, '0999': 165, 'naive': 4501, 'tripoli': 7026, 'swim': 6688, 'embassy': 2353, 'pool': 5150, 'dug': 2242, 'gogebic': 3040, 'mine': 4359, 'murrayryan': 4483, 'dividedgovernment': 2140, '0986': 158, 'mitchell': 4393, 'dome': 2162, 'millionplus': 4355, 'worldwide': 7512, 'fancy': 2648, 'ride': 5818, 'feisal': 2700, 'abdul': 351, 'raufs': 5512, 'dow': 2189, 'solved': 6339, 'mostregressive': 4445, 'structure': 6565, 'sixtyfive': 6255, 'okay': 4713, 'cited': 1390, 'productive': 5310, 'qualified': 5428, 'cramming': 1741, 'throat': 6877, 'fraction': 2884, 'implement': 3447, 'pocketing': 5122, 'phony': 5061, 'heard': 3240, 'reimbursed': 5639, 'exceed': 2521, 'tag': 6709, 'blocking': 1007, 'sealed': 6031, 'context': 1634, 'flint': 2805, '009': 47, '760000': 278, 'newest': 4569, 'unconstitutionally': 7112, 'violate': 7277, 'hipaa': 3298, 'justification': 3775, 'confiscation': 1580, 'sixfigure': 6249, 'gain': 2947, 'final': 2747, 'ganley': 2960, 'dickens': 2051, 'winery': 7463, 'charlottesville': 1327, 'windshield': 7461, 'tough': 6939, '08billion': 126, 'backlog': 820, 'prevented': 5260, 'aigs': 514, 'mysteriously': 4496, 'disappeared': 2085, 'provides': 5384, 'underutilized': 7128, 'automotive': 799, 'recorded': 5569, 'utter': 7223, 'balancedbudget': 838, 'prochoice': 5303, 'release': 5655, 'picked': 5070, 'saysbernie': 5980, 'charleston': 1325, 'naval': 4521, '0907': 134, 'learned': 3936, 'spy': 6436, 'hacking': 3157, 'attached': 760, 'vietnam': 7272, 'exchanging': 2529, 'possibly': 5180, 'windfarm': 7458, 'faucet': 2669, 'fcc': 2678, 'whatis': 7415, 'touched': 6938, 'acre': 411, 'stayed': 6494, 'cure': 1799, 'cryptosporidium': 1784, 'yes': 7552, 'ch0m': 1302, 'hill': 3292, 'obamashealth': 4667, 'merger': 4301, 'finish': 2760, 'sakonnet': 5938, 'river': 5845, 'endorsement': 2397, 'perspective': 5033, 'jesus': 3720, 'christ': 1369, 'purchased': 5408, 'legacy': 3949, 'deficitspending': 1932, 'heinous': 3253, 'intentional': 3601, 'permanent': 5013, 'disfigurement': 2106, 'greg': 3111, 'abbott': 350, 'defended': 1923, 'managed': 4154, 'toraise': 6929, 'defunding': 1940, 'stranded': 6535, 'exam': 2518, 'drugdealing': 2233, 'burglary': 1149, 'prostitution': 5367, 'decriminalized': 1903, 'egg': 2300, 'retail': 5776, 'site': 6242, 'store': 6527, 'involuntarily': 3647, 'baker': 835, 'upon': 7195, 'dischargeand': 2091, 'amend': 582, '0789': 109, 'pps': 5197, 'dennis': 1974, 'kucinich': 3853, 'hollowed': 3320, 'acrosstheboard': 413, 'standardized': 6459, 'nineday': 4587, 'contributes': 1647, 'taker': 6715, 'maker': 4145, 'donna': 2173, 'campbell': 1198, 'pour': 5192, '610': 246, 'arizonan': 707, 'umpqua': 7096, 'stabilizing': 6443, 'surcharge': 6651, 'armor': 714, 'pwned': 5424, 'dominates': 2165, 'heath': 3246, 'thevalley': 6840, 'allfunds': 555, 'percentlower': 5004, 'preventive': 5263, 'unwanted': 7188, 'contact': 1628, 'overstaying': 4847, 'shrinking': 6201, 'siphon': 6239, 'apart': 654, 'seam': 6033, 'chickfila': 1351, 'emory': 2365, 'solely': 6332, 'feedback': 2694, 'genocide': 2998, 'bosnia': 1054, '19000': 226, 'median': 4268, 'youd': 7558, 'aplus': 656, 'promoting': 5338, '000vote': 29, 'overturned': 4848, 'starting': 6470, 'fortysix': 2860, 'groping': 3117, 'preceding': 5208, 'cocaine': 1458, 'stellar': 6501, 'mathematically': 4222, 'earns': 2267, 'suspected': 6676, 'soil': 6326, 'disapproval': 2087, 'indicated': 3513, 'pursued': 5414, 'osama': 4787, 'bin': 978, 'laden': 3869, 'outer': 4798, 'continental': 1635, 'shelf': 6161, 'hungriest': 3379, 'bobby': 1024, 'assassinated': 737, 'hamilton': 3172, 'stripclub': 6557, 'distributor': 2135, 'ciancis': 1381, '018': 75, 'task': 6737, 'cnns': 1447, 'wolf': 7489, 'blitzer': 1003, 'urged': 7202, 'wristband': 7529, 'reminder': 5673, 'privilege': 5290, 'backroom': 821, 'reveal': 5790, 'longstanding': 4071, 'rodent': 5866, 'infestation': 3527, 'electoral': 2319, 'landslide': 3882, 'threatens': 6868, 'harbor': 3194, 'benefitted': 938, 'payday': 4964, 'lender': 3970, 'operate': 4744, 'patriotic': 4951, 'operational': 4747, 'fast': 2656, 'helpless': 3262, 'soundly': 6364, 'slept': 6277, 'bed': 906, 'bloombergstyle': 1011, 'fran': 2887, 'dewines': 2046, 'madefromscratch': 4124, 'dinner': 2064, 'delicious': 1953, 'favorite': 2674, 'traditional': 6963, 'thanksgiving': 6818, '0ly': 170, 'linn': 4030, 'ratification': 5505, 'tommy': 6917, 'thompson': 6858, '87000': 312, 'freds': 2901, 'righttolife': 5831, 'reflect': 5606, '0million': 171, 'dna': 2144, 'montana': 4428, 'polluter': 5145, 'expressed': 2589, 'twentyfive': 7067, 'shooter': 6179, 'discharging': 2093, 'mcginty': 4247, 'alarming': 531, 'undercurrent': 7116, 'misinformed': 4377, 'pittsburgh': 5088, 'jonathan': 3746, 'gruber': 3131, 'exception': 2526, 'prek': 5227, 'switzerland': 6695, 'insisting': 3564, 'fiscalcliff': 2779, 'btw': 1122, 'barackobama': 858, 'modern': 4410, 'outspent': 4812, 'reaching': 5518, 'normal': 4620, 'tip': 6900, 'oneill': 4730, 'speakership': 6389, 'reinvesting': 5645, 'overincarceration': 4833, 'encouraged': 2386, 'corbett': 1678, 'royalty': 5896, 'foroil': 2851, 'secondlargest': 6048, 'agreeing': 505, 'derailed': 2001, 'destabilize': 2014, 'borrows': 1052, 'obeys': 4672, 'join': 3740, 'wildfire': 7447, 'linked': 4029, 'badger': 824, 'ancestor': 604, 'bidder': 963, 'treatyinfringes': 7006, 'resigned': 5749, 'shredit': 6199, 'startedthe': 6468, 'birther': 984, 'controversy': 1656, 'reining': 5640, 'luther': 4110, 'olsen': 4718, 'stateowned': 6480, 'bragged': 1075, 'underage': 7115, 'adjusted': 443, 'daughter': 1847, 'teenage': 6767, 'massaged': 4209, 'doctored': 2148, 'lowering': 4101, 'severance': 6132, 'sky': 6265, 'complicated': 1534, 'extract': 2604, 'questioning': 5441, 'original': 4777, 'manmade': 4170, 'spark': 6382, 'immunity': 3441, 'urgent': 7203, 'church': 1378, 'curtain': 1805, 'tragically': 6968, 'carolinian': 1237, 'nics': 4582, 'typically': 7083, 'otherwise': 4791, 'resulting': 5775, 'reopened': 5689, 'discovered': 2096, 'portends': 5165, 'automated': 795, '89000': 317, 'devlin': 2041, 'barring': 873, 'wearing': 7379, 'hat': 3214, '0800s': 120, 'substitute': 6597, 'nevadan': 4564, 'obamacareexchange': 4658, 'treason': 6997, 'outundocumented': 4817, 'realistic': 5528, 'todd': 6905, 'akin': 525, 'partly': 4921, 'raped': 5497, 'grabbed': 3076, 'intended': 3599, 'overhaul': 4830, 'cliff': 1423, 'blackstone': 993, 'elementaryage': 2328, 'proficient': 5315, 'viewed': 7274, 'mission': 4386, 'brainwashing': 1077, 'inmigration': 3552, 'handinhand': 3179, 'caucus': 1272, 'dave': 1848, 'aronberg': 717, 'billiondollar': 977, 'devastation': 2033, 'tenpoint': 6788, 'hypocrisy': 3396, '008009': 45, '010001': 67, '00000001': 7, 'investigative': 3639, 'marta': 4198, 'privatesale': 5285, 'dependency': 1983, 'selffunding': 6075, 'ceasing': 1281, 'tebow': 6760, 'praying': 5206, 'sideline': 6211, 'wyden': 7542, 'exotic': 2553, 'ant': 631, 'usisraeli': 7216, 'cooperation': 1673, 'unprecedented': 7177, 'relying': 5665, 'highcost': 3279, 'pawn': 4959, 'shop': 6182, 'cashing': 1252, 'erupted': 2469, 'musharraf': 4486, 'flagging': 2793, 'unaccompanied': 7099, 'suit': 6623, 'furniture': 2942, 'turkey': 7055, 'frame': 2885, 'automatic': 796, 'extendedcapacity': 2593, '000round': 27, 'lid': 4002, 'firing': 2772, 'hurricane': 3386, 'katrina': 3791, 'slowly': 6287, 'gradually': 3080, 'proportionally': 5348, 'journalist': 3753, 'wanting': 7334, 'moose': 4433, 'hunting': 3383, 'truancy': 7035, 'blake': 996, 'rocap': 5862, 'castle': 1258, 'del': 1944, 'sheet': 6158, 'metal': 4311, 'parma': 4906, 'govjaynixon': 3072, 'overridden': 4835, 'moleg': 4414, 'indicate': 3512, 'lgbt': 3989, 'coop': 1670, 'constitutes': 1615, 'parallel': 4893, 'nelson': 4552, 'empirical': 2366, 'torture': 6932, 'defaulted': 1916, 'maggie': 4129, 'hassans': 3213, 'busted': 1164, 'intact': 3593, 'knight': 3841, 'columbus': 1483, 'ceremony': 1295, 'rainwater': 5475, 'lucky': 4108, 'regulatory': 5637, 'addiction': 433, 'downgrade': 2191, 'tenured': 6792, 'dismissed': 2115, 'incompetence': 3490, 'determination': 2024, 'retired': 5778, '0909': 136, 'collecting': 1473, 'unseemly': 7181, '0c': 168, 'corridor': 1690, 'passenger': 4933, 'rabid': 5455, 'strain': 6533, 'rabies': 5456, 'serum': 6111, 'mentioning': 4297, 'villanovas': 7276, 'buzzerbeating': 1173, 'comefrombehind': 1489, 'erode': 2467, 'penitentiary': 4990, 'publicsector': 5397, 'kit': 3832, 'tightened': 6890, 'photographer': 5064, 'routemiles': 5891, 'jan': 3696, 'debra': 1876, 'medina': 4274, 'remainder': 5667, 'wartime': 7346, 'elizabeth': 2341, 'mvc': 4494, 'vaccination': 7231, 'heavily': 3248, 'unionized': 7154, 'staggering': 6449, '0trillion': 175, 'tainted': 6710, 'beef': 908, 'forbes': 2833, 'embarrassment': 2352, 'lubbock': 4107, 'suspect': 6675, 'alleged': 553, 'doll': 2158, 'explosive': 2580, 'similar': 6223, 'blow': 1012, 'jumbo': 3765, 'pacific': 4867, 'successful': 6604, 'boosted': 1041, 'thank': 6816, 'heaven': 3247, 'improved': 3466, 'hated': 3216, 'dnr': 2145, 'hunter': 3382, 'mismanaged': 4379, 'herd': 3267, 'dwindled': 2254, 'cold': 1467, 'endorse': 2395, 'notspend': 4638, 'arab': 691, 'suspending': 6679, 'cranstons': 1743, '00010001': 11, '00in': 52, 'lilly': 4017, 'ledbetter': 3944, 'antipoverty': 639, 'sudafed': 6608, 'midterm': 4340, 'mcgreevey': 4249, 'monkey': 4426, 'succeeded': 6601, 'preventable': 5258, 'mccainlieberman': 4238, 'imitation': 3431, 'hollywood': 3321, 'renaissance': 5680, 'barretts': 871, 'hoax': 3312, 'enters': 2439, '0110': 69, 'thereabout': 6836, 'marshal': 4197, 'ranger': 5492, 'minimumwage': 4364, 'jobfriendly': 3729, 'neversaid': 4566, 'boot': 1043, 'priority': 5280, 'whopping': 7434, 'obese': 4670, 'sboe': 5994, 'textbook': 6814, 'inspired': 3569, 'layer': 3922, 'dowith': 2190, 'toddler': 6906, 'pardon': 4896, 'commutation': 1514, 'clemency': 1418, 'association': 750, 'imprisons': 3464, 'uncle': 7109, 'auschwitz': 780, 'liberate': 3992, 'concentration': 1549, 'predicted': 5218, 'employerprovided': 2373, 'complaining': 1529, '190000': 227, 'lowtax': 4105, 'hightax': 3286, 'univision': 7162, 'rescind': 5734, 'proving': 5387, 'expectancy': 2560, '1600': 209, 'disposable': 2119, 'refuse': 5615, 'cantor': 1212, 'realized': 5531, 'brochure': 1109, 'clunkers': 1445, 'percentagewise': 5001, 'sort': 6359, 'informal': 3538, 'psychiatric': 5391, 'downtown': 2195, 'infinite': 3529, 'vetted': 7261, 'masseuthanize': 4210, 'sheltered': 6165, 'tends': 6784, '96': 332, 'obamacares': 4659, 'auditor': 778, 'accessible': 386, 'rival': 5843, 'snitker': 6307, 'obamasown': 4668, 'trail': 6969, 'factually': 2624, 'accurate': 399, 'quonset': 5453, 'coffer': 1462, 'quartermilliondollar': 5437, 'drugtaking': 2234, 'neurosurgeon': 4559, 'cuccinellis': 1789, 'cargill': 1230, 'incarcerated': 3475, 'bell': 924, 'burdened': 1143, 'govt': 3073, 'permission': 5015, 'appellate': 668, 'completed': 1531, 'await': 808, 'signature': 6217, 'warrant': 7343, 'jobs1tn': 3733, 'beverage': 957, 'fourthhighest': 2875, 'expected': 2562, 'jennifer': 3711, 'brunner': 1118, 'blackwells': 994, 'propose': 5351, 'governmentcontrolled': 3063, 'brand': 1081, 'quartercentury': 5435, 'barr': 867, 'library': 3995, 'communitybased': 1513, 'drastic': 2208, '880billion': 315, 'pot': 5186, 'uaw': 7084, 'bald': 840, 'dating': 1845, 'tractor': 6958, 'authorizes': 790, 'crc': 1746, 'bag': 826, 'fatherinlaw': 2668, 'linwood': 4031, 'holton': 3324, 'integrated': 3594, 'enemy': 2403, 'bullying': 1139, 'electorate': 2320, 'pill': 5076, 'causation': 1274, 'comp': 1517, 'pushing': 5419, 'lowered': 4100, 'tamperproof': 6726, 'photoid': 5066, 'thumbprint': 6883, 'embossed': 2356, 'hologram': 3322, '10000000': 182, 'lent': 3974, 'explore': 2578, 'miscarriage': 4374, 'fortyseven': 2859, 'allan': 550, 'fung': 2938, 'delphi': 1958, 'salaried': 5939, 'favoritism': 2675, 'consumes': 1626, 'hadnt': 3158, '10rd': 194, 'replaced': 5703, 'amounting': 598, 'superstorm': 6639, 'bermuda': 946, 'suzanne': 6683, 'bonamici': 1033, 'trumphas': 7041, 'sister': 6240, 'appeal': 663, 'hardcore': 3196, 'proabortion': 5291, 'disparity': 2118, 'basis': 881, '100ks': 184, 'fireman': 2769, 'hawaiian': 3221, 'blood': 1010, 'stockpiling': 6516, '070': 96, 'peacekeeping': 4974, 'cochaired': 1460, 'al': 526, 'trimet': 7019, 'fed': 2686, '068k': 92, 'salmonella': 5946, 'finally': 2748, 'fda': 2679, 'peanut': 4978, '017': 73, 'contribute': 1645, 'client': 1422, 'enabled': 2378, 'addition': 436, 'returning': 5787, 'charged': 1321, 'involving': 3651, 'bb': 893, 'branded': 1082, 'tucson': 7047, 'thrive': 6876, 'logo': 4062, 'slogan': 6280, 'promising': 5335, '0961': 145, 'incomeearners': 3487, 'interestingly': 3606, 'kentucky': 3806, 'implementation': 3448, 'antideportation': 635, 'confer': 1569, 'phd': 5052, 'berkeley': 944, 'richardson': 5812, 'bushcheney': 1157, '6billion': 260, 'pocket': 5120, 'rack': 5463, 'volt': 7297, 'missive': 4388, 'obamaelect': 4661, 'here': 3268, 'unpaid': 7175, 'phillys': 5057, 'schoolchildren': 6009, 'handling': 3181, 'costly': 1700, 'julin': 3763, 'sevenfigure': 6127, 'smell': 6296, 'mikal': 4343, '0in0': 169, 'customer': 1808, 'measles': 4258, 'blindness': 1002, 'interesting': 3605, 'violated': 7278, 'norm': 4619, 'secretly': 6053, 'shipping': 6175, 'embargo': 2350, 'advertising': 465, 'serviceman': 6116, 'extended': 2592, 'coalfired': 1452, 'inquiry': 3557, 'corroborated': 1691, 'whitewater': 7428, '109000': 192, 'reactor': 5519, 'resulted': 5774, 'jacob': 3693, 'financed': 2750, 'wrap': 7525, 'exonerated': 2552, '0990s': 162, 'overhauling': 4831, 'assaulted': 740, 'taxi': 6746, 'ridehailing': 5819, 'kitzhabers': 3836, 'biennium': 967, 'represents': 5716, 'alexi': 542, 'risky': 5842, 'mobster': 4404, 'location': 4056, 'proamerican': 5293, 'obvious': 4680, 'jerusalem': 3718, 'senseless': 6094, 'memo': 4283, 'directs': 2076, 'homosexuality': 3336, 'december': 1884, 'ferguson': 2711, 'reaped': 5534, 'sc': 5995, 'shootershould': 6180, '061000': 89, 'colonia': 1478, 'mollis': 4417, 'smallbusiness': 6291, 'disagree': 2081, 'concealedgun': 1545, 'seem': 6063, 'easy': 2276, 'comprised': 1540, 'multimillionaires': 4471, 'differ': 2057, 'spoiler': 6418, 'alert': 540, 'wi': 7437, 'fossil': 2864, 'gee': 2981, 'dumped': 2244, 'raw': 5514, 'behavior': 918, 'lifeby': 4007, 'bedroom': 907, 'imposes': 3458, 'peace': 4972, '668': 254, 'graham': 3086, 'jerry': 3714, 'patterson': 4953, 'deformed': 1937, 'alcoholic': 537, 'markkirk': 4191, 'andwas': 609, 'stilltooracist': 6511, 'jobless': 3732, 'peta': 5040, 'reuses': 5788, 'andrubio': 608, 'missing': 4385, 'nazi': 4525, 'imagery': 3428, 'describe': 2007, 'newtown': 4576, '17100': 216, '01anhourproposal': 77, '00090000': 22, 'overexaggerated': 4828, 'satisfied': 5966, 'boucher': 1060, 'studying': 6571, 'toughen': 6940, 'workplace': 7507, 'gender': 2985, 'belonged': 927, 'cooking': 1667, 'cleaning': 1414, 'redevelop': 5582, 'menomonee': 4291, 'recusing': 5578, 'invasive': 3630, 'specie': 6393, 'ballast': 844, 'strategic': 6537, 'included': 3483, '077000': 107, 'potato': 5187, 'pest': 5037, 'progrowth': 5321, 'transtexas': 6987, 'gloria': 3032, 'steinem': 6500, 'impersonator': 3446, 'conversation': 1659, 'falcon': 2637, 'areon': 700, 'currency': 1801, 'authorize': 788, 'ailment': 515, 'muscle': 4484, 'spasm': 6384, 'neck': 4534, 'menstrual': 4292, 'cramp': 1742, 'governmentsanctioned': 3067, 'potsmoking': 5190, 'statefunded': 6476, '706': 270, 'thereafter': 6837, 'mica': 4325, 'votingreform': 7309, '090000': 131, 'terrificand': 6796, 'swiss': 6692, '7step': 292, '9th': 343, 'heading': 3230, 'direction': 2073, 'statehired': 6477, 'evaluates': 2496, 'craigslist': 1740, 'examiner': 2519, 'essay': 2475, 'export': 2582, 'dodd': 2151, 'unregulated': 7178, 'nbc': 4526, 'frisked': 2916, 'telecom': 6770, 'rateofreturn': 5503, 'lifting': 4013, 'fitzgerald': 2784, 'kim': 3825, 'jongll': 3748, 'chavez': 1333, 'actor': 421, 'prominent': 5332, 'chesterfield': 1346, 'represented': 5714, 'racially': 5461, 'ethnically': 2491, 'genderwise': 2986, 'unbeknownst': 7106, 'cashed': 1250, '00collecting': 51, 'recover': 5571, 'supervisor': 6640, 'brenda': 1093, 'snipe': 6305, 'operative': 4748, 'hey': 3273, 'sixteen': 6250, 'internal': 3609, 'empowered': 2377, 'knock': 3842, 'tariff': 6734, 'threequarters': 6872, 'logistically': 4061, 'nytimes': 4652, 'subscriber': 6588, 'apologizing': 658, 'twin': 7072, 'payouts': 4969, 'sestak': 6119, 'letting': 3983, 'americanschools': 588, 'segregated': 6067, '0960s': 144, 'valued': 7240, 'sole': 6331, 'surveille': 6669, 'suspicion': 6680, 'engaging': 2414, 'accomplishment': 391, 'jerseyans': 3716, 'ali': 544, 'khamenei': 3813, 'oversee': 4841, 'accusing': 402, 'gonzalo': 3050, 'curiel': 1800, 'promexican': 5331, 'sly': 6289, 'honest': 3338, 'busing': 1163, 'degraded': 1941, 'recommended': 5564, 'answered': 630, 'robust': 5861, 'outpaces': 4806, 'monthly': 4431, 'astronaut': 754, 'moon': 4432, 'inheritance': 3543, 'influence': 3535, 'illicit': 3423, 'licit': 4001, 'clay': 1411, 'flores': 2810, 'defeating': 1920, 'frank': 2892, 'pallone': 4884, 'engage': 2411, '98000': 336, 'ongoing': 4737, 'downturn': 2196, 'regularly': 5629, 'span': 6379, 'goldman': 3044, 'sachs': 5924, 'turning': 7058, '000mile': 25, 'molesting': 4416, 'bps': 1070, 'compensate': 1524, 'devil': 2040, 'managing': 4158, 'partner': 4922, 'vanderbeek': 7242, 'froze': 2921, 'monies': 4423, '0809': 121, 'reelected': 5596, 'radio': 5468, 'jeopardize': 3712, 'flew': 2802, 'managua': 4159, 'dictator': 2052, 'ortega': 4785, 'starvation': 6472, '701': 269, 'prank': 5202, 'blogger': 1009, 'theorist': 6833, 'taxwas': 6751, '0969': 147, 'indexed': 3509, '01million': 78, 'monitoring': 4425, 'storing': 6528, 'garbage': 2965, 'scrap': 6022, 'bet': 953, 'hard': 3195, 'explain': 2571, 'explanation': 2572, 'traveler': 6993, 'assumption': 751, 'reinstate': 5641, 'switched': 6694, 'extends': 2595, 'trucker': 7037, 'enact': 2379, 'entrepreneurship': 2448, 'assist': 745, 'oyster': 4861, 'provincial': 5386, 'endangered': 2391, 'various': 7245, 'catfish': 1266, 'shall': 6148, 'defer': 1929, 'kohl': 3847, 'areunwilling': 701, 'lawmaking': 3916, 'sayssenate': 5989, 'filling': 2744, 'moammar': 4399, 'gadhafi': 2946, 'elaborate': 2312, 'tent': 6789, 'westchester': 7408, 'advancing': 463, 'exposure': 2587, 'electromagnetic': 2324, 'leukemia': 3984, 'civilized': 1400, 'upgraded': 7193, '07th': 114, 'clock': 1434, 'outstrip': 4814, 'amtraks': 601, 'i91': 3398, 'accommodate': 388, 'umatilla': 7095, 'inventing': 3632, 'squandered': 6437, '76million': 281, 'werent': 7406, 'squandering': 6438, 'stephen': 6504, 'webber': 7383, 'childcare': 1354, 'playground': 5106, 'takingbob': 6717, 'lynch': 4114, 'giant': 3009, 'snail': 6303, 'meningitis': 4290, 'deployed': 1987, 'diagnosed': 2048, '806': 301, 'concern': 1551, 'decide': 1888, 'healthy': 3238, '000yearold': 31, 'pacemaker': 4866, 'heller': 3257, 'maintained': 4141, 'counseling': 1710, 'presidentelect': 5247, 'alcoholrelated': 538, 'trapped': 6989, 'underperforming': 7124, 'ninetysix': 4591, 'henry': 3265, 'cuellar': 1790, 'socialism': 6316, 'josef': 3751, 'replicate': 5705, 'gutting': 3153, 'tenet': 6785, 'fred': 2898, 'exacerbate': 2514, 'provisional': 5389, 'hb': 3224, '091': 137, 'solve': 6338, 'wrongprecinct': 7537, 'suite': 6624, 'minibar': 4362, 'williamson': 7451, 'jana': 3697, 'guise': 3144, 'undisclosed': 7131, 'improvised': 3469, 'ied': 3412, 'prescriptiononly': 5238, 'meth': 4313, 'lab': 3862, 'methrelated': 4315, 'faith': 2636, 'electrical': 2322, 'outlet': 4802, 'nixon': 4594, 'corrupted': 1692, 'dminus': 2143, 'becomes': 904, 'donates': 2170, 'kirk': 3830, 'watson': 7364, 'percentof': 5005, 'guardian': 3138, 'fetus': 2717, 'religion': 5660, 'steven': 6506, 'jose': 3750, 'camilo': 1192, 'maria': 4183, 'solarcity': 6328, 'andrew': 607, 'cuomo': 1793, 'halt': 3168, 'regulating': 5633, 'grassroots': 3097, 'unmatched': 7172, 'shape': 6149, 'spanker': 6381, 'dealership': 1865, 'capacity': 1215, 'concussion': 1560, 'soccer': 6314, 'cheerleading': 1342, 'fourthpoorest': 2878, 'overseeing': 4842, 'proper': 5344, 'ouzinkie': 4819, 'wastewater': 7355, 'tuggey': 7049, 'donated': 2169, 'appears': 667, 'packer': 4871, 'disputed': 2121, 'trimming': 7021, 'shoveled': 6192, 'troubled': 7033, 'toxic': 6954, 'nose': 4629, 'dive': 2138, 'unanimous': 7102, 'trigger': 7017, 'drafted': 2202, 'fourthlowest': 2877, 'mcallenarea': 4234, 'suffer': 6613, 'reinstated': 5642, 'amounted': 597, 'bath': 886, 'salt': 5947, 'raccoon': 5457, 'stolen': 6520, 'valle': 7236, 'bastrop': 884, 'propaganda': 5343, 'saysabout': 5978, 'recruit': 5575, 'impressive': 3461, 'preventative': 5259, 'arriving': 721, 'passport': 4935, 'clearly': 1417, 'hassan': 3212, 'detailed': 2021, 'concrete': 1559, 'vawa': 7247, 'no0': 4596, 'truly': 7038, 'championed': 1312, 'meant': 4256, 'hub': 3371, 'treasure': 6998, 'trove': 7034, 'info': 3536, 'mack': 4120, 'congresswoman': 1590, 'frederica': 2900, 'wilson': 7454, 'postpones': 5184, 'tower': 6952, 'mt': 4465, 'extraordinary': 2605, 'democratically': 1968, 'bulk': 1136, 'shellfish': 6163, 'unsafe': 7179, 'tort': 6931, 'pitt': 5087, 'ellen': 2342, 'outlined': 4803, 'revive': 5796, 'faltering': 2642, 'formed': 2847, 'governing': 3061, 'effectiveness': 2296, 'prostimulus': 5366, 'accept': 381, 'comply': 1536, '900000': 323, 'referred': 5602, 'confronting': 1583, 'falk': 2638, 'distributed': 2133, 'watereddown': 7361, 'hivaidsdrugs': 3311, 'subsaharan': 6587, 'irresponsible': 3667, 'impaired': 3444, 'unborn': 7107, '0600': 83, 'allegation': 552, 'cooperate': 1672, 'locating': 4055, 'norway': 4628, 'astronomical': 755, 'citing': 1391, 'admit': 452, 'lawabiding': 3912, 'valuable': 7238, 'acidic': 406, 'cocacolas': 1457, 'georgian': 3003, 'ease': 2270, 'worship': 7516, 'exponential': 2581, 'sewer': 6136, 'remind': 5672, 'pressure': 5252, 'oswald': 4788, 'assassination': 738, 'infrastructural': 3540, 'sheldon': 6160, 'whitehouse': 7427, 'aryan': 725, 'supremacist': 6649, 'widow': 7443, 'orphan': 4784, 'censored': 1287, 'muzzled': 4493, '0978': 153, 'averaged': 804, 'frequently': 2909, 'socioeconomic': 6321, 'kyl': 3858, 'raging': 5471, 'populist': 5158, 'controversyabout': 1657, 'wherepresident': 7419, 'teamster': 6758, 'slam': 6269, 'dunk': 2247, 'byrne': 1174, 'predict': 5217, 'surround': 6663, 'jumpstarting': 3767, 'trickledown': 7015, 'stated': 6475, 'ufo': 7088, 'destruction': 2019, 'selected': 6069, 'layoff': 3923, 'possession': 5178, 'lifeguard': 4008, 'explosion': 2579, 'excited': 2530, 'devastated': 2031, 'scoop': 6017, 'prayed': 5204, 'saysvirginia': 5992, 'republicanscott': 5724, 'taylor': 6752, 'appear': 664, 'hughes': 3375, 'paving': 4957, 'overdevelopment': 4824, 'sprawl': 6428, 'explicitly': 2573, 'guest': 3141, '100million': 186, 'demanded': 1962, 'sermon': 6110, 'focusing': 2821, 'singleoccupancy': 6236, 'decent': 1885, 'rivera': 5846, 'spencer': 6402, 'bachus': 816, 'picking': 5071, 'mix': 4396, 'clip': 1433, 'knife': 3840, 'fundamentally': 2933, 'immokalee': 3440, '8011': 300, 'attacker': 763, 'saysdonald': 5982, 'inconvenience': 3492, 'selma': 6082, 'ala': 527, 'fourthlargest': 2876, 'slave': 6275, 'movement': 4460, 'particularly': 4917, 'insecure': 3558, 'offlexible': 4701, 'aspirin': 735, 'nonprescription': 4615, 'plumber': 5115, 'engineer': 2416, 'debo': 1874, 'adegbile': 440, 'circuit': 1386, 'abruptly': 367, 'livingwage': 4044, 'opioid': 4750, 'epidemic': 2455, 'peak': 4976, 'wider': 7440, 'orthodontia': 4786, 'comey': 1490, 'detail': 2020, 'buyback': 1171, 'quit': 5451, 'unable': 7098, 'industrialsize': 3518, 'educated': 2289, 'attacking': 764, 'beach': 896, 'aircraft': 520, 'longrange': 4070, 'bomber': 1031, 'carrier': 1240, 'submarine': 6580, 'wwii': 7541, 'wwi': 7540, 'rigells': 5826, 'lazy': 3924, 'atlantic': 759, 'boardwalk': 1021, 'pillar': 5077, 'prostate': 5365, 'ovarian': 4820, 'arid': 703, 'landscape': 3881, 'dependent': 1984, 'pet': 5039, 'antoniorooted': 643, 'flooding': 2808, 'effectively': 2295, 'governmentmandated': 3065, 'wave': 7367, 'surrender': 6661, 'deadline': 1861, 'rideshare': 5821, 'laboratory': 3866, 'keith': 3799, 'stokes': 6518, 'strawberry': 6541, 'rough': 5887, 'intimate': 3620, 'closetothevestsecrets': 1439, 'happily': 3191, 'blaming': 999, 'earliest': 2257, 'thengeorgia': 6828, 'converted': 1661, 'christianity': 1371, 'comparative': 1521, '9997': 341, 'brings': 1105, 'retires': 5782, 'americanmade': 587, 'motorcycle': 4451, 'buyamerican': 1170, 'disgraceful': 2108, 'master': 4214, 'lever': 3987, 'willing': 7452, '0609': 86, 'polluted': 5144, 'condemned': 1562, 'dreamed': 2214, 'publicemployee': 5394, 'sought': 6362, 'poorest': 5153, 'subscription': 6589, 'commended': 1497, 'cleaner': 1413, 'percentincrease': 5002, 'susan': 6674, 'conceded': 1546, 'enrichment': 2426, 'disappointment': 2086, 'raisingis': 5480, 'woefully': 7488, 'underpaid': 7123, 'partition': 4920, 'soros': 6357, 'converting': 1662, 'participant': 4912, 'stride': 6553, 'appalled': 661, 'racial': 5460, 'maternity': 4220, 'exercise': 2542, 'someplace': 6346, 'thirdlowest': 6851, 'motion': 4448, 'censure': 1288, 'systemic': 6704, 'wiretap': 7469, 'geithner': 2982, 'abandoning': 349, 'multinational': 4473, 'marry': 4195, 'freely': 2905, 'pinprick': 5080, 'investigate': 3636, 'leak': 3933, 'prospect': 5362, '00plus': 54, 'springsteen': 6433, 'greensboro': 3107, 'canceled': 1203, 'elena': 2329, 'unanimously': 7103, 'unfair': 7139, 'discriminatory': 2101, 'denying': 1979, 'fedex': 2691, 'obamaphones': 4664, 'earnings': 2265, 'qaeda': 5425, 'dismantle': 2113, 'dismantling': 2114, '100student': 187, 'ukrainian': 7092, 'captured': 1221, 'ranch': 5488, 'downsizing': 2194, 'pinellas': 5079, 'latvala': 3906, 'wic': 7438, 'incredibly': 3500, 'insecurity': 3559, 'depend': 1981, 'belt': 929, 'diesel': 2056, 'regulates': 5632, 'angler': 614, 'thom': 6856, 'tillis': 6892, 'representing': 5715, 'governmentsponsored': 3068, 'ownershipdatabase': 4858, 'edward': 2292, 'trippi': 7027, 'acute': 427, 'myocardial': 4495, 'infarction': 3524, 'asthma': 753, 'angina': 612, 'affecttheir': 478, 'confidently': 1573, 'philosophy': 5058, 'strength': 6546, 'restricts': 5772, 'republicancandidate': 5721, 'trooper': 7031, 'taxfriendly': 6745, 'consult': 1621, 'physician': 5068, 'scratched': 6023, 'alabamian': 529, 'financier': 2752, 'boozman': 1044, 'quarterback': 5433, 'flaw': 2797, '0989': 159, 'boeing': 1027, '717': 276, 'cancel': 1202, 'menendezs': 4289, 'unelected': 7134, 'climbing': 1429, 'chunk': 1377, 'soft': 6324, 'endured': 2402, 'damaging': 1830, 'downgraded': 2192, 'islamist': 3677, 'sponsoring': 6424, 'islamism': 3676, 'potentially': 5189, 'voteand': 7303, 'ebay': 2279, 'merry': 4306, 'kiters': 3834, 'locking': 4058, 'borrower': 1050, 'underwater': 7129, 'nerve': 4553, 'nathan': 4511, 'angel': 610, 'deceptively': 1887, 'fur': 2940, 'walking': 7326, 'bench': 931, 'varied': 7244, 'sorry': 6358, 'sarswas': 5962, 'midnight': 4338, 'handing': 3178, 'teddy': 6765, 'driveby': 2221, 'discharge': 2090, 'yard': 7547, 'inaccuracy': 3471, 'unincorporated': 7147, 'mercer': 4300, 'sean': 6035, 'hannity': 3185, 'dobson': 2146, 'orange': 4764, '100billion': 183, 'pitch': 5086, 'interpol': 3613, 'aimed': 516, 'achievement': 405, 'selecting': 6070, 'rigged': 5827, 'boost': 1040, 'uwmadison': 7225, 'benediction': 935, 'invocation': 3646, 'god': 3038, 'silence': 6222, 'teller': 6774, 'excons': 2534, 'wisconsinmilwaukee': 7473, 'secondlowest': 6049, 'allocate': 558, 'satisfy': 5967, 'interviewer': 3619, 'replied': 5706, '770': 283, 'adlers': 446, 'replacing': 5704, 'usage': 7208, 'fined': 2757, 'windmill': 7459, 'gordon': 3055, 'exempting': 2539, 'sticking': 6508, 'semblance': 6083, 'transition': 6979, 'dukakis': 2243, 'solv': 6337, 'volume': 7298, 'plastic': 5101, 'rammed': 5484, 'daddy': 1820, 'forest': 2842, 'planted': 5099, '6000': 237, 'dallasfort': 1826, 'slated': 6273, 'infusion': 3542, 'eminent': 2362, 'domain': 2161, 'ismore': 3680, 'appropriated': 681, 'increment': 3501, 'pete': 5041, 'acela': 403, 'boston': 1056, 'baltimore': 847, 'rider': 5820, '09billion': 166, 'waterboarding': 7360, 'courtmartialed': 1726, 'insurgent': 3592, 'donaldtrump': 2168, 'upwards': 7199, 'creeping': 1756, 'misquoted': 4381, 'maurice': 4227, 'ferre': 2713, 'kendrick': 3803, 'meek': 4276, '986': 337, 'unlocking': 7171, 'tar': 6730, 'brewpub': 1097, 'controlling': 1654, 'aspect': 734, 'weems': 7390, 'enron': 2431, 'carpet': 1238, 'toothache': 6923, 'grateful': 3098, 'reference': 5599, 'millennials': 4351, 'persuaded': 5035, 'thirtyfour': 6854, 'slow': 6282, 'predicting': 5219, 'undefeated': 7114, 'sunday': 6628, '006': 38, 'sniper': 6306, 'manifest': 4166, 'eu': 2493, 'condo': 1564, 'coauthor': 1455, 'diplomatic': 2068, 'socalled': 6313, 'noted': 4633, 'observer': 4677, 'secondary': 6044, 'demonstrated': 1970, 'embellished': 2355, 'firstenergys': 2776, 'haiti': 3161, 'kyrgyzstan': 3859, 'iceland': 3401, 'largescale': 3892, 'buddy': 1125, 'levy': 3988, 'administrative': 449, 'runaway': 5907, 'tarkanian': 6735, 'frated': 2895, 'metroplex': 4318, 'occasion': 4681, 'intrinsically': 3621, 'advising': 468, 'thirdhighest': 6849, 'productivity': 5311, '1million': 232, 'metropolitan': 4319, 'sewerage': 6137, 'ninetyfive': 4589, 'affords': 485, 'mph': 4463, 'rural': 5910, 'safely': 5930, 'embedded': 2354, 'officerrelated': 4698, 'protected': 5369, 'readiness': 5522, 'coordinating': 1674, 'mankind': 4169, 'womankind': 7491, '00808': 46, 'marijuanarelated': 4185, 'toldevery': 6913, 'emanating': 2349, 'shortterm': 6189, 'meat': 4263, 'festival': 2716, 'yulin': 7569, 'tapping': 6729, 'petroleum': 5047, 'gimmick': 3012, 'thwart': 6885, 'outstanding': 4813, 'seniority': 6092, '0910s': 139, 'lift': 4011, 'joining': 3742, 'fl': 2791, 'sooner': 6356, 'speaking': 6390, 'guaranteedcheck': 3136, 'nikki': 4585, 'haley': 3163, 'buyer': 1172, 'fortythree': 2861, 'tended': 6783, '761808': 279, 'pancake': 4885, 'yuppie': 7570, 'presidentially': 5249, 'element': 2326, 'nobid': 4597, 'setting': 6122, 'fullscale': 2927, 'idaho': 3403, 'statebased': 6474, 'art': 724, 'casting': 1257, 'brian': 1098, 'kemp': 3801, 'messagemachinevotingrecord': 4308, 'dougmacginnitie': 2188, 'councilman': 1708, '789json': 289, 'refundable': 5613, 'thug': 6882, 'curb': 1795, 'presurge': 5254, 'basra': 882, 'mosul': 4446, 'sadr': 5928, 'quiet': 5446, 'setback': 6121, 'sox': 6373, 'playoff': 5108, 'entrance': 2446, 'jobkilling': 3731, 'tallied': 6723, '000000000': 6, 'chuck': 1376, 'exposed': 2586, 'declare': 1893, 'martial': 4199, 'municipal': 4476, 'turbine': 7054, 'flicker': 2803, 'shadow': 6143, 'blade': 995, 'seizure': 6068, 'republicanbacked': 5720, 'unauthorized': 7105, 'hijacker': 3289, 'cathy': 1269, 'jordan': 3749, 'dragged': 2203, 'swat': 6686, 'hooligan': 3342, 'abide': 353, 'passthroughs': 4936, 'plummeted': 5117, 'sentenced': 6097, 'pioneer': 5081, 'fixed': 2789, 'proposedcorporate': 5353, 'merging': 4302, 'hortons': 3352, 'burger': 1148, 'monarch': 4419, 'butterfly': 1167, 'extinct': 2600, 'crop': 1769, 'withstand': 7485, 'pesticide': 5038, 'bridged': 1101, 'partisanship': 4919, 'kosher': 3850, '189': 223, 'onetime': 4735, 'forthcoming': 2855, 'waterfront': 7362, 'jazzercise': 3705, 'gardening': 2969, 'therapy': 6834, 'redirected': 5585, 'trek': 7008, 'apologize': 657, 'hyde': 3394, 'herbert': 3266, 'pier': 5074, 'altered': 574, 'via': 7263, 'blowing': 1013, '90percent': 327, 'probability': 5294, 'ipads': 3656, 'iphones': 3658, 'predicts': 5220, 'weather': 7380, 'punxsutawney': 5405, 'debatenot': 1872, 'ipod': 3659, 'blackberry': 992, 'smoker': 6301, 'kick': 3814, 'habit': 3156, 'lion': 4032, 'mid70s': 4333, 'sudden': 6609, 'weighs': 7394, 'pound': 5191, 'carereform': 1229, 'nebraska': 4532, 'volvo': 7301, 'spurned': 6435, '0111': 70, 'peach': 4975, 'thirdgrade': 6848, 'mich': 4326, 'burlington': 1151, 'vt': 7313, 'circulating': 1387, 'coin': 1465, 'eliot': 2340, 'spitzer': 6414, 'sound': 6363, 'parked': 4903, 'kkk': 3837, 'rubber': 5897, 'evers': 2505, 'detert': 2027, '087g': 125, 'recklessly': 5558, 'embarked': 2351, 'morrissey': 4439, 'homeland': 3327, 'combating': 1485, 'radicalizing': 5466, 'largesse': 3893, 'eventual': 2501, 'mobile': 4402, 'gps': 3074, 'enjoying': 2422, 'miracle': 4372, 'organism': 4771, 'gmos': 3034, 'orlando': 4781, 'numberonein': 4644, 'energyresourcesrussia': 2406, 'isnumber': 3683, 'huntsman': 3384, 'summit': 6626, 'fivestar': 2786, '900case': 325, 'pathway': 4947, 'cracked': 1736, 'attracting': 773, 'glen': 3027, 'sturtevant': 6574, 'sununu': 6630, 'restoring': 5768, 'carlos': 1233, 'curbelo': 1796, 'surgical': 6656, 'shedding': 6157, 'dunkin': 2248, 'donut': 2178, '61yearold': 250, 'eclipse': 2282, 'roger': 5868, 'attracted': 772, 'non': 4603, 'bankrupting': 853, 'paula': 4955, '810000': 306, 'onetenth': 4732, 'rejecting': 5648, 'insure': 3589, 'tonight': 6919, 'stopandfrisk': 6524, 'imprisoned': 3462, 'watched': 7357, 'cheering': 1340, 'sununus': 6631, 'accessed': 385, 'universityhave': 7161, '17000': 214, 'shoe': 6177, 'ifmercury': 3413, 'cfl': 1300, 'specifying': 6396, 'accuses': 401, 'daca': 1818, 'asianamerican': 727, 'confined': 1574, 'scarcity': 5999, 'fifthhighest': 2727, 'ourneighboring': 4794, 'similarity': 6224, 'obamagop': 4663, 'mequon': 4298, 'damage': 1828, 'hp': 3370, 'seventyfour': 6130, 'personone': 5032, 'october': 4688, 'buono': 1141, 'membership': 4282, 'optional': 4763, '81000': 305, 'goldplated': 3045, 'iced': 3400, 'tea': 6753, 'flavored': 2796, 'porous': 5163, 'airline': 521, 'suction': 6607, 'entrapment': 2447, 'swimming': 6689, 'spa': 6375, 'fiveweek': 2787, 'sidney': 6214, 'blumenthal': 1017, 'quipped': 5450, 'envision': 2453, '099': 160, 'fluorescent': 2815, 'lamp': 3876, 'pop': 5154, 'sue': 6611, 'votingage': 7308, 'governmentissued': 3064, 'westerner': 7410, 'eastern': 2275, 'strayed': 6542, 'music': 4487, 'barbara': 859, 'unaccountable': 7100, 'staple': 6462, 'woo': 7495, 'boehner': 1026, 'wrecked': 7527, 'charterschool': 1330, 'thirtyone': 6855, 'kickback': 3815, 'directing': 2072, 'mcconnellwhat': 4242, 'multimillionaire': 4470, 'delivering': 1955, '0001000': 10, 'boat': 1022, 'spawned': 6385, 'occidental': 4682, 'churn': 1379, 'climatechanging': 1425, 'valero': 7234, 'netherlands': 4556, 'featuring': 2683, 'author': 785, 'registering': 5625, 'unamerican': 7101, 'deception': 1886, 'frequency': 2908, 'antisemitic': 640, 'motivation': 4449, 'parole': 4907, 'objection': 4673, 'alfred': 543, 'brissette': 1106, 'jury': 3773, 'cellphone': 1286, 'regulation00': 5635, 'hickok': 3275, 'duel': 2241, 'square': 6439, 'legend': 3956, 'distant': 2127, 'cousin': 1727, 'groped': 3116, 'photographic': 5065, 'priest': 5268, 'beheaded': 919, 'eating': 2278, 'heart': 3243, 'unionization': 7153, 'loranne': 4080, 'ausleys': 781, 'wreck': 7526, 'exercised': 2543, 'earnonly': 2266, 'undermine': 7122, 'egypt': 2301, 'twentytwo': 7070, 'mandels': 4165, 'busy': 1165, 'traveling': 6994, 'twoor': 7076, 'gen': 2984, 'petraeus': 5046, 'startup': 6471, 'policiesthe': 5129, 'lousy': 4096, 'arlen': 711, 'specter': 6397, 'touting': 6948, 'triumph': 7028, 'however': 3369, 'superrich': 6638, 'principle': 5275, 'web': 7381, 'copay': 1676, 'redistribution': 5586, 'nih': 4584, 'origami': 4776, 'condom': 1566, 'fool': 2828, 'amending': 583, 'metering': 4312, 'abroad': 366, 'statute': 6491, 'viciously': 7268, 'abused': 375, 'deborah': 1875, '071000': 104, 'agoi': 502, 'paulson': 4956, 'lending': 3971, 'boon': 1039, 'criticism': 1766, '080000': 119, 'roaming': 5853, 'threaten': 6865, 'peaceful': 4973, 'arsenal': 723, 'rushhour': 5914, 'nontoll': 4617, 'identical': 3405, 'renee': 5681, 'ellmers': 2343, 'prioritize': 5279, 'targeted': 6732, 'severe': 6133, 'cutback': 1810, 'appeared': 666, 'gao': 2962, 'bought': 1061, 'gst': 3132, 'jeopardy': 3713, 'arising': 704, 'franchise': 2889, 'reservation': 5739, 'bbb': 894, 'junkbond': 3770, 'imbalance': 3429, 'unfunded': 7142, 'liability': 3990, 'entirety': 2443, 'threecentsperounce': 6870, 'familysustaining': 2645, 'countless': 1716, 'republicancontrolled': 5722, 'damascus': 1831, 'disincorporation': 2112, 'misdemeanor': 4376, 'deepest': 1910, 'sentiment': 6099, 'overreached': 4834, 'reentered': 5598, 'doughnut': 2187, 'onehundred': 4729, 'outmigration': 4804, 'sixtypercent': 6257, 'retireesdont': 5780, 'enforcing': 2410, 'celebrity': 1284, 'hot': 3358, 'anymore': 647, 'reclaimed': 5559, 'gramm': 3087, 'entity': 2445, 'complex': 1533, 'famous': 2646, 'attended': 770, 'usled': 7217, 'alliance': 556, 'ejected': 2310, 'saddam': 5926, 'hussein': 3390, 'kuwait': 3856, 'kuwaiti': 3857, 'wish': 7475, 'shortest': 6187, 'intrusive': 3624, 'expect': 2559, 'older': 4716, 'odds': 4690, 'shariah': 6153, 'dearborn': 1869, 'worldleading': 7511, 'bat': 885, 'hammer': 3173, 'interception': 3602, 'tackle': 6707, 'defensive': 1928, 'taxexempt': 6744, '001071': 36, 'shrub': 6203, 'repayment': 5695, 'thedford': 6824, '00second': 57, 'fiftythree': 2730, 'superpacs': 6636, 'drinking': 2219, 'closer': 1437, 'percentjon': 5003, 'toomey': 6922, 'readily': 5521, 'crazy': 1745, 'incandescent': 3474, 'zandi': 7571, 'rivaling': 5844, 'cato': 1270, 'occurring': 4686, 'employersponsored': 2374, '6600': 252, 'toothpaste': 6924, 'fluoride': 2817, 'placed': 5091, 'located': 4054, 'woonsocket': 7498, 'garbageburning': 2966, 'fueled': 2923, 'founder': 2870, 'motto': 4453, 'arctic': 696, '086710': 124, '60010': 242, 'absence': 368, 'hoosier': 3343, '000year': 30, 'printed': 5277, 'pile': 5075, 'weigh': 7393, 'fourteen': 2873, 'oilproducing': 4711, 'selfimposed': 6076, 'exporting': 2585, 'crude': 1779, 'rationing': 5511, 'extremism': 2607, 'margaret': 4180, 'sanger': 5958, 'juda': 3756, 'goat': 3037, 'spokesman': 6421, 'affiliate': 479, 'nonalqaida': 4605, 'demonstrates': 1971, '111060': 205, 'prepared': 5233, 'disneyland': 2117, 'mullah': 4468, '111': 204, 'oath': 4654, 'felipe': 2702, 'calderon': 1181, 'overhead': 4832, 'pronounced': 5341, 'cattle': 1271, 'businessfriendly': 1161, 'confirms': 1578, 'perquisite': 5020, 'stationed': 6487, 'distance': 2126, 'lloyd': 4045, 'doggett': 2155, 'delivery': 1957, '88000': 314, 'wantsillegal': 7335, 'collectingsocial': 1474, 'northeastern': 4626, 'firstdegree': 2775, 'promptly': 5340, 'filed': 2736, 'slipped': 6279, 'homemortgage': 3330, 'widely': 7439, 'quartermillion': 5436, '76800': 280, 'chafee': 1303, 'settled': 6124, '09percentraise': 167, 'tweet': 7063, 'regardless': 5619, 'residence': 5743, 'highesttaxed': 3282, 'garnisheed': 2971, 'mention': 4295, 'underwear': 7130, 'miranda': 4373, 'factcheck': 2620, 'manual': 4173, '080million': 122, '810million': 307, 'pollsno': 5142, 'medal': 4267, 'courageous': 1722, 'restraint': 5769, 'forprofit': 2852, 'nonaffiliation': 4604, 'endanger': 2390, '171': 215, 'swine': 6690, 'corn': 1681, 'thedollar': 6825, 'jackson': 3692, 'reforming': 5610, 'stating': 6485, 'farther': 2654, 'selectively': 6072, 'editing': 2287, 'bidens': 966, 'wordsbiden': 7500, 'gonna': 3049, 'spine': 6410, 'glad': 3024, 'lessen': 3978, 'psychological': 5392, 'distress': 2132, 'medication': 4272, 'crowera': 1777, 'racked': 5464, 'anwar': 644, 'alawlakis': 534, 'furious': 2941, 'gunwalking': 3150, 'prove': 5378, 'factchecked': 2621, 'sculpture': 6028, 'garden': 2968, 'weaken': 7370, 'resolving': 5752, 'fit': 2783, 'patent': 4941, 'revolutionized': 5800, 'gillespie': 3011, 'misleading': 4378, '801000': 299, '076': 105, '910': 329, 'originally': 4778, 'saysloretta': 5986, 'lynchs': 4115, 'chafin': 1304, 'votingto': 7310, 'palace': 4879, 'overrun': 4838, 'renegotiate': 5682, 'devote': 2042, 'neighboring': 4550, 'introducing': 3623, 'omitted': 4723, '700million': 268, 'saysjeb': 5985, 'dayton': 1853, 'chatter': 1332, 'seventyfive': 6129, 'reasonably': 5537, 'suspicious': 6681, 'unloading': 7170, 'bennett': 942, 'rutah': 5919, 'rocket': 5863, 'recon': 5565, 'fairer': 2632, 'ch': 1301, 'extensively': 2597, 'superiority': 6634, 'descent': 2006, 'burying': 1154, 'bishop': 987, 'humancaused': 3377, 'actthan': 422, 'stater': 6481, 'anthemcan': 632, 'renew': 5684, 'campaignfinance': 1196, 'standalone': 6457, 'hears': 3242, 'welloff': 7401, 'optech': 4761, 'iii': 3417, 'coincide': 1466, 'wonhealth': 7493, '710': 272, 'improvement': 3467, 'anniversary': 620, 'electing': 2316, '067': 90, '977': 334, 'delegation': 1951, '8th': 318, 'undergraduate': 7121, 'accommodation': 389, 'beard': 898, 'commuter': 1516, 'neutral': 4561, 'palestinian': 4880, 'efficient': 2298, 'polluting': 5146, 'safest': 5932, 'cargo': 1231, 'overcrowded': 4823, 'fourday': 2872, 'fell': 2703, 'returned': 5786, 'worsened': 7515, 'consider': 1603, 'mickey': 4330, 'mouse': 4456, 'adolf': 455, 'valid': 7235, 'petition': 5045, 'longestserving': 4069, 'solicitor': 6333, 'devoted': 2043, 'brat': 1083, 'timing': 6898, '199': 228, 'snowden': 6309, 'whistleblower': 7424, 'surviving': 6672, 'cheating': 1338, 'skip': 6262, 'fernandez': 2712, 'prosecute': 5357, 'spinnett': 6411, 'trespass': 7012, 'mahlon': 4133, 'encouraging': 2388, 'boycott': 1067, 'reciprocity': 5557, 'outweighs': 4818, 'cumberland': 1791, 'worldclass': 7510, 'measured': 4261, 'loaning': 4048, 'keffer': 3798, 'strama': 6534, 'defeat': 1918, 'scramble': 6021, '0st': 174, 'tammy': 6724, 'baldwin': 841, 'breath': 1092, 'spirit': 6413, 'notre': 4637, 'dame': 1832, 'stanford': 6461, 'meanstested': 4255, 'dancing': 1835, 'incorporates': 3493, 'personalinjury': 5028, 'starr': 6465, 'temporarily': 6777, 'suspend': 6677, 'netted': 4557, 'needy': 4539, 'ap': 653, 'fcat': 2677, 'instructional': 3584, 'bit': 988, 'suffered': 6614, 'lasting': 3897, 'interrogation': 3614, 'tying': 7080, 'substitution': 6598, 'threshold': 6874, 'drunkendriving': 2237, 'benchmark': 932, 'fulfilled': 2924, 'deserves': 2008, 'vowed': 7312, 'dominic': 2166, 'allah': 549, 'albany': 535, 'halvorson': 3169, 'thehousebudget': 6827, 'impeachment': 3445, 'solvency': 6340, 'mechanism': 4266, 'eightyear': 2305, 'duck': 2239, 'alloftheabove': 559, 'texasmexico': 6812, 'threefourths': 6871, 'nun': 4646, 'afterschool': 493, 'marlin': 4192, 'incurred': 3504, 'tourist': 6945, 'visiting': 7292, 'distortedwhat': 2129, 'disincentive': 2111, 'slowest': 6286, 'hoover': 3344, 'prince': 5272, 'instituting': 3579, 'pantsonfire': 4888, 'faso': 2655, 'fracked': 2882, 'morgan': 4437, 'carroll': 1241, 'shady': 6144, 'hardearned': 3198, 'louie': 4094, 'xiv': 7544, 'shipment': 6174, 'wine': 7462, 'click': 1421, 'interview': 3617, 'extensive': 2596, 'hillsboroughs': 3296, 'cabby': 1175, 'sock': 6322, 'please': 5109, 'fairmount': 2634, 'conservancy': 1600, 'radius': 5469, 'finishing': 2762, 'thor': 6859, 'vacuum': 7233, 'salesman': 5943, 'refinance': 5604, 'seal': 6030, 'alice': 545, 'rivlin': 5847, 'stimulate': 6512, 'bruun': 1121, 'hud': 3373, 'patently': 4942, 'socially': 6319, 'unjust': 7163, 'exclusive': 2533, 'leticia': 3981, 'putte': 5422, 'removing': 5678, 'toetotoe': 6907, 'stockpile': 6515, 'headline': 3231, 'liquor': 4034, '0000and': 8, '801': 298, 'merrick': 4305, 'garland': 2970, 'uphold': 7194, 'inadequate': 3473, 'broadbased': 1108, 'shah': 6145, 'brutal': 1120, 'theocracy': 6832, 'hustleshows': 3391, 'reallife': 5532, 'bribe': 1099, 'escaped': 2472, 'supermax': 6635, 'cathedral': 1267, 'archdiocese': 694, 'parish': 4901, 'whack': 7412, 'payingjust': 4966, 'fulton': 2930, 'millage': 4350}\n"
          ]
        }
      ],
      "source": [
        "cvec = CountVectorizer()\n",
        "\n",
        "\n",
        "# tokenize, build vocab and encode training data\n",
        "train_cvec = cvec.fit_transform(X_train.values)\n",
        "\n",
        "print(cvec.vocabulary_)"
      ]
    },
    {
      "cell_type": "code",
      "execution_count": null,
      "metadata": {
        "colab": {
          "base_uri": "https://localhost:8080/"
        },
        "id": "Ts6H9w3lFJ6E",
        "outputId": "a6113570-b8ba-406a-b33e-99330a829bd6"
      },
      "outputs": [
        {
          "output_type": "stream",
          "name": "stdout",
          "text": [
            "(5007, 7580)\n",
            "<class 'scipy.sparse.csr.csr_matrix'>\n",
            "[[0 0 0 ... 0 0 0]\n",
            " [0 0 0 ... 0 0 0]\n",
            " [0 0 0 ... 0 0 0]\n",
            " ...\n",
            " [0 0 0 ... 0 0 0]\n",
            " [0 0 0 ... 0 0 0]\n",
            " [0 0 0 ... 0 0 0]]\n"
          ]
        }
      ],
      "source": [
        "print(train_cvec.shape)\n",
        "print(type(train_cvec))\n",
        "print(train_cvec.toarray())"
      ]
    },
    {
      "cell_type": "code",
      "execution_count": null,
      "metadata": {
        "colab": {
          "base_uri": "https://localhost:8080/"
        },
        "id": "b1Q8LsVJA4_O",
        "outputId": "7b623300-80d9-42bf-a7a5-0926b9cca100"
      },
      "outputs": [
        {
          "output_type": "execute_result",
          "data": {
            "text/plain": [
              "Pipeline(steps=[('LogRCV', CountVectorizer()),\n",
              "                ('LogR_model', LogisticRegression())])"
            ]
          },
          "metadata": {},
          "execution_count": 62
        }
      ],
      "source": [
        "logReg_pipeline_cv = Pipeline([\n",
        "    ('LogRCV', cvec),\n",
        "    ('LogR_model', LogisticRegression())\n",
        "])\n",
        "\n",
        "logReg_pipeline_cv.fit(X_train, y_train)"
      ]
    },
    {
      "cell_type": "code",
      "execution_count": null,
      "metadata": {
        "id": "tH8hqTHsDZe4"
      },
      "outputs": [],
      "source": [
        "y_predicted = logReg_pipeline_cv.predict(X_test)\n",
        "y_predicted = y_predicted.flatten()"
      ]
    },
    {
      "cell_type": "code",
      "execution_count": null,
      "metadata": {
        "colab": {
          "base_uri": "https://localhost:8080/"
        },
        "id": "cl-8r-c9Dc2W",
        "outputId": "5ae05b96-6574-4c64-be83-610478b6adf7"
      },
      "outputs": [
        {
          "output_type": "execute_result",
          "data": {
            "text/plain": [
              "0.6107784431137725"
            ]
          },
          "metadata": {},
          "execution_count": 64
        }
      ],
      "source": [
        "accuracy_score(y_test, y_predicted)"
      ]
    },
    {
      "cell_type": "code",
      "execution_count": null,
      "metadata": {
        "colab": {
          "base_uri": "https://localhost:8080/"
        },
        "id": "klxZUqw_Dgmh",
        "outputId": "d45283d5-6bfe-43cb-a1f0-b1eb7c010703"
      },
      "outputs": [
        {
          "output_type": "execute_result",
          "data": {
            "text/plain": [
              "array([[806, 237],\n",
              "       [413, 214]])"
            ]
          },
          "metadata": {},
          "execution_count": 65
        }
      ],
      "source": [
        "cm = confusion_matrix(y_test, y_predicted)\n",
        "cm "
      ]
    },
    {
      "cell_type": "code",
      "execution_count": null,
      "metadata": {
        "colab": {
          "base_uri": "https://localhost:8080/",
          "height": 298
        },
        "id": "rzZXplQbDjNb",
        "outputId": "33d8d658-5200-4dc4-b755-f6063b47866f"
      },
      "outputs": [
        {
          "output_type": "execute_result",
          "data": {
            "text/plain": [
              "Text(33.0, 0.5, 'Truth')"
            ]
          },
          "metadata": {},
          "execution_count": 66
        },
        {
          "output_type": "display_data",
          "data": {
            "image/png": "[encoded data removed]",
            "text/plain": [
              "<Figure size 432x288 with 2 Axes>"
            ]
          },
          "metadata": {
            "needs_background": "light"
          }
        }
      ],
      "source": [
        "from matplotlib import pyplot as plt\n",
        "import seaborn as sn\n",
        "sn.heatmap(cm, annot=True, fmt='d')\n",
        "plt.xlabel('Predicted')\n",
        "plt.ylabel('Truth')"
      ]
    },
    {
      "cell_type": "code",
      "execution_count": null,
      "metadata": {
        "colab": {
          "base_uri": "https://localhost:8080/"
        },
        "id": "XGlWj9-nDm_Q",
        "outputId": "041ee591-640e-4f95-b70a-defd2d55104e"
      },
      "outputs": [
        {
          "output_type": "stream",
          "name": "stdout",
          "text": [
            "              precision    recall  f1-score   support\n",
            "\n",
            "           0       0.66      0.77      0.71      1043\n",
            "           1       0.47      0.34      0.40       627\n",
            "\n",
            "    accuracy                           0.61      1670\n",
            "   macro avg       0.57      0.56      0.55      1670\n",
            "weighted avg       0.59      0.61      0.59      1670\n",
            "\n"
          ]
        }
      ],
      "source": [
        "print(classification_report(y_test, y_predicted))"
      ]
    },
    {
      "cell_type": "markdown",
      "metadata": {
        "id": "WO--BE2OBMEe"
      },
      "source": [
        "## **Logistic Regression with Td-Idf**"
      ]
    },
    {
      "cell_type": "code",
      "execution_count": null,
      "metadata": {
        "id": "JKSjlPt6BWnO"
      },
      "outputs": [],
      "source": [
        "tfidf_vec = TfidfTransformer()\n",
        "\n",
        "train_tfidf_vec = tfidf_vec.fit_transform(train_cvec)"
      ]
    },
    {
      "cell_type": "code",
      "execution_count": null,
      "metadata": {
        "colab": {
          "base_uri": "https://localhost:8080/"
        },
        "id": "PxSIMa0UGkiE",
        "outputId": "c045c2d4-f6cf-4af2-de17-a406cc8a0374"
      },
      "outputs": [
        {
          "output_type": "stream",
          "name": "stdout",
          "text": [
            "(5007, 7580)\n",
            "[[0. 0. 0. ... 0. 0. 0.]\n",
            " [0. 0. 0. ... 0. 0. 0.]\n",
            " [0. 0. 0. ... 0. 0. 0.]\n",
            " ...\n",
            " [0. 0. 0. ... 0. 0. 0.]\n",
            " [0. 0. 0. ... 0. 0. 0.]\n",
            " [0. 0. 0. ... 0. 0. 0.]]\n"
          ]
        }
      ],
      "source": [
        "print(train_tfidf_vec.shape)\n",
        "print(train_tfidf_vec.toarray())"
      ]
    },
    {
      "cell_type": "code",
      "execution_count": null,
      "metadata": {
        "id": "6FUoliT7Gm_f"
      },
      "outputs": [],
      "source": [
        "tfidf_vectorizer = TfidfVectorizer(stop_words='english', ngram_range=(1,2), use_idf=True, smooth_idf=True)\n",
        "tfidf_vectorizer_vectors = tfidf_vectorizer.fit_transform(X_train.values)"
      ]
    },
    {
      "cell_type": "code",
      "execution_count": null,
      "metadata": {
        "colab": {
          "base_uri": "https://localhost:8080/",
          "height": 478
        },
        "id": "3svb1_9wGuVr",
        "outputId": "9ceb62ca-2ebf-4830-aa00-0426ef7b73e0"
      },
      "outputs": [
        {
          "output_type": "stream",
          "name": "stderr",
          "text": [
            "/usr/local/lib/python3.7/dist-packages/sklearn/utils/deprecation.py:87: FutureWarning: Function get_feature_names is deprecated; get_feature_names is deprecated in 1.0 and will be removed in 1.2. Please use get_feature_names_out instead.\n",
            "  warnings.warn(msg, category=FutureWarning)\n"
          ]
        },
        {
          "output_type": "execute_result",
          "data": {
            "text/html": [
              "\n",
              "  <div id=\"df-adfb25d6-0f70-40f9-931b-55e0e6ca1214\">\n",
              "    <div class=\"colab-df-container\">\n",
              "      <div>\n",
              "<style scoped>\n",
              "    .dataframe tbody tr th:only-of-type {\n",
              "        vertical-align: middle;\n",
              "    }\n",
              "\n",
              "    .dataframe tbody tr th {\n",
              "        vertical-align: top;\n",
              "    }\n",
              "\n",
              "    .dataframe thead th {\n",
              "        text-align: right;\n",
              "    }\n",
              "</style>\n",
              "<table border=\"1\" class=\"dataframe\">\n",
              "  <thead>\n",
              "    <tr style=\"text-align: right;\">\n",
              "      <th></th>\n",
              "      <th>tfidf</th>\n",
              "    </tr>\n",
              "  </thead>\n",
              "  <tbody>\n",
              "    <tr>\n",
              "      <th>10 sheriff</th>\n",
              "      <td>0.309397</td>\n",
              "    </tr>\n",
              "    <tr>\n",
              "      <th>including 10</th>\n",
              "      <td>0.309397</td>\n",
              "    </tr>\n",
              "    <tr>\n",
              "      <th>state democrat</th>\n",
              "      <td>0.309397</td>\n",
              "    </tr>\n",
              "    <tr>\n",
              "      <th>say bipartisan</th>\n",
              "      <td>0.309397</td>\n",
              "    </tr>\n",
              "    <tr>\n",
              "      <th>support including</th>\n",
              "      <td>0.309397</td>\n",
              "    </tr>\n",
              "    <tr>\n",
              "      <th>...</th>\n",
              "      <td>...</td>\n",
              "    </tr>\n",
              "    <tr>\n",
              "      <th>fedex</th>\n",
              "      <td>0.000000</td>\n",
              "    </tr>\n",
              "    <tr>\n",
              "      <th>fee</th>\n",
              "      <td>0.000000</td>\n",
              "    </tr>\n",
              "    <tr>\n",
              "      <th>fee 000</th>\n",
              "      <td>0.000000</td>\n",
              "    </tr>\n",
              "    <tr>\n",
              "      <th>fee able</th>\n",
              "      <td>0.000000</td>\n",
              "    </tr>\n",
              "    <tr>\n",
              "      <th>âªbernieâ percent</th>\n",
              "      <td>0.000000</td>\n",
              "    </tr>\n",
              "  </tbody>\n",
              "</table>\n",
              "<p>41152 rows × 1 columns</p>\n",
              "</div>\n",
              "      <button class=\"colab-df-convert\" onclick=\"convertToInteractive('df-adfb25d6-0f70-40f9-931b-55e0e6ca1214')\"\n",
              "              title=\"Convert this dataframe to an interactive table.\"\n",
              "              style=\"display:none;\">\n",
              "        \n",
              "  <svg xmlns=\"http://www.w3.org/2000/svg\" height=\"24px\"viewBox=\"0 0 24 24\"\n",
              "       width=\"24px\">\n",
              "    <path d=\"M0 0h24v24H0V0z\" fill=\"none\"/>\n",
              "    <path d=\"M18.56 5.44l.94 2.06.94-2.06 2.06-.94-2.06-.94-.94-2.06-.94 2.06-2.06.94zm-11 1L8.5 8.5l.94-2.06 2.06-.94-2.06-.94L8.5 2.5l-.94 2.06-2.06.94zm10 10l.94 2.06.94-2.06 2.06-.94-2.06-.94-.94-2.06-.94 2.06-2.06.94z\"/><path d=\"M17.41 7.96l-1.37-1.37c-.4-.4-.92-.59-1.43-.59-.52 0-1.04.2-1.43.59L10.3 9.45l-7.72 7.72c-.78.78-.78 2.05 0 2.83L4 21.41c.39.39.9.59 1.41.59.51 0 1.02-.2 1.41-.59l7.78-7.78 2.81-2.81c.8-.78.8-2.07 0-2.86zM5.41 20L4 18.59l7.72-7.72 1.47 1.35L5.41 20z\"/>\n",
              "  </svg>\n",
              "      </button>\n",
              "      \n",
              "  <style>\n",
              "    .colab-df-container {\n",
              "      display:flex;\n",
              "      flex-wrap:wrap;\n",
              "      gap: 12px;\n",
              "    }\n",
              "\n",
              "    .colab-df-convert {\n",
              "      background-color: #E8F0FE;\n",
              "      border: none;\n",
              "      border-radius: 50%;\n",
              "      cursor: pointer;\n",
              "      display: none;\n",
              "      fill: #1967D2;\n",
              "      height: 32px;\n",
              "      padding: 0 0 0 0;\n",
              "      width: 32px;\n",
              "    }\n",
              "\n",
              "    .colab-df-convert:hover {\n",
              "      background-color: #E2EBFA;\n",
              "      box-shadow: 0px 1px 2px rgba(60, 64, 67, 0.3), 0px 1px 3px 1px rgba(60, 64, 67, 0.15);\n",
              "      fill: #174EA6;\n",
              "    }\n",
              "\n",
              "    [theme=dark] .colab-df-convert {\n",
              "      background-color: #3B4455;\n",
              "      fill: #D2E3FC;\n",
              "    }\n",
              "\n",
              "    [theme=dark] .colab-df-convert:hover {\n",
              "      background-color: #434B5C;\n",
              "      box-shadow: 0px 1px 3px 1px rgba(0, 0, 0, 0.15);\n",
              "      filter: drop-shadow(0px 1px 2px rgba(0, 0, 0, 0.3));\n",
              "      fill: #FFFFFF;\n",
              "    }\n",
              "  </style>\n",
              "\n",
              "      <script>\n",
              "        const buttonEl =\n",
              "          document.querySelector('#df-adfb25d6-0f70-40f9-931b-55e0e6ca1214 button.colab-df-convert');\n",
              "        buttonEl.style.display =\n",
              "          google.colab.kernel.accessAllowed ? 'block' : 'none';\n",
              "\n",
              "        async function convertToInteractive(key) {\n",
              "          const element = document.querySelector('#df-adfb25d6-0f70-40f9-931b-55e0e6ca1214');\n",
              "          const dataTable =\n",
              "            await google.colab.kernel.invokeFunction('convertToInteractive',\n",
              "                                                     [key], {});\n",
              "          if (!dataTable) return;\n",
              "\n",
              "          const docLinkHtml = 'Like what you see? Visit the ' +\n",
              "            '<a target=\"_blank\" href=https://colab.research.google.com/notebooks/data_table.ipynb>data table notebook</a>'\n",
              "            + ' to learn more about interactive tables.';\n",
              "          element.innerHTML = '';\n",
              "          dataTable['output_type'] = 'display_data';\n",
              "          await google.colab.output.renderOutput(dataTable, element);\n",
              "          const docLink = document.createElement('div');\n",
              "          docLink.innerHTML = docLinkHtml;\n",
              "          element.appendChild(docLink);\n",
              "        }\n",
              "      </script>\n",
              "    </div>\n",
              "  </div>\n",
              "  "
            ],
            "text/plain": [
              "                      tfidf\n",
              "10 sheriff         0.309397\n",
              "including 10       0.309397\n",
              "state democrat     0.309397\n",
              "say bipartisan     0.309397\n",
              "support including  0.309397\n",
              "...                     ...\n",
              "fedex              0.000000\n",
              "fee                0.000000\n",
              "fee 000            0.000000\n",
              "fee able           0.000000\n",
              "âªbernieâ percent  0.000000\n",
              "\n",
              "[41152 rows x 1 columns]"
            ]
          },
          "metadata": {},
          "execution_count": 71
        }
      ],
      "source": [
        "first_vector_tfidfvectorizer = tfidf_vectorizer_vectors[0]\n",
        "\n",
        "\n",
        "# place tf-idf values in a pandas data frame\n",
        "d = pd.DataFrame(first_vector_tfidfvectorizer.T.todense(), index=tfidf_vectorizer.get_feature_names(), columns=[\"tfidf\"])\n",
        "d.sort_values(by=[\"tfidf\"],ascending=False)\n"
      ]
    },
    {
      "cell_type": "code",
      "execution_count": null,
      "metadata": {
        "colab": {
          "base_uri": "https://localhost:8080/"
        },
        "id": "eIp0djfhGvhx",
        "outputId": "aafe9dba-c69e-4dfb-b0ee-e89b1817e7c1"
      },
      "outputs": [
        {
          "output_type": "execute_result",
          "data": {
            "text/plain": [
              "Pipeline(steps=[('LogR_tfidf',\n",
              "                 TfidfVectorizer(ngram_range=(1, 2), stop_words='english')),\n",
              "                ('LogR_model', LogisticRegression())])"
            ]
          },
          "metadata": {},
          "execution_count": 72
        }
      ],
      "source": [
        "logReg_pipeline_ngram = Pipeline([\n",
        "    ('LogR_tfidf', tfidf_vectorizer),\n",
        "    ('LogR_model', LogisticRegression())\n",
        "])\n",
        "\n",
        "logReg_pipeline_ngram.fit(X_train, y_train)"
      ]
    },
    {
      "cell_type": "code",
      "execution_count": null,
      "metadata": {
        "id": "ji3V8-2LHGVn"
      },
      "outputs": [],
      "source": [
        "y_predicted = logReg_pipeline_ngram.predict(X_test)\n",
        "y_predicted = y_predicted.flatten()"
      ]
    },
    {
      "cell_type": "code",
      "execution_count": null,
      "metadata": {
        "colab": {
          "base_uri": "https://localhost:8080/"
        },
        "id": "Y9m0Wt9kHJwA",
        "outputId": "fca12334-11b3-4221-dbc4-ceec46d10e49"
      },
      "outputs": [
        {
          "output_type": "execute_result",
          "data": {
            "text/plain": [
              "0.6317365269461078"
            ]
          },
          "metadata": {},
          "execution_count": 74
        }
      ],
      "source": [
        "accuracy_score(y_test, y_predicted)"
      ]
    },
    {
      "cell_type": "code",
      "execution_count": null,
      "metadata": {
        "colab": {
          "base_uri": "https://localhost:8080/"
        },
        "id": "SL_DglhrHNhn",
        "outputId": "94f5ae00-d9b0-42a3-8af9-cfd916403d4f"
      },
      "outputs": [
        {
          "output_type": "execute_result",
          "data": {
            "text/plain": [
              "array([[951,  92],\n",
              "       [523, 104]])"
            ]
          },
          "metadata": {},
          "execution_count": 75
        }
      ],
      "source": [
        "cm = confusion_matrix(y_test, y_predicted)\n",
        "cm "
      ]
    },
    {
      "cell_type": "code",
      "execution_count": null,
      "metadata": {
        "colab": {
          "base_uri": "https://localhost:8080/",
          "height": 296
        },
        "id": "A00NlAYZHQo1",
        "outputId": "ca1d4cb5-bf6b-4f84-bf2c-9cee46537ab2"
      },
      "outputs": [
        {
          "output_type": "execute_result",
          "data": {
            "text/plain": [
              "Text(33.0, 0.5, 'Truth')"
            ]
          },
          "metadata": {},
          "execution_count": 76
        },
        {
          "output_type": "display_data",
          "data": {
            "image/png": "[encoded data removed]",
            "text/plain": [
              "<Figure size 432x288 with 2 Axes>"
            ]
          },
          "metadata": {
            "needs_background": "light"
          }
        }
      ],
      "source": [
        "from matplotlib import pyplot as plt\n",
        "import seaborn as sn\n",
        "sn.heatmap(cm, annot=True, fmt='d')\n",
        "plt.xlabel('Predicted')\n",
        "plt.ylabel('Truth')"
      ]
    },
    {
      "cell_type": "code",
      "execution_count": null,
      "metadata": {
        "colab": {
          "base_uri": "https://localhost:8080/"
        },
        "id": "EcxVtAsRHU5p",
        "outputId": "c7ba8e5d-923e-443f-bccd-60e0310697b0"
      },
      "outputs": [
        {
          "output_type": "stream",
          "name": "stdout",
          "text": [
            "              precision    recall  f1-score   support\n",
            "\n",
            "           0       0.65      0.91      0.76      1043\n",
            "           1       0.53      0.17      0.25       627\n",
            "\n",
            "    accuracy                           0.63      1670\n",
            "   macro avg       0.59      0.54      0.50      1670\n",
            "weighted avg       0.60      0.63      0.57      1670\n",
            "\n"
          ]
        }
      ],
      "source": [
        "print(classification_report(y_test, y_predicted))"
      ]
    },
    {
      "cell_type": "markdown",
      "metadata": {
        "id": "WRmu1BVkBYf8"
      },
      "source": [
        "## **Neural Network with BERT**"
      ]
    },
    {
      "cell_type": "code",
      "execution_count": null,
      "metadata": {
        "id": "GPNKaUKjBewj"
      },
      "outputs": [],
      "source": [
        "bert_preprocess = hub.KerasLayer(\"https://tfhub.dev/tensorflow/bert_en_uncased_preprocess/3\")\n",
        "bert_encoder = hub.KerasLayer(\"https://tfhub.dev/tensorflow/bert_en_uncased_L-12_H-768_A-12/4\")"
      ]
    },
    {
      "cell_type": "code",
      "execution_count": null,
      "metadata": {
        "id": "n8kH6W0bCEc0"
      },
      "outputs": [],
      "source": [
        "# Bert layers\n",
        "text_input = tf.keras.layers.Input(shape=(), dtype=tf.string, name='text')\n",
        "preprocessed_text = bert_preprocess(text_input)\n",
        "outputs = bert_encoder(preprocessed_text)\n",
        "\n",
        "# Neural network layers\n",
        "l = tf.keras.layers.Dropout(0.1, name=\"dropout\")(outputs['pooled_output'])\n",
        "l = tf.keras.layers.Dense(1, activation='sigmoid', name=\"output\")(l)\n",
        "\n",
        "# Use inputs and outputs to construct a final model\n",
        "model = tf.keras.Model(inputs=[text_input], outputs = [l])"
      ]
    },
    {
      "cell_type": "code",
      "execution_count": null,
      "metadata": {
        "colab": {
          "base_uri": "https://localhost:8080/"
        },
        "id": "DCXOGCsxCWb-",
        "outputId": "ea9965af-95d0-436b-f03e-56e78037e7e0"
      },
      "outputs": [
        {
          "output_type": "stream",
          "name": "stdout",
          "text": [
            "Model: \"model\"\n",
            "__________________________________________________________________________________________________\n",
            " Layer (type)                   Output Shape         Param #     Connected to                     \n",
            "==================================================================================================\n",
            " text (InputLayer)              [(None,)]            0           []                               \n",
            "                                                                                                  \n",
            " keras_layer (KerasLayer)       {'input_type_ids':   0           ['text[0][0]']                   \n",
            "                                (None, 128),                                                      \n",
            "                                 'input_word_ids':                                                \n",
            "                                (None, 128),                                                      \n",
            "                                 'input_mask': (Non                                               \n",
            "                                e, 128)}                                                          \n",
            "                                                                                                  \n",
            " keras_layer_1 (KerasLayer)     {'pooled_output': (  109482241   ['keras_layer[0][0]',            \n",
            "                                None, 768),                       'keras_layer[0][1]',            \n",
            "                                 'encoder_outputs':               'keras_layer[0][2]']            \n",
            "                                 [(None, 128, 768),                                               \n",
            "                                 (None, 128, 768),                                                \n",
            "                                 (None, 128, 768),                                                \n",
            "                                 (None, 128, 768),                                                \n",
            "                                 (None, 128, 768),                                                \n",
            "                                 (None, 128, 768),                                                \n",
            "                                 (None, 128, 768),                                                \n",
            "                                 (None, 128, 768),                                                \n",
            "                                 (None, 128, 768),                                                \n",
            "                                 (None, 128, 768),                                                \n",
            "                                 (None, 128, 768),                                                \n",
            "                                 (None, 128, 768)],                                               \n",
            "                                 'sequence_output':                                               \n",
            "                                 (None, 128, 768),                                                \n",
            "                                 'default': (None,                                                \n",
            "                                768)}                                                             \n",
            "                                                                                                  \n",
            " dropout (Dropout)              (None, 768)          0           ['keras_layer_1[0][13]']         \n",
            "                                                                                                  \n",
            " output (Dense)                 (None, 1)            769         ['dropout[0][0]']                \n",
            "                                                                                                  \n",
            "==================================================================================================\n",
            "Total params: 109,483,010\n",
            "Trainable params: 769\n",
            "Non-trainable params: 109,482,241\n",
            "__________________________________________________________________________________________________\n"
          ]
        }
      ],
      "source": [
        "model.summary()"
      ]
    },
    {
      "cell_type": "code",
      "execution_count": null,
      "metadata": {
        "id": "CrJH_CYPCZwE"
      },
      "outputs": [],
      "source": [
        "METRICS = [\n",
        "      tf.keras.metrics.BinaryAccuracy(name='accuracy'),\n",
        "      tf.keras.metrics.Precision(name='precision'),  \n",
        "      tf.keras.metrics.Recall(name='recall')\n",
        "]\n",
        "\n",
        "model.compile(optimizer='adam',\n",
        "              loss='binary_crossentropy',\n",
        "              metrics=METRICS)"
      ]
    },
    {
      "cell_type": "code",
      "execution_count": null,
      "metadata": {
        "colab": {
          "base_uri": "https://localhost:8080/"
        },
        "id": "mPPnWSdLCdQu",
        "outputId": "41bc7282-d3fe-4de2-a763-9faa1527db57"
      },
      "outputs": [
        {
          "output_type": "stream",
          "name": "stdout",
          "text": [
            "Epoch 1/5\n",
            "157/157 [==============================] - 2178s 14s/step - loss: 0.6805 - accuracy: 0.6020 - precision: 0.4050 - recall: 0.1282\n",
            "Epoch 2/5\n",
            "157/157 [==============================] - 2160s 14s/step - loss: 0.6690 - accuracy: 0.6105 - precision: 0.4098 - recall: 0.0846\n",
            "Epoch 3/5\n",
            "157/157 [==============================] - 2145s 14s/step - loss: 0.6725 - accuracy: 0.6064 - precision: 0.4156 - recall: 0.1191\n",
            "Epoch 4/5\n",
            "157/157 [==============================] - 2145s 14s/step - loss: 0.6664 - accuracy: 0.6119 - precision: 0.4537 - recall: 0.1644\n",
            "Epoch 5/5\n",
            "157/157 [==============================] - 2152s 14s/step - loss: 0.6660 - accuracy: 0.6175 - precision: 0.4689 - recall: 0.1404\n"
          ]
        },
        {
          "output_type": "execute_result",
          "data": {
            "text/plain": [
              "<keras.callbacks.History at 0x7f801db8f110>"
            ]
          },
          "metadata": {},
          "execution_count": 82
        }
      ],
      "source": [
        "model.fit(X_train, y_train, epochs=5)"
      ]
    },
    {
      "cell_type": "code",
      "execution_count": null,
      "metadata": {
        "id": "DyWee9laCg78",
        "colab": {
          "base_uri": "https://localhost:8080/"
        },
        "outputId": "459e7be2-b380-4d00-892c-5db924fc49fb"
      },
      "outputs": [
        {
          "output_type": "stream",
          "name": "stdout",
          "text": [
            "53/53 [==============================] - 725s 14s/step - loss: 0.6529 - accuracy: 0.6240 - precision: 0.4944 - recall: 0.0702\n"
          ]
        },
        {
          "output_type": "execute_result",
          "data": {
            "text/plain": [
              "[0.652854859828949,\n",
              " 0.6239520907402039,\n",
              " 0.49438202381134033,\n",
              " 0.07017543911933899]"
            ]
          },
          "metadata": {},
          "execution_count": 83
        }
      ],
      "source": [
        "model.evaluate(X_test, y_test)"
      ]
    },
    {
      "cell_type": "code",
      "execution_count": null,
      "metadata": {
        "id": "yaY2GkZcCk3b"
      },
      "outputs": [],
      "source": [
        "y_predicted = model.predict(X_test)\n",
        "y_predicted = y_predicted.flatten()"
      ]
    },
    {
      "cell_type": "code",
      "execution_count": null,
      "metadata": {
        "id": "bRx449ExCoH7",
        "colab": {
          "base_uri": "https://localhost:8080/"
        },
        "outputId": "827dbb22-23de-46fc-eec7-50277b34b1ed"
      },
      "outputs": [
        {
          "output_type": "execute_result",
          "data": {
            "text/plain": [
              "array([1, 0, 0, ..., 0, 0, 0])"
            ]
          },
          "metadata": {},
          "execution_count": 85
        }
      ],
      "source": [
        "y_predicted = np.where(y_predicted > 0.5, 1, 0)\n",
        "y_predicted"
      ]
    },
    {
      "cell_type": "code",
      "execution_count": null,
      "metadata": {
        "id": "FDzDYHfaCq9H",
        "colab": {
          "base_uri": "https://localhost:8080/"
        },
        "outputId": "9fa9dbf2-da6e-492b-cb7f-82a63c12877e"
      },
      "outputs": [
        {
          "output_type": "execute_result",
          "data": {
            "text/plain": [
              "array([[998,  45],\n",
              "       [583,  44]])"
            ]
          },
          "metadata": {},
          "execution_count": 86
        }
      ],
      "source": [
        "cm = confusion_matrix(y_test, y_predicted)\n",
        "cm "
      ]
    },
    {
      "cell_type": "code",
      "execution_count": null,
      "metadata": {
        "id": "_lTRFuVWCwoU",
        "colab": {
          "base_uri": "https://localhost:8080/",
          "height": 296
        },
        "outputId": "f4cfc55f-1034-421b-b189-424c40bebd67"
      },
      "outputs": [
        {
          "output_type": "execute_result",
          "data": {
            "text/plain": [
              "Text(33.0, 0.5, 'Truth')"
            ]
          },
          "metadata": {},
          "execution_count": 87
        },
        {
          "output_type": "display_data",
          "data": {
            "image/png": "[encoded data removed]",
            "text/plain": [
              "<Figure size 432x288 with 2 Axes>"
            ]
          },
          "metadata": {
            "needs_background": "light"
          }
        }
      ],
      "source": [
        "from matplotlib import pyplot as plt\n",
        "import seaborn as sn\n",
        "sn.heatmap(cm, annot=True, fmt='d')\n",
        "plt.xlabel('Predicted')\n",
        "plt.ylabel('Truth')"
      ]
    },
    {
      "cell_type": "code",
      "execution_count": null,
      "metadata": {
        "id": "VgRWzZuMCxzv",
        "colab": {
          "base_uri": "https://localhost:8080/"
        },
        "outputId": "37db80ad-4bf1-469a-e002-6ecef6efa0d9"
      },
      "outputs": [
        {
          "output_type": "stream",
          "name": "stdout",
          "text": [
            "              precision    recall  f1-score   support\n",
            "\n",
            "           0       0.63      0.96      0.76      1043\n",
            "           1       0.49      0.07      0.12       627\n",
            "\n",
            "    accuracy                           0.62      1670\n",
            "   macro avg       0.56      0.51      0.44      1670\n",
            "weighted avg       0.58      0.62      0.52      1670\n",
            "\n"
          ]
        }
      ],
      "source": [
        "print(classification_report(y_test, y_predicted))"
      ]
    }
  ],
  "metadata": {
    "colab": {
      "collapsed_sections": [
        "vL89uJQXtBkb",
        "iwiQ-fBlu_kB",
        "scMHDOUbvIzu",
        "Gwk7Frgit1yo",
        "cm93DtoAvlST",
        "s0j122vBxB7t",
        "V-pV8PcJxZS-",
        "khVNl4rWxq12",
        "je4ffg1WxtSH",
        "vFbjI4KozC2M",
        "kA7cOwgP1o8s",
        "Wv6sGJTM81_L",
        "k_7jpCnV-K63",
        "MnGjKgoG-k39",
        "hZZpbiBc_e2f",
        "cnu_OTBuA0f-",
        "AqFQgr2-BBZd",
        "WO--BE2OBMEe",
        "WRmu1BVkBYf8"
      ],
      "name": "Individual Project.ipynb",
      "provenance": []
    },
    "kernelspec": {
      "display_name": "Python 3",
      "name": "python3"
    },
    "language_info": {
      "name": "python"
    }
  },
  "nbformat": 4,
  "nbformat_minor": 0
}